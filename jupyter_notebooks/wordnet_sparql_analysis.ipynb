{
 "cells": [
  {
   "cell_type": "code",
   "execution_count": 6,
   "metadata": {},
   "outputs": [],
   "source": [
    "#!pip install ast"
   ]
  },
  {
   "cell_type": "code",
   "execution_count": 4,
   "metadata": {
    "collapsed": true
   },
   "outputs": [],
   "source": [
    "import pandas as pd\n",
    "import numpy as np\n",
    "import ast"
   ]
  },
  {
   "cell_type": "code",
   "execution_count": 7,
   "metadata": {},
   "outputs": [
    {
     "data": {
      "text/html": [
       "<div>\n",
       "<style>\n",
       "    .dataframe thead tr:only-child th {\n",
       "        text-align: right;\n",
       "    }\n",
       "\n",
       "    .dataframe thead th {\n",
       "        text-align: left;\n",
       "    }\n",
       "\n",
       "    .dataframe tbody tr th {\n",
       "        vertical-align: top;\n",
       "    }\n",
       "</style>\n",
       "<table border=\"1\" class=\"dataframe\">\n",
       "  <thead>\n",
       "    <tr style=\"text-align: right;\">\n",
       "      <th></th>\n",
       "      <th>StreamID</th>\n",
       "      <th>Content</th>\n",
       "      <th>Content_Nouns</th>\n",
       "    </tr>\n",
       "  </thead>\n",
       "  <tbody>\n",
       "    <tr>\n",
       "      <th>0</th>\n",
       "      <td>163</td>\n",
       "      <td>TXmAk2KZAy4\\r\\nNMeUjebo1Ac\\r\\nEEuTxFhp3go\\r\\nC...</td>\n",
       "      <td>[('Castrol', 'NNP'), ('oil', 'NN'), ('TITANIUM...</td>\n",
       "    </tr>\n",
       "    <tr>\n",
       "      <th>1</th>\n",
       "      <td>419</td>\n",
       "      <td>TXmAk2KZAy4\\r\\nNMeUjebo1Ac\\r\\nEEuTxFhp3go\\r\\nC...</td>\n",
       "      <td>[('Castrol', 'NNP'), ('oil', 'NN'), ('TITANIUM...</td>\n",
       "    </tr>\n",
       "    <tr>\n",
       "      <th>2</th>\n",
       "      <td>507</td>\n",
       "      <td>wBYKUgUyGWc\\r\\nA team of world-class drivers, ...</td>\n",
       "      <td>[('wBYKUgUyGWc', 'NN'), ('team', 'NN'), ('worl...</td>\n",
       "    </tr>\n",
       "    <tr>\n",
       "      <th>3</th>\n",
       "      <td>199</td>\n",
       "      <td>Castrol EDGE  is Castrol?s flagship power bran...</td>\n",
       "      <td>[('Castrol', 'NNP'), ('EDGE', 'NNP'), ('Castro...</td>\n",
       "    </tr>\n",
       "    <tr>\n",
       "      <th>4</th>\n",
       "      <td>201</td>\n",
       "      <td>Charles ?Cheers? Wakefield, Castrol?s founder,...</td>\n",
       "      <td>[('Charles', 'NNP'), ('\\x93Cheers\\x94', 'NNP')...</td>\n",
       "    </tr>\n",
       "  </tbody>\n",
       "</table>\n",
       "</div>"
      ],
      "text/plain": [
       "   StreamID                                            Content  \\\n",
       "0       163  TXmAk2KZAy4\\r\\nNMeUjebo1Ac\\r\\nEEuTxFhp3go\\r\\nC...   \n",
       "1       419  TXmAk2KZAy4\\r\\nNMeUjebo1Ac\\r\\nEEuTxFhp3go\\r\\nC...   \n",
       "2       507  wBYKUgUyGWc\\r\\nA team of world-class drivers, ...   \n",
       "3       199  Castrol EDGE  is Castrol?s flagship power bran...   \n",
       "4       201  Charles ?Cheers? Wakefield, Castrol?s founder,...   \n",
       "\n",
       "                                       Content_Nouns  \n",
       "0  [('Castrol', 'NNP'), ('oil', 'NN'), ('TITANIUM...  \n",
       "1  [('Castrol', 'NNP'), ('oil', 'NN'), ('TITANIUM...  \n",
       "2  [('wBYKUgUyGWc', 'NN'), ('team', 'NN'), ('worl...  \n",
       "3  [('Castrol', 'NNP'), ('EDGE', 'NNP'), ('Castro...  \n",
       "4  [('Charles', 'NNP'), ('\\x93Cheers\\x94', 'NNP')...  "
      ]
     },
     "execution_count": 7,
     "metadata": {},
     "output_type": "execute_result"
    }
   ],
   "source": [
    "content_df = pd.read_csv(\"outputs/content_nouns.csv\", encoding=\"ISO-8859-1\")\n",
    "content_df.head()"
   ]
  },
  {
   "cell_type": "code",
   "execution_count": 29,
   "metadata": {
    "collapsed": true
   },
   "outputs": [],
   "source": [
    "def get_nouns_for_stream(stream_id):\n",
    "    stream_nouns = content_df[content_df[\"StreamID\"] == stream_id][\"Content_Nouns\"].values\n",
    "    #stream_nouns = stream_nouns.astype(str)\n",
    "    first_stream_noun = stream_nouns[0]\n",
    "    print(\"Printing debug info....\")\n",
    "    print(first_stream_noun)\n",
    "    print(type(first_stream_noun))\n",
    "    print(\"End of printing debug info....\")\n",
    "    \n",
    "    if isinstance(first_stream_noun, str):\n",
    "        # https://stackoverflow.com/questions/10775894/converting-a-string-representation-of-a-list-into-an-actual-list-object\n",
    "        first_stream_noun = ast.literal_eval(first_stream_noun)\n",
    "        \n",
    "    return [x[0] for x in first_stream_noun]"
   ]
  },
  {
   "cell_type": "markdown",
   "metadata": {},
   "source": [
    "### Nouns for the stream 507 as a list as below..."
   ]
  },
  {
   "cell_type": "code",
   "execution_count": 31,
   "metadata": {},
   "outputs": [
    {
     "name": "stdout",
     "output_type": "stream",
     "text": [
      "Printing debug info....\n",
      "[('wBYKUgUyGWc', 'NN'), ('team', 'NN'), ('world-class', 'NN'), ('drivers', 'NNS'), ('Castrol', 'NNP'), ('EDGE', 'NNP'), ('Titanium', 'NNP'), ('FST\\x99', 'NNP'), ('challenge', 'NN'), ('darkness', 'NN'), ('race', 'NN'), ('lights', 'NNS')]\n",
      "<class 'str'>\n",
      "End of printing debug info....\n"
     ]
    },
    {
     "data": {
      "text/plain": [
       "['wBYKUgUyGWc',\n",
       " 'team',\n",
       " 'world-class',\n",
       " 'drivers',\n",
       " 'Castrol',\n",
       " 'EDGE',\n",
       " 'Titanium',\n",
       " 'FST\\x99',\n",
       " 'challenge',\n",
       " 'darkness',\n",
       " 'race',\n",
       " 'lights']"
      ]
     },
     "execution_count": 31,
     "metadata": {},
     "output_type": "execute_result"
    }
   ],
   "source": [
    "get_nouns_for_stream(507)"
   ]
  },
  {
   "cell_type": "markdown",
   "metadata": {},
   "source": [
    "## Shriya: So you call the method like this: get_nouns_for_stream(507) to get a list of nouns for that stream with the specified stream ID. You can then loop through the items in the list and do your word net and SPARQL analysis."
   ]
  },
  {
   "cell_type": "code",
   "execution_count": null,
   "metadata": {
    "collapsed": true
   },
   "outputs": [],
   "source": []
  }
 ],
 "metadata": {
  "kernelspec": {
   "display_name": "Python 3",
   "language": "python",
   "name": "python3"
  },
  "language_info": {
   "codemirror_mode": {
    "name": "ipython",
    "version": 3
   },
   "file_extension": ".py",
   "mimetype": "text/x-python",
   "name": "python",
   "nbconvert_exporter": "python",
   "pygments_lexer": "ipython3",
   "version": "3.6.3"
  }
 },
 "nbformat": 4,
 "nbformat_minor": 2
}
