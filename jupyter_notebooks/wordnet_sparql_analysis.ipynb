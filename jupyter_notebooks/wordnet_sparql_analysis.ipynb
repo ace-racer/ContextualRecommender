{
 "cells": [
  {
   "cell_type": "code",
   "execution_count": null,
   "metadata": {},
   "outputs": [],
   "source": [
    "#!pip install ast"
   ]
  },
  {
   "cell_type": "code",
   "execution_count": 9,
   "metadata": {},
   "outputs": [],
   "source": [
    "import pandas as pd\n",
    "import numpy as np\n",
    "import ast"
   ]
  },
  {
   "cell_type": "code",
   "execution_count": 10,
   "metadata": {},
   "outputs": [
    {
     "data": {
      "text/html": [
       "<div>\n",
       "<style scoped>\n",
       "    .dataframe tbody tr th:only-of-type {\n",
       "        vertical-align: middle;\n",
       "    }\n",
       "\n",
       "    .dataframe tbody tr th {\n",
       "        vertical-align: top;\n",
       "    }\n",
       "\n",
       "    .dataframe thead th {\n",
       "        text-align: right;\n",
       "    }\n",
       "</style>\n",
       "<table border=\"1\" class=\"dataframe\">\n",
       "  <thead>\n",
       "    <tr style=\"text-align: right;\">\n",
       "      <th></th>\n",
       "      <th>StreamID</th>\n",
       "      <th>Content</th>\n",
       "      <th>Content_Nouns</th>\n",
       "    </tr>\n",
       "  </thead>\n",
       "  <tbody>\n",
       "    <tr>\n",
       "      <th>0</th>\n",
       "      <td>163</td>\n",
       "      <td>TXmAk2KZAy4\\r\\nNMeUjebo1Ac\\r\\nEEuTxFhp3go\\r\\nC...</td>\n",
       "      <td>[('Castrol', 'NNP'), ('oil', 'NN'), ('TITANIUM...</td>\n",
       "    </tr>\n",
       "    <tr>\n",
       "      <th>1</th>\n",
       "      <td>419</td>\n",
       "      <td>TXmAk2KZAy4\\r\\nNMeUjebo1Ac\\r\\nEEuTxFhp3go\\r\\nC...</td>\n",
       "      <td>[('Castrol', 'NNP'), ('oil', 'NN'), ('TITANIUM...</td>\n",
       "    </tr>\n",
       "    <tr>\n",
       "      <th>2</th>\n",
       "      <td>507</td>\n",
       "      <td>wBYKUgUyGWc\\r\\nA team of world-class drivers, ...</td>\n",
       "      <td>[('wBYKUgUyGWc', 'NN'), ('team', 'NN'), ('worl...</td>\n",
       "    </tr>\n",
       "    <tr>\n",
       "      <th>3</th>\n",
       "      <td>199</td>\n",
       "      <td>Castrol EDGE  is Castrol?s flagship power bran...</td>\n",
       "      <td>[('Castrol', 'NNP'), ('EDGE', 'NNP'), ('Castro...</td>\n",
       "    </tr>\n",
       "    <tr>\n",
       "      <th>4</th>\n",
       "      <td>201</td>\n",
       "      <td>Charles ?Cheers? Wakefield, Castrol?s founder,...</td>\n",
       "      <td>[('Charles', 'NNP'), ('\\x93Cheers\\x94', 'NNP')...</td>\n",
       "    </tr>\n",
       "  </tbody>\n",
       "</table>\n",
       "</div>"
      ],
      "text/plain": [
       "   StreamID                                            Content  \\\n",
       "0       163  TXmAk2KZAy4\\r\\nNMeUjebo1Ac\\r\\nEEuTxFhp3go\\r\\nC...   \n",
       "1       419  TXmAk2KZAy4\\r\\nNMeUjebo1Ac\\r\\nEEuTxFhp3go\\r\\nC...   \n",
       "2       507  wBYKUgUyGWc\\r\\nA team of world-class drivers, ...   \n",
       "3       199  Castrol EDGE  is Castrol?s flagship power bran...   \n",
       "4       201  Charles ?Cheers? Wakefield, Castrol?s founder,...   \n",
       "\n",
       "                                       Content_Nouns  \n",
       "0  [('Castrol', 'NNP'), ('oil', 'NN'), ('TITANIUM...  \n",
       "1  [('Castrol', 'NNP'), ('oil', 'NN'), ('TITANIUM...  \n",
       "2  [('wBYKUgUyGWc', 'NN'), ('team', 'NN'), ('worl...  \n",
       "3  [('Castrol', 'NNP'), ('EDGE', 'NNP'), ('Castro...  \n",
       "4  [('Charles', 'NNP'), ('\\x93Cheers\\x94', 'NNP')...  "
      ]
     },
     "execution_count": 10,
     "metadata": {},
     "output_type": "execute_result"
    }
   ],
   "source": [
    "content_df = pd.read_csv(\"/Users/shriyashekhar/Documents/IWork/Data/Output/content_nouns.csv\", encoding=\"ISO-8859-1\")\n",
    "content_df.head()"
   ]
  },
  {
   "cell_type": "code",
   "execution_count": 11,
   "metadata": {},
   "outputs": [],
   "source": [
    "def get_nouns_for_stream(stream_id):\n",
    "    stream_nouns = content_df[content_df[\"StreamID\"] == stream_id][\"Content_Nouns\"].values\n",
    "    #stream_nouns = stream_nouns.astype(str)\n",
    "    first_stream_noun = stream_nouns[0]\n",
    "#     print(\"Printing debug info....\")\n",
    "#     print(first_stream_noun)\n",
    "#     print(type(first_stream_noun))\n",
    "#     print(\"End of printing debug info....\")\n",
    "    \n",
    "    if isinstance(first_stream_noun, str):\n",
    "        # https://stackoverflow.com/questions/10775894/converting-a-string-representation-of-a-list-into-an-actual-list-object\n",
    "        first_stream_noun = ast.literal_eval(first_stream_noun)\n",
    "        \n",
    "    return [x[0] for x in first_stream_noun]"
   ]
  },
  {
   "cell_type": "markdown",
   "metadata": {},
   "source": [
    "### Nouns for the stream 507 as a list as below..."
   ]
  },
  {
   "cell_type": "code",
   "execution_count": 12,
   "metadata": {},
   "outputs": [
    {
     "data": {
      "text/plain": [
       "['Castrol',\n",
       " 'EDGE',\n",
       " 'Castrol\\x92s',\n",
       " 'flagship',\n",
       " 'power',\n",
       " 'brand',\n",
       " 'PCOs',\n",
       " 'performance',\n",
       " 'engine',\n",
       " 'oil',\n",
       " 'performing',\n",
       " 'vehicles',\n",
       " 'OEMs',\n",
       " 'world',\n",
       " 'Castrol',\n",
       " 'EDGE',\n",
       " 'TITANIUM',\n",
       " 'FST\\x99',\n",
       " 'oil',\n",
       " 'strength',\n",
       " 'oil',\n",
       " 'film',\n",
       " 'protection',\n",
       " 'oil',\n",
       " 'pressures',\n",
       " 'engines',\n",
       " 'today',\n",
       " 'video',\n",
       " 'Today',\n",
       " 'engines',\n",
       " 'pressure',\n",
       " 'areas',\n",
       " 'engine',\n",
       " 'pressures',\n",
       " 'excess',\n",
       " 'square',\n",
       " 'centimetre',\n",
       " 'that\\x92s',\n",
       " 'cars',\n",
       " 'stiletto',\n",
       " 'hee',\n",
       " 'video',\n",
       " 'Castrol',\n",
       " 'EDGE',\n",
       " 'strength',\n",
       " 'technology',\n",
       " 'pressures',\n",
       " 'high-performance',\n",
       " 'engines',\n",
       " 'Castrol',\n",
       " 'EDGE',\n",
       " 'problem',\n",
       " 'engine',\n",
       " 'pressures',\n",
       " 'TITANIUM',\n",
       " 'FST\\x99',\n",
       " 'Fluid',\n",
       " 'Strength',\n",
       " 'Technology',\n",
       " 'TITANIUM',\n",
       " 'FST\\x99',\n",
       " 'oil',\n",
       " 'strength',\n",
       " 'oil',\n",
       " 'breakdown',\n",
       " 'sha',\n",
       " 'TITANIUM',\n",
       " 'FST\\x99',\n",
       " 'adapts',\n",
       " 'engine',\n",
       " 'need',\n",
       " 'pressures',\n",
       " 'contact',\n",
       " 'variety',\n",
       " 'engine',\n",
       " 'spee',\n",
       " 'Castrol',\n",
       " 'R',\n",
       " 'amp',\n",
       " 'D',\n",
       " 'Technology',\n",
       " 'world',\n",
       " 'Castrol',\n",
       " 'Stress',\n",
       " 'Test',\n",
       " 'film',\n",
       " 'strength',\n",
       " 'Castrol',\n",
       " 'EDGE',\n",
       " 'contact',\n",
       " 'oil',\n",
       " 'world',\n",
       " 'Stream',\n",
       " 'information',\n",
       " 'Castrol',\n",
       " 'EDGE',\n",
       " 'TITANIUM',\n",
       " 'FST\\x99',\n",
       " 'brand',\n",
       " 'story',\n",
       " 'value',\n",
       " 'Castrol',\n",
       " 'EDGE',\n",
       " 'car',\n",
       " 'owners',\n",
       " 'engine',\n",
       " 'Titanium',\n",
       " 'technology',\n",
       " 'way',\n",
       " 'oil',\n",
       " 'behaves',\n",
       " 'pressure',\n",
       " 'Doubles',\n",
       " 'oil',\n",
       " 'film',\n",
       " 'strength',\n",
       " 'prevents',\n",
       " 'oil',\n",
       " 'Titanium',\n",
       " 'FST',\n",
       " 'Castrol',\n",
       " 'EDGE',\n",
       " 'oil',\n",
       " 'strength',\n",
       " 'video',\n",
       " 'power',\n",
       " 'Titanium',\n",
       " 'FST',\n",
       " 'titanium',\n",
       " 'molecule',\n",
       " 'pressure',\n",
       " 'engine',\n",
       " 'oil',\n",
       " 'pressure',\n",
       " 'oil',\n",
       " 'liquid',\n",
       " 'state',\n",
       " 's',\n",
       " 'Castrol',\n",
       " 'EDGE',\n",
       " 'stronger',\n",
       " 'viscosity',\n",
       " 'breakdown',\n",
       " 'Titanium',\n",
       " 'technology',\n",
       " 'way',\n",
       " 'oil',\n",
       " 'behaves',\n",
       " 'extreme',\n",
       " 'pressures',\n",
       " 'Friction',\n",
       " 'advancements',\n",
       " 'engines',\n",
       " 'need',\n",
       " 'engines',\n",
       " 'fuel',\n",
       " 'economy',\n",
       " 'emissions',\n",
       " 'performance']"
      ]
     },
     "execution_count": 12,
     "metadata": {},
     "output_type": "execute_result"
    }
   ],
   "source": [
    "get_nouns_for_stream(199)"
   ]
  },
  {
   "cell_type": "markdown",
   "metadata": {},
   "source": [
    "## Shriya: So you call the method like this: get_nouns_for_stream(507) to get a list of nouns for that stream with the specified stream ID. You can then loop through the items in the list and do your word net and SPARQL analysis."
   ]
  },
  {
   "cell_type": "code",
   "execution_count": 13,
   "metadata": {},
   "outputs": [],
   "source": [
    "# from nltk.corpus import wordnet as wn\n",
    "\n",
    "# list_of_nouns = get_nouns_for_stream(201)\n",
    "# print(len(list_of_nouns))\n",
    "\n",
    "# for i in range(0, len(list_of_nouns)):\n",
    "#     for j in range(0, len(list_of_nouns)):\n",
    "# # for noun in list_of_nouns:\n",
    "# #     print(i)\n",
    "# #     if not wn.synsets(list_of_nouns[i]):\n",
    "#         while(len(wn.synsets(list_of_nouns[i]))==0):\n",
    "#             i+=1\n",
    "#         a = wn.synsets(list_of_nouns[i])[0]\n",
    "# #         i+=1\n",
    "#         while(len(wn.synsets(list_of_nouns[j]))==0):\n",
    "#     #         print(i)\n",
    "#             j+=1\n",
    "#         print(j)\n",
    "#         b = wn.synsets(list_of_nouns[j])[0]\n",
    "#         if a and b:\n",
    "#             print('two terms')\n",
    "#             print(a)\n",
    "#             print(b)\n",
    "#             print('parent')\n",
    "#             print(a.lowest_common_hypernyms(b))\n",
    "\n",
    "\n",
    "# # return a.lowest_common_hypernyms(b)"
   ]
  },
  {
   "cell_type": "code",
   "execution_count": 14,
   "metadata": {},
   "outputs": [],
   "source": [
    "from nltk.corpus import wordnet as wn\n",
    "words = get_nouns_for_stream(201)\n",
    "syns = {w : [] for w in words}\n",
    "\n",
    "for k, v in syns.items():\n",
    "    for synset in wn.synsets(k):\n",
    "        for lemma in synset.lemmas():\n",
    "            v.append(lemma.name())\n",
    "# print(syns)"
   ]
  },
  {
   "cell_type": "code",
   "execution_count": 15,
   "metadata": {},
   "outputs": [
    {
     "data": {
      "text/plain": [
       "[Synset('carnivore.n.01')]"
      ]
     },
     "execution_count": 15,
     "metadata": {},
     "output_type": "execute_result"
    }
   ],
   "source": [
    "dog = wn.synsets('dog')[0]\n",
    "cat = wn.synsets('cat')[0]\n",
    "cat.lowest_common_hypernyms(dog)"
   ]
  },
  {
   "cell_type": "code",
   "execution_count": 16,
   "metadata": {},
   "outputs": [
    {
     "data": {
      "text/plain": [
       "[Synset('substance.n.01')]"
      ]
     },
     "execution_count": 16,
     "metadata": {},
     "output_type": "execute_result"
    }
   ],
   "source": [
    "oil = wn.synsets('oil')[1]\n",
    "castrol = wn.synsets('liquid')[0]\n",
    "oil.lowest_common_hypernyms(castrol)"
   ]
  },
  {
   "cell_type": "code",
   "execution_count": 17,
   "metadata": {},
   "outputs": [
    {
     "data": {
      "text/plain": [
       "[Synset('person.n.01')]"
      ]
     },
     "execution_count": 17,
     "metadata": {},
     "output_type": "execute_result"
    }
   ],
   "source": [
    "wn.synset('policeman.n.01').lowest_common_hypernyms(wn.synset('chef.n.01'))"
   ]
  },
  {
   "cell_type": "code",
   "execution_count": 18,
   "metadata": {},
   "outputs": [],
   "source": [
    "bata = wn.synsets('Wakefield')\n",
    "if bata:\n",
    "    print(\"empty\")"
   ]
  },
  {
   "cell_type": "code",
   "execution_count": 19,
   "metadata": {},
   "outputs": [
    {
     "data": {
      "text/plain": [
       "11"
      ]
     },
     "execution_count": 19,
     "metadata": {},
     "output_type": "execute_result"
    }
   ],
   "source": [
    "len(wn.synsets('liquid'))"
   ]
  },
  {
   "cell_type": "code",
   "execution_count": 20,
   "metadata": {},
   "outputs": [
    {
     "data": {
      "text/plain": [
       "'liquid'"
      ]
     },
     "execution_count": 20,
     "metadata": {},
     "output_type": "execute_result"
    }
   ],
   "source": [
    "wn.synsets('liquid')[0].name().split(\".\")[0]"
   ]
  },
  {
   "cell_type": "code",
   "execution_count": 21,
   "metadata": {},
   "outputs": [
    {
     "data": {
      "text/plain": [
       "0.1111111111111111"
      ]
     },
     "execution_count": 21,
     "metadata": {},
     "output_type": "execute_result"
    }
   ],
   "source": [
    "import nltk\n",
    "from nltk.corpus import wordnet as wn\n",
    "dog = wn.synset('petrol.n.01')\n",
    "cat = wn.synset('diesel.n.01')\n",
    "float(dog.path_similarity(cat))"
   ]
  },
  {
   "cell_type": "code",
   "execution_count": 32,
   "metadata": {
    "scrolled": true
   },
   "outputs": [
    {
     "name": "stdout",
     "output_type": "stream",
     "text": [
      "3\n",
      "3\n",
      "a\n",
      "Synset('gasoline.n.01')\n",
      "Synset('engine.n.01')\n",
      "0.07692307692307693\n",
      "[Synset('physical_entity.n.01')]\n",
      "0\n",
      "a\n",
      "Synset('gasoline.n.01')\n",
      "Synset('indonesia.n.01')\n",
      "0.08333333333333333\n",
      "[Synset('physical_entity.n.01')]\n",
      "1\n",
      "a\n",
      "Synset('gasoline.n.01')\n",
      "Synset('liquid.n.01')\n",
      "0.14285714285714285\n",
      "[Synset('substance.n.01')]\n",
      "2\n",
      "a\n",
      "Synset('malaysia.n.01')\n",
      "Synset('engine.n.01')\n",
      "0.06666666666666667\n",
      "[Synset('object.n.01')]\n",
      "0\n",
      "a\n",
      "Synset('malaysia.n.01')\n",
      "Synset('indonesia.n.01')\n",
      "0.25\n",
      "[Synset('country.n.02')]\n",
      "1\n",
      "a\n",
      "Synset('malaysia.n.01')\n",
      "Synset('liquid.n.01')\n",
      "0.07692307692307693\n",
      "[Synset('physical_entity.n.01')]\n",
      "2\n",
      "a\n",
      "Synset('vehicle.n.01')\n",
      "Synset('engine.n.01')\n",
      "0.14285714285714285\n",
      "[Synset('instrumentality.n.03')]\n",
      "0\n",
      "a\n",
      "Synset('vehicle.n.01')\n",
      "Synset('indonesia.n.01')\n",
      "0.08333333333333333\n",
      "[Synset('object.n.01')]\n",
      "1\n",
      "a\n",
      "Synset('vehicle.n.01')\n",
      "Synset('liquid.n.01')\n",
      "0.09090909090909091\n",
      "[Synset('physical_entity.n.01')]\n",
      "2\n",
      "[[Synset('substance.n.01')], [Synset('country.n.02')], [Synset('instrumentality.n.03')]]\n",
      "[[Synset('substance.n.01')], [Synset('country.n.02')], [Synset('instrumentality.n.03')]]\n"
     ]
    }
   ],
   "source": [
    "from nltk.corpus import wordnet as wn\n",
    "\n",
    "# list_of_nouns_1 = get_nouns_for_stream(201)\n",
    "print(len(list_of_nouns_1))\n",
    "# list_of_nouns_1 =['Charles', 'oil', 'Wakefield', 'power']\n",
    "# list_of_nouns_2 = get_nouns_for_stream(507)\n",
    "print(len(list_of_nouns_2))\n",
    "# list_of_nouns_2 = ['Castrol', 'petrol', 'engines', 'flagship']\n",
    "list_of_nouns_1 =['petrol', 'Malaysia','vehicles']\n",
    "# list_of_nouns_2 = get_nouns_for_stream(199)\n",
    "list_of_nouns_2 = ['engines','Indonesia','liquid']\n",
    "# print(list_of_nouns_1)\n",
    "# print(list_of_nouns_2)\n",
    "\n",
    "a_1 = []\n",
    "b_1 = []\n",
    "for i in range(0, len(list_of_nouns_1)):\n",
    "    for j in range(0, len(list_of_nouns_2)):\n",
    "# for noun in list_of_nouns:\n",
    "        \n",
    "#     if not wn.synsets(list_of_nouns[i]):\n",
    "        if(len(wn.synsets(list_of_nouns_1[i]))==0):\n",
    "            a_1.append(list_of_nouns_1[i])\n",
    "            i+=1\n",
    "        a = wn.synsets(list_of_nouns_1[i])[0]\n",
    "        print(\"a\")\n",
    "#         i+=1\n",
    "        if(len(wn.synsets(list_of_nouns_2[j]))==0):\n",
    "            b_1.append(list_of_nouns_2[j])\n",
    "            j+=1\n",
    "#         print(j)\n",
    "        b = wn.synsets(list_of_nouns_2[j])[0]\n",
    "        \n",
    "        if a and b:\n",
    "#             print(a.lowest_common_hypernyms(b))\n",
    "            x = a.path_similarity(b)\n",
    "            print(a)\n",
    "            print(b)\n",
    "            print(x)\n",
    "            print(a.lowest_common_hypernyms(b))\n",
    "            print(j)\n",
    "            if((x is not None) and (x >= 0.1) ):\n",
    "                \n",
    "#                 print('similar terms')\n",
    "#                 print(a)\n",
    "#                 print(b)\n",
    "#                 print('hypernym')\n",
    "#                 print(a.lowest_common_hypernyms(b))\n",
    "                a_1.append(a.lowest_common_hypernyms(b))\n",
    "                b_1.append(a.lowest_common_hypernyms(b))\n",
    "#             else:\n",
    "#                 a_1.append(a_1)\n",
    "#                 b_1.append(b_1)\n",
    "print(a_1)\n",
    "print(b_1)\n",
    "                # print(b_1)\n",
    "\n",
    "#                 print(a_1)\n",
    "\n",
    "\n",
    "# return a.lowest_common_hypernyms(b)"
   ]
  },
  {
   "cell_type": "code",
   "execution_count": null,
   "metadata": {},
   "outputs": [],
   "source": [
    "list_of_nouns_1 =['Charles', 'EDGE', 'Wakefield', 'Castrol\\x92s']\n",
    "for i in range(0, 4):\n",
    "    print(wn.synsets(list_of_nouns_1[i]))\n",
    "    print(i)\n",
    "    while(len(wn.synsets(list_of_nouns_1[i]))==0):\n",
    "        print(\"bcg\")\n",
    "        i+=1\n",
    "        print(i)\n",
    "    "
   ]
  },
  {
   "cell_type": "code",
   "execution_count": 54,
   "metadata": {},
   "outputs": [
    {
     "data": {
      "text/plain": [
       "[Synset('malaysia.n.01')]"
      ]
     },
     "execution_count": 54,
     "metadata": {},
     "output_type": "execute_result"
    }
   ],
   "source": [
    "wn.synsets('Malaysia')"
   ]
  },
  {
   "cell_type": "code",
   "execution_count": 129,
   "metadata": {},
   "outputs": [
    {
     "name": "stdout",
     "output_type": "stream",
     "text": [
      "140\n",
      "defaultdict(<class 'set'>, {})\n"
     ]
    },
    {
     "data": {
      "text/plain": [
       "defaultdict(set,\n",
       "            {None: {'British',\n",
       "              'CC',\n",
       "              'Charles',\n",
       "              'Curiosity',\n",
       "              'D',\n",
       "              'Doubles',\n",
       "              'EDGE',\n",
       "              'Fluid',\n",
       "              'Friction',\n",
       "              'Having',\n",
       "              'London',\n",
       "              'Mars',\n",
       "              'NASA',\n",
       "              'Petroleum',\n",
       "              'R',\n",
       "              'Stream',\n",
       "              'Strength',\n",
       "              'Stress',\n",
       "              'TITANIUM',\n",
       "              'Technology',\n",
       "              'Test',\n",
       "              'Titanium',\n",
       "              'Today',\n",
       "              'acquisition',\n",
       "              'adapts',\n",
       "              'advancements',\n",
       "              'amp',\n",
       "              'areas',\n",
       "              'association',\n",
       "              'automobile',\n",
       "              'aviation',\n",
       "              'banners',\n",
       "              'behaves',\n",
       "              'brand',\n",
       "              'breakdown',\n",
       "              'business',\n",
       "              'car',\n",
       "              'cars',\n",
       "              'centimetre',\n",
       "              'challenge',\n",
       "              'contact',\n",
       "              'contraptions',\n",
       "              'customers',\n",
       "              'darkness',\n",
       "              'drivers',\n",
       "              'economy',\n",
       "              'emissions',\n",
       "              'engine',\n",
       "              'engines',\n",
       "              'entrepreneur',\n",
       "              'events',\n",
       "              'excess',\n",
       "              'extreme',\n",
       "              'film',\n",
       "              'flags',\n",
       "              'flagship',\n",
       "              'flight',\n",
       "              'founder',\n",
       "              'fuel',\n",
       "              'grease',\n",
       "              'heritage',\n",
       "              'high-performance',\n",
       "              'information',\n",
       "              'interest',\n",
       "              'journey',\n",
       "              'kind',\n",
       "              'lights',\n",
       "              'liquid',\n",
       "              'lubricant',\n",
       "              'lubricants',\n",
       "              'method',\n",
       "              'mission',\n",
       "              'molecule',\n",
       "              'motor',\n",
       "              'name',\n",
       "              'need',\n",
       "              'oil',\n",
       "              'opera',\n",
       "              'operation',\n",
       "              'owners',\n",
       "              'parts',\n",
       "              'performance',\n",
       "              'performing',\n",
       "              'personality',\n",
       "              'power',\n",
       "              'pressure',\n",
       "              'pressures',\n",
       "              'prevents',\n",
       "              'problem',\n",
       "              'product',\n",
       "              'programme',\n",
       "              'protection',\n",
       "              'race',\n",
       "              'role',\n",
       "              'rover',\n",
       "              's',\n",
       "              'shuttle',\n",
       "              'space',\n",
       "              'sponsorship',\n",
       "              'square',\n",
       "              'state',\n",
       "              'stiletto',\n",
       "              'story',\n",
       "              'strength',\n",
       "              'stronger',\n",
       "              'team',\n",
       "              'technology',\n",
       "              'th',\n",
       "              'time',\n",
       "              'titanium',\n",
       "              'today',\n",
       "              'value',\n",
       "              'variety',\n",
       "              'vehicles',\n",
       "              'video',\n",
       "              'viscosity',\n",
       "              'vision',\n",
       "              'way',\n",
       "              'wheels',\n",
       "              'world',\n",
       "              'world-class'},\n",
       "             'act': {'behaves'},\n",
       "             'adapt': {'adapts'},\n",
       "             'car': {'automobile', 'car', 'cars'},\n",
       "             'centimeter': {'centimetre'},\n",
       "             'curiosity': {'Curiosity', 'interest'},\n",
       "             'emission': {'emissions'},\n",
       "             'engine': {'engine', 'engines'},\n",
       "             'excess': {'excess'},\n",
       "             'flag': {'banners', 'flags'},\n",
       "             'fluid': {'Fluid', 'liquid'},\n",
       "             'lubricant': {'lubricant', 'lubricants'},\n",
       "             'merchandise': {'product'},\n",
       "             'mission': {'mission'},\n",
       "             'motor': {'engine', 'engines', 'motor'},\n",
       "             'name': {'brand', 'name'},\n",
       "             'national_aeronautics_and_space_administration': {'NASA'},\n",
       "             'oil': {'Petroleum', 'grease', 'oil'},\n",
       "             'pressure': {'pressure', 'pressures'},\n",
       "             'roentgen': {'R'},\n",
       "             'state': {'state'},\n",
       "             'stream': {'Stream'},\n",
       "             'strength': {'Strength', 'strength'},\n",
       "             'technology': {'Technology', 'technology'},\n",
       "             'thursday': {'th'},\n",
       "             'titanium': {'TITANIUM', 'Titanium', 'titanium'},\n",
       "             'today': {'Today', 'today'},\n",
       "             'vehicle': {'vehicles'}})"
      ]
     },
     "execution_count": 129,
     "metadata": {},
     "output_type": "execute_result"
    }
   ],
   "source": [
    "from nltk.corpus import wordnet as wn\n",
    "from collections import defaultdict\n",
    "list_of_nouns_1 = get_nouns_for_stream(201)\n",
    "list_of_nouns_2 = get_nouns_for_stream(199)\n",
    "list_of_nouns_3 = get_nouns_for_stream(507)\n",
    "list_of_nouns = []\n",
    "list_of_nouns= list_of_nouns_1+list_of_nouns_2+list_of_nouns_3 \n",
    "new_set =[]\n",
    "\n",
    "new_set = set(list_of_nouns)\n",
    "# print(new_set)\n",
    "all_nouns = list(new_set)\n",
    "print(len(all_nouns))\n",
    "# concepts = {}.fromkeys(list(new_set))\n",
    "concepts = defaultdict(set)\n",
    "print(concepts)\n",
    "a_1 = []\n",
    "\n",
    "def get_common_concept(noun_a, noun_b):\n",
    "#     print(noun_a)\n",
    "#     print(noun_b)\n",
    "    a = wn.synsets(noun_a)[0]\n",
    "    b = wn.synsets(noun_b)[0]\n",
    "    name_common = a.lowest_common_hypernyms(b)\n",
    "    x = a.path_similarity(b)\n",
    "    if name_common:\n",
    "        if((x is not None) and (x >= 0.5) ):\n",
    "            name_common[0].name().split(\".\")[0]\n",
    "            return name_common[0].name().split(\".\")[0]\n",
    "    else:\n",
    "        return None\n",
    "    \n",
    "    \n",
    "for i in range(0, len(all_nouns)):\n",
    "    for j in range(i+1, len(all_nouns)-1):\n",
    "#         print(i)\n",
    "#         print(j)\n",
    "        while(len(wn.synsets(all_nouns[i]))==0):\n",
    "            i+=1\n",
    "        while(len(wn.synsets(all_nouns[j]))==0):\n",
    "            j+=1  \n",
    "        concept = get_common_concept(all_nouns[i],all_nouns[j])\n",
    "#         list_concept =[]\n",
    "#         list_concept.append(concept)\n",
    "#         concepts = {}.fromkeys(list_concept)\n",
    "        concepts[concept].add(all_nouns[i])\n",
    "        concepts[concept].add(all_nouns[j])\n",
    "concepts\n",
    "\n",
    "\n",
    "        \n",
    "        \n",
    "        "
   ]
  },
  {
   "cell_type": "code",
   "execution_count": 87,
   "metadata": {},
   "outputs": [
    {
     "data": {
      "text/plain": [
       "[]"
      ]
     },
     "execution_count": 87,
     "metadata": {},
     "output_type": "execute_result"
    }
   ],
   "source": [
    "wn.synsets('Cheapside')"
   ]
  },
  {
   "cell_type": "code",
   "execution_count": 100,
   "metadata": {},
   "outputs": [
    {
     "ename": "NameError",
     "evalue": "name 'Synset' is not defined",
     "output_type": "error",
     "traceback": [
      "\u001b[0;31m---------------------------------------------------------------------------\u001b[0m",
      "\u001b[0;31mNameError\u001b[0m                                 Traceback (most recent call last)",
      "\u001b[0;32m<ipython-input-100-596723bbd46b>\u001b[0m in \u001b[0;36m<module>\u001b[0;34m()\u001b[0m\n\u001b[0;32m----> 1\u001b[0;31m \u001b[0;34m[\u001b[0m\u001b[0mSynset\u001b[0m\u001b[0;34m(\u001b[0m\u001b[0;34m'entity.n.01'\u001b[0m\u001b[0;34m)\u001b[0m\u001b[0;34m]\u001b[0m\u001b[0;34m\u001b[0m\u001b[0m\n\u001b[0m\u001b[1;32m      2\u001b[0m \u001b[0mwn\u001b[0m\u001b[0;34m.\u001b[0m\u001b[0msynsets\u001b[0m\u001b[0;34m(\u001b[0m\u001b[0;34m'liquid'\u001b[0m\u001b[0;34m)\u001b[0m\u001b[0;34m[\u001b[0m\u001b[0;36m0\u001b[0m\u001b[0;34m]\u001b[0m\u001b[0;34m.\u001b[0m\u001b[0mname\u001b[0m\u001b[0;34m(\u001b[0m\u001b[0;34m)\u001b[0m\u001b[0;34m.\u001b[0m\u001b[0msplit\u001b[0m\u001b[0;34m(\u001b[0m\u001b[0;34m\".\"\u001b[0m\u001b[0;34m)\u001b[0m\u001b[0;34m[\u001b[0m\u001b[0;36m0\u001b[0m\u001b[0;34m]\u001b[0m\u001b[0;34m\u001b[0m\u001b[0m\n",
      "\u001b[0;31mNameError\u001b[0m: name 'Synset' is not defined"
     ]
    }
   ],
   "source": [
    "[Synset('entity.n.01')]\n",
    "wn.synsets('liquid')[0].name().split(\".\")[0]"
   ]
  },
  {
   "cell_type": "code",
   "execution_count": 108,
   "metadata": {},
   "outputs": [
    {
     "data": {
      "text/plain": [
       "'entity'"
      ]
     },
     "execution_count": 108,
     "metadata": {},
     "output_type": "execute_result"
    }
   ],
   "source": [
    "wn.synsets('entity')[0].name().split(\".\")[0]"
   ]
  },
  {
   "cell_type": "code",
   "execution_count": 109,
   "metadata": {},
   "outputs": [
    {
     "data": {
      "text/plain": [
       "'entity'"
      ]
     },
     "execution_count": 109,
     "metadata": {},
     "output_type": "execute_result"
    }
   ],
   "source": [
    "x = wn.synsets('entity')\n",
    "x[0].name().split(\".\")[0]"
   ]
  },
  {
   "cell_type": "code",
   "execution_count": 110,
   "metadata": {},
   "outputs": [
    {
     "data": {
      "text/plain": [
       "[Synset('entity.n.01')]"
      ]
     },
     "execution_count": 110,
     "metadata": {},
     "output_type": "execute_result"
    }
   ],
   "source": [
    "wn.synsets('entity')"
   ]
  },
  {
   "cell_type": "code",
   "execution_count": 122,
   "metadata": {},
   "outputs": [
    {
     "name": "stdout",
     "output_type": "stream",
     "text": [
      "[]\n"
     ]
    }
   ],
   "source": [
    "a = wn.synsets('engines')[0]\n",
    "b = wn.synsets('world-class')[0]\n",
    "name_common = a.lowest_common_hypernyms(b)\n",
    "print(name_common)"
   ]
  },
  {
   "cell_type": "code",
   "execution_count": null,
   "metadata": {},
   "outputs": [],
   "source": []
  }
 ],
 "metadata": {
  "kernelspec": {
   "display_name": "Python 3",
   "language": "python",
   "name": "python3"
  },
  "language_info": {
   "codemirror_mode": {
    "name": "ipython",
    "version": 3
   },
   "file_extension": ".py",
   "mimetype": "text/x-python",
   "name": "python",
   "nbconvert_exporter": "python",
   "pygments_lexer": "ipython3",
   "version": "3.6.4"
  }
 },
 "nbformat": 4,
 "nbformat_minor": 2
}
