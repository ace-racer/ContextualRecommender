{
 "cells": [
  {
   "cell_type": "code",
   "execution_count": 1,
   "metadata": {
    "collapsed": true
   },
   "outputs": [],
   "source": [
    "import os\n",
    "import json\n",
    "import string\n",
    "import nltk\n",
    "from nltk import word_tokenize, FreqDist, pos_tag\n",
    "from nltk.corpus import stopwords\n",
    "import pandas as pd\n",
    "import numpy as np\n",
    "%matplotlib inline"
   ]
  },
  {
   "cell_type": "code",
   "execution_count": 2,
   "metadata": {
    "collapsed": true
   },
   "outputs": [],
   "source": [
    "def get_stream_details():\n",
    "    print(\"Reading the stream details...\")\n",
    "    complete_stream_details_df = pd.read_csv(\"H:\\\\TeamStreamz_IW\\\\code\\\\data\\\\card_module_details_content_extracted.csv\", encoding=\"ISO-8859-1\")\n",
    "    if complete_stream_details_df is not None:\n",
    "        complete_stream_details_dict = {}\n",
    "        _stream_id_stream_title_dict = {}\n",
    "        for _, row in complete_stream_details_df.iterrows():\n",
    "            \n",
    "            stream_id = str(row[\"DECKID\"])\n",
    "            stream_title = str(row[\"DECKNAME\"])\n",
    "            row_content = str(row[\"HTML_CONTENT\"])\n",
    "\n",
    "            # TODO: add the card title and the module name to the content on which the tags can be generated\n",
    "            card_title =str(row[\"CARDTITLE\"])\n",
    "            module_name = str(row[\"MODULENAME\"])\n",
    "            \n",
    "            if row_content and \"nan\" not in row_content:\n",
    "                # if the stream ID already exists in the dictionary\n",
    "                if complete_stream_details_dict.get(stream_id):\n",
    "                    existing_content = complete_stream_details_dict[stream_id]\n",
    "                    new_content = existing_content + \"\\n\" + row_content.strip()\n",
    "                    complete_stream_details_dict[stream_id] = new_content\n",
    "                else:\n",
    "                    complete_stream_details_dict[stream_id] = row_content.strip()\n",
    "                    _stream_id_stream_title_dict[stream_id] = stream_title\n",
    "        \n",
    "        return complete_stream_details_dict"
   ]
  },
  {
   "cell_type": "code",
   "execution_count": 3,
   "metadata": {},
   "outputs": [
    {
     "name": "stdout",
     "output_type": "stream",
     "text": [
      "Reading the stream details...\n"
     ]
    }
   ],
   "source": [
    "stream_details_dict = get_stream_details()"
   ]
  },
  {
   "cell_type": "code",
   "execution_count": 4,
   "metadata": {},
   "outputs": [
    {
     "data": {
      "text/html": [
       "<div>\n",
       "<style>\n",
       "    .dataframe thead tr:only-child th {\n",
       "        text-align: right;\n",
       "    }\n",
       "\n",
       "    .dataframe thead th {\n",
       "        text-align: left;\n",
       "    }\n",
       "\n",
       "    .dataframe tbody tr th {\n",
       "        vertical-align: top;\n",
       "    }\n",
       "</style>\n",
       "<table border=\"1\" class=\"dataframe\">\n",
       "  <thead>\n",
       "    <tr style=\"text-align: right;\">\n",
       "      <th></th>\n",
       "      <th>StreamID</th>\n",
       "      <th>Content</th>\n",
       "    </tr>\n",
       "  </thead>\n",
       "  <tbody>\n",
       "    <tr>\n",
       "      <th>0</th>\n",
       "      <td>163</td>\n",
       "      <td>TXmAk2KZAy4\\nNMeUjebo1Ac\\nEEuTxFhp3go\\nCastrol...</td>\n",
       "    </tr>\n",
       "    <tr>\n",
       "      <th>1</th>\n",
       "      <td>419</td>\n",
       "      <td>TXmAk2KZAy4\\nNMeUjebo1Ac\\nEEuTxFhp3go\\nCastrol...</td>\n",
       "    </tr>\n",
       "    <tr>\n",
       "      <th>2</th>\n",
       "      <td>507</td>\n",
       "      <td>wBYKUgUyGWc\\nA team of world-class drivers, po...</td>\n",
       "    </tr>\n",
       "    <tr>\n",
       "      <th>3</th>\n",
       "      <td>199</td>\n",
       "      <td>Castrol EDGE  is Castrols flagship power bran...</td>\n",
       "    </tr>\n",
       "    <tr>\n",
       "      <th>4</th>\n",
       "      <td>201</td>\n",
       "      <td>Charles Cheers Wakefield, Castrols founder,...</td>\n",
       "    </tr>\n",
       "  </tbody>\n",
       "</table>\n",
       "</div>"
      ],
      "text/plain": [
       "  StreamID                                            Content\n",
       "0      163  TXmAk2KZAy4\\nNMeUjebo1Ac\\nEEuTxFhp3go\\nCastrol...\n",
       "1      419  TXmAk2KZAy4\\nNMeUjebo1Ac\\nEEuTxFhp3go\\nCastrol...\n",
       "2      507  wBYKUgUyGWc\\nA team of world-class drivers, po...\n",
       "3      199  Castrol EDGE  is Castrols flagship power bran...\n",
       "4      201  Charles Cheers Wakefield, Castrols founder,..."
      ]
     },
     "execution_count": 4,
     "metadata": {},
     "output_type": "execute_result"
    }
   ],
   "source": [
    "df_ori = pd.DataFrame(list(stream_details_dict.items()), columns=[\"StreamID\", \"Content\"])\n",
    "df_ori.head()"
   ]
  },
  {
   "cell_type": "code",
   "execution_count": 5,
   "metadata": {},
   "outputs": [
    {
     "name": "stdout",
     "output_type": "stream",
     "text": [
      "(113, 2)\n",
      "(97, 2)\n",
      "Removed 16 duplicates (based on Content)\n"
     ]
    }
   ],
   "source": [
    "print(df_ori.shape)\n",
    "df = df_ori.drop_duplicates(['Content'])\n",
    "print(df.shape)\n",
    "print(\"Removed {0} duplicates (based on Content)\".format(df_ori.shape[0]-df.shape[0]))"
   ]
  },
  {
   "cell_type": "code",
   "execution_count": 6,
   "metadata": {},
   "outputs": [
    {
     "data": {
      "text/plain": [
       "0    TXmAk2KZAy4\\nNMeUjebo1Ac\\nEEuTxFhp3go\\nCastrol...\n",
       "1    TXmAk2KZAy4\\nNMeUjebo1Ac\\nEEuTxFhp3go\\nCastrol...\n",
       "2    wBYKUgUyGWc\\nA team of world-class drivers, po...\n",
       "3    Castrol EDGE  is Castrols flagship power bran...\n",
       "4    Charles Cheers Wakefield, Castrols founder,...\n",
       "Name: Content, dtype: object"
      ]
     },
     "execution_count": 6,
     "metadata": {},
     "output_type": "execute_result"
    }
   ],
   "source": [
    "df[\"Content\"].head()"
   ]
  },
  {
   "cell_type": "code",
   "execution_count": 8,
   "metadata": {},
   "outputs": [
    {
     "name": "stderr",
     "output_type": "stream",
     "text": [
      "G:\\anaconda\\lib\\site-packages\\ipykernel_launcher.py:2: SettingWithCopyWarning: \n",
      "A value is trying to be set on a copy of a slice from a DataFrame.\n",
      "Try using .loc[row_indexer,col_indexer] = value instead\n",
      "\n",
      "See the caveats in the documentation: http://pandas.pydata.org/pandas-docs/stable/indexing.html#indexing-view-versus-copy\n",
      "  \n",
      "G:\\anaconda\\lib\\site-packages\\ipykernel_launcher.py:3: SettingWithCopyWarning: \n",
      "A value is trying to be set on a copy of a slice from a DataFrame.\n",
      "Try using .loc[row_indexer,col_indexer] = value instead\n",
      "\n",
      "See the caveats in the documentation: http://pandas.pydata.org/pandas-docs/stable/indexing.html#indexing-view-versus-copy\n",
      "  This is separate from the ipykernel package so we can avoid doing imports until\n"
     ]
    },
    {
     "data": {
      "text/plain": [
       "0    [(TXmAk2KZAy4, NNP), (NMeUjebo1Ac, NNP), (EEuT...\n",
       "1    [(TXmAk2KZAy4, NNP), (NMeUjebo1Ac, NNP), (EEuT...\n",
       "2    [(wBYKUgUyGWc, NN), (A, DT), (team, NN), (of, ...\n",
       "3    [(Castrol, NNP), (EDGE, NNP), (is, VBZ), (Cast...\n",
       "4    [(Charles, NNP), (Cheers, NNP), (Wakefield, ...\n",
       "Name: Content_POS, dtype: object"
      ]
     },
     "execution_count": 8,
     "metadata": {},
     "output_type": "execute_result"
    }
   ],
   "source": [
    "# simply tokenize without any preprocessing\n",
    "df['Content_token'] = df['Content'].map(word_tokenize)\n",
    "df['Content_POS'] = df['Content_token'].map(pos_tag, {\"tagset\": \"universal\"})\n",
    "df['Content_POS'].head()"
   ]
  },
  {
   "cell_type": "code",
   "execution_count": 9,
   "metadata": {},
   "outputs": [
    {
     "name": "stderr",
     "output_type": "stream",
     "text": [
      "G:\\anaconda\\lib\\site-packages\\ipykernel_launcher.py:1: SettingWithCopyWarning: \n",
      "A value is trying to be set on a copy of a slice from a DataFrame.\n",
      "Try using .loc[row_indexer,col_indexer] = value instead\n",
      "\n",
      "See the caveats in the documentation: http://pandas.pydata.org/pandas-docs/stable/indexing.html#indexing-view-versus-copy\n",
      "  \"\"\"Entry point for launching an IPython kernel.\n"
     ]
    },
    {
     "data": {
      "text/plain": [
       "0    [(TXmAk2KZAy4, NNP), (NMeUjebo1Ac, NNP), (EEuT...\n",
       "1    [(TXmAk2KZAy4, NNP), (NMeUjebo1Ac, NNP), (EEuT...\n",
       "2    [(wBYKUgUyGWc, NN), (team, NN), (world-class, ...\n",
       "3    [(Castrol, NNP), (EDGE, NNP), (Castrols, NNP)...\n",
       "4    [(Charles, NNP), (Cheers, NNP), (Wakefield, ...\n",
       "Name: Content_Nouns, dtype: object"
      ]
     },
     "execution_count": 9,
     "metadata": {},
     "output_type": "execute_result"
    }
   ],
   "source": [
    "df[\"Content_Nouns\"] = df[\"Content_POS\"].apply(lambda items: [x for x in items if x[1][0] == 'N'])\n",
    "df[\"Content_Nouns\"].head()"
   ]
  },
  {
   "cell_type": "markdown",
   "metadata": {},
   "source": [
    "### We assume that nouns that make sense should not have digits"
   ]
  },
  {
   "cell_type": "code",
   "execution_count": 22,
   "metadata": {
    "collapsed": true
   },
   "outputs": [],
   "source": [
    "def is_text_random_sequence(text, max_num_digits = 0):\n",
    "    digits = [x for x in text if x.isdigit()]\n",
    "    #print(digits)\n",
    "    if len(digits) > max_num_digits:\n",
    "        return True\n",
    "    \n",
    "    return False"
   ]
  },
  {
   "cell_type": "code",
   "execution_count": 20,
   "metadata": {},
   "outputs": [
    {
     "data": {
      "text/plain": [
       "True"
      ]
     },
     "execution_count": 20,
     "metadata": {},
     "output_type": "execute_result"
    }
   ],
   "source": [
    "is_text_random_sequence(\"TXmAk2KZAy4\")"
   ]
  },
  {
   "cell_type": "code",
   "execution_count": 21,
   "metadata": {},
   "outputs": [
    {
     "name": "stderr",
     "output_type": "stream",
     "text": [
      "G:\\anaconda\\lib\\site-packages\\ipykernel_launcher.py:1: SettingWithCopyWarning: \n",
      "A value is trying to be set on a copy of a slice from a DataFrame.\n",
      "Try using .loc[row_indexer,col_indexer] = value instead\n",
      "\n",
      "See the caveats in the documentation: http://pandas.pydata.org/pandas-docs/stable/indexing.html#indexing-view-versus-copy\n",
      "  \"\"\"Entry point for launching an IPython kernel.\n"
     ]
    },
    {
     "data": {
      "text/plain": [
       "0    [(Castrol, NNP), (oil, NN), (TITANIUM, NNP), (...\n",
       "1    [(Castrol, NNP), (oil, NN), (TITANIUM, NNP), (...\n",
       "2    [(wBYKUgUyGWc, NN), (team, NN), (world-class, ...\n",
       "3    [(Castrol, NNP), (EDGE, NNP), (Castrols, NNP)...\n",
       "4    [(Charles, NNP), (Cheers, NNP), (Wakefield, ...\n",
       "Name: Content_Nouns, dtype: object"
      ]
     },
     "execution_count": 21,
     "metadata": {},
     "output_type": "execute_result"
    }
   ],
   "source": [
    "df[\"Content_Nouns\"] = df[\"Content_Nouns\"].apply(lambda items: [x for x in items if not is_text_random_sequence(x[0])])\n",
    "df[\"Content_Nouns\"].head()"
   ]
  },
  {
   "cell_type": "code",
   "execution_count": 23,
   "metadata": {},
   "outputs": [
    {
     "data": {
      "text/html": [
       "<div>\n",
       "<style>\n",
       "    .dataframe thead tr:only-child th {\n",
       "        text-align: right;\n",
       "    }\n",
       "\n",
       "    .dataframe thead th {\n",
       "        text-align: left;\n",
       "    }\n",
       "\n",
       "    .dataframe tbody tr th {\n",
       "        vertical-align: top;\n",
       "    }\n",
       "</style>\n",
       "<table border=\"1\" class=\"dataframe\">\n",
       "  <thead>\n",
       "    <tr style=\"text-align: right;\">\n",
       "      <th></th>\n",
       "      <th>StreamID</th>\n",
       "      <th>Content</th>\n",
       "      <th>Content_token</th>\n",
       "      <th>Content_POS</th>\n",
       "      <th>Content_Nouns</th>\n",
       "    </tr>\n",
       "  </thead>\n",
       "  <tbody>\n",
       "    <tr>\n",
       "      <th>0</th>\n",
       "      <td>163</td>\n",
       "      <td>TXmAk2KZAy4\\nNMeUjebo1Ac\\nEEuTxFhp3go\\nCastrol...</td>\n",
       "      <td>[TXmAk2KZAy4, NMeUjebo1Ac, EEuTxFhp3go, Castro...</td>\n",
       "      <td>[(TXmAk2KZAy4, NNP), (NMeUjebo1Ac, NNP), (EEuT...</td>\n",
       "      <td>[(Castrol, NNP), (oil, NN), (TITANIUM, NNP), (...</td>\n",
       "    </tr>\n",
       "    <tr>\n",
       "      <th>1</th>\n",
       "      <td>419</td>\n",
       "      <td>TXmAk2KZAy4\\nNMeUjebo1Ac\\nEEuTxFhp3go\\nCastrol...</td>\n",
       "      <td>[TXmAk2KZAy4, NMeUjebo1Ac, EEuTxFhp3go, Castro...</td>\n",
       "      <td>[(TXmAk2KZAy4, NNP), (NMeUjebo1Ac, NNP), (EEuT...</td>\n",
       "      <td>[(Castrol, NNP), (oil, NN), (TITANIUM, NNP), (...</td>\n",
       "    </tr>\n",
       "    <tr>\n",
       "      <th>2</th>\n",
       "      <td>507</td>\n",
       "      <td>wBYKUgUyGWc\\nA team of world-class drivers, po...</td>\n",
       "      <td>[wBYKUgUyGWc, A, team, of, world-class, driver...</td>\n",
       "      <td>[(wBYKUgUyGWc, NN), (A, DT), (team, NN), (of, ...</td>\n",
       "      <td>[(wBYKUgUyGWc, NN), (team, NN), (world-class, ...</td>\n",
       "    </tr>\n",
       "    <tr>\n",
       "      <th>3</th>\n",
       "      <td>199</td>\n",
       "      <td>Castrol EDGE  is Castrols flagship power bran...</td>\n",
       "      <td>[Castrol, EDGE, is, Castrols, flagship, power...</td>\n",
       "      <td>[(Castrol, NNP), (EDGE, NNP), (is, VBZ), (Cast...</td>\n",
       "      <td>[(Castrol, NNP), (EDGE, NNP), (Castrols, NNP)...</td>\n",
       "    </tr>\n",
       "    <tr>\n",
       "      <th>4</th>\n",
       "      <td>201</td>\n",
       "      <td>Charles Cheers Wakefield, Castrols founder,...</td>\n",
       "      <td>[Charles, Cheers, Wakefield, ,, Castrols, f...</td>\n",
       "      <td>[(Charles, NNP), (Cheers, NNP), (Wakefield, ...</td>\n",
       "      <td>[(Charles, NNP), (Cheers, NNP), (Wakefield, ...</td>\n",
       "    </tr>\n",
       "  </tbody>\n",
       "</table>\n",
       "</div>"
      ],
      "text/plain": [
       "  StreamID                                            Content  \\\n",
       "0      163  TXmAk2KZAy4\\nNMeUjebo1Ac\\nEEuTxFhp3go\\nCastrol...   \n",
       "1      419  TXmAk2KZAy4\\nNMeUjebo1Ac\\nEEuTxFhp3go\\nCastrol...   \n",
       "2      507  wBYKUgUyGWc\\nA team of world-class drivers, po...   \n",
       "3      199  Castrol EDGE  is Castrols flagship power bran...   \n",
       "4      201  Charles Cheers Wakefield, Castrols founder,...   \n",
       "\n",
       "                                       Content_token  \\\n",
       "0  [TXmAk2KZAy4, NMeUjebo1Ac, EEuTxFhp3go, Castro...   \n",
       "1  [TXmAk2KZAy4, NMeUjebo1Ac, EEuTxFhp3go, Castro...   \n",
       "2  [wBYKUgUyGWc, A, team, of, world-class, driver...   \n",
       "3  [Castrol, EDGE, is, Castrols, flagship, power...   \n",
       "4  [Charles, Cheers, Wakefield, ,, Castrols, f...   \n",
       "\n",
       "                                         Content_POS  \\\n",
       "0  [(TXmAk2KZAy4, NNP), (NMeUjebo1Ac, NNP), (EEuT...   \n",
       "1  [(TXmAk2KZAy4, NNP), (NMeUjebo1Ac, NNP), (EEuT...   \n",
       "2  [(wBYKUgUyGWc, NN), (A, DT), (team, NN), (of, ...   \n",
       "3  [(Castrol, NNP), (EDGE, NNP), (is, VBZ), (Cast...   \n",
       "4  [(Charles, NNP), (Cheers, NNP), (Wakefield, ...   \n",
       "\n",
       "                                       Content_Nouns  \n",
       "0  [(Castrol, NNP), (oil, NN), (TITANIUM, NNP), (...  \n",
       "1  [(Castrol, NNP), (oil, NN), (TITANIUM, NNP), (...  \n",
       "2  [(wBYKUgUyGWc, NN), (team, NN), (world-class, ...  \n",
       "3  [(Castrol, NNP), (EDGE, NNP), (Castrols, NNP)...  \n",
       "4  [(Charles, NNP), (Cheers, NNP), (Wakefield, ...  "
      ]
     },
     "execution_count": 23,
     "metadata": {},
     "output_type": "execute_result"
    }
   ],
   "source": [
    "df.head()"
   ]
  },
  {
   "cell_type": "code",
   "execution_count": 25,
   "metadata": {},
   "outputs": [],
   "source": [
    "df = df.drop([\"Content_token\", \"Content_POS\"], axis=1)\n",
    "df.to_csv(\"outputs/content_nouns.csv\", index=False)"
   ]
  },
  {
   "cell_type": "code",
   "execution_count": null,
   "metadata": {
    "collapsed": true
   },
   "outputs": [],
   "source": []
  }
 ],
 "metadata": {
  "kernelspec": {
   "display_name": "Python 3",
   "language": "python",
   "name": "python3"
  },
  "language_info": {
   "codemirror_mode": {
    "name": "ipython",
    "version": 3
   },
   "file_extension": ".py",
   "mimetype": "text/x-python",
   "name": "python",
   "nbconvert_exporter": "python",
   "pygments_lexer": "ipython3",
   "version": "3.6.3"
  }
 },
 "nbformat": 4,
 "nbformat_minor": 2
}
