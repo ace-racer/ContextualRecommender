{
 "cells": [
  {
   "cell_type": "code",
   "execution_count": 1,
   "metadata": {
    "collapsed": true
   },
   "outputs": [],
   "source": [
    "import nltk\n",
    "from nltk import FreqDist\n",
    "import string\n",
    "from nltk.corpus import stopwords\n",
    "import pandas as pd\n",
    "import numpy as np\n",
    "import matplotlib.pyplot as plt\n",
    "from wordcloud import WordCloud\n",
    "%matplotlib inline"
   ]
  },
  {
   "cell_type": "code",
   "execution_count": 2,
   "metadata": {
    "collapsed": true
   },
   "outputs": [],
   "source": [
    "def get_stream_details():\n",
    "    print(\"Reading the stream details...\")\n",
    "    complete_stream_details_df = pd.read_csv(\"H:\\\\TeamStreamz_IW\\\\code\\\\data\\\\card_module_details_content_extracted.csv\", encoding=\"ISO-8859-1\")\n",
    "    if complete_stream_details_df is not None:\n",
    "        complete_stream_details_dict = {}\n",
    "        _stream_id_stream_title_dict = {}\n",
    "        for _, row in complete_stream_details_df.iterrows():\n",
    "            \n",
    "            stream_id = str(row[\"DECKID\"])\n",
    "            stream_title = str(row[\"DECKNAME\"])\n",
    "            row_content = str(row[\"HTML_CONTENT\"])\n",
    "\n",
    "            # TODO: add the card title and the module name to the content on which the tags can be generated\n",
    "            card_title =str(row[\"CARDTITLE\"])\n",
    "            module_name = str(row[\"MODULENAME\"])\n",
    "            \n",
    "            if row_content and \"nan\" not in row_content:\n",
    "                # if the stream ID already exists in the dictionary\n",
    "                if complete_stream_details_dict.get(stream_id):\n",
    "                    existing_content = complete_stream_details_dict[stream_id]\n",
    "                    new_content = existing_content + \"\\n\" + row_content.strip()\n",
    "                    complete_stream_details_dict[stream_id] = new_content\n",
    "                else:\n",
    "                    complete_stream_details_dict[stream_id] = row_content.strip()\n",
    "                    _stream_id_stream_title_dict[stream_id] = stream_title\n",
    "        \n",
    "        return complete_stream_details_dict"
   ]
  },
  {
   "cell_type": "code",
   "execution_count": 3,
   "metadata": {},
   "outputs": [
    {
     "name": "stdout",
     "output_type": "stream",
     "text": [
      "Reading the stream details...\n"
     ]
    },
    {
     "data": {
      "text/plain": [
       "{'1089': 'Welcome Team! Were really glad you are part of this journey!     In this stream you will find out more about the program and its fantastic benefits.     But first, scroll to the next card to complete a small survey, to help us guide your ...\\nThis tool is used to capture the brand survey information.       \"On a scale of 1-10, how likely are you to recommend a Castrol brand to a customer?\"       You cannot edit this c...\\n{\"title\": \"Brand Survey\", \"primaryField\": \"field1\", \"page1\": {\"header\": \"{CARD_DESCRIPTION}\", \"field1\": {\"type\": \"Text\", \"name\": \"NPS Score\", \"sequence\": 1}, \"sequence\": 1}, \"maxSubmissions\": 1}\\nUp-to-date       knowledge on Castrol Brand 123 messaging\\nInteractive quizzes to let you        track your progress       and growth\\nBadges and Competitions that entitle you to        great gifts and rewards!\\nThe Castrol Zoom App provides interactive information, competitions and rewards on all things Castrol!     Enjoy the journey!',\n",
       " '1095': 'In this Stream you will understand the value of       Castrol TRANSMAX      , a specialty Automation Transmition Fluid that ensures car transmission operates in the best way.     In a clear way, you will understand:     1. Th...\\nCastrol Automatic Transmission Fluids:\\nAutomatic transmission is a combination of electronic and mechanical systems, hydraulics and computer processors.     All of these work together to ensure that engine power and gear shifts move to the wheels.\\nWith all the gear shifts and changes, it is important to provide the transmission a high quality Automatic Transmission Fluid (ATF).     An ATF ensures smooth gear shifts and smooth driving.\\nsHMAQq7W01Y\\nCastrol TRANSMAX has Smooth Drive Technology that ensures the automatic transmission of the car is performing at its best.     Watch this video to see how it works.',\n",
       " '1128': 'This tool is used to capture the brand survey information.       \"On a scale of 1-10, how likely are you to recommend a Castrol brand to a customer?\"       You cannot edit this c...\\n{\"title\": \"Brand Survey\", \"primaryField\": \"field1\", \"page1\": {\"header\": \"{CARD_DESCRIPTION}\", \"field1\": {\"type\": \"Text\", \"name\": \"NPS Score\", \"sequence\": 1}, \"sequence\": 1}, \"maxSubmissions\": 1}',\n",
       " '1267': \"Charles Cheers Wakefield, Castrols founder, was an entrepreneur with a vision. In 1899 he started the lubricant business from Cheapside, London. In 1906, he started Castrol, and took a personal interest in the new motorised contrapt...\\nrpXAV9ybskA\\nSince the 1980s, Castrol has supplied NASA with lubricants for the space shuttle programme. More recently, when NASA's Curiosity rover began its exciting mission on Mars in 2012, Castrol industrial grease played a central role in the smooth opera...\\n9RSWs44PdkE\\nThe journey of oil around a car engine takes as little as 5 secs.In this little time, it protects critical engine parts and prevents damage.This short film takes us through this incredible journey.\\nMaintained Castrol as a seperate brand owing to our heritage and personality\\nCastrol lubricated the first transatlantic flight\\nCastrol played a central role in NASA'S Curiosity rover on Mars in 2012, in the smooth operation of Curiosity's wheels\\nCharles Cheers Wakefield, Castrols founder, was an entrepreneur with a vision. In 1899 he started the lubricant business from Cheapside, London.     He took a personal interest in the new motorised contraptions of the automobile and th...\\nHaving helped pioneer a new kind of motor oil, now CC Wakefield pioneered a new method of getting customers to notice the product:       sponsorship      .      The Castrol name appeared on banners and flags at competitive aviation events, ...\\nBritish Petroleum (BP) acquired Castrol in 2002.     Castrol is maintained as its own brand, owing to its heritage and personality.     This acquisition allowed Castrol to garner an association with one of the world's leading internati...\\nTest for Notification\",\n",
       " '1347': 'We at Castrol would like to wish you and your loved ones a very Merry Christmas and Happy New Year!',\n",
       " '1498': \"This Stream has information about the       Castrol EDGE      boosted with       TITANIUM FST      brand story?. You will understand  the value of Castrol EDGE to car owners by:\\noyCu07ay5ec\\nWatch this video to understand how       Castrol EDGE      has the strength and the technology to handle the pressures of high-performance engines.\\nCastrol EDGE      is Castrols flagship power brand for PCOs and was introduced in 2005.     It is a high performance engine oil for high performing vehicles, approved by major OEMs across the world.\\nCastrol EDGE      solves the problem of high engine pressures through its       TITANIUM FST (Titanium Fluid Strength Technology).       TITANIUM FST      doubles oil strength preventing oil breakdow...\\nNMeUjebo1Ac\\nCastrol EDGEs      unique       TITANIUM FST      Technology more than doubles oil strength.      Watch this video to see how       Castrol EDGE      works.\\n5HOFO-gLoqo\\nTitanium FST is the secret behind Castrol EDGE's oil strength.\\nCastrol EDGE is       three times stronger against viscosity breakdown      than leading synthetic and conventional oils.     The new formula has two times the film strength as the previous formula.\\nHere is your quick summary on what Castrol EDGE is about:\\n1     2     3\",\n",
       " '1499': \"In this Stream you will find information about Castrol MAGNATEC. In a clear way you will:\\nSgr2uEVmFgM\\nThe       INTELLIGENT MOLECULES      are specially formulated to cling to critical engine parts like a magnet. This provides an extra layer of protection from the start.\\n2SaFhLj0FGg\\nHere is a quick summary of Castrol GTX MAGNATEC and its key proposition:\\nWelcome to the new year!     We are so happy to see you back and want to share a few exciting things to look forward to on the App.\\nWe'd like to give you the chance to win deserving prizes from Castrol, for your knowledge and expertise on our brands.     I'd get an early start on those quizzes and brand streams if I were you!\\nWe will be releasing a short survey to get to know your thoughts on the App and what you would like to see more of.     Your feedback is important to us.\",\n",
       " '1512': \"Welcome to the new year!     We are so happy to see you back and want to share a few exciting things to look forward to on the App.\\nWe'd like to give you the chance to win deserving prizes from Castrol, for your knowledge and expertise on our brands.     I'd get an early start on those quizzes and brand streams if I were you!\\nWe will be releasing a short survey to get to know your thoughts on the App and what you would like to see more of.     Your feedback is important to us.\",\n",
       " '163': 'TXmAk2KZAy4\\nNMeUjebo1Ac\\nEEuTxFhp3go\\nCastrol has launched its strongest ever oil, using TITANIUM Fluid StrengthTHE SET-UPTodays engines are more efficient and more powerful. This has led to the doubling of pressure in the engine, so the oil has to be stronger.THE REASON TO BUYCastrol ed...\\nKiRnvRuFj3I\\nWhat does it take to be a world-class driver and race your clone? Join neuroscientist Dr. Jack Lewis as he talks about what you need to achieve maximum performance on and off the track.See this before you go for your next market visit ?\\nAHOMxMBs_No\\nCastrol EDGE Titanium Trials Present: Clone Rival. Watch as we clone Aston Martin Vulcan driver, Darren Turner, and pit him against his ultimate rival: himself. Will he have what it takes to be Titanium Strong?Exciting Video?\\n0outa7euRbg\\nVP2-ceNdpT4',\n",
       " '1644': 'Survey Card Test\\n{\"title\":\"Survey Form\",\"primaryField\":\"field1\",\"page1\":{\"header\":\"{CARD_DESCRIPTION}\",\"field1\":{\"type\":\"Text\",\"name\":\"How long have you been working with Castrol products?\",\"sequence\":1},\"field2\":{\"type\":\"Text\",\"name\":\"On a scale of 1-10, to what extent ...',\n",
       " '1655': 'We at Castrol would like to wish you and your loved ones a very Merry Christmas and Happy New Year!\\nCastrol',\n",
       " '1658': 'This Stream has information about the       Castrol EDGE      boosted with       TITANIUM FST      brand story?.\\nCastrol created EDGE to solve for these new-age advanced engines.\\noyCu07ay5ec\\nWatch this video to understand how       Castrol EDGE      has the strength and the technology to handle the pressures of high-performance engines.\\nNMeUjebo1Ac\\nCastrol EDGEs      unique       TITANIUM FST      Technology more than doubles oil strength.      Watch this video to see how       Castrol EDGE      works.',\n",
       " '1659': 'In this Stream you will find information about Castrol GTX MAGNATEC. In a clear way you will:\\nSgr2uEVmFgM\\nThe       INTELLIGENT MOLECULES      are specially formulated to cling to critical engine parts like a magnet. This provides an extra layer of protection from the start.',\n",
       " '1660': 'In this Stream you will find information about       Castrol GTX      -       Superior Sludge Protection to help extend engine life      .     In a clear way, you will:\\nCastrol GTX DOUBLE ACTION FORMULA      cleans away old sludge, and protects against new sludge formation  better than industry standards.\\n0outa7euRbg\\nCastrol GTX      has a unique Double Action formula that keeps the engine oilways free of dirt formation.     Watch this video to see how it works.\\nCH_2I9DXdsY\\nGTX DOUBLE ACTION FORMULA      reduces sludge and protects against new sludge.     Removing sludge is good for the engine because:\\nGTX DOUBLE ACTION FORMULA      reduces sludge and protects against new sludge. This extends the engines life significantly.     Removing sludge is good for the engine because:',\n",
       " '1661': \"Charles Cheers Wakefield, Castrols founder, was an entrepreneur with a vision. In 1899 he started the lubricant business from Cheapside, London.     He took a personal interest in the new motorised vehicles, mainly automobiles and aero...\\nCC Wakefield pioneered sponsorship as a new method of getting customers to notice the product.     The Castrol name appeared on banners and flags at competitive aviation events and auto races.     Wakefield       extended      the company...\\nCastrol lubricated the first transatlantic flight\\nCastrol played a central role in NASA'S Curiosity rover on Mars in 2012, in the smooth operation of Curiosity's wheels\\nBritish Petroleum (BP) acquired Castrol in 2002.     Castrol is maintained as its own brand, owing to its heritage and personality.     This acquisition allowed Castrol to garner an association with one of the world's leading internati...\",\n",
       " '1662': 'HOW WELL DO YOU KNOW YOUR CASTROL BRANDS?      Here is a chance for you to find out - and stand a chance to win prizes at the same time!      HOW TO WIN:       Participants who col...\\nEach of the BrandCheck winners can collect an exclusive Castrol Victorinox TA4.0 Packable Back Pack as their prize. Please collect your prize from your respective team managers.',\n",
       " '1670': \"In this Stream you will find information about       Castrol GTX      -       Superior Sludge Protection to help extend engine life      .     In a clear way, you will:\\nCastrol GTX DOUBLE ACTION FORMULA      cleans away old sludge, and protects against new sludge formation  better than industry standards.\\n0outa7euRbg\\nCastrol GTX      has a unique Double Action formula that keeps the engine oilways free of dirt formation.     Watch this video to see how it works.\\nCASTROL GTX helps extend the life of your engine\\nGTX DOUBLE ACTION FORMULA      reduces sludge and protects against new sludge. This extends the engines life significantly.     Removing sludge is good for the engine because:\\nCH_2I9DXdsY\\nGTX DOUBLE ACTION FORMULA      reduces sludge and protects against new sludge.     Removing sludge is good for the engine because:\\nHere's a quick summary of what Castrol GTX offers:\\n0outa7euRbg\\nCastrol GTX      has a unique Double Action formula that keeps the engine oilways free of dirt formation.     It clears away the dirt particles and prevents the smaller dirt particles to join together and form sludge in the vital oilways...\\nThe Castrol GTX Sludge Tower represents the vital oilways in an engine.     When you turn the demo over, the coloured balls represent the oil trying to flow through the oilways to protect critical engine parts. Sludge gets in the way, and can cause ...\\n_fMBvrSF4pE\\nWatch what Irv Gordon has to say about hitting world records with Castrol GTX.\",\n",
       " '1857': 'MqK0BQ1NKy8\\nWatch this video to see how the new and improved Castrol Activ works!\\nyWM8HTx9O5c\\nPanoorin ang video na ito para malaman kung paano gumagana ang new and improved Castrol Activ!',\n",
       " '199': \"Castrol EDGE      is Castrols flagship power brand for PCOs and was introduced in 2005.     It is a high performance engine oil for high performing vehicles, approved by major OEMs across the world.\\nNMeUjebo1Ac\\nCastrol EDGE      unique       TITANIUM FST      doubles oil strength in oil film protection. This makes the oil most equipped to handle the high pressures of engines today.     Watch this video to see how...\\noyCu07ay5ec\\nWatch this video to understand how       Castrol EDGE      has the strength and the technology to handle the pressures of high-performance engines.\\nCastrol EDGE      solves the problem of high engine pressures through its       TITANIUM FST (Fluid Strength Technology).       TITANIUM FST      doubles oil strength preventing oil breakdown and sha...\\nTITANIUM FST      continuously responds and adapts to your engine's every need even under the severest possible pressures.     It's designed to minimise metal-to-metal contact, constantly adapting across a variety of engine spee...\\n1KGh8D0AwBs\\nThe Castrol R&D Technology is amongst the best in the world. The Castrol Stress Test here shows how the double film strength of       Castrol EDGE      reduces metal-to-metal contact, making it the strongest oil in the world.\\nThis Stream has information about the       Castrol EDGE      boosted with       TITANIUM FST      brand story?. You will understand  the value of Castrol EDGE to car owners by:\\n5HOFO-gLoqo\\nTitanium FST is the secret behind Castrol EDGE's oil strength.\",\n",
       " '2003': 'Start date      End date  31st Dec 2018     Incentive applicable to  Saudi Arabia, UAE, Oman, Bahrain and Kuwait  Mechanics     We have the right to change or terminate the program, at incentive providers d...\\nCongratulations on becoming a participant in our incentive program. We hope this association is mutually beneficial.     In case of any inquiry please ask the Castrol merchandiser or a Castrol sales team member     Please rea...\\nWho defines the incentive points & criteria?      Incentives will be defined by local markets in accordance with Castrol policies as well as local legislation.      What are the Incentive ...\\nWill I also get rewarded for completing E Learnings or points earned by the Castrol Zoom App?       I tried to claim a Code and the Castrol Zoom App does not validate the Code  what is the reason for this?\\nHow do I see the redemption catalog?     Check with Castrol Sales Rep     Can I make multiple redemption requests?     Redemption request should be set at a minimum number of points (100 points) upon request submission mechanic should wait for r...\\nOptional: You can upload the proof of sale as an attachment to the incentive screen\\nProduct Submission:      As you submit your sale for Incentive, notice the successful submission message. The first stage will be submission.      Product Code Validation:      Submitted foil code go through mu...\\nYou can track your incentive transactions from user center:     Navigate to User center -> Transactions\\nAll the incentive transactions are listed under the transactions section.     Click and open any of the transaction to view the detailed flow of the transaction\\nWhat happens when you claim a product already submiited by other Mechanic     Your incentive get failed in second stage \"Product code validation\" displaying error message \"Duplicate Product code\".      Incase, your claim is genuine, please reac...\\nWhere to check the points earned through incentive:     User Center -> Incentive Summary\\nWhat can you read from incentive Summary:      Incentive Program:      Under the points heading you will find the Incentive campaign name.(BK Program for Redemption)      Earned So far      : The number of points earned by you...\\nHere you can see the list of products which are part of active Incentive scheme and the points you can earn per foil!\\nWhat       are       the permission required by the Tribe app?      Camera  App requires the camera permission to enable user to take profile pictures.     Storage  Storage permissi...\\nYou can Redeem your points for gift/vouchers.     How can you Redeem points:\\nRedemption Submission      : As you submit the redemption request, points get deducted from your balance and request will be in submission state      Redemption Validation      : The balanace avaiability and other criteria are v...\\nYour transaction gets completed and the reaches Redemption payout phase\\nAs the DSR rejects your redemption request, the transaction will be moved to failed redemption acceptance state.      The points deducted for the request will be credited back to your total score.\\nIf you get notified that redemption has been delivered and you have not got paid,\\nNow with       Castrol Zoom      you will be       rewarded      on your Castrol product sales!\\nSanity',\n",
       " '2006': 'Now with       Castrol Zoom      you will be       rewarded      on your Castrol product sales!\\nYou will get notified as the Mechanic opens redemption request     Steps to Navigate to request:\\nThe mechanic gets notified that the redemption request ...\\nEllK3pOGVds',\n",
       " '201': \"Charles Cheers Wakefield, Castrols founder, was an entrepreneur with a vision. In 1899 he started the lubricant business from Cheapside, London. In 1906, he started Castrol, and took a personal interest in the new motorised contrapt...\\nrpXAV9ybskA\\nSince the 1980s, Castrol has supplied NASA with lubricants for the space shuttle programme. More recently, when NASA's Curiosity rover began its exciting mission on Mars in 2012, Castrol industrial grease played a central role in the smooth opera...\\n9RSWs44PdkE\\nThe journey of oil around a car engine takes as little as 5 secs.In this little time, it protects critical engine parts and prevents damage.This short film takes us through this incredible journey.\\nMaintained Castrol as a seperate brand owing to our heritage and personality\\nCastrol lubricated the first transatlantic flight\\nCastrol played a central role in NASA'S Curiosity rover on Mars in 2012, in the smooth operation of Curiosity's wheels\\nCharles Cheers Wakefield, Castrols founder, was an entrepreneur with a vision. In 1899 he started the lubricant business from Cheapside, London.     He took a personal interest in the new motorised contraptions of the automobile and th...\\nHaving helped pioneer a new kind of motor oil, now CC Wakefield pioneered a new method of getting customers to notice the product:       sponsorship      .      The Castrol name appeared on banners and flags at competitive aviation events, ...\\nBritish Petroleum (BP) acquired Castrol in 2002.     Castrol is maintained as its own brand, owing to its heritage and personality.     This acquisition allowed Castrol to garner an association with one of the world's leading internati...\",\n",
       " '2010': 'Up-to-date       knowledge on Castrol Brand 123 messaging\\nInteractive quizzes to let you        track your progress       and growth\\nSales incentives       and brand points rewarded immediately.\\nBadges and Competitions that entitle you to        great gifts and rewards!\\nEllK3pOGVds\\nWelcome Team! Were really glad you are part of this journey!     Castrol Zoom is your mobile app for all information and tools about Castrol.      Earn points & redeem rewards by interacting with the co...',\n",
       " '202': 'castrol',\n",
       " '203': \"In this Stream you will find information about Castrol MAGNATEC. In a clear way you will:\\nCastrol MAGNATEC      , offers instant protection to an engine, from the moment the engine is started.     This leading Castrol engine oil brand has been helping motorists protect their car engines for almost 20 years.\\nPD9jKFjREnI\\nCastrol MAGNATECs      intelligent molecules cling to critical engine parts like a MAGNET, giving the engine an extra layer of protection from the start, and throughout warm-up.     Watch this video to see how it works.\\nCASTROL MAGNATEC      Instant protection from engine wear during warm-up\\nCASTROL MAGNATEC STOP START      Instant protection from engine wear due to stop start action in high traffic city driving\\nggY96Ga0ytg\\nWhen an engine stops, oil drains back to the sump. The next time it starts, it takes about 20 minutes to come to optimum performance temperature.     This is the time when engine damage can happen as critical parts are left exposed. 75%  of eng...\\nThe       INTELLIGENT MOLECULES      are specially formulated to cling to critical engine parts like a magnet, providing an extra layer of protection from the start, and throughout warm-up of the engine.\\nCastrol MAGNATEC provides instant protection for engines, right from the moment you start.      Up to 75% of engine wear happens during warm-up. When the engine stops oil drains off critical engine parts, however Castrol MAGNATEC's I...\\n8hnkexBfJtQ\\nIntelligent molecules cling and form a self healing layer so that it is always ready to protect at each of the critical stages of       STOP START      driving.     Watch the video on how       Castrol MAGNATEC STOP START      works to p...\\nQF9sB6LE8So\\nWhen cars are subjected to very high frequency of stop and start in a congested city drive.     It is estimated that even a normal driver can stop and start as many as 18,000 times in a year.     All that idling in traffic and waiting at junctions...\\nCastrol MAGNATEC STOP START provides instant Protection from the moment you start. Every time you start.      Intelligent molecules that cling and form a self healing layer so that it is always ready to protect at each of the critica...\\nCastrol MAGNATEC protects engines during warm-up because of its       intelligent molecules\",\n",
       " '2030': \"In this stream, you will receive updated information about Castrol EDGE and its 123 proposition.     But first, take a chance to refresh your knowledge on Castrol, and get started.\\noyCu07ay5ec\\nWatch this video to understand how       Castrol EDGE      has the strength and the technology to handle the pressures of high-performance engines.\\nCastrol EDGE has       Titanium Fluid Strength Technology (FST)      that d       oubles the oil strength      at points of pressure.     FREEDOM TO DRIVE - STRENGTH TO PERFORM\\nNMeUjebo1Ac\\nWatch this video for a full overview of why Castrol EDGE is the right oil for high performance cars today.\\nHere is your quick summary on what Castrol EDGE is about:\\n5HOFO-gLoqo\\nTitanium FST is the secret behind Castrol EDGE's oil strength.\\nCastrol EDGE is       three times stronger against viscosity breakdown      than leading synthetic and conventional oils.     The new formula has two times the film strength as the previous formula.\",\n",
       " '2031': 'In this stream you will see all the updated information about Castrol MAGNATEC.\\nWhen the engine stops, oil drains      back to the sump, so critical engine      parts are exposed and not protected      by the oil.     This leads to abrasion and major engine wear!\\nCastrol MAGNATEC protects engines during warm-up because of its       intelligent molecules\\nThe       INTELLIGENT MOLECULES      are specially formulated to cling to critical engine parts like a magnet. This provides an extra layer of protection from the start.\\nCastrol MAGNATEC STOP-START specifically protects the engine in busy traffic conditions, offering 20%* more protection from damaging stop-start wear.\\nggY96Ga0ytg\\n75% OF ENGINE WEAR HAPPENS DURING       WARM-UP      !\\nWhen the engine stops, oil drains      back to the sump, so critical engine      parts are exposed and not protected      by the oil.     This leads to abrasion and major engine wear!',\n",
       " '2032': \"In this stream, you will find all the information you need about Castrol GTX.     Let's get started on your easy 1-2-3 refresh of Castrol GTX.\\nCastrol GTX DOUBLE ACTION FORMULA      cleans away old sludge, and protects against new sludge formation  better than industry standards.\\n0outa7euRbg\\nCastrol GTX      has a unique Double Action formula that keeps the engine oilways free of dirt formation.     Watch this video to see how it works.\\nCASTROL GTX helps extend the life of your engine\\nHere's a quick summary of what Castrol GTX offers:\\n0outa7euRbg\\nCastrol GTX      has a unique Double Action formula that keeps the engine oilways free of dirt formation.     It clears away the dirt particles and prevents the smaller dirt particles to join together and form sludge in the vital oilways...\\nThe Castrol GTX Sludge Tower represents the vital oilways in an engine.     When you turn the demo over, the coloured balls represent the oil trying to flow through the oilways to protect critical engine parts. Sludge gets in the way, and can cause ...\\n_fMBvrSF4pE\\nWatch what Irv Gordon has to say about hitting world records with Castrol GTX.\",\n",
       " '2033': \"Castrol has been a brand of firsts all throughout history.      This stream will show you the historic innovations and ambitions of the company.\\nWakefield       extended      the companys increasingly profitable       product line      to include oils developed especially for car manufacturers individual engines.\\nCastrol lubricated the first transatlantic flight\\nCastrol played a central role in NASA'S Curiosity rover on Mars in 2012, in the smooth operation of Curiosity's wheels\",\n",
       " '2034': 'EllK3pOGVds\\nWelcome Team! Were really glad you are part of this journey!     Castrol Zoom is your mobile app for all information and tools about Castrol.      Earn points & redeem rewards by interacting with the co...\\nWelcome Team! Were really glad you are part of this journey!     Castrol Zoom is your mobile app for all information and tools about Castrol.      Earn points & redeem rewards by interacting with the co...\\nUp-to-date       knowledge on Castrol Brand 123 messaging\\nInteractive quizzes to let you        track your progress       and growth\\nSales incentives       and brand points rewarded immediately.\\nBadges and Competitions that entitle you to        great gifts and rewards!',\n",
       " '2035': 'EllK3pOGVds\\nWelcome Team! Were really glad you are part of this journey!     Castrol Zoom is your mobile app for all information and tools about Castrol.      Earn points & redeem rewards by interacting with the co...\\nWelcome Team! Were really glad you are part of this journey!     Castrol Zoom is your mobile app for all information and tools about Castrol.      Earn points & redeem rewards by interacting with the co...\\nUp-to-date       knowledge on Castrol Brand 123 messaging\\nInteractive quizzes to let you        track your progress       and growth\\nSales incentives       and brand points rewarded immediately.\\nBadges and Competitions that entitle you to        great gifts and rewards!',\n",
       " '2036': \"In this stream, you will receive updated information about Castrol EDGE and its 123 proposition.     But first, take a chance to refresh your knowledge on Castrol, and get started.\\nCastrol EDGE has       Titanium Fluid Strength Technology (FST)      that d       oubles the oil strength      at points of pressure.     FREEDOM TO DRIVE - STRENGTH TO PERFORM\\nNMeUjebo1Ac\\nWatch this video for a full overview of why Castrol EDGE is the right oil for high performance cars today.\\nHere is your quick summary on what Castrol EDGE is about:\\n5HOFO-gLoqo\\nTitanium FST is the secret behind Castrol EDGE's oil strength.     Check out this video to feel the power of Titanium FST.\\nCastrol EDGE is       three times stronger against viscosity breakdown      than leading synthetic and conventional oils.     The new formula has two times the film strength as the previous formula.\",\n",
       " '2037': 'In this stream you will see all the updated information about Castrol MAGNATEC.\\nWhen the engine stops, oil drains      back to the sump, so critical engine      parts are exposed and not protected      by the oil.     This leads to abrasion and major engine wear!\\nCastrol MAGNATEC protects engines during warm-up because of its       intelligent molecules\\nThe       INTELLIGENT MOLECULES      are specially formulated to cling to critical engine parts like a magnet. This provides an extra layer of protection from the start.\\nCastrol MAGNATEC STOP-START specifically protects the engine in busy traffic conditions, offering 20%* more protection from damaging stop-start wear.\\nggY96Ga0ytg\\n2SaFhLj0FGg\\n...\\n75% OF ENGINE WEAR HAPPENS DURING       WARM-UP      !\\nWhen the engine stops, oil drains      back to the sump, so critical engine      parts are exposed and not protected      by the oil.     This leads to abrasion and major engine wear!\\nThis is why engine parts need to be       protected at ALL TIMES      .     Castrol       GTX MAGNATEC      has       INTELLIGENT MOLECULES      that cling      to critical engine parts like a magnet.      This provides a...',\n",
       " '2038': \"In this stream, you will find all the information you need about Castrol GTX.     Let's get started on your easy 1-2-3 refresh of Castrol GTX.\\nCastrol GTX DOUBLE ACTION FORMULA      cleans away old sludge, and protects against new sludge formation  better than industry standards.\\n0outa7euRbg\\nCastrol GTX      has a unique Double Action formula that keeps the engine oilways free of dirt formation.     Watch this video to see how it works.\\nHere's a quick summary of what Castrol GTX offers:\\n0outa7euRbg\\nCastrol GTX      has a unique Double Action formula that keeps the engine oilways free of dirt formation.     It clears away the dirt particles and prevents the smaller dirt particles to join together and form sludge in the vital oilways...\\nThe Castrol GTX Sludge Tower represents the vital oilways in an engine.     When you turn the demo over, the coloured balls represent the oil trying to flow through the oilways to protect critical engine parts. Sludge gets in the way, and can cause ...\\n_fMBvrSF4pE\\nWatch what Irv Gordon has to say about hitting world records with Castrol GTX.\",\n",
       " '2039': \"Castrol has been a brand of firsts all throughout history.      This stream will show you the historic innovations and ambitions of the company.\\nWakefield       extended      the companys increasingly profitable       product line      to include oils developed especially for car manufacturers individual engines.\\nCastrol lubricated the first transatlantic flight\\nCastrol played a central role in NASA'S Curiosity rover on Mars in 2012, in the smooth operation of Curiosity's wheels\\nIt is the           world's leading          manufacturer, distributor and marketer of premium lubricating oils.       2.  It is headquartered in UK.     3. Castrol is represented in more than       120 countri...\\nCastrol has 7 R&D centers globally, working to develop and test hundreds of new products every year.\\nCastrol has held long-term partnership with major brands such as Audi, Ford, Renaut and Volkswagen, securing major world records and racing wins!\",\n",
       " '205': \"In this Stream you will find information about       Castrol GTX      -       Superior Sludge Protection to help extend engine life      .      In a clear way, you will:\\nCastrol GTX      is one of the world's most trusted motor oils. It is liquid engineering that protects against problems, like sludge.     Severe driving conditions such as every day stop-and-go/stop-start-traffic, harsh weather condition...\\n0outa7euRbg\\nCastrol GTX      has a unique Double Action formula that keeps the engine oilways free of dirt formation.     It clears away the dirt particles and prevents the smaller dirt particles to join together and form sludge in the vital oilways...\\nJust like cholesterol, sludge (a thick, tar-like substance) build-up caused by everyday driving clogs important engine parts, even in well-maintained vehicles.     Sludge can block your engines vital oilways  and if untreated, it can rob an e...\\nCastrol GTX DOUBLE ACTION FORMULA      cleans away old sludge, and protects against new sludge formation  better than industry standards.\\nCASTROL GTX helps extend the life of your engine\\nGTX DOUBLE ACTION FORMULA      reduces sludge and protects against new sludge. This extends the engines life significantly.     Removing sludge is good for the engine because:\\nIrv has driven his Volvo the equivalent distance of every stretch of road in the U.S. at least once as well as in 9 foreign countries.      But, throughout the years and over the course of all these miles and countless stops along the way  ...\\nUnderstand how Castrol GTX has customers keep their engine well performing and protected for longer.\\n0outa7euRbg\\nCastrol GTX      has a unique Double Action formula that keeps the engine oilways free of dirt formation.     It clears away the dirt particles and prevents the smaller dirt particles to join together and form sludge in the vital oilways...\\nThe Castrol GTX Sludge Tower represents the vital oilways in an engine.     When you turn the demo over, the coloured balls represent the oil trying to flow through the oilways to protect critical engine parts. Sludge gets in the way, and can cause ...\",\n",
       " '206': \"Simple customer demonstration devices help bring to life the product brand stories and show how Castrol lubricant technology works. The demo devices are intended to offer a compelling visualisation of our technology and help to shift customers from pr...\\nEngine pressure has almost doubled over the past 30 years, causing more stress on the oil.     With the engine under such pressure customers need an oil that is proven strong and remains strong.?\\nCastrol EDGE boosted with TITANIUM FST doubles its film strength, preventing oil film breakdown and reducing friction.\\nDownsizing, turbocharging and advanced engine designs have now almost doubled engine pressures, causing more stress on the oil.       These higher pressures mean the oil has to work harder to keep apart the met...\\nThe central lens on the Castrol EDGE Stress Press represents the metal surfaces in an engine.     When you squeeze the handles you are applying pressure to the lens, simulating the pressure applied to engine surfaces when its running.\\nUp to 75% of engine wear occurs during warm-up.       CASTROL MAGNATEC's molecules cling and protect during warm-up, when the engine needs it most.\\nThe Castrol MAGNATEC Piston represents the critical parts of an engine.     As you turn the handle, the ball bearing 'molecules' on the Castrol MAGNATEC side cling to the metal surfaces.\\nEngine sludge can block vital oilways like cholestrol.\\nThe Castrol GTX Sludge Tower represents the vital oilways in an engine.     When you turn the demo over, the coloured balls represent the oil trying to flow through the oilways to protect critical engine parts. Sludge gets in the way, and can cause ...\",\n",
       " '2062': 'Survey Card Test\\n{\"title\":\"Survey Form\",\"primaryField\":\"field1\",\"page1\":{\"header\":\"{CARD_DESCRIPTION}\",\"field1\":{\"type\":\"Text\",\"name\":\"How long have you been working with Castrol products?\",\"sequence\":1},\"field2\":{\"type\":\"Text\",\"name\":\"On a scale of 1-10, to what extent ...\\nHOW WELL DO YOU KNOW YOUR CASTROL BRANDS?      Here is a chance for you to find out - and stand a chance to win prizes at the same time!      HOW TO WIN:       Participants who col...\\nEach of the BrandCheck winners can collect an exclusive Castrol Victorinox TA4.0 Packable Back Pack as their prize. Please collect your prize from your respective team managers.',\n",
       " '2101': \"Castrol has been a brand of firsts all throughout history.      This stream will show you the historic innovations and ambitions of the company.\\nWakefield       extended      the companys increasingly profitable       product line      to include oils developed especially for car manufacturers individual engines.\\nCastrol lubricated the first transatlantic flight\\nCastrol played a central role in NASA'S Curiosity rover on Mars in 2012, in the smooth operation of Curiosity's wheels\\nIt is the           world's leading          manufacturer, distributor and marketer of premium lubricating oils.       2.  It is headquartered in UK.     3. Castrol is represented in more than       120 countri...\\nCastrol has 7 R&D centers globally, working to develop and test hundreds of new products every year.\\nCastrol has held long-term partnership with major brands such as Audi, Ford, Renaut and Volkswagen, securing major world records and racing wins!\",\n",
       " '2102': \"In this stream, you will find all the information you need about Castrol GTX.     Let's get started on your easy 1-2-3 refresh of Castrol GTX.\\nHere's a quick summary of what Castrol GTX offers:\\n0outa7euRbg\\nCastrol GTX      has a unique Double Action formula that keeps the engine oilways free of dirt formation.     It clears away the dirt particles and prevents the smaller dirt particles to join together and form sludge in the vital oilways...\\nThe Castrol GTX Sludge Tower represents the vital oilways in an engine.     When you turn the demo over, the coloured balls represent the oil trying to flow through the oilways to protect critical engine parts. Sludge gets in the way, and can cause ...\\n_fMBvrSF4pE\\nWatch what Irv Gordon has to say about hitting world records with Castrol GTX.\",\n",
       " '2103': 'In this stream you will see all the updated information about Castrol MAGNATEC.\\n2SaFhLj0FGg\\n...\\n75% OF ENGINE WEAR HAPPENS DURING       WARM-UP      !\\nWhen the engine stops, oil drains      back to the sump, so critical engine      parts are exposed and not protected      by the oil.     This leads to abrasion and major engine wear!\\nThis is why engine parts need to be       protected at ALL TIMES      .     Castrol       GTX MAGNATEC      has       INTELLIGENT MOLECULES      that cling      to critical engine parts like a magnet.     This provides an ex...',\n",
       " '2104': \"In this stream, you will receive updated information about Castrol EDGE and its 123 proposition.     But first, take a chance to refresh your knowledge on Castrol, and get started.\\nHere is your quick summary on what Castrol EDGE is about:\\n5HOFO-gLoqo\\nTitanium FST is the secret behind Castrol EDGE's oil strength.     Check out this video to feel the power of Titanium FST.\\nCastrol EDGE is       three times stronger against viscosity breakdown      than leading synthetic and conventional oils.     The new formula has two times the film strength as the previous formula.\",\n",
       " '2105': 'EllK3pOGVds\\nWelcome Team! Were really glad you are part of this journey!     Castrol Zoom is your mobile app for all information and tools about Castrol.      Earn points & redeem rewards by interacting with the co...\\nWelcome Team! Were really glad you are part of this journey!     Castrol Zoom is your mobile app for all information and tools about Castrol.      Earn points & redeem rewards by interacting with the co...\\nUp-to-date       knowledge on Castrol Brand 123 messaging\\nInteractive quizzes to let you        track your progress       and growth\\nSales incentives       and brand points rewarded immediately.\\nBadges and Competitions that entitle you to        great gifts and rewards!',\n",
       " '2111': 'Now with       Castrol Zoom      you will be       rewarded      on your Castrol product sales!\\nYou will get notified as the Mechanic opens redemption request     Steps to Navigate to request:\\nThe mechanic gets notified that the redemption request ...',\n",
       " '2112': 'Now with       Castrol Zoom      you will be       rewarded      on your Castrol product sales!\\nYou will get notified as the Mechanic opens redemption request     Steps to Navigate to request:\\nThe mechanic gets notified that the redemption request ...',\n",
       " '2115': 'Now with       Castrol Zoom      you will be       rewarded      on your Castrol product sales!\\nHere you can see the list of products which are part of active Incentive scheme and the points you can earn per foil!\\nOptional: You can upload the proof of sale as an attachment to the incentive screen\\nProduct Submission:      As you submit your sale for Incentive, notice the successful submission message. The first stage will be submission.      Product Code Validation:      Submitted foil code go through mu...\\nView brand Card: 1 point     Assessment: 10 points\\nStart date  1st of May 2018     End date  31st Dec 2018     Incentive applicable to  Saudi Arabia, UAE, Oman, Bahrain and Kuwait  Mechanics     We have the right to change or terminate the program, at in...\\nYou can track your incentive transactions from user center:     Navigate to User center -> Transactions\\nAll the incentive transactions are listed under the transactions section.     Click and open any of the transaction to view the detailed flow of the transaction\\nWhat happens when you claim a product already submiited by other Mechanic     Your incentive get failed in second stage \"Product code validation\" displaying error message \"Duplicate Product code\".      Incase, your claim is genuine, please reac...\\nWhere to check the points earned through incentive:     User Center -> Incentive Summary\\nWhat can you read from incentive Summary:      Incentive Program:      Under the points heading you will find the Incentive campaign name.(BK Program for Redemption)       Balance:      Total number of points you have afte...\\nCongratulations on becoming a participant in our incentive program. We hope this association is mutually beneficial.     In case of any inquiry please ask the Castrol merchandiser or a Castrol sales team member     Please rea...\\nYou can Redeem your points for gift/vouchers.     How can you Redeem points:\\nRedemption Submission      : As you submit the redemption request, points get deducted from your balance and request will be in submission state      Redemption Validation      : The balanace avaiability and other criteria are v...\\nYour transaction gets completed and the reaches Redemption payout phase\\nAs the DSR rejects your redemption request, the transaction will be moved to failed redemption acceptance state.      The points deducted for the request will be credited back to your total score.\\nIf you get notified that redemption has been delivered and you have not got paid,\\nWho defines the incentive points & criteria?      Incentives will be defined by local markets in accordance with Castrol policies as well as local legislation.      What are the Incentive ...\\nWill I also get rewarded for completing E Learnings or points earned by the Castrol Zoom App?       I tried to claim a Code and the Castrol Zoom App does not validate the Code  what is the reason for this?\\nHow do I see the redemption catalog?     Check with Castrol Sales Rep     Can I make multiple redemption requests?     Redemption request should be set at a minimum number of points (100 points) upon request submission mechanic should wait for r...\\nWhat       are       the permission required by the Tribe app?      Camera  App requires the camera permission to enable user to take profile pictures.     Storage  Storage permissi...\\nSanity',\n",
       " '2116': 'Now with       Castrol Zoom      you will be       rewarded      on your Castrol product sales!\\nHere you can see the list of products which are part of active Incentive scheme and the points you can earn per foil!\\nOptional: You can upload the proof of sale as an attachment to the incentive screen     Click on the arrow at the top left corner after submitting sale for incentive to go back and submit another code\\nProduct Submission:      As you submit your sale for Incentive, notice the successful submission message. The first stage will be submission.      Product Code Validation:      Submitted foil code go through mu...\\nOpen Stream: 1 point     Assessment: 10 points\\nStart date  1st of May     End date  31st Dec 2018     We have the right to change or terminate the program, at incentive providers discretion. We will update the terms from time to time\\nYou can track your incentive transactions from user center:     Navigate to User center -> Transactions\\nAll the incentive transactions are listed under the transactions section.     Click and open any of the transaction to view the detailed flow of the transaction\\nWhat happens when you claim a product already submiited by other Mechanic     Your incentive get failed in second stage \"Product code validation\" displaying error message \"Duplicate Product code\".      Incase, your claim is genuine, please reac...\\nWhere to check the points earned through incentive:     User Center -> Incentive Summary\\nWhat can you read from incentive Summary:      Incentive Program:      Under the points heading you will find the Incentive campaign name.(BK Program for Redemption)       Balance:      Total number of points you have afte...\\nCongratulations on becoming a participant in our incentive program. We hope this association is mutually beneficial.     In case of any inquiry please ask the Castrol merchandiser or a Castrol sales team member     Please rea...\\nYou can Redeem your points for gift/vouchers.     How can you Redeem points:\\nRedemption Submission      : As you submit the redemption request, points get deducted from your balance and request will be in submission state      Redemption Validation      : The balanace avaiability and other criteria are v...\\nYour transaction gets completed and the reaches Redemption payout phase\\nAs the DSR rejects your redemption request, the transaction will be moved to failed redemption acceptance state.      The points deducted for the request will be credited back to your total score.\\nIf you get notified that redemption has been delivered and you have not got paid,\\nWho defines the incentive points & criteria?      Incentives will be defined by local markets in accordance with Castrol policies as well as local legislation.      What are the Incentive ...\\nWill I also get rewarded for completing E Learnings or points earned by the Castrol Zoom App?       I tried to claim a Code and the Castrol Zoom App does not validate the Code  what is the reason for this?\\nHow do I see the redemption catalog?     Check with Castrol Sales Rep     Can I make multiple redemption requests?     Redemption request should be set at a minimum number of points (100 points) upon request submission mechanic should wait for r...\\nWhat       are       the permission required by the Tribe app?      Camera  App requires the camera permission to enable user to take profile pictures.     Storage  Storage permissi...\\nSanity',\n",
       " '2248': 'Now with       Castrol Zoom      you will be       rewarded      on your Castrol product sales!\\nHere you can see the list of products which are part of active Incentive scheme and the points you can earn per foil!\\nOptional: You can upload the proof of sale as an attachment to the incentive screen\\nProduct Submission:      As you submit your sale for Incentive, notice the successful submission message. The first stage will be submission.      Product Code Validation:      Submitted foil code go through mu...\\nOpen Stream: 1 POINT     Assessment : 10 POINTS\\nStart date  1st of May 2018     End date  31st Dec 2018     We have the right to change or terminate the program, at incentive providers discretion. We will update the terms from time to time\\nYou can track your incentive transactions from user center:     Navigate to User center -> Transactions\\nAll the incentive transactions are listed under the transactions section.     Click and open any of the transaction to view the detailed flow of the transaction\\nWhat happens when you claim a product already submiited by other Mechanic     Your incentive get failed in second stage \"Product code validation\" displaying error message \"Duplicate Product code\".      Incase, your claim is genuine, please reac...\\nWhere to check the points earned through incentive:     User Center -> Incentive Summary\\nWhat can you read from incentive Summary:      Incentive Program:      Under the points heading you will find the Incentive campaign name.(BK Program for Redemption)      Redeemed:      Total number of points you have redeeme...\\nCongratulations on becoming a participant in our incentive program. We hope this association is mutually beneficial.     In case of any inquiry please ask the Castrol merchandiser or a Castrol sales team member     Please rea...\\nYou can Redeem your points for gift/vouchers.     How can you Redeem points:\\nRedemption Submission      : As you submit the redemption request, points get deducted from your balance and request will be in submission state      Redemption Validation      : The balanace avaiability and other criteria are v...\\nYour transaction gets completed and the reaches Redemption payout phase\\nAs the DSR rejects your redemption request, the transaction will be moved to failed redemption acceptance state.      The points deducted for the request will be credited back to your total score.\\nIf you get notified that redemption has been delivered and you have not got paid,\\nWho defines the incentive points & criteria?      Incentives will be defined by local markets in accordance with Castrol policies as well as local legislation.      What are the Incentive ...\\nWill I also get rewarded for completing E Learnings or points earned by the Castrol Zoom App?       I tried to claim a Code and the Castrol Zoom App does not validate the Code  what is the reason for this?\\nHow do I see the redemption catalog?     Check with Castrol Sales Rep     Can I make multiple redemption requests?     Redemption request should be set at a minimum number of points (100 points) upon request submission mechanic should wait for r...\\nWhat       are       the permission required by the Tribe app?      Camera  App requires the camera permission to enable user to take profile pictures.     Storage  Storage permissi...\\nSanity',\n",
       " '2265': \"This Stream has information about the       Castrol EDGE      boosted with       TITANIUM FST      brand story?. You will understand  the value of Castrol EDGE to car owners by:\\noyCu07ay5ec\\nWatch this video to understand how       Castrol EDGE      has the strength and the technology to handle the pressures of high-performance engines.\\nCastrol EDGE      is Castrols flagship power brand for PCOs and was introduced in 2005.     It is a high performance engine oil for high performing vehicles, approved by major OEMs across the world.\\nCastrol EDGE      solves the problem of high engine pressures through its       TITANIUM FST (Titanium Fluid Strength Technology).       TITANIUM FST      doubles oil strength preventing oil breakdow...\\nNMeUjebo1Ac\\nCastrol EDGEs      unique       TITANIUM FST      Technology more than doubles oil strength.      Watch this video to see how       Castrol EDGE      works.\\n5HOFO-gLoqo\\nTitanium FST is the secret behind Castrol EDGE's oil strength.\\nCastrol EDGE is       three times stronger against viscosity breakdown      than leading synthetic and conventional oils.     The new formula has two times the film strength as the previous formula.\\n1     2     3\",\n",
       " '2266': 'In this Stream you will find information about Castrol MAGNATEC. In a clear way you will:\\nSgr2uEVmFgM\\nThe       INTELLIGENT MOLECULES      are specially formulated to cling to critical engine parts like a magnet. This provides an extra layer of protection from the start.\\n2SaFhLj0FGg\\nHere is a quick summary of Castrol GTX MAGNATEC and its key proposition:\\n75% OF ENGINE WEAR HAPPENS DURING       WARM-UP      !\\nWhen the engine stops, oil drains      back to the sump, so critical engine      parts are exposed and not protected      by the oil.     This leads to abrasion and major engine wear!\\nThis is why engine parts need to be       protected at ALL TIMES      .     Castrol       GTX MAGNATEC      has       INTELLIGENT MOLECULES      that cling      to critical engine parts like a magnet.      This provides a...',\n",
       " '2267': 'In this Stream you will find information about       Castrol GTX      -       Superior Sludge Protection to help extend engine life      .     In a clear way, you will:\\nCastrol GTX DOUBLE ACTION FORMULA      cleans away old sludge, and protects against new sludge formation  better than industry standards.\\n0outa7euRbg\\nCastrol GTX      has a unique Double Action formula that keeps the engine oilways free of dirt formation.     Watch this video to see how it works.\\nGTX DOUBLE ACTION FORMULA      reduces sludge and protects against new sludge. This extends the engines life significantly.     Removing sludge is good for the engine because:\\nCH_2I9DXdsY\\nGTX DOUBLE ACTION FORMULA      reduces sludge and protects against new sludge.     Removing sludge is good for the engine because:\\n0outa7euRbg\\nCastrol GTX      has a unique Double Action formula that keeps the engine oilways free of dirt formation.     It clears away the dirt particles and prevents the smaller dirt particles to join together and form sludge in the vital oilways...\\nThe Castrol GTX Sludge Tower represents the vital oilways in an engine.     When you turn the demo over, the coloured balls represent the oil trying to flow through the oilways to protect critical engine parts. Sludge gets in the way, and can cause ...',\n",
       " '2281': \"Castrol is searching for Castrol Super Mechanic Contest Cars Champion.        Workshops need to purchase a minimum 4 cartons of Castrol EDGE products from 1st April until 31st July 2018 to pa...\\numJKgY0n7AE\\nCheck out the fun and excitment from the mechanic contest that took place in Malaysia.     It's time to join the fun, Singapore!     Come back to check for more info on how to get involved!\",\n",
       " '229': '{\"title\": \"PH - Geo Tag\", \"primaryField\": \"field1\", \"page1\": {\"field2\": {\"type\": \"Radio\", \"name\": \"Segment\", \"sequence\": 2}, \"field3\": {\"type\": \"Image\", \"name\": \"Image\", \"sequence\": 3}, \"field1\": {\"type\": \"Text\", \"name\": \"Account Name\", \"sequence\": 1}, \"...',\n",
       " '230': '{\"title\": \"PH - Photo Card\", \"primaryField\": \"field1\", \"page1\": {\"header\": \"{CARD_DESCRIPTION}\", \"sequence\": 1, \"field2\": {\"type\": \"Radio\", \"name\": \"Category\", \"sequence\": 2}, \"field3\": {\"type\": \"Text\", \"name\": \"Comments\", \"sequence\": 3}, \"field1\": {\"typ...',\n",
       " '231': 'In this Stream you will find information cards which explain the CASTROL POWER 1 Brand Story        \"Superior Acceleration at the touch of the throttle\"       in a clear way.     Drive advocacy by showing cus...\\nNormally, we don\\'t get the maximum energy and power we can potentially experience from our engines. One key reason for this is that          we lose power from the friction that the engine regularly experiences.\\nCastrol Power 1 contains       Power Release Formula       which is designed to enable your bike to deliver maximum and sustained power.      Power Release Formula       flows fast minimizing power loss due to friction d...\\nCastrol Power 1 is a       FAST FLOWING OIL      because it delivers superior acceleration to the bike by releasing        MORE POWER        ,        MORE RAPIDLY       than its competitors.     The t...\\nOn top of being a fast flowing oil, Castrol Power 1 is able to deliver superior acceleration because of its:     1. Superior        ANTI-OXIDATION       2. Superior\\nQmmpKW3TQMA\\nWatch this video to have an idea of the SUPERIOR ACCELERATION experience with CASTROL POWER 1\\nCastrol Power 1 is the technical partner of LCR Honda MotoGP Team which can be another indication of its promise of Superior Acceleration',\n",
       " '232': 'In this Stream you will find information cards which explain the CASTROL ACTIV Brand Story       \"         Continuous protection even when the engine is off       \" in a clear way.     Drive advocacy by showing ...\\nEngines are always exposed to harmful elements that cause damage. They experience this in three (3) vital phases:        on start-up,         during the ride       , ...\\n?Castrol Activ 4T contains Actibond Molecules      which provide continuous protection to the engine because they are designed to        CLING       on to the critical engine parts no matter the condition of the motorcycle:...\\nPROTECTS AT LOW TEMPERATURE        Castrol Activ 4Ts        Actibond Molecules       continuously protect our motorcycles no matter the co...\\nPROTECTS AT HIGH TEMPERATURE        Motorcycle engines normally experience       High Temperatures      during the ride wherein they are exposed to harmful...\\nWORKS OVERNIGHT         Actibond Molecules        cling       to metal surfaces, forming a protective layer that is\\ngmgCRJhTYl0\\nWatch how Actibond Molecules  continuously protects the motorcycle engine giving peace of mind?',\n",
       " '233': 'In this Stream you will find information cards which explain the CASTROL GO! Brand Story       \"         Cleans and protects to give Trouble-Free Riding       \" in a clear way.     Drive advocacy by showing customers w...\\nUnlike Passenger Car Engines,       MODERN 4-STROKE (4T) MOTORCYCLE ENGINES      have their engine, clutch and gear combined thus relying on the       SAME OIL      for protection.     The motorcycles performance depends on the effici...\\nCastrol Go! 4T      is formulated with          Trizone Technology         that is specifically engineered to meet the toughest performance standards and ...\\nG9KVrNLSohk\\nCastrols Trizone Technology provides the ultimate protection to the three critical (3) parts of the motorcycle engine: 1)ENGINE, 2)CLUTCH, 3)GEAR. It is designed to excellently deliver what is needed for the unique requirements of these three (3) z...\\nCastrols 4T Motorcycle Engine Lubricants       incorporates          Trizone Technology         to their formulation.',\n",
       " '236': '{\"title\": \"PH - Photo Card\", \"primaryField\": \"field1\", \"page1\": {\"header\": \"{CARD_DESCRIPTION}\", \"sequence\": 1, \"field2\": {\"type\": \"Radio\", \"name\": \"Category\", \"sequence\": 2}, \"field3\": {\"type\": \"Text\", \"name\": \"Comments\", \"sequence\": 3}, \"field1\": {\"typ...',\n",
       " '237': '{\"title\": \"PH - Geo Tag\", \"primaryField\": \"field1\", \"page1\": {\"field2\": {\"type\": \"Radio\", \"name\": \"Segment\", \"sequence\": 2}, \"field3\": {\"type\": \"Image\", \"name\": \"Image\", \"sequence\": 3}, \"field1\": {\"type\": \"Text\", \"name\": \"Account Name\", \"sequence\": 1}, \"...',\n",
       " '2373': 'This Stream has information about the       Castrol EDGE      boosted with       TITANIUM FST      brand story?. You will understand  the value of Castrol EDGE to car owners by:\\noyCu07ay5ec\\nWatch this video to understand how       Castrol EDGE      has the strength and the technology to handle the pressures of high-performance engines.\\nCastrol EDGE      is Castrols flagship power brand for PCOs and was introduced in 2005.     It is a high performance engine oil for high performing vehicles, approved by major OEMs across the world.\\nCastrol EDGE      solves the problem of high engine pressures through its       TITANIUM FST (Titanium Fluid Strength Technology).       TITANIUM FST      doubles oil strength preventing oil breakdow...\\nNMeUjebo1Ac\\nCastrol EDGEs      unique       TITANIUM FST      Technology more than doubles oil strength.      Watch this video to see how       Castrol EDGE      works.',\n",
       " '2374': 'In this Stream you will find information about Castrol MAGNATEC. In a clear way you will:\\nSgr2uEVmFgM\\nThe       INTELLIGENT MOLECULES      are specially formulated to cling to critical engine parts like a magnet. This provides an extra layer of protection from the start.',\n",
       " '2375': 'In this Stream you will find information about       Castrol GTX      -       Superior Sludge Protection to help extend engine life      .     In a clear way, you will:\\nCastrol GTX DOUBLE ACTION FORMULA      cleans away old sludge, and protects against new sludge formation  better than industry standards.\\n0outa7euRbg\\nCastrol GTX      has a unique Double Action formula that keeps the engine oilways free of dirt formation.     Watch this video to see how it works.',\n",
       " '2376': \"Castrol lubricated the first transatlantic flight\\nCastrol played a central role in NASA'S Curiosity rover on Mars in 2012, in the smooth operation of Curiosity's wheels\\nBritish Petroleum (BP) acquired Castrol in 2002.     Castrol is maintained as its own brand, owing to its heritage and personality.     This acquisition allowed Castrol to garner an association with one of the world's leading internati...\\nIt is the           world's leading          manufacturer, distributor and marketer of premium lubricating oils.       2.  It is headquartered in UK.     3. Castrol is represented in more than       120 countri...\",\n",
       " '2377': 'The Castrol Zoom App provides interactive information, competitions and rewards on all things Castrol!     Enjoy the journey!',\n",
       " '2380': 'This Stream has information about the       Castrol EDGE      boosted with       TITANIUM FST      brand story?. You will understand  the value of Castrol EDGE to car owners by:\\noyCu07ay5ec\\nWatch this video to understand how       Castrol EDGE      has the strength and the technology to handle the pressures of high-performance engines.\\nCastrol EDGE      is Castrols flagship power brand for PCOs and was introduced in 2005.     It is a high performance engine oil for high performing vehicles, approved by major OEMs across the world.\\nCastrol EDGE      solves the problem of high engine pressures through its       TITANIUM FST (Titanium Fluid Strength Technology).       TITANIUM FST      doubles oil strength preventing oil breakdow...\\nNMeUjebo1Ac\\nCastrol EDGEs      unique       TITANIUM FST      Technology more than doubles oil strength.      Watch this video to see how       Castrol EDGE      works.',\n",
       " '2381': 'In this Stream you will find information about Castrol MAGNATEC. In a clear way you will:\\nSgr2uEVmFgM\\nThe       INTELLIGENT MOLECULES      are specially formulated to cling to critical engine parts like a magnet. This provides an extra layer of protection from the start.\\n2SaFhLj0FGg',\n",
       " '2382': 'In this Stream you will find information about       Castrol GTX      -       Superior Sludge Protection to help extend engine life      .     In a clear way, you will:\\nCastrol GTX DOUBLE ACTION FORMULA      cleans away old sludge, and protects against new sludge formation  better than industry standards.\\n0outa7euRbg\\nCastrol GTX      has a unique Double Action formula that keeps the engine oilways free of dirt formation.     Watch this video to see how it works.\\nCASTROL GTX helps extend the life of your engine\\nGTX DOUBLE ACTION FORMULA      reduces sludge and protects against new sludge. This extends the engines life significantly.     Removing sludge is good for the engine because:\\nCH_2I9DXdsY\\nGTX DOUBLE ACTION FORMULA      reduces sludge and protects against new sludge.     Removing sludge is good for the engine because:',\n",
       " '2392': 'DSR FeedBack\\n...\\n{\"primaryField\":\"field1\",\"maxSubmissions\":100,\"page1\":{\"field8\":{\"type\":\"Text\",\"name\":\"What content do you want to see more of?\",\"sequence\":8},\"field9\":{\"type\":\"Text\",\"name\":\"How often would you like to see new content on the App?\",\"sequence\":9},\"sequenc...',\n",
       " '2401': '{\"title\": \"PH - Photo Card\", \"primaryField\": \"field1\", \"page1\": {\"header\": \"{CARD_DESCRIPTION}\", \"sequence\": 1, \"field2\": {\"type\": \"Radio\", \"name\": \"Category\", \"sequence\": 2}, \"field3\": {\"type\": \"Text\", \"name\": \"Comments\", \"sequence\": 3}, \"field1\": {\"typ...\\nThis tool is used to capture the brand survey information.       \"On a scale of 1-10, how likely are you to recommend a Castrol brand to a customer?\"       You cannot edit this c...\\n{\"title\": \"Brand Survey\", \"primaryField\": \"field1\", \"page1\": {\"header\": \"{CARD_DESCRIPTION}\", \"field1\": {\"type\": \"Text\", \"name\": \"NPS Score\", \"sequence\": 1}, \"sequence\": 1}, \"maxSubmissions\": 1}',\n",
       " '2405': 'This Stream has information about the       Castrol EDGE      boosted with       TITANIUM FST      brand story?. You will understand  the value of Castrol EDGE to car owners by:\\nCastrol EDGE      is Castrols flagship power brand for PCOs and was introduced in 2005.     It is a high performance engine oil for high performing vehicles, approved by major OEMs across the world.\\noyCu07ay5ec\\nWatch this video to understand how       Castrol EDGE      has the strength and the technology to handle the pressures of high-performance engines.\\nCastrol EDGE      solves the problem of high engine pressures through its       TITANIUM FST (Titanium Fluid Strength Technology).       TITANIUM FST      doubles oil strength preventing oil breakdow...\\nNMeUjebo1Ac\\nCastrol EDGEs      unique       TITANIUM FST      Technology more than doubles oil strength.      Watch this video to see how       Castrol EDGE      works.',\n",
       " '2406': 'In this Stream you will find information about Castrol GTX MAGNATEC. In a clear way you will:\\nSgr2uEVmFgM\\nThe       INTELLIGENT MOLECULES      are specially formulated to cling to critical engine parts like a magnet. This provides an extra layer of protection from the start.\\n2SaFhLj0FGg',\n",
       " '2407': 'In this Stream you will find information about       Castrol GTX      -       Superior Sludge Protection to help extend engine life      .     In a clear way, you will:\\nThe unique       Double Action formula      in Castrol GTX cleans and protects vital engine oilways from the damaging effects of sludge.\\n0outa7euRbg\\nCastrol GTX      has a unique Double Action formula that keeps the engine oilways free of dirt formation.     Watch this video to see how it works.\\nCH_2I9DXdsY\\nGTX DOUBLE ACTION FORMULA      reduces sludge and protects against new sludge.     Removing sludge is good for the engine because:',\n",
       " '2408': 'In this Stream you will understand the value of       Castrol TRANSMAX      , a specialty Automation Transmition Fluid that ensures car transmission operates in the best way.     In a clear way, you will understand:     1. Th...\\nCastrol Automatic Transmission Fluids:',\n",
       " '2409': 'In this stream, you will be able to explore:\\nC8yE2WzBlSM\\nWatch this short video to understand how VECTON helps take care of the main issues HD fleet managers face today.\\nVECTON provides longer useful oil life with higher performance reserve.     **Average of percentages by which VECTON exceeds the industry standard requirement limits in API CK-4 and ACEA E9-16 engine tests for ...\\nField trial over 80,000 miles indicated minimal viscocity change with Castrol VECTON.\\nDuring U.S. field trial, System Pro Technology  kept wear under control; key wear metal values remained well under typical used oil limits\\nCastrol VECTON is the worlds first certified carbon-neutral commercial vehicle engine oil.       Click',\n",
       " '2433': 'Training Camp: Survey\\n...\\n{\"primaryField\":\"field1\",\"maxSubmissions\":100,\"page1\":{\"field1\":{\"type\":\"Text\",\"name\":\"Any questions? Please submit your questions, feedback or comments here. We will try our best to address them during the workshop.\",\"sequence\":1},\"header\":\"{CARD_DESCRI...',\n",
       " '2434': 'Winning in the market and Win in Thin      CASTROL WINNING IN THE MARKET       2X\\nWe Need to En...',\n",
       " '2435': \"We're so excited to have you on this journey.      Castrol Zoom is your comprehensive App for information, quizzes and tools to ensure that you have your best customer conversations.      Scroll throug...\\nYou can collect points on Zoom for the following interactions:\",\n",
       " '2436': 'Castrol USA experienced the largest consumer reported claimed usage growth of any brand in the PCO oil change market in 2017, up +2.9 significant points.',\n",
       " '244': 'In this Stream you will find Information Cards which explain the CASTROL EDGE brand story of       \"Strength for maximum performance\"      in a clear way. Please use this to learn and communicate this story to your Customers.     Drive advoc...\\nCastrol created EDGE for new age advanced engines. The oil now operates under higher temperatures and stress, in some areas withstanding pressures in excess of 10,000kg per square centimetre.     Under such pressures,\\noyCu07ay5ec\\n?Some engine parts such as the cam and follower are placed under pressures of up to 10,000 kg per square centimetre. That\\'s like balancing four vehicles on a stiletto heel!\\nTITANIUM FST      doubles oil strength preventing oil breakdown and sharply reduces friction by 15% from ordinary oils.\\nNMeUjebo1Ac\\nCastrol EDGEs unique TITANIUM FST Technology increases oil strength by two-fold, greatly enhancing engine performance.Watch this video to see how Castrol Edge works:\\nIt imparts the strength of       pushing the boundaries of performance.\\nDISCLAIMER:            Castrol Edge Professiona            l is only available to Franchise Car Dealers.        Castrol & Audi have been partners in endurance racing since 2011. For many years, the...\\nDISCLAIMER:            Castrol Edge Professiona            l is only available to Franchise Car Dealers.        Castrol and Volkswagen Motorsport have been partners since 2005 and have been involved in...\\nDISCLAIMER:            Castrol Edge Professiona            l is only available to Franchise Car Dealers.        Castrol Edges Titanium FST has double film strength which prevents oil breakdown and r...\\n?         DISCLAIMER:            Castrol Edge Professiona            l is only available to Franchise Car Dealers.\\nDISCLAIMER:            Castrol Edge Professiona            l is only available to Franchise Car Dealers.\\nDISCLAIMER:            Castrol Edge Professiona            l is only available to Franchise Car Dealers.',\n",
       " '2444': 'This stream will give you an overview of some of the sales programmes and tools you will have available.     These programs are discussed in more detail during the workshop.\\nDSR is presented with a list of the Leads that have been assigned to them.\\nDSR can scroll down to see the points on a map.        Glossary:          Orange is Quick Lube          Dark Blue Franchise Workshop          Light Blue is Light Service          Grey is Independent Workshop',\n",
       " '245': 'In this Stream you will find Information Cards which explain the CASTROL MAGNATEC brand story of       \"         Instant protection, from the moment you start        \"      in a clear way. Please use this to learn and commu...\\nggY96Ga0ytg\\nCastrol MAGNATEC is useful for protecting engines against wear during warm-up.When the engine stops, oil drains back to the sump. The next time it starts, it takes about 20 minutes to come to optimum performance temperature. This is the time when engine ...\\nThe        INTELLIGENT MOLECULES       in CASTROL MAGNATEC are specially formulated to cling to critical engine parts, and dramatically reduce engine wear.\\nPD9jKFjREnI\\nWhen the engine stops, oil drains back to the sump, but Castrol MAGNATECs intelligent molecules dont. They cling to critical engine parts like a MAGNET, providing an extra layer of protection from the start, and throughout warm-up.Watch this video...\\nCastrol MAGNATEC provides instant protection for engines, right from the moment you start.      They cling to critical engine parts like a magnet, providing an extra layer of protection from the start, and throughout warm-up.     C...',\n",
       " '246': 'In this Stream you will find information cards which explain the CASTROL GTX Brand story?       \"         Superior sludge protection to help extend engine life        \"      in a clear way.     ?Drive advocacy by showing c...\\nJust like cholesterol,        SLUDGE       (a thick, tar-like substance) build-up caused by everyday driving        clogs important engine parts       , even in well-maintained vehicles.     Slud...\\n0outa7euRbg\\nCastrol GTX has a unique ANTI-SLUDGE FORMULA that keeps the engine oilways free of dirt formation. It clears away the dirt particles. It also prevents the smaller dirt particles to join together forming sludge in the vital oilways of the engine, thus e...\\nCASTROL GTX helps extend the life of your engine\\nCASTROL GTX extends engine life      by protecting against        SLUDGE       . Removing sludge is good for the engine because:\\nIrv has driven his Volvo the equivalent distance of every stretch of road in the U.S. at least once as well as in 9 foreign countries.     But, throughout the years and over the course of all these miles and countless stops along the way  there h...',\n",
       " '2511': 'Please update the app to use the video feature.\\n{\"primaryField\": \"field2\", \"maxSubmissions\": 100, \"page1\": {\"field2\": {\"type\": \"Text\", \"name\": \"Description\", \"sequence\": 2}, \"header\": \"{CARD_DESCRIPTION}\", \"field1\": {\"maxDuration\": \"30\", \"type\": \"Video\", \"name\": \"Video\", \"sequence\": 1}, \"sequence\": 1}...',\n",
       " '2512': 'Survey Card Test\\n{\"title\":\"Survey Form\",\"primaryField\":\"field1\",\"page1\":{\"header\":\"{CARD_DESCRIPTION}\",\"field1\":{\"type\":\"Text\",\"name\":\"How long have you been working with Castrol products?\",\"sequence\":1},\"field2\":{\"type\":\"Text\",\"name\":\"On a scale of 1-10, to what extent ...',\n",
       " '2513': '{\"title\": \"PH - Photo Card\", \"primaryField\": \"field1\", \"page1\": {\"header\": \"{CARD_DESCRIPTION}\", \"sequence\": 1, \"field2\": {\"type\": \"Radio\", \"name\": \"Category\", \"sequence\": 2}, \"field3\": {\"type\": \"Text\", \"name\": \"Comments\", \"sequence\": 3}, \"field1\": {\"typ...',\n",
       " '2523': \"Hi there! We are very excited to announce the launch of the new and improved Castrol Zoom!     Scroll left to understand Zoom and next steps for you to get started.\\nEnhanced cards and streams to give you all the information you need!\\nEarn points from your sales and content interactions on the Zoom App\\nRedeem your points into prizes and rewards!\\nGo to your mobile App store and download 'Castrol Zoom'.\\nOnce downloaded, enter your details in the login screen. An OTP code will be sent to your mobile phone.     Verify by entering the OTP in the App, and your streams will come to you!\\nSteps to Download      -     1. Uninstall the TeamStreamz app from your device     2. Click on link to download iOS version -     OR     Click here for Android -      Steps to lo...\\nIf you are a  current TeamStreamz App user,  please uninstall your TeamStreamz App and download the Castrol Zoom App from your App store.      You will only receive your updated Journey Plans and content from the Ca...\",\n",
       " '2525': 'Training Camp: Survey\\n...\\n{\"primaryField\":\"field1\",\"maxSubmissions\":100,\"page1\":{\"field1\":{\"type\":\"Text\",\"name\":\"Any questions? Please submit your questions, feedback or comments here. We will try our best to address them during the workshop.\",\"sequence\":1},\"header\":\"{CARD_DESCRI...',\n",
       " '2550': 'h3ZGw9IYbuE\\nCastrol has launched a new product CASTROL ENGINE SHAMPOO.     This helps clean up sludge in the engine.     Watch this exciting video to learn all about it!\\nCastrol Engine Shampoo helps maintain the cleanliness and efficient operation of your engine.',\n",
       " '2597': 'Where to find:     The strength of Castrol EDGE stream\\nWhere to find it:     The strength of Castrol EDGE stream\\nWhere to find it:     The strength of Castrol EDGE stream\\nWhere to find it:     The value of Castrol GTX MAGNATEC stream\\nWhere to find it:     The value of Castrol GTX MAGNATEC stream\\nWhere to find it:     The value of Castrol GTX\\nWhere to find it:     The value of Castrol GTX\\nThis stream provides you with a quick reference of all the PDFs that are available as attachments on your Castrol Brand Streams.     The PDFs are available for you to share with your customers to leave back as reference to your conv...',\n",
       " '316': 'castrol',\n",
       " '364': '{\"title\": \"SG - Market Mapping\", \"primaryField\": \"field1\", \"page1\": {\"header\": \"{CARD_DESCRIPTION}\", \"field8\": {\"type\": \"Text\", \"name\": \"Address\", \"sequence\": 8}, \"sequence\": 1, \"field2\": {\"type\": \"Number\", \"name\": \"Contact No\", \"sequence\": 2}, \"field3\":...',\n",
       " '417': '{\"title\": \"PH - Geo Tag\", \"primaryField\": \"field1\", \"page1\": {\"field2\": {\"type\": \"Radio\", \"name\": \"Segment\", \"sequence\": 2}, \"field3\": {\"type\": \"Image\", \"name\": \"Image\", \"sequence\": 3}, \"field1\": {\"type\": \"Text\", \"name\": \"Account Name\", \"sequence\": 1}, \"...',\n",
       " '419': 'TXmAk2KZAy4\\nNMeUjebo1Ac\\nEEuTxFhp3go\\nCastrol has launched its strongest ever oil, using TITANIUM Fluid StrengthTHE SET-UPTodays engines are more efficient and more powerful. This has led to the doubling of pressure in the engine, so the oil has to be stronger.THE REASON TO BUYCastrol ed...\\nKiRnvRuFj3I\\nWhat does it take to be a world-class driver and race your clone? Join neuroscientist Dr. Jack Lewis as he talks about what you need to achieve maximum performance on and off the track.See this before you go for your next market visit ?\\nAHOMxMBs_No\\nCastrol EDGE Titanium Trials Present: Clone Rival. Watch as we clone Aston Martin Vulcan driver, Darren Turner, and pit him against his ultimate rival: himself. Will he have what it takes to be Titanium Strong?Exciting Video?\\noYMgytE68jo\\n0outa7euRbg\\nVP2-ceNdpT4',\n",
       " '426': '?New CASTROL VECTON brings the latest in lubricant technology to a new brand      CASTROL VECTON with SYSTEM 5 TECHNOLOGY is the new brand for owners who want the best performance from their vehicles, even with changing engine conditions.\\nPROBLEM 1: FUEL CONSUMPTION\\nPROBLEM 2: OIL CONSUMPTION\\nPROBLEM 3: OIL DRAIN INTERVAL\\nPROBLEM 4: COMPONENT LIFE\\nPROBLEM 5: POWER',\n",
       " '427': 'Castrol Vecton 20W-50 CH-4 with unique System 5 Technology      is an advanced diesel engine oil that maximises engine performance in the latest heavy duty diesel engines.      BENEFITS\\nCastrol Vecton 15W-40      is an advanced heavy duty diesel engine oil formulated with       unique System 5 Technology      to provide up to 20% better engine performance*.      BENEFITS      Modern engines ope...\\nCastrol Vecton 15W-40 CI-4 Plus      is an advanced diesel engine oil that maximises performance in the latest US, European and Japanese heavy duty diesel engines including severe applications such as high loads and multi trailer applicati...\\nCastrol Vecton 15W-40 CJ-4 E9 is an advanced diesel engine oil that maximises engine performance in the latest US, European and Japanese heavy-duty diesel engines including severe applications such as high loads and multi-trailer operations.     WIT...\\nADVANCED DIESEL ENGINE OIL FOR EXTENDED DRAIN     Castrol Vecton Long Drain 10W-40 SLD is an advanced fully synthetic engine oil specifically engineered to offer extended drain intervals with superior protection to the latest European engines. Its p...\\nFOR MAXIMUM ENGINE PERFORMANCE     New Castrol Vecton Long Drain 10W-40 LS is an advanced full synthetic heavy duty diesel oil specifically engineered for extended drain in European trucks and buses equipped with after-treatment technologies includi...',\n",
       " '475': 'castrol',\n",
       " '507': 'wBYKUgUyGWc\\nA team of world-class drivers, powered by Castrol EDGE boosted with Titanium FST, take on a challenge like no other, in complete darkness, in a race against the lights.',\n",
       " '519': 'There are three types of engine oils:\\nSynthetic oils       like Castrol Edge are chemically synthesised to meet the exact demands of modern engines.      This makes them more expensive to produce, but because they are tailor made,\\nThey provide better performance, protection and fuel economy than mineral oils, but at a cheaper cost, where full synthetic performance is not necessary.\\nI cannot switch back to conventional motor oil once Ive used synthetic oil      This is a common myth and        completely untrue       You can switch back and forth at any ...\\nOnly high performance and luxury cars need synthetic oils        Any car       can use synthetic oils.      Synthetic oils will enhance the engine       ...\\nUsing synthetic motor oil will void my vehicles warranty        No.       Synthetics are formulated to not only meet        minimum indust...\\nViscosity modifiers       allow the oils to work effectively at high and low temperatures.        Pour point depressants       help lubricants to flow ...\\nCorrosion inhibitors       prevent water and acids from corroding the metal.       Friction modifiers       reduce the friction between movi...\\nThey tend to be       cheaper than synthetic oils      ; however they do not provide the best performance, protection or fuel economy.     ?',\n",
       " '521': \"Viscosity is a measure of how easily a liquid flows  or in other words, it's        a measure of how thick or thin the liquid is.       To demonstrate this, answer yourself this questio...\\nYes, water will flow faster than honey!       This is because water is thinner than honey.     Hence, it can be said that:      Thin liquids have a lower viscosity and fl...\\nNow if you heat the honey up, what would happen to its thickness?      As you heat the honey, it would get       thinner      and its       viscosity would fall.      The same is true of the oil in an eng...\\nBecause the viscosity of oil changes with the temperature, multi-grade oils were developed to provide protection across a range of operating temperatures.     The       SAE (Society of Automotive Engineers)      scale shows the       viscosi...\\nLets look at what         5W-30        means in this image.       The first number followed by the letter         W        describes the viscosi...\\nThe second number describes how thick the oil is at the engines normal operating temperature.        The higher the second number, the thicker the oil.       If it's too thin when hot...\",\n",
       " '522': \"Oil specifications define what type of engine a particular oil is suitable for and describe its qualities, such as        endurance, strength and fuel efficiency        .       ?Using the correct oil ...\\n/media/uploads/14/acea-logo_800_450_70.JPG\\nACEA (association des constructeurs europens d'automobiles)      governs oil specifications in Europe     ACEA sets the standards for European engine lubricant specification. All oils have to pass a sequence of tests, which are updated...\\nEach of the        categories A, B C and E       is further sub-divided. Each sub-category has a number and offers a different level of oil performance.      ?Catalyst compatibility oils      . Categ...\\nOEM (Original Equipment Manufacturer)      specifications are developed by the       car manufacturers      ?Most OEMs have their own specific set of requirements for their cars engines and these are defined...\\nAll oils are created for a specific use and tested to guarantee their performance.      For example, some are designed to keep high-mileage vehicles operating for longer, whilst others are meant for high-performance engines.\",\n",
       " '523': \"Did you know that changing the oil regularly is probably the single most important thing that your customers can do to ensure proper engine function, reduce engine repairs and maintain their engines performance.     The next set of cards will rev...\\nChanging a vehicle's engine oil on a regular basis ensures        proper engine oil lubrication       and        reduces friction       .      This prevents metal pa...\\nOld, worn-out engine oil cannot effectively absorb engine heat.       Replacing a vehicle's engine oil with new, high-quality engine oil will help to regulate engine operating temperatures.\\nAs oil moves around an engine it picks up tiny, microscopic contaminates and engine wear particles.      These particles are transported to the oil filter, which sieves them out.        Fresh oil is better able to ...\\nEngine sludge      is a combination of degraded engine oil, engine wear particles and dirt. It can be highly damaging to an engine.        Changing the oil removes engine sludge and helps maintain ...\\nThe length of time, or distance travelled, between oil changes depends on lots of factors such as the type of car, the driving style and environment.     To reduce repairs and maintain performance, its essential to follow the manufacturers rec...\\nYes it is normal. Every time you start the car it will burn off a tiny amount of oil.       Over time, this can cause the oil levels to drop, particularly if you do a lot of short journeys.     However ...\\nThe warning light will come on when the oil pressure drops and by this time the engine could have been damaged.       Its best to use the dipstick to check the oil levels a couple of times a month and top up wit...\\nNew oil has a yellowish brown colour, which will naturally get darker as the oil gets older and dirtier.      Diesel engine oil goes black very quickly but is still OK for the length of the oil service interval.\\n9RSWs44PdkE\\nThe journey of oil around a car engine takes as little as 5 secs.In this little time, it protects critical engine parts and prevents damage.This short film takes us through this incredible journey.\",\n",
       " '524': 'Since the first cars, the demands of automotive engines have evolved and engine oils have evolved alongside them       At Castrol, we have been pioneering advances in the motor oil industry for over 100 years\\nGovernments and legislative bodies impose emissions limits on harmful gasses.      Modern cars use catalytic converts and filters to trap the noxious emissions and clean the exhaust.     ?Unfortunately, some of the components of engine oil ...\\nIn the past, most cars needed an oil change every 5,000 km.?      Over the years, advances in lubricant technology allow the same oil to be used for longer without loss of performance.     This saves the consumer money and time and reduces the...\\nThere are a number of factors driving the need to increase fuel efficiency, including:     Legislators use taxation, fines and other incentive schemes to encourage car manufacturers to improve the fuel efficiency of their vehicles.      Engin...\\nEngines technology is constantly evolving. Smaller, higher-powered engines are placing        greater demands on motor oil than ever before        .      Oil needs to be strong enough to cope with these demands a...\\nAs youve just seen, these are exciting and challenging times in the motor oil industry.     Castrols response to these challenges is to        invest in research and development...\\nBg4hsI7AGpo\\nThe new Brand123 App introduction',\n",
       " '548': '{\"title\": \"SG - Journey Plan\", \"primaryField\": \"field1\", \"page1\": {\"header\": \"{CARD_DESCRIPTION}\", \"field1\": {\"type\": \"Text\", \"name\": \"Account Name\", \"sequence\": 1}, \"sequence\": 1}, \"maxSubmissions\": 99999}\\n{\"title\": \"SG - Journey Plan Check Out\", \"primaryField\": \"field1\", \"page1\": {\"field2\": {\"type\": \"Number\", \"name\": \"Order Value\", \"sequence\": 2}, \"header\": \"{CARD_DESCRIPTION}\", \"field1\": {\"type\": \"Number\", \"name\": \"Order Volume\", \"sequence\": 1}, \"sequenc...',\n",
       " '558': 'Most people dont know why, or just how much the type of oil they use affects their engines lifespan and performance.      To answer your customers questions with confidence, you need to know a bit about oil.\\nIt creates a       thin lubricating layer      between metal surfaces, which stops them from grinding against each other and becoming worn or damaged.     Oil also       prevents corrosion      , h...\\nCar engines operate under immense       heat      and       pressure      .      The oil needs to be strong enough to       keep the hot metal surfaces apart      so that...\\nSome parts of a cars engine can rotate at 150,000 rpm - thats        faster than a jets engine!\\nTemperatures in the piston area of a car can reach        over 350C.       Thats        three times hotter       than the temperature at w...\\nEngines work under pressure that can reach up to        10 tonnes per cm squared        .      Thats equal to balancing        7 mid sized cars on one fingernail!\\n9RSWs44PdkE\\nThe journey of oil around a car engine takes as little as five seconds. In this time it protects critical engine parts, preventing damage. This short film take us on this incredible journey, truly demonstrating oil in action.',\n",
       " '561': 'There are three types of engine oils:\\nSynthetic oils       like Castrol Edge are chemically synthesised to meet the exact demands of modern engines.      This makes them more expensive to produce, but because they are tailor made,\\nThey provide better performance, protection and fuel economy than mineral oils, but at a cheaper cost, where full synthetic performance is not necessary.\\nI cannot switch back to conventional motor oil once Ive used synthetic oil      This is a common myth and        completely untrue       You can switch back and forth at any ...\\nOnly high performance and luxury cars need synthetic oils        Any car       can use synthetic oils.      Synthetic oils will enhance the engine       ...\\nUsing synthetic motor oil will void my vehicles warranty        No.       Synthetics are formulated to not only meet        minimum indust...\\nViscosity modifiers       allow the oils to work effectively at high and low temperatures.        Pour point depressants       help lubricants to flow ...\\nCorrosion inhibitors       prevent water and acids from corroding the metal.       Friction modifiers       reduce the friction between movi...\\nThey tend to be       cheaper than synthetic oils      ; however they do not provide the best performance, protection or fuel economy.     ?',\n",
       " '565': \"Viscosity is a measure of how easily a liquid flows  or in other words, it's        a measure of how thick or thin the liquid is.       To demonstrate this, answer yourself this questio...\\nYes, water will flow faster than honey!       This is because water is thinner than honey.     Hence, it can be said that:      Thin liquids have a lower viscosity and fl...\\nNow if you heat the honey up, what would happen to its thickness?      As you heat the honey, it would get       thinner      and its       viscosity would fall.      The same is true of the oil in an eng...\\nBecause the viscosity of oil changes with the temperature, multi-grade oils were developed to provide protection across a range of operating temperatures.     The       SAE (Society of Automotive Engineers)      scale shows the       viscosi...\\nLets look at what         5W-30        means in this image.       The first number followed by the letter         W        describes the viscosi...\\nThe second number describes how thick the oil is at the engines normal operating temperature.        The higher the second number, the thicker the oil.       If it's too thin when hot...\",\n",
       " '570': \"Oil specifications define what type of engine a particular oil is suitable for and describe its qualities, such as        endurance, strength and fuel efficiency        .       ?Using the correct oil ...\\n/media/uploads/14/acea-logo_800_450_70.JPG\\nACEA (association des constructeurs europens d'automobiles)      governs oil specifications in Europe     ACEA sets the standards for European engine lubricant specification. All oils have to pass a sequence of tests, which are updated...\\nEach of the        categories A, B C and E       is further sub-divided. Each sub-category has a number and offers a different level of oil performance.      ?Catalyst compatibility oils      . Categ...\\nOEM (Original Equipment Manufacturer)      specifications are developed by the       car manufacturers      ?Most OEMs have their own specific set of requirements for their cars engines and these are defined...\\nAll oils are created for a specific use and tested to guarantee their performance.      For example, some are designed to keep high-mileage vehicles operating for longer, whilst others are meant for high-performance engines.\",\n",
       " '578': \"Did you know that changing the oil regularly is probably the single most important thing that your customers can do to ensure proper engine function, reduce engine repairs and maintain their engines performance.     The next set of cards will rev...\\nChanging a vehicle's engine oil on a regular basis ensures        proper engine oil lubrication       and        reduces friction       .      This prevents metal pa...\\nOld, worn-out engine oil cannot effectively absorb engine heat.       Replacing a vehicle's engine oil with new, high-quality engine oil will help to regulate engine operating temperatures.\\nAs oil moves around an engine it picks up tiny, microscopic contaminates and engine wear particles.      These particles are transported to the oil filter, which sieves them out.        Fresh oil is better able to ...\\nEngine sludge      is a combination of degraded engine oil, engine wear particles and dirt. It can be highly damaging to an engine.        Changing the oil removes engine sludge and helps maintain ...\\nThe length of time, or distance travelled, between oil changes depends on lots of factors such as the type of car, the driving style and environment.     To reduce repairs and maintain performance, its essential to follow the manufacturers rec...\\nYes it is normal. Every time you start the car it will burn off a tiny amount of oil.       Over time, this can cause the oil levels to drop, particularly if you do a lot of short journeys.     However ...\\nThe warning light will come on when the oil pressure drops and by this time the engine could have been damaged.       Its best to use the dipstick to check the oil levels a couple of times a month and top up wit...\\nNew oil has a yellowish brown colour, which will naturally get darker as the oil gets older and dirtier.      Diesel engine oil goes black very quickly but is still OK for the length of the oil service interval.\\n9RSWs44PdkE\\nThe journey of oil around a car engine takes as little as 5 secs.In this little time, it protects critical engine parts and prevents damage.This short film takes us through this incredible journey.\",\n",
       " '622': 'HOW WELL DO YOU KNOW YOUR CASTROL BRANDS?      Here is a chance for you to find out - and stand a chance to win prizes at the same time!',\n",
       " '623': 'Castrol MAGN...\\nCastrol MAGNATEC protects engines during warm-up because of its       intelligent molecules\\nCastrol MAGNATEC STOP-START specifically protects the engine in busy traffic conditions, offering 20%* more protection from damaging stop-start wear.\\nTraffic is getting increasingly busy     Research by Castrol and TomTom shows that even a normal driver can stop and start up to 18,000** times a year\\nEach time we have to stop and wait in traffic, for example at a red traffic light, the engine is idle     This idling causes damaging wear because loads on critical engine parts can be up to 60% higher than at highway speeds\\nHOW WELL DO YOU KNOW YOUR CASTROL BRANDS?      Here is a chance for you to find out - and stand a chance to win prizes at the same time!',\n",
       " '624': 'Castrol EDGE can handle high engine pressure!\\nHOW WELL DO YOU KNOW YOUR CASTROL BRANDS?      Here is a chance for you to find out - and stand a chance to win prizes at the same time!',\n",
       " '634': 'DEMO JOURNEY PLAN\\n{\"title\": \"PH Demo - Journey Plan\", \"primaryField\": \"field1\", \"page1\": {\"field2\": {\"type\": \"Text\", \"name\": \"Volume Objective\", \"sequence\": 2}, \"header\": \"{CARD_DESCRIPTION}\", \"field1\": {\"type\": \"Text\", \"name\": \"Account Name\", \"sequence\": 1}, \"sequence\": ...\\nAPPLICATION FOR UNSCHEDULED CHECK-IN\\n{\"title\": \"PH Demo - Unscheduled Check-in\", \"primaryField\": \"field1\", \"page1\": {\"field2\": {\"type\": \"Text\", \"name\": \"Volume Objective\", \"sequence\": 2}, \"header\": \"{CARD_DESCRIPTION}\", \"field1\": {\"type\": \"Text\", \"name\": \"Account Name\", \"sequence\": 1}, \"seq...\\nSUMMARY OF THE JOURNEY PLAN'}"
      ]
     },
     "execution_count": 3,
     "metadata": {},
     "output_type": "execute_result"
    }
   ],
   "source": [
    "stream_details_dict = get_stream_details()\n",
    "stream_details_dict"
   ]
  },
  {
   "cell_type": "code",
   "execution_count": 4,
   "metadata": {},
   "outputs": [
    {
     "data": {
      "text/plain": [
       "112"
      ]
     },
     "execution_count": 4,
     "metadata": {},
     "output_type": "execute_result"
    }
   ],
   "source": [
    "len(stream_details_dict)"
   ]
  },
  {
   "cell_type": "markdown",
   "metadata": {},
   "source": [
    "## So we have 112 documents with the contents given by the values"
   ]
  },
  {
   "cell_type": "code",
   "execution_count": 5,
   "metadata": {},
   "outputs": [
    {
     "data": {
      "text/html": [
       "<div>\n",
       "<style>\n",
       "    .dataframe thead tr:only-child th {\n",
       "        text-align: right;\n",
       "    }\n",
       "\n",
       "    .dataframe thead th {\n",
       "        text-align: left;\n",
       "    }\n",
       "\n",
       "    .dataframe tbody tr th {\n",
       "        vertical-align: top;\n",
       "    }\n",
       "</style>\n",
       "<table border=\"1\" class=\"dataframe\">\n",
       "  <thead>\n",
       "    <tr style=\"text-align: right;\">\n",
       "      <th></th>\n",
       "      <th>StreamID</th>\n",
       "      <th>Content</th>\n",
       "      <th>ContentLength</th>\n",
       "    </tr>\n",
       "  </thead>\n",
       "  <tbody>\n",
       "    <tr>\n",
       "      <th>0</th>\n",
       "      <td>163</td>\n",
       "      <td>TXmAk2KZAy4\\nNMeUjebo1Ac\\nEEuTxFhp3go\\nCastrol...</td>\n",
       "      <td>800</td>\n",
       "    </tr>\n",
       "    <tr>\n",
       "      <th>1</th>\n",
       "      <td>419</td>\n",
       "      <td>TXmAk2KZAy4\\nNMeUjebo1Ac\\nEEuTxFhp3go\\nCastrol...</td>\n",
       "      <td>812</td>\n",
       "    </tr>\n",
       "    <tr>\n",
       "      <th>2</th>\n",
       "      <td>507</td>\n",
       "      <td>wBYKUgUyGWc\\nA team of world-class drivers, po...</td>\n",
       "      <td>180</td>\n",
       "    </tr>\n",
       "    <tr>\n",
       "      <th>3</th>\n",
       "      <td>199</td>\n",
       "      <td>Castrol EDGE      is Castrols flagship power b...</td>\n",
       "      <td>1505</td>\n",
       "    </tr>\n",
       "    <tr>\n",
       "      <th>4</th>\n",
       "      <td>201</td>\n",
       "      <td>Charles Cheers Wakefield, Castrols founder, wa...</td>\n",
       "      <td>1675</td>\n",
       "    </tr>\n",
       "  </tbody>\n",
       "</table>\n",
       "</div>"
      ],
      "text/plain": [
       "  StreamID                                            Content  ContentLength\n",
       "0      163  TXmAk2KZAy4\\nNMeUjebo1Ac\\nEEuTxFhp3go\\nCastrol...            800\n",
       "1      419  TXmAk2KZAy4\\nNMeUjebo1Ac\\nEEuTxFhp3go\\nCastrol...            812\n",
       "2      507  wBYKUgUyGWc\\nA team of world-class drivers, po...            180\n",
       "3      199  Castrol EDGE      is Castrols flagship power b...           1505\n",
       "4      201  Charles Cheers Wakefield, Castrols founder, wa...           1675"
      ]
     },
     "execution_count": 5,
     "metadata": {},
     "output_type": "execute_result"
    }
   ],
   "source": [
    "# what is the content length\n",
    "stream_details_df = pd.DataFrame(list(stream_details_dict.items()), columns = [\"StreamID\", \"Content\"])\n",
    "stream_details_df[\"ContentLength\"] = stream_details_df[\"Content\"].str.len()\n",
    "stream_details_df.head()"
   ]
  },
  {
   "cell_type": "code",
   "execution_count": 6,
   "metadata": {},
   "outputs": [
    {
     "data": {
      "text/plain": [
       "count     112.000000\n",
       "mean      833.473214\n",
       "std       705.489160\n",
       "min         7.000000\n",
       "25%       274.000000\n",
       "50%       694.000000\n",
       "75%      1136.250000\n",
       "max      3418.000000\n",
       "Name: ContentLength, dtype: float64"
      ]
     },
     "execution_count": 6,
     "metadata": {},
     "output_type": "execute_result"
    }
   ],
   "source": [
    "# largest, average and minimum\n",
    "stream_details_df[\"ContentLength\"] = stream_details_df[\"ContentLength\"].astype(float)\n",
    "stream_details_df[\"ContentLength\"].describe()"
   ]
  },
  {
   "cell_type": "code",
   "execution_count": 7,
   "metadata": {},
   "outputs": [
    {
     "data": {
      "image/png": "[encoded data removed]",
      "text/plain": [
       "<matplotlib.figure.Figure at 0x1e356539438>"
      ]
     },
     "metadata": {},
     "output_type": "display_data"
    }
   ],
   "source": [
    "boxplot = stream_details_df.boxplot(column=['ContentLength'])\n",
    "plt.show()"
   ]
  },
  {
   "cell_type": "markdown",
   "metadata": {},
   "source": [
    "### Pre-process the file using text pre-processing steps"
   ]
  },
  {
   "cell_type": "code",
   "execution_count": 8,
   "metadata": {
    "collapsed": true
   },
   "outputs": [],
   "source": [
    "# convert case, remove punctuations\n",
    "# stem the words\n",
    "stop = stopwords.words('english')\n",
    "snowball = nltk.SnowballStemmer('english')\n",
    "\n",
    "def preprocess(toks):\n",
    "    toks = [ t.lower() for t in toks if t not in string.punctuation ]\n",
    "    toks = [t for t in toks if t not in stop ]\n",
    "    toks = [ snowball.stem(t) for t in toks ]\n",
    "#   toks = [ wnl.lemmatize(t) for t in toks ]\n",
    "    toks_clean = [ t for t in toks if len(t) >= 3 ]\n",
    "    return toks_clean\n",
    "\n",
    "all_streams_cleaned_tokens = []\n",
    "for _, row in stream_details_df.iterrows():\n",
    "    stream_content = row[\"Content\"]\n",
    "    stream_content_tokens = nltk.word_tokenize(stream_content)\n",
    "    stream_cleaned_tokens = preprocess(stream_content_tokens)\n",
    "    all_streams_cleaned_tokens.append(stream_cleaned_tokens)\n",
    "\n",
    "all_streams_cleaned_tokens_flat = [ c for l in all_streams_cleaned_tokens for c in l ]"
   ]
  },
  {
   "cell_type": "code",
   "execution_count": 9,
   "metadata": {},
   "outputs": [
    {
     "data": {
      "image/png": "[encoded data removed]",
      "text/plain": [
       "<matplotlib.figure.Figure at 0x1e3567b4f28>"
      ]
     },
     "metadata": {},
     "output_type": "display_data"
    }
   ],
   "source": [
    "fd_all_stream_tokens = FreqDist(all_streams_cleaned_tokens_flat)\n",
    "wc_stream_tokens = WordCloud(background_color=\"white\").generate_from_frequencies(fd_all_stream_tokens)\n",
    "plt.imshow(wc_stream_tokens, interpolation='bilinear')\n",
    "plt.axis(\"off\")\n",
    "plt.show()"
   ]
  },
  {
   "cell_type": "markdown",
   "metadata": {},
   "source": [
    "### Term frequency for the terms"
   ]
  },
  {
   "cell_type": "code",
   "execution_count": 10,
   "metadata": {},
   "outputs": [
    {
     "data": {
      "text/plain": [
       "112"
      ]
     },
     "execution_count": 10,
     "metadata": {},
     "output_type": "execute_result"
    }
   ],
   "source": [
    "len(all_streams_cleaned_tokens)"
   ]
  },
  {
   "cell_type": "code",
   "execution_count": 11,
   "metadata": {},
   "outputs": [
    {
     "name": "stdout",
     "output_type": "stream",
     "text": [
      "112\n",
      "518\n",
      "530\n",
      "115\n",
      "999\n"
     ]
    }
   ],
   "source": [
    "# check the frequencies\n",
    "# perform TF-IDF to get the scores for words for each document\n",
    "# generate the tags based on the TF-IDF scores\n",
    "from sklearn.feature_extraction.text import CountVectorizer, TfidfVectorizer\n",
    "\n",
    "all_streams_cleaned_text = [ ' '.join(f) for f in all_streams_cleaned_tokens ]\n",
    "print(len(all_streams_cleaned_text))\n",
    "print(len(all_streams_cleaned_text[0]))\n",
    "print(len(all_streams_cleaned_text[1]))\n",
    "print(len(all_streams_cleaned_text[2]))\n",
    "print(len(all_streams_cleaned_text[3]))"
   ]
  },
  {
   "cell_type": "code",
   "execution_count": 12,
   "metadata": {
    "collapsed": true
   },
   "outputs": [],
   "source": [
    "all_streams_count_vectorizer = CountVectorizer(min_df = 2)\n",
    "all_streams_tf = all_streams_count_vectorizer.fit_transform(all_streams_cleaned_text)"
   ]
  },
  {
   "cell_type": "code",
   "execution_count": 13,
   "metadata": {},
   "outputs": [
    {
     "data": {
      "text/plain": [
       "<112x827 sparse matrix of type '<class 'numpy.int64'>'\n",
       "\twith 5107 stored elements in Compressed Sparse Row format>"
      ]
     },
     "execution_count": 13,
     "metadata": {},
     "output_type": "execute_result"
    }
   ],
   "source": [
    "all_streams_tf"
   ]
  },
  {
   "cell_type": "markdown",
   "metadata": {},
   "source": [
    "### TFIDF vectorizer for the terms"
   ]
  },
  {
   "cell_type": "code",
   "execution_count": 14,
   "metadata": {},
   "outputs": [
    {
     "data": {
      "text/plain": [
       "<112x827 sparse matrix of type '<class 'numpy.float64'>'\n",
       "\twith 5107 stored elements in Compressed Sparse Row format>"
      ]
     },
     "execution_count": 14,
     "metadata": {},
     "output_type": "execute_result"
    }
   ],
   "source": [
    "# And tfidf indexing\n",
    "all_streams_tfidf_vectorizer = TfidfVectorizer(min_df = 2)\n",
    "all_streams_tfidf = all_streams_tfidf_vectorizer.fit_transform(all_streams_cleaned_text)\n",
    "all_streams_tfidf"
   ]
  },
  {
   "cell_type": "code",
   "execution_count": 15,
   "metadata": {},
   "outputs": [
    {
     "data": {
      "text/plain": [
       "827"
      ]
     },
     "execution_count": 15,
     "metadata": {},
     "output_type": "execute_result"
    }
   ],
   "source": [
    "len(all_streams_tfidf_vectorizer.vocabulary_)"
   ]
  },
  {
   "cell_type": "code",
   "execution_count": 16,
   "metadata": {
    "collapsed": true
   },
   "outputs": [],
   "source": [
    "import pickle\n",
    "pickle.dump(all_streams_tfidf, open(\"outputs/all_streams_tfidf.pkl\", \"wb\"))\n",
    "pickle.dump(all_streams_tfidf_vectorizer.vocabulary_, open(\"outputs/terms.pkl\",\"wb\"))"
   ]
  },
  {
   "cell_type": "code",
   "execution_count": 17,
   "metadata": {},
   "outputs": [
    {
     "data": {
      "text/plain": [
       "<112x827 sparse matrix of type '<class 'numpy.float64'>'\n",
       "\twith 5107 stored elements in Compressed Sparse Row format>"
      ]
     },
     "execution_count": 17,
     "metadata": {},
     "output_type": "execute_result"
    }
   ],
   "source": [
    "#load the content\n",
    "loaded_vec = TfidfVectorizer(decode_error=\"replace\",vocabulary=pickle.load(open(\"outputs/terms.pkl\", \"rb\")))\n",
    "all_streams_tfidf = pickle.load(open(\"outputs/all_streams_tfidf.pkl\", \"rb\" ) )\n",
    "all_streams_tfidf"
   ]
  },
  {
   "cell_type": "code",
   "execution_count": 18,
   "metadata": {},
   "outputs": [
    {
     "data": {
      "text/plain": [
       "(112, 827)"
      ]
     },
     "execution_count": 18,
     "metadata": {},
     "output_type": "execute_result"
    }
   ],
   "source": [
    "all_streams_tfidf.shape"
   ]
  },
  {
   "cell_type": "code",
   "execution_count": 21,
   "metadata": {},
   "outputs": [
    {
     "data": {
      "text/plain": [
       "5107"
      ]
     },
     "execution_count": 21,
     "metadata": {},
     "output_type": "execute_result"
    }
   ],
   "source": [
    "all_streams_tfidf_coo = all_streams_tfidf.tocoo()\n",
    "len(all_streams_tfidf_coo.row)"
   ]
  },
  {
   "cell_type": "code",
   "execution_count": 22,
   "metadata": {},
   "outputs": [
    {
     "data": {
      "text/plain": [
       "5107"
      ]
     },
     "execution_count": 22,
     "metadata": {},
     "output_type": "execute_result"
    }
   ],
   "source": [
    "len(all_streams_tfidf_coo.col)"
   ]
  },
  {
   "cell_type": "code",
   "execution_count": 26,
   "metadata": {},
   "outputs": [
    {
     "data": {
      "text/plain": [
       "count    5107.000000\n",
       "mean       52.425494\n",
       "std        30.799957\n",
       "min         0.000000\n",
       "25%        29.000000\n",
       "50%        51.000000\n",
       "75%        81.000000\n",
       "max       111.000000\n",
       "dtype: float64"
      ]
     },
     "execution_count": 26,
     "metadata": {},
     "output_type": "execute_result"
    }
   ],
   "source": [
    "pd.Series(all_streams_tfidf_coo.row).describe()"
   ]
  },
  {
   "cell_type": "code",
   "execution_count": 30,
   "metadata": {},
   "outputs": [
    {
     "data": {
      "text/plain": [
       "array([111, 111, 111, 111, 111, 111, 111, 111, 111, 111])"
      ]
     },
     "execution_count": 30,
     "metadata": {},
     "output_type": "execute_result"
    }
   ],
   "source": [
    "all_streams_tfidf_coo.row[-10:]"
   ]
  },
  {
   "cell_type": "code",
   "execution_count": 31,
   "metadata": {},
   "outputs": [
    {
     "data": {
      "text/plain": [
       "array([181, 286, 435,  75, 580, 333,  72, 585, 654,  65])"
      ]
     },
     "execution_count": 31,
     "metadata": {},
     "output_type": "execute_result"
    }
   ],
   "source": [
    "all_streams_tfidf_coo.col[-10:]"
   ]
  },
  {
   "cell_type": "code",
   "execution_count": 32,
   "metadata": {},
   "outputs": [
    {
     "data": {
      "text/plain": [
       "array([0.08915615, 0.45876383, 0.18220699, 0.08397086, 0.07336801,\n",
       "       0.32969267, 0.26197056, 0.0911035 , 0.13098528, 0.11875105])"
      ]
     },
     "execution_count": 32,
     "metadata": {},
     "output_type": "execute_result"
    }
   ],
   "source": [
    "all_streams_tfidf_coo.data[-10:]"
   ]
  },
  {
   "cell_type": "code",
   "execution_count": 34,
   "metadata": {
    "collapsed": true
   },
   "outputs": [],
   "source": [
    "K = 5"
   ]
  },
  {
   "cell_type": "code",
   "execution_count": 33,
   "metadata": {
    "collapsed": true
   },
   "outputs": [],
   "source": [
    "# create a dictionary indexed by the stream (row) number\n",
    "token_tfidf_dict = {}\n",
    "for idx, stream_index in enumerate(all_streams_tfidf_coo.row):\n",
    "    if token_tfidf_dict.get(stream_index):\n",
    "        token_tfidf_dict[stream_index].append((all_streams_tfidf_coo.col[idx], all_streams_tfidf_coo.data[idx]))\n",
    "    else:\n",
    "        token_tfidf_dict[stream_index] = [(all_streams_tfidf_coo.col[idx], all_streams_tfidf_coo.data[idx])]\n",
    "        \n",
    "assert(len(token_tfidf_dict) == all_streams_tfidf.shape[0])"
   ]
  },
  {
   "cell_type": "code",
   "execution_count": 38,
   "metadata": {},
   "outputs": [],
   "source": [
    "for k in token_tfidf_dict:\n",
    "    num_tokens = min(K, len(token_tfidf_dict[k]))\n",
    "    top_k_token_ids = sorted(token_tfidf_dict[k], key=lambda x: x[1], reverse=True)[: num_tokens]\n",
    "    token_tfidf_dict[k]= top_k_token_ids\n",
    "    "
   ]
  },
  {
   "cell_type": "code",
   "execution_count": 39,
   "metadata": {},
   "outputs": [
    {
     "data": {
      "text/plain": [
       "{0: [(141, 0.3717215509262681),\n",
       "  (624, 0.24781436728417872),\n",
       "  (737, 0.2372900771893382),\n",
       "  (221, 0.21070480583097215),\n",
       "  (713, 0.1489929034968167)],\n",
       " 1: [(141, 0.3717215509262681),\n",
       "  (624, 0.24781436728417872),\n",
       "  (737, 0.2372900771893382),\n",
       "  (221, 0.21070480583097215),\n",
       "  (713, 0.1489929034968167)],\n",
       " 2: [(123, 0.3301723391343141),\n",
       "  (184, 0.3301723391343141),\n",
       "  (135, 0.30965186624210106),\n",
       "  (221, 0.2807298841082772),\n",
       "  (412, 0.2807298841082772)],\n",
       " 3: [(231, 0.36005317546943477),\n",
       "  (309, 0.3108513776104754),\n",
       "  (737, 0.2974109710548564),\n",
       "  (685, 0.2974109710548564),\n",
       "  (504, 0.2463418102393168)],\n",
       " 4: [(543, 0.2674612060676914),\n",
       "  (113, 0.2349113281232128),\n",
       "  (800, 0.1842054786841621),\n",
       "  (432, 0.18075277018664537),\n",
       "  (488, 0.17770082197413214)],\n",
       " 5: [(543, 0.26707119614486596),\n",
       "  (113, 0.23456878218805025),\n",
       "  (800, 0.18393687163799685),\n",
       "  (432, 0.18048919785409132),\n",
       "  (488, 0.17744169996955025)],\n",
       " 6: [(113, 1.0)],\n",
       " 7: [(113, 1.0)],\n",
       " 8: [(113, 1.0)],\n",
       " 9: [(677, 0.3568807902372673),\n",
       "  (435, 0.3356038154125582),\n",
       "  (681, 0.33307019253208087),\n",
       "  (241, 0.30857577023057153),\n",
       "  (376, 0.2572476028369273)],\n",
       " 10: [(663, 0.4730345003650395),\n",
       "  (333, 0.30275404296180247),\n",
       "  (505, 0.272609904203007),\n",
       "  (241, 0.24132395907199092),\n",
       "  (208, 0.22818995687641178)],\n",
       " 11: [(241, 0.3419498092256649),\n",
       "  (562, 0.29702737417110076),\n",
       "  (615, 0.23239215829478957),\n",
       "  (687, 0.22724996318298568),\n",
       "  (704, 0.22724996318298568)],\n",
       " 12: [(559, 0.6830173804750909),\n",
       "  (702, 0.40555784987423066),\n",
       "  (267, 0.2416373699545525),\n",
       "  (608, 0.22661941565559796),\n",
       "  (192, 0.19740562330294353)],\n",
       " 13: [(164, 0.4008436789015734),\n",
       "  (479, 0.4008436789015734),\n",
       "  (579, 0.3167028978872172),\n",
       "  (475, 0.2614692353589226),\n",
       "  (36, 0.24560190015981193)],\n",
       " 14: [(487, 0.46357566126224764),\n",
       "  (649, 0.3769648168482405),\n",
       "  (358, 0.37516415450038754),\n",
       "  (766, 0.3476817459466857),\n",
       "  (280, 0.26039533004174975)],\n",
       " 15: [(487, 0.46357566126224764),\n",
       "  (649, 0.3769648168482405),\n",
       "  (358, 0.37516415450038754),\n",
       "  (766, 0.3476817459466857),\n",
       "  (280, 0.26039533004174975)],\n",
       " 16: [(487, 0.46357566126224764),\n",
       "  (649, 0.3769648168482405),\n",
       "  (358, 0.37516415450038754),\n",
       "  (766, 0.3476817459466857),\n",
       "  (280, 0.26039533004174975)],\n",
       " 17: [(649, 0.4610837454546572),\n",
       "  (280, 0.3185020158602422),\n",
       "  (487, 0.2835108114114367),\n",
       "  (766, 0.2835108114114367),\n",
       "  (546, 0.24006968021385086)],\n",
       " 18: [(649, 0.4610837454546572),\n",
       "  (280, 0.3185020158602422),\n",
       "  (487, 0.2835108114114367),\n",
       "  (766, 0.2835108114114367),\n",
       "  (546, 0.24006968021385086)],\n",
       " 19: [(649, 0.4277610047009161),\n",
       "  (280, 0.35458046911447855),\n",
       "  (487, 0.23671921566441081),\n",
       "  (766, 0.23671921566441081),\n",
       "  (705, 0.21609112300703695)],\n",
       " 20: [(649, 0.4610837454546572),\n",
       "  (280, 0.3185020158602422),\n",
       "  (487, 0.2835108114114367),\n",
       "  (766, 0.2835108114114367),\n",
       "  (546, 0.24006968021385086)],\n",
       " 21: [(479, 0.5388063889712426),\n",
       "  (241, 0.3326613561440383),\n",
       "  (314, 0.2694031944856213),\n",
       "  (717, 0.24767927866560036),\n",
       "  (732, 0.1937825504959659)],\n",
       " 22: [(231, 0.44019341443968857),\n",
       "  (304, 0.4142565129364505),\n",
       "  (72, 0.38851014191571803),\n",
       "  (113, 0.23377512223668073),\n",
       "  (685, 0.22036871345843817)],\n",
       " 23: [(435, 0.32372582507466685),\n",
       "  (241, 0.31516346185063676),\n",
       "  (677, 0.24589267584295452),\n",
       "  (802, 0.22709716223135715),\n",
       "  (579, 0.2240633052600186)],\n",
       " 24: [(663, 0.39962007701285984),\n",
       "  (241, 0.25766997768259),\n",
       "  (333, 0.24629410521389133),\n",
       "  (411, 0.2138510707787494),\n",
       "  (208, 0.20883972608619628)],\n",
       " 25: [(649, 0.4526638718983925),\n",
       "  (280, 0.37522300136061115),\n",
       "  (487, 0.33400032740345553),\n",
       "  (553, 0.29814852008552356),\n",
       "  (766, 0.25050024555259165)],\n",
       " 26: [(649, 0.46290907765723577),\n",
       "  (487, 0.28463317024310225),\n",
       "  (766, 0.28463317024310225),\n",
       "  (160, 0.270918249110282),\n",
       "  (444, 0.270918249110282)],\n",
       " 27: [(568, 0.6477474955654919),\n",
       "  (782, 0.3186178341231733),\n",
       "  (494, 0.23912774851647634),\n",
       "  (717, 0.20822493721920898),\n",
       "  (97, 0.1698662385908364)],\n",
       " 28: [(205, 0.5010068241578363),\n",
       "  (241, 0.35599885916774543),\n",
       "  (38, 0.35327598546615047),\n",
       "  (782, 0.3340045494385575),\n",
       "  (397, 0.23742590823681023)],\n",
       " 29: [(108, 0.3066257857389016),\n",
       "  (241, 0.2926817491734533),\n",
       "  (504, 0.28198209194688767),\n",
       "  (704, 0.22229466741119816),\n",
       "  (592, 0.2015319880922099)],\n",
       " 30: [(708, 0.5572830372189654),\n",
       "  (504, 0.3541616854689125),\n",
       "  (539, 0.16558746143681258),\n",
       "  (230, 0.16238078711386383),\n",
       "  (127, 0.16238078711386383)],\n",
       " 31: [(708, 0.5572830372189654),\n",
       "  (504, 0.3541616854689125),\n",
       "  (539, 0.16558746143681258),\n",
       "  (230, 0.16238078711386383),\n",
       "  (127, 0.16238078711386383)],\n",
       " 32: [(352, 0.35877536467701676),\n",
       "  (787, 0.2654556996533986),\n",
       "  (417, 0.2523578932866064),\n",
       "  (726, 0.23938603790955676),\n",
       "  (728, 0.23938603790955676)],\n",
       " 33: [(352, 0.35877536467701676),\n",
       "  (787, 0.2654556996533986),\n",
       "  (417, 0.2523578932866064),\n",
       "  (726, 0.23938603790955676),\n",
       "  (728, 0.23938603790955676)],\n",
       " 34: [(671, 0.4565545884276472),\n",
       "  (504, 0.3063045013119693),\n",
       "  (29, 0.2716523197360964),\n",
       "  (693, 0.19310305457334434),\n",
       "  (117, 0.15775551959087683)],\n",
       " 35: [(671, 0.4565545884276472),\n",
       "  (504, 0.3063045013119693),\n",
       "  (29, 0.2716523197360964),\n",
       "  (693, 0.19310305457334434),\n",
       "  (117, 0.15775551959087683)],\n",
       " 36: [(504, 0.4867422474560873),\n",
       "  (241, 0.4330383578570304),\n",
       "  (735, 0.19005391317480366),\n",
       "  (125, 0.1559887019530098),\n",
       "  (438, 0.12973770136873775)],\n",
       " 37: [(504, 0.4867422474560873),\n",
       "  (241, 0.4330383578570304),\n",
       "  (735, 0.19005391317480366),\n",
       "  (125, 0.1559887019530098),\n",
       "  (438, 0.12973770136873775)],\n",
       " 38: [(504, 0.330993627566634),\n",
       "  (193, 0.2935483688983192),\n",
       "  (478, 0.25570668146104925),\n",
       "  (241, 0.22085550056274064),\n",
       "  (108, 0.21595239703301028)],\n",
       " 39: [(124, 0.5239210084210868),\n",
       "  (675, 0.30965054662202307),\n",
       "  (566, 0.2777490352970773),\n",
       "  (335, 0.2619605042105434),\n",
       "  (394, 0.2619605042105434)],\n",
       " 40: [(748, 0.44481573516972744),\n",
       "  (681, 0.3596475693633126),\n",
       "  (357, 0.24999723614816002),\n",
       "  (102, 0.2042352150874787),\n",
       "  (735, 0.20322471717467988)],\n",
       " 41: [(124, 0.6054006170022126),\n",
       "  (675, 0.3578070529085891),\n",
       "  (566, 0.3209442542633727),\n",
       "  (394, 0.3027003085011063),\n",
       "  (813, 0.3027003085011063)],\n",
       " 42: [(487, 0.36916069478042773),\n",
       "  (649, 0.33354400328706635),\n",
       "  (553, 0.3295347512925506),\n",
       "  (280, 0.2764819323316777),\n",
       "  (723, 0.2764819323316777)],\n",
       " 43: [(231, 0.5019295875690925),\n",
       "  (737, 0.3316829317679712),\n",
       "  (685, 0.3316829317679712),\n",
       "  (309, 0.2888934457267044),\n",
       "  (113, 0.24810731387144005)],\n",
       " 44: [(231, 0.46712435177800304),\n",
       "  (737, 0.3429812076681495),\n",
       "  (685, 0.3429812076681495),\n",
       "  (309, 0.2987341626975035),\n",
       "  (113, 0.2332351937582479)],\n",
       " 45: [(231, 0.45225730358983557),\n",
       "  (737, 0.3557841769501214),\n",
       "  (309, 0.29749003850044337),\n",
       "  (685, 0.2846273415600971),\n",
       "  (347, 0.2584327449084775)],\n",
       " 46: [(231, 0.45225730358983557),\n",
       "  (737, 0.3557841769501214),\n",
       "  (309, 0.29749003850044337),\n",
       "  (685, 0.2846273415600971),\n",
       "  (347, 0.2584327449084775)],\n",
       " 47: [(753, 0.55460986893519),\n",
       "  (68, 0.36973991262346),\n",
       "  (245, 0.314372315661379),\n",
       "  (655, 0.277304934467595),\n",
       "  (314, 0.277304934467595)],\n",
       " 48: [(414, 0.2550702896691387),\n",
       "  (435, 0.2079256037970734),\n",
       "  (54, 0.19537009507870376),\n",
       "  (302, 0.1593794846446085),\n",
       "  (200, 0.1593794846446085)],\n",
       " 49: [(241, 0.36749792464123493),\n",
       "  (435, 0.2912004855753709),\n",
       "  (527, 0.26873499419368546),\n",
       "  (179, 0.23451130936800646),\n",
       "  (436, 0.2084810666976969)],\n",
       " 50: [(653, 0.29577358026945055),\n",
       "  (273, 0.2604209298093621),\n",
       "  (669, 0.2604209298093621),\n",
       "  (436, 0.25361521290591366),\n",
       "  (377, 0.2473545602480837)],\n",
       " 51: [(653, 0.2836275004416054),\n",
       "  (16, 0.2836275004416054),\n",
       "  (273, 0.2497266230378628),\n",
       "  (669, 0.2497266230378628),\n",
       "  (436, 0.24320038606876038)],\n",
       " 52: [(663, 0.5156130730191607),\n",
       "  (333, 0.3972287297384472),\n",
       "  (35, 0.22993591103849184),\n",
       "  (505, 0.22993591103849184),\n",
       "  (241, 0.21372479761585622)],\n",
       " 53: [(663, 0.5619141178726624),\n",
       "  (333, 0.30302936457829915),\n",
       "  (35, 0.2505837058433927),\n",
       "  (505, 0.2505837058433927),\n",
       "  (300, 0.22479804959599528)],\n",
       " 54: [(663, 0.3838486540579666),\n",
       "  (333, 0.35486077737426),\n",
       "  (298, 0.2808136846451457),\n",
       "  (35, 0.2738816204326536),\n",
       "  (300, 0.24569855364789528)],\n",
       " 55: [(663, 0.5684622779621056),\n",
       "  (333, 0.35035504007978463),\n",
       "  (35, 0.27040409146879957),\n",
       "  (300, 0.242578870642742),\n",
       "  (216, 0.22542053609940563)],\n",
       " 56: [(180, 0.27500613091085807),\n",
       "  (113, 0.27265794863782294),\n",
       "  (400, 0.21387288928270265),\n",
       "  (432, 0.20979694731386006),\n",
       "  (820, 0.19874501530777963)],\n",
       " 57: [(705, 0.30766708135440984),\n",
       "  (93, 0.24811981856563148),\n",
       "  (378, 0.2174735851787624),\n",
       "  (152, 0.2109829139237247),\n",
       "  (621, 0.18600447958627925)],\n",
       " 58: [(705, 0.34797398249873035),\n",
       "  (93, 0.31570373453976974),\n",
       "  (280, 0.28549247242797465),\n",
       "  (649, 0.2755313560170422),\n",
       "  (107, 0.22684952106161882)],\n",
       " 59: [(815, 0.3785656678503029),\n",
       "  (429, 0.3785656678503029),\n",
       "  (459, 0.3785656678503029),\n",
       "  (133, 0.3785656678503029),\n",
       "  (337, 0.3367876550344228)],\n",
       " 60: [(815, 0.37316293708978415),\n",
       "  (429, 0.37316293708978415),\n",
       "  (459, 0.37316293708978415),\n",
       "  (133, 0.37316293708978415),\n",
       "  (337, 0.3319811625863624)],\n",
       " 61: [(54, 0.24671352020388254),\n",
       "  (414, 0.21473531739285723),\n",
       "  (302, 0.201264547110507),\n",
       "  (200, 0.201264547110507),\n",
       "  (268, 0.201264547110507)],\n",
       " 62: [(705, 0.3772579817277505),\n",
       "  (280, 0.3095182955152003),\n",
       "  (723, 0.3095182955152003),\n",
       "  (487, 0.2755140587452499),\n",
       "  (766, 0.2755140587452499)],\n",
       " 63: [(566, 0.3521742898998995),\n",
       "  (144, 0.28871592261377665),\n",
       "  (705, 0.22143672363192196),\n",
       "  (124, 0.22143672363192196),\n",
       "  (813, 0.22143672363192196)],\n",
       " 64: [(705, 0.3772579817277505),\n",
       "  (280, 0.3095182955152003),\n",
       "  (723, 0.3095182955152003),\n",
       "  (487, 0.2755140587452499),\n",
       "  (766, 0.2755140587452499)],\n",
       " 65: [(621, 0.377136101953992),\n",
       "  (378, 0.29396116471569084),\n",
       "  (556, 0.24100157451321988),\n",
       "  (359, 0.17145345242144383),\n",
       "  (93, 0.16769298854075665)],\n",
       " 66: [(231, 0.5558392861344446),\n",
       "  (309, 0.25593761454765335),\n",
       "  (113, 0.2497775052743597),\n",
       "  (737, 0.24487153654330798),\n",
       "  (685, 0.24487153654330798)],\n",
       " 67: [(566, 0.437139833491964),\n",
       "  (144, 0.35837150512531235),\n",
       "  (124, 0.2748605314856405),\n",
       "  (813, 0.2748605314856405),\n",
       "  (143, 0.19106030194857185)],\n",
       " 68: [(653, 0.28924513288908804),\n",
       "  (273, 0.2546728020169587),\n",
       "  (669, 0.2546728020169587),\n",
       "  (436, 0.24801730395540042),\n",
       "  (377, 0.2418948392364869)],\n",
       " 69: [(663, 0.6022660262810047),\n",
       "  (333, 0.3093241568183117),\n",
       "  (35, 0.2864837368679288),\n",
       "  (300, 0.2570038824836097),\n",
       "  (216, 0.2388252233823208)],\n",
       " 70: [(800, 0.31970474228121865),\n",
       "  (113, 0.23783035801076974),\n",
       "  (543, 0.23210117464179197),\n",
       "  (180, 0.20561022722460168),\n",
       "  (432, 0.15685613213551597)],\n",
       " 71: [(361, 0.6215067601017983),\n",
       "  (36, 0.5413875462080595),\n",
       "  (785, 0.33303661762505543),\n",
       "  (494, 0.3109671343202518),\n",
       "  (113, 0.17260353548870477)],\n",
       " 72: [(364, 0.4810163554833451),\n",
       "  (602, 0.331525150339367),\n",
       "  (556, 0.28693354012057676),\n",
       "  (750, 0.2721738570576914),\n",
       "  (616, 0.21097055021596084)],\n",
       " 73: [(616, 0.551408350682949),\n",
       "  (602, 0.367605567121966),\n",
       "  (499, 0.367605567121966),\n",
       "  (454, 0.3451192678453227),\n",
       "  (317, 0.23110725032844034)],\n",
       " 74: [(150, 0.33592326302678716),\n",
       "  (180, 0.2975825458340045),\n",
       "  (287, 0.22283579574287518),\n",
       "  (350, 0.17706313973798027),\n",
       "  (349, 0.17706313973798027)],\n",
       " 75: [(231, 0.46350494568502887),\n",
       "  (685, 0.4375590381065501),\n",
       "  (113, 0.2380402535224519),\n",
       "  (504, 0.1812123560059599),\n",
       "  (539, 0.17474615815042693)],\n",
       " 76: [(241, 0.38959850354966136),\n",
       "  (681, 0.31772956614896325),\n",
       "  (808, 0.30942617255979094),\n",
       "  (579, 0.29914097957443564),\n",
       "  (435, 0.21609888400512256)],\n",
       " 77: [(333, 0.4839504352792472),\n",
       "  (505, 0.3112608706342912),\n",
       "  (663, 0.2908241063301836),\n",
       "  (208, 0.2431734748033848),\n",
       "  (113, 0.2135885246620517)],\n",
       " 78: [(621, 0.35131331501733104),\n",
       "  (378, 0.3080626054321008),\n",
       "  (556, 0.25256252141192503),\n",
       "  (594, 0.22896390156392962),\n",
       "  (321, 0.22896390156392962)],\n",
       " 79: [(333, 0.44806014138891204),\n",
       "  (505, 0.3241996018205028),\n",
       "  (663, 0.3029133063848142),\n",
       "  (208, 0.2532818967700981),\n",
       "  (298, 0.19944314175713176)],\n",
       " 80: [(241, 0.4047715887409134),\n",
       "  (579, 0.30215806899659325),\n",
       "  (681, 0.2750864032850928),\n",
       "  (808, 0.26789742586259185),\n",
       "  (435, 0.24946105572486021)],\n",
       " 81: [(231, 0.4281311521132607),\n",
       "  (685, 0.3929385693371733),\n",
       "  (309, 0.24641759884282202),\n",
       "  (737, 0.23576314160230397),\n",
       "  (113, 0.22445418319308758)],\n",
       " 82: [(150, 0.22991547928812944),\n",
       "  (180, 0.20367399696207122),\n",
       "  (113, 0.20193489511892151),\n",
       "  (203, 0.1970978744469183),\n",
       "  (443, 0.1912153324037085)],\n",
       " 83: [(364, 0.45170211713654973),\n",
       "  (556, 0.3340022001206593),\n",
       "  (602, 0.3307788264303274),\n",
       "  (750, 0.27156114379376634),\n",
       "  (616, 0.21049561681929926)],\n",
       " 84: [(621, 0.35131331501733104),\n",
       "  (378, 0.3080626054321008),\n",
       "  (556, 0.25256252141192503),\n",
       "  (594, 0.22896390156392962),\n",
       "  (321, 0.22896390156392962)],\n",
       " 85: [(54, 0.5769798701812846),\n",
       "  (826, 0.375583791770121),\n",
       "  (679, 0.31405896434023617),\n",
       "  (163, 0.23534501102321004),\n",
       "  (472, 0.20010270346459993)],\n",
       " 86: [(616, 0.5625801615752605),\n",
       "  (602, 0.3750534410501737),\n",
       "  (499, 0.3750534410501737),\n",
       "  (454, 0.3521115580253419),\n",
       "  (317, 0.23578959961334622)],\n",
       " 87: [(364, 0.46556198367039686),\n",
       "  (556, 0.3240005688583816),\n",
       "  (602, 0.32087371846957163),\n",
       "  (750, 0.2634292978825525),\n",
       "  (142, 0.2202952578039702)],\n",
       " 88: [(616, 0.5625801615752605),\n",
       "  (602, 0.3750534410501737),\n",
       "  (499, 0.3750534410501737),\n",
       "  (454, 0.3521115580253419),\n",
       "  (317, 0.23578959961334622)],\n",
       " 89: [(364, 0.4506664429642651),\n",
       "  (556, 0.3332363913298038),\n",
       "  (602, 0.33002040827314855),\n",
       "  (750, 0.2709385014545934),\n",
       "  (616, 0.21001298708291272)],\n",
       " 90: [(621, 0.35131331501733104),\n",
       "  (378, 0.3080626054321008),\n",
       "  (556, 0.25256252141192503),\n",
       "  (594, 0.22896390156392962),\n",
       "  (321, 0.22896390156392962)],\n",
       " 91: [(150, 0.22991547928812944),\n",
       "  (180, 0.20367399696207122),\n",
       "  (113, 0.20193489511892151),\n",
       "  (203, 0.1970978744469183),\n",
       "  (443, 0.1912153324037085)],\n",
       " 92: [(333, 0.45658900318369783),\n",
       "  (505, 0.35239548588316844),\n",
       "  (208, 0.2581031385926292),\n",
       "  (663, 0.24694342895057259),\n",
       "  (113, 0.20151272621678912)],\n",
       " 93: [(241, 0.4340656497768218),\n",
       "  (808, 0.2872856531069817),\n",
       "  (527, 0.2777364014723024),\n",
       "  (435, 0.2675150091043889),\n",
       "  (179, 0.2154367803910366)],\n",
       " 94: [(231, 0.40496758125752585),\n",
       "  (309, 0.23308544236992476),\n",
       "  (113, 0.22747535728121893),\n",
       "  (737, 0.22300743296321174),\n",
       "  (685, 0.22300743296321174)],\n",
       " 95: [(241, 0.4624115460389537),\n",
       "  (344, 0.37983927360986175),\n",
       "  (398, 0.2915090545068587),\n",
       "  (235, 0.25823756828325745),\n",
       "  (401, 0.25823756828325745)],\n",
       " 96: [(454, 0.38241527706165995),\n",
       "  (129, 0.3620571559552683),\n",
       "  (383, 0.25842575741451573),\n",
       "  (552, 0.24236439151215608),\n",
       "  (742, 0.22990622824927076)],\n",
       " 97: [(243, 0.44175117489502486),\n",
       "  (729, 0.3608885746495316),\n",
       "  (378, 0.3369041659780442),\n",
       "  (152, 0.3268489945234574),\n",
       "  (621, 0.2881530831051717)],\n",
       " 98: [(163, 0.4667670874333528),\n",
       "  (649, 0.39877476440609266),\n",
       "  (723, 0.27546094953378447),\n",
       "  (487, 0.24519831406265397),\n",
       "  (766, 0.24519831406265397)],\n",
       " 99: [(231, 0.45225730358983557),\n",
       "  (737, 0.3557841769501214),\n",
       "  (309, 0.29749003850044337),\n",
       "  (685, 0.2846273415600971),\n",
       "  (347, 0.2584327449084775)],\n",
       " 100: [(663, 0.4770183860171313),\n",
       "  (333, 0.3527955375001338),\n",
       "  (35, 0.30632362636063937),\n",
       "  (300, 0.27480220040356573),\n",
       "  (216, 0.25536461263973453)],\n",
       " 101: [(653, 0.2778554936464429),\n",
       "  (16, 0.2778554936464429),\n",
       "  (273, 0.24464452146850427),\n",
       "  (669, 0.24464452146850427),\n",
       "  (436, 0.23825109772828074)],\n",
       " 102: [(753, 0.48821609578466824),\n",
       "  (292, 0.33355546163120764),\n",
       "  (769, 0.32573898736137774),\n",
       "  (807, 0.25646573378364973),\n",
       "  (752, 0.24410804789233412)],\n",
       " 103: [(782, 0.6243688061706217),\n",
       "  (415, 0.26629816473274626),\n",
       "  (758, 0.2497475224682487),\n",
       "  (808, 0.18654323996929498),\n",
       "  (778, 0.16321641985206695)],\n",
       " 104: [(584, 0.45468508626577103),\n",
       "  (280, 0.2861129458123961),\n",
       "  (749, 0.24240841872479196),\n",
       "  (105, 0.24240841872479196),\n",
       "  (110, 0.24240841872479196)],\n",
       " 105: [(584, 0.45468508626577103),\n",
       "  (280, 0.2861129458123961),\n",
       "  (749, 0.24240841872479196),\n",
       "  (105, 0.24240841872479196),\n",
       "  (110, 0.24240841872479196)],\n",
       " 106: [(826, 0.4209778394433086),\n",
       "  (144, 0.3092433842254161),\n",
       "  (639, 0.2933474659157572),\n",
       "  (245, 0.2803595549686665),\n",
       "  (294, 0.2693784327292786)],\n",
       " 107: [(159, 0.457628545191346),\n",
       "  (134, 0.38909985249837803),\n",
       "  (660, 0.3738595905993676),\n",
       "  (332, 0.3738595905993676),\n",
       "  (446, 0.31265765705980025)],\n",
       " 108: [(813, 0.7754208039166497),\n",
       "  (446, 0.4910098741562388),\n",
       "  (728, 0.3196827527299383),\n",
       "  (492, 0.21604457703000246),\n",
       "  (113, 0.0935925140022839)],\n",
       " 109: [(819, 0.5220493152702655),\n",
       "  (412, 0.3326237782986916),\n",
       "  (223, 0.31959557111084236),\n",
       "  (184, 0.19560292143713107),\n",
       "  (304, 0.19560292143713107)],\n",
       " 110: [(649, 0.45404355936598795),\n",
       "  (785, 0.40062724697663316),\n",
       "  (281, 0.3466695011064383),\n",
       "  (487, 0.27918194731643814),\n",
       "  (766, 0.27918194731643814)],\n",
       " 111: [(286, 0.4587638315709092),\n",
       "  (781, 0.3913459239423195),\n",
       "  (684, 0.3834293155416623),\n",
       "  (333, 0.3296926666706878),\n",
       "  (113, 0.29101562942269965)]}"
      ]
     },
     "execution_count": 39,
     "metadata": {},
     "output_type": "execute_result"
    }
   ],
   "source": [
    "token_tfidf_dict"
   ]
  },
  {
   "cell_type": "code",
   "execution_count": null,
   "metadata": {
    "collapsed": true
   },
   "outputs": [],
   "source": []
  }
 ],
 "metadata": {
  "kernelspec": {
   "display_name": "Python 3",
   "language": "python",
   "name": "python3"
  },
  "language_info": {
   "codemirror_mode": {
    "name": "ipython",
    "version": 3
   },
   "file_extension": ".py",
   "mimetype": "text/x-python",
   "name": "python",
   "nbconvert_exporter": "python",
   "pygments_lexer": "ipython3",
   "version": "3.6.3"
  }
 },
 "nbformat": 4,
 "nbformat_minor": 2
}
