{
 "cells": [
  {
   "cell_type": "markdown",
   "metadata": {},
   "source": [
    "## Get the data and print the top 5 records"
   ]
  },
  {
   "cell_type": "code",
   "execution_count": 8,
   "metadata": {},
   "outputs": [
    {
     "name": "stdout",
     "output_type": "stream",
     "text": [
      "   user id    country        role   department\n",
      "0        1      India  Consultant      Finance\n",
      "1        2  Singapore    Engineer  Engineering\n",
      "2        3      India      Doctor     Medicine\n",
      "3        4      China     Manager           HR\n",
      "4        5  Singapore  Consultant      Finance\n",
      "   content id     tags1  tags2  tags3\n",
      "0           1  engaging  alpha  gamma\n",
      "1           2    sports   beta  delta\n",
      "2           3      news  theta   beta\n",
      "3           4    sports  alpha  hello\n",
      "   user id  content id           time-stamp\n",
      "0        1           1  2018-01-02 11:30:00\n",
      "1        1           2  2018-01-02 12:30:00\n",
      "2        2           3  2018-02-02 11:30:00\n",
      "3        2           1  2018-01-12 11:30:00\n",
      "4        2           2  2018-01-14 11:30:21\n"
     ]
    }
   ],
   "source": [
    "# import required modules\n",
    "import pandas as pd\n",
    "\n",
    "# read data into data frames\n",
    "users_df = pd.read_csv(\"data/users.csv\")\n",
    "contents_df = pd.read_csv(\"data/contents.csv\")\n",
    "views_df = pd.read_csv(\"data/content_views.csv\")\n",
    "\n",
    "# view the top records from each data frame\n",
    "print(users_df.head())\n",
    "print(contents_df.head())\n",
    "print(views_df.head())"
   ]
  },
  {
   "cell_type": "markdown",
   "metadata": {},
   "source": [
    "## Process the data"
   ]
  },
  {
   "cell_type": "code",
   "execution_count": 16,
   "metadata": {},
   "outputs": [
    {
     "data": {
      "text/html": [
       "<div>\n",
       "<style>\n",
       "    .dataframe thead tr:only-child th {\n",
       "        text-align: right;\n",
       "    }\n",
       "\n",
       "    .dataframe thead th {\n",
       "        text-align: left;\n",
       "    }\n",
       "\n",
       "    .dataframe tbody tr th {\n",
       "        vertical-align: top;\n",
       "    }\n",
       "</style>\n",
       "<table border=\"1\" class=\"dataframe\">\n",
       "  <thead>\n",
       "    <tr style=\"text-align: right;\">\n",
       "      <th>content id</th>\n",
       "      <th>1</th>\n",
       "      <th>2</th>\n",
       "      <th>3</th>\n",
       "      <th>4</th>\n",
       "    </tr>\n",
       "    <tr>\n",
       "      <th>user id</th>\n",
       "      <th></th>\n",
       "      <th></th>\n",
       "      <th></th>\n",
       "      <th></th>\n",
       "    </tr>\n",
       "  </thead>\n",
       "  <tbody>\n",
       "    <tr>\n",
       "      <th>1</th>\n",
       "      <td>1.0</td>\n",
       "      <td>1.0</td>\n",
       "      <td>0.0</td>\n",
       "      <td>0.0</td>\n",
       "    </tr>\n",
       "    <tr>\n",
       "      <th>2</th>\n",
       "      <td>1.0</td>\n",
       "      <td>1.0</td>\n",
       "      <td>1.0</td>\n",
       "      <td>0.0</td>\n",
       "    </tr>\n",
       "    <tr>\n",
       "      <th>3</th>\n",
       "      <td>1.0</td>\n",
       "      <td>1.0</td>\n",
       "      <td>0.0</td>\n",
       "      <td>1.0</td>\n",
       "    </tr>\n",
       "    <tr>\n",
       "      <th>4</th>\n",
       "      <td>0.0</td>\n",
       "      <td>0.0</td>\n",
       "      <td>0.0</td>\n",
       "      <td>1.0</td>\n",
       "    </tr>\n",
       "    <tr>\n",
       "      <th>5</th>\n",
       "      <td>0.0</td>\n",
       "      <td>0.0</td>\n",
       "      <td>0.0</td>\n",
       "      <td>2.0</td>\n",
       "    </tr>\n",
       "  </tbody>\n",
       "</table>\n",
       "</div>"
      ],
      "text/plain": [
       "content id    1    2    3    4\n",
       "user id                       \n",
       "1           1.0  1.0  0.0  0.0\n",
       "2           1.0  1.0  1.0  0.0\n",
       "3           1.0  1.0  0.0  1.0\n",
       "4           0.0  0.0  0.0  1.0\n",
       "5           0.0  0.0  0.0  2.0"
      ]
     },
     "execution_count": 16,
     "metadata": {},
     "output_type": "execute_result"
    }
   ],
   "source": [
    "# Generate a pivot table from the views data\n",
    "content_views_per_user_df = pd.pivot_table(views_df, index = \"user id\", columns = \"content id\", values = \"time-stamp\", aggfunc=\"count\")\n",
    "\n",
    "# fill the NA values with 0 - since there are no views for these contents\n",
    "content_views_per_user_df = content_views_per_user_df.fillna(value = 0)\n",
    "content_views_per_user_df"
   ]
  },
  {
   "cell_type": "markdown",
   "metadata": {
    "collapsed": true
   },
   "source": [
    "## Visualize the pivot table by seeing the popularity of the contents (by number of total views)"
   ]
  },
  {
   "cell_type": "code",
   "execution_count": 32,
   "metadata": {},
   "outputs": [
    {
     "name": "stdout",
     "output_type": "stream",
     "text": [
      "content id\n",
      "1    3.0\n",
      "2    3.0\n",
      "3    1.0\n",
      "4    4.0\n",
      "dtype: float64\n"
     ]
    }
   ],
   "source": [
    "# inline plots in the Jupyter notebook\n",
    "%matplotlib inline\n",
    "\n",
    "# import base visalization packages\n",
    "import matplotlib.pyplot as plt\n",
    "import numpy as np\n",
    "\n",
    "# Get the sum along the rows\n",
    "total_content_views = content_views_per_user_df.sum(axis = 0)\n",
    "print(total_content_views)"
   ]
  },
  {
   "cell_type": "code",
   "execution_count": 33,
   "metadata": {},
   "outputs": [
    {
     "name": "stdout",
     "output_type": "stream",
     "text": [
      "content id\n",
      "4    4.0\n",
      "2    3.0\n",
      "1    3.0\n",
      "3    1.0\n",
      "dtype: float64\n"
     ]
    }
   ],
   "source": [
    "# Get the top 5 content ids\n",
    "top_5_contents = total_content_views.sort_values(ascending = False).head(5)\n",
    "print(top_5_contents)"
   ]
  },
  {
   "cell_type": "code",
   "execution_count": 39,
   "metadata": {},
   "outputs": [
    {
     "data": {
      "text/plain": [
       "([<matplotlib.patches.Wedge at 0x21afa94c160>,\n",
       "  <matplotlib.patches.Wedge at 0x21afa94c908>,\n",
       "  <matplotlib.patches.Wedge at 0x21afa955160>,\n",
       "  <matplotlib.patches.Wedge at 0x21afa955978>],\n",
       " [Text(0.456956,1.0006,'4'),\n",
       "  Text(-1.1,-1.02989e-07,'2'),\n",
       "  Text(0.156546,-1.0888,'1'),\n",
       "  Text(1.05544,-0.309906,'3')],\n",
       " [Text(0.249249,0.545779,'36.36'),\n",
       "  Text(-0.6,-5.61761e-08,'27.27'),\n",
       "  Text(0.085389,-0.593893,'27.27'),\n",
       "  Text(0.575696,-0.169039,'9.09')])"
      ]
     },
     "execution_count": 39,
     "metadata": {},
     "output_type": "execute_result"
    },
    {
     "data": {
      "image/png": "[encoded data removed]",
      "text/plain": [
       "<matplotlib.figure.Figure at 0x21afa813710>"
      ]
     },
     "metadata": {},
     "output_type": "display_data"
    }
   ],
   "source": [
    "plt.pie(top_5_contents.values, labels = top_5_contents.index, autopct='%.2f')"
   ]
  },
  {
   "cell_type": "code",
   "execution_count": null,
   "metadata": {
    "collapsed": true
   },
   "outputs": [],
   "source": []
  }
 ],
 "metadata": {
  "kernelspec": {
   "display_name": "Python 3",
   "language": "python",
   "name": "python3"
  },
  "language_info": {
   "codemirror_mode": {
    "name": "ipython",
    "version": 3
   },
   "file_extension": ".py",
   "mimetype": "text/x-python",
   "name": "python",
   "nbconvert_exporter": "python",
   "pygments_lexer": "ipython3",
   "version": "3.6.3"
  }
 },
 "nbformat": 4,
 "nbformat_minor": 2
}
