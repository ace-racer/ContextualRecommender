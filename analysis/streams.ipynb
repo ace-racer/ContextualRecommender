{
 "cells": [
  {
   "cell_type": "code",
   "execution_count": 44,
   "metadata": {
    "collapsed": true
   },
   "outputs": [],
   "source": [
    "import pandas as pd\n",
    "import matplotlib.pyplot as plt\n",
    "import numpy as np\n"
   ]
  },
  {
   "cell_type": "markdown",
   "metadata": {},
   "source": [
    "### Get the number of unique streams per organizations from the stream_details csv, which captures organization, stream, card mapping"
   ]
  },
  {
   "cell_type": "code",
   "execution_count": 45,
   "metadata": {},
   "outputs": [
    {
     "name": "stdout",
     "output_type": "stream",
     "text": [
      "   ORGANIZATION  STREAMID                STREAMNAME  CARDID  \\\n",
      "0            14       163  Lubes Concepts for Japan    1090   \n",
      "1            14       163  Lubes Concepts for Japan    1091   \n",
      "2            14       163  Lubes Concepts for Japan    1092   \n",
      "3            14       163  Lubes Concepts for Japan    1093   \n",
      "4            14       163  Lubes Concepts for Japan    1094   \n",
      "\n",
      "                 CARDNAME  \n",
      "0            ????????????  \n",
      "1    ???????????? - ?????  \n",
      "2    ???????????? - ?????  \n",
      "3  ???????????? - ???????  \n",
      "4    ???????????? - ?????  \n"
     ]
    }
   ],
   "source": [
    "stream_details_df = pd.read_csv(\"../data/stream_details.csv\", encoding = \"ISO-8859-1\")\n",
    "print(stream_details_df.head())"
   ]
  },
  {
   "cell_type": "markdown",
   "metadata": {},
   "source": [
    "### Get the number of unique organizations"
   ]
  },
  {
   "cell_type": "code",
   "execution_count": 46,
   "metadata": {},
   "outputs": [
    {
     "name": "stdout",
     "output_type": "stream",
     "text": [
      "2\n"
     ]
    }
   ],
   "source": [
    "print(stream_details_df[\"ORGANIZATION\"].nunique())"
   ]
  },
  {
   "cell_type": "markdown",
   "metadata": {},
   "source": [
    "### Get the number of unique streams"
   ]
  },
  {
   "cell_type": "code",
   "execution_count": 47,
   "metadata": {},
   "outputs": [
    {
     "name": "stdout",
     "output_type": "stream",
     "text": [
      "840\n"
     ]
    }
   ],
   "source": [
    "print(stream_details_df[\"STREAMID\"].nunique())"
   ]
  },
  {
   "cell_type": "markdown",
   "metadata": {},
   "source": [
    "### Get the number of cards per stream"
   ]
  },
  {
   "cell_type": "code",
   "execution_count": 48,
   "metadata": {},
   "outputs": [
    {
     "name": "stdout",
     "output_type": "stream",
     "text": [
      "STREAMID\n",
      "163     15\n",
      "167     14\n",
      "171      6\n",
      "172      4\n",
      "173      8\n",
      "186      6\n",
      "199     12\n",
      "201     10\n",
      "202      1\n",
      "203     15\n",
      "204      1\n",
      "205      8\n",
      "206      9\n",
      "218     21\n",
      "219      1\n",
      "228      4\n",
      "229      1\n",
      "230      1\n",
      "231      8\n",
      "232      8\n",
      "233      6\n",
      "236      1\n",
      "237      1\n",
      "244     18\n",
      "245      7\n",
      "246      8\n",
      "247      1\n",
      "248      3\n",
      "315      3\n",
      "316      1\n",
      "        ..\n",
      "1657    14\n",
      "1659     2\n",
      "1660    27\n",
      "1661     1\n",
      "1662     6\n",
      "1663     7\n",
      "1664     7\n",
      "1665     4\n",
      "1666     3\n",
      "1668     2\n",
      "1669     5\n",
      "1670     8\n",
      "1671     7\n",
      "1672     3\n",
      "1673     2\n",
      "1674    17\n",
      "1677     1\n",
      "1678     1\n",
      "1680     7\n",
      "1682     1\n",
      "1683     7\n",
      "1684     2\n",
      "1685     1\n",
      "1686     1\n",
      "1687     1\n",
      "1688     1\n",
      "1689     1\n",
      "1690     1\n",
      "1691     1\n",
      "1694     2\n",
      "Name: CARDID, Length: 840, dtype: int64\n"
     ]
    }
   ],
   "source": [
    "cards_per_stream = stream_details_df.groupby('STREAMID')['CARDID'].nunique()\n",
    "print(cards_per_stream)"
   ]
  },
  {
   "cell_type": "markdown",
   "metadata": {},
   "source": [
    "### Get the distribution of streams for each organization - group by the organization and then the number of streams"
   ]
  },
  {
   "cell_type": "code",
   "execution_count": 49,
   "metadata": {},
   "outputs": [
    {
     "name": "stdout",
     "output_type": "stream",
     "text": [
      "ORGANIZATION\n",
      "14    120\n",
      "28    720\n",
      "Name: STREAMID, dtype: int64\n"
     ]
    }
   ],
   "source": [
    "stream_details_by_org = stream_details_df.groupby('ORGANIZATION')['STREAMID'].nunique()\n",
    "print(stream_details_by_org)"
   ]
  },
  {
   "cell_type": "code",
   "execution_count": 50,
   "metadata": {},
   "outputs": [
    {
     "name": "stdout",
     "output_type": "stream",
     "text": [
      "   org_id  User_Id  Gender  Dob     Location    City Country  \\\n",
      "0      14      245     NaN  NaN          NaN     NaN      SG   \n",
      "1      14      337     NaN  NaN          NaN     NaN      SG   \n",
      "2      14      267     NaN  NaN  Philippines  Manila      PH   \n",
      "3      14      343     NaN  NaN          NaN     NaN      SG   \n",
      "4      14      574     NaN  NaN          NaN     NaN      PH   \n",
      "\n",
      "               Role user_timezone  \n",
      "0  No Role Assigned     Singapore  \n",
      "1  No Role Assigned     Singapore  \n",
      "2  No Role Assigned     Singapore  \n",
      "3  No Role Assigned     Singapore  \n",
      "4  No Role Assigned     Singapore  \n"
     ]
    }
   ],
   "source": [
    "users_details_df = pd.read_csv(\"../data/UserProfile_Customer1 and 2.csv\", encoding = \"ISO-8859-1\")\n",
    "print(users_details_df.head())"
   ]
  },
  {
   "cell_type": "markdown",
   "metadata": {},
   "source": [
    "### Get the number of unique organizations from the user table"
   ]
  },
  {
   "cell_type": "code",
   "execution_count": 51,
   "metadata": {},
   "outputs": [
    {
     "name": "stdout",
     "output_type": "stream",
     "text": [
      "2\n"
     ]
    }
   ],
   "source": [
    "print(users_details_df[\"org_id\"].nunique())"
   ]
  },
  {
   "cell_type": "markdown",
   "metadata": {},
   "source": [
    "### Get the number of unique users from the user table"
   ]
  },
  {
   "cell_type": "code",
   "execution_count": 52,
   "metadata": {},
   "outputs": [
    {
     "name": "stdout",
     "output_type": "stream",
     "text": [
      "22412\n"
     ]
    }
   ],
   "source": [
    "print(users_details_df[\"User_Id\"].nunique())"
   ]
  },
  {
   "cell_type": "markdown",
   "metadata": {},
   "source": [
    "### Get the distribution of users for each organization - group by the organization and then the number of users"
   ]
  },
  {
   "cell_type": "code",
   "execution_count": 53,
   "metadata": {},
   "outputs": [
    {
     "name": "stdout",
     "output_type": "stream",
     "text": [
      "org_id\n",
      "14      242\n",
      "28    22170\n",
      "Name: User_Id, dtype: int64\n"
     ]
    }
   ],
   "source": [
    "user_details_by_org = users_details_df.groupby('org_id')['User_Id'].nunique()\n",
    "print(user_details_by_org)"
   ]
  },
  {
   "cell_type": "markdown",
   "metadata": {},
   "source": [
    "#### Seems there is substantial representation from organization with org_id = 28"
   ]
  },
  {
   "cell_type": "markdown",
   "metadata": {},
   "source": [
    "### Get the views per user and group by organization"
   ]
  },
  {
   "cell_type": "code",
   "execution_count": 54,
   "metadata": {},
   "outputs": [
    {
     "name": "stdout",
     "output_type": "stream",
     "text": [
      "   USERID  CARDID      CARDTITLE  STREAMID STREAMNAME            TIMESTAMP  \\\n",
      "0    1019    3021  Best in Class       579  About HMD  2017-07-09 10:23:36   \n",
      "1    1054    3021  Best in Class       579  About HMD  2017-07-09 14:41:25   \n",
      "2     977    3021  Best in Class       579  About HMD  2017-07-09 13:35:38   \n",
      "3    1337    3021  Best in Class       579  About HMD  2017-07-10 05:53:05   \n",
      "4    1346    3021  Best in Class       579  About HMD  2017-07-10 11:23:59   \n",
      "\n",
      "   MODULEID MODULENAME  ORGANIZATION  \n",
      "0       473        HMD            28  \n",
      "1       473        HMD            28  \n",
      "2       473        HMD            28  \n",
      "3       473        HMD            28  \n",
      "4       473        HMD            28  \n"
     ]
    }
   ],
   "source": [
    "content_views_df = pd.read_csv(\"../data/stream_views/0907to0908.csv\", encoding = \"ISO-8859-1\")\n",
    "print(content_views_df.head())"
   ]
  },
  {
   "cell_type": "code",
   "execution_count": 55,
   "metadata": {},
   "outputs": [
    {
     "name": "stdout",
     "output_type": "stream",
     "text": [
      "ORGANIZATION\n",
      "28    136\n",
      "Name: STREAMID, dtype: int64\n"
     ]
    }
   ],
   "source": [
    "content_views_per_organization = content_views_df.groupby('ORGANIZATION')[\"STREAMID\"].nunique()\n",
    "print(content_views_per_organization)"
   ]
  },
  {
   "cell_type": "markdown",
   "metadata": {},
   "source": [
    "### So this file only has streams of organization 28\n",
    "#### The number of unique streams that has been viewed\n",
    "#### There are *136* streams in total in the file"
   ]
  },
  {
   "cell_type": "code",
   "execution_count": 56,
   "metadata": {},
   "outputs": [
    {
     "name": "stdout",
     "output_type": "stream",
     "text": [
      "USERID\n",
      "950      3\n",
      "958      4\n",
      "959     10\n",
      "961      6\n",
      "963     21\n",
      "964      2\n",
      "977     22\n",
      "1019     5\n",
      "1020     1\n",
      "1021     4\n",
      "1027    10\n",
      "1034     4\n",
      "1035     1\n",
      "1038     1\n",
      "1039     2\n",
      "1044     2\n",
      "1046     5\n",
      "1054    22\n",
      "1058     4\n",
      "1059    17\n",
      "1063    20\n",
      "1064    20\n",
      "1065    13\n",
      "1066     1\n",
      "1067     3\n",
      "1076     4\n",
      "1078     5\n",
      "1079     2\n",
      "1080     5\n",
      "1081    10\n",
      "        ..\n",
      "2760     2\n",
      "2761    13\n",
      "2762     9\n",
      "2763    19\n",
      "2764    11\n",
      "2765     4\n",
      "2767     5\n",
      "2768     5\n",
      "2769     4\n",
      "2770     7\n",
      "2771     5\n",
      "2772     2\n",
      "2773     8\n",
      "2774     7\n",
      "2775     1\n",
      "2776     2\n",
      "2777     2\n",
      "2778     6\n",
      "2782    13\n",
      "2783     6\n",
      "2787     2\n",
      "2788     1\n",
      "2789     3\n",
      "2790     2\n",
      "2792     5\n",
      "2794    10\n",
      "2797     9\n",
      "2799    19\n",
      "2800     2\n",
      "2803     6\n",
      "Name: STREAMID, Length: 1320, dtype: int64\n"
     ]
    }
   ],
   "source": [
    "unique_num_content_views_by_user = content_views_df.groupby('USERID')[\"STREAMID\"].nunique()\n",
    "print(unique_num_content_views_by_user)"
   ]
  },
  {
   "cell_type": "code",
   "execution_count": 57,
   "metadata": {},
   "outputs": [
    {
     "data": {
      "text/html": [
       "<div>\n",
       "<style>\n",
       "    .dataframe thead tr:only-child th {\n",
       "        text-align: right;\n",
       "    }\n",
       "\n",
       "    .dataframe thead th {\n",
       "        text-align: left;\n",
       "    }\n",
       "\n",
       "    .dataframe tbody tr th {\n",
       "        vertical-align: top;\n",
       "    }\n",
       "</style>\n",
       "<table border=\"1\" class=\"dataframe\">\n",
       "  <thead>\n",
       "    <tr style=\"text-align: right;\">\n",
       "      <th>STREAMID</th>\n",
       "      <th>579</th>\n",
       "      <th>580</th>\n",
       "      <th>581</th>\n",
       "      <th>582</th>\n",
       "      <th>583</th>\n",
       "      <th>584</th>\n",
       "      <th>585</th>\n",
       "      <th>586</th>\n",
       "      <th>587</th>\n",
       "      <th>588</th>\n",
       "      <th>...</th>\n",
       "      <th>786</th>\n",
       "      <th>787</th>\n",
       "      <th>788</th>\n",
       "      <th>789</th>\n",
       "      <th>790</th>\n",
       "      <th>793</th>\n",
       "      <th>795</th>\n",
       "      <th>796</th>\n",
       "      <th>797</th>\n",
       "      <th>798</th>\n",
       "    </tr>\n",
       "    <tr>\n",
       "      <th>USERID</th>\n",
       "      <th></th>\n",
       "      <th></th>\n",
       "      <th></th>\n",
       "      <th></th>\n",
       "      <th></th>\n",
       "      <th></th>\n",
       "      <th></th>\n",
       "      <th></th>\n",
       "      <th></th>\n",
       "      <th></th>\n",
       "      <th></th>\n",
       "      <th></th>\n",
       "      <th></th>\n",
       "      <th></th>\n",
       "      <th></th>\n",
       "      <th></th>\n",
       "      <th></th>\n",
       "      <th></th>\n",
       "      <th></th>\n",
       "      <th></th>\n",
       "      <th></th>\n",
       "    </tr>\n",
       "  </thead>\n",
       "  <tbody>\n",
       "    <tr>\n",
       "      <th>950</th>\n",
       "      <td>0.0</td>\n",
       "      <td>0.0</td>\n",
       "      <td>0.0</td>\n",
       "      <td>0.0</td>\n",
       "      <td>12.0</td>\n",
       "      <td>0.0</td>\n",
       "      <td>0.0</td>\n",
       "      <td>0.0</td>\n",
       "      <td>0.0</td>\n",
       "      <td>0.0</td>\n",
       "      <td>...</td>\n",
       "      <td>0.0</td>\n",
       "      <td>0.0</td>\n",
       "      <td>0.0</td>\n",
       "      <td>0.0</td>\n",
       "      <td>0.0</td>\n",
       "      <td>0.0</td>\n",
       "      <td>0.0</td>\n",
       "      <td>0.0</td>\n",
       "      <td>0.0</td>\n",
       "      <td>0.0</td>\n",
       "    </tr>\n",
       "    <tr>\n",
       "      <th>958</th>\n",
       "      <td>0.0</td>\n",
       "      <td>5.0</td>\n",
       "      <td>0.0</td>\n",
       "      <td>0.0</td>\n",
       "      <td>0.0</td>\n",
       "      <td>0.0</td>\n",
       "      <td>0.0</td>\n",
       "      <td>0.0</td>\n",
       "      <td>0.0</td>\n",
       "      <td>14.0</td>\n",
       "      <td>...</td>\n",
       "      <td>0.0</td>\n",
       "      <td>0.0</td>\n",
       "      <td>0.0</td>\n",
       "      <td>0.0</td>\n",
       "      <td>0.0</td>\n",
       "      <td>0.0</td>\n",
       "      <td>0.0</td>\n",
       "      <td>0.0</td>\n",
       "      <td>0.0</td>\n",
       "      <td>0.0</td>\n",
       "    </tr>\n",
       "    <tr>\n",
       "      <th>959</th>\n",
       "      <td>0.0</td>\n",
       "      <td>31.0</td>\n",
       "      <td>24.0</td>\n",
       "      <td>7.0</td>\n",
       "      <td>0.0</td>\n",
       "      <td>6.0</td>\n",
       "      <td>0.0</td>\n",
       "      <td>32.0</td>\n",
       "      <td>0.0</td>\n",
       "      <td>0.0</td>\n",
       "      <td>...</td>\n",
       "      <td>0.0</td>\n",
       "      <td>0.0</td>\n",
       "      <td>0.0</td>\n",
       "      <td>0.0</td>\n",
       "      <td>0.0</td>\n",
       "      <td>0.0</td>\n",
       "      <td>0.0</td>\n",
       "      <td>0.0</td>\n",
       "      <td>0.0</td>\n",
       "      <td>0.0</td>\n",
       "    </tr>\n",
       "    <tr>\n",
       "      <th>961</th>\n",
       "      <td>0.0</td>\n",
       "      <td>14.0</td>\n",
       "      <td>9.0</td>\n",
       "      <td>0.0</td>\n",
       "      <td>0.0</td>\n",
       "      <td>16.0</td>\n",
       "      <td>0.0</td>\n",
       "      <td>34.0</td>\n",
       "      <td>0.0</td>\n",
       "      <td>0.0</td>\n",
       "      <td>...</td>\n",
       "      <td>0.0</td>\n",
       "      <td>0.0</td>\n",
       "      <td>0.0</td>\n",
       "      <td>0.0</td>\n",
       "      <td>0.0</td>\n",
       "      <td>0.0</td>\n",
       "      <td>0.0</td>\n",
       "      <td>0.0</td>\n",
       "      <td>0.0</td>\n",
       "      <td>0.0</td>\n",
       "    </tr>\n",
       "    <tr>\n",
       "      <th>963</th>\n",
       "      <td>7.0</td>\n",
       "      <td>36.0</td>\n",
       "      <td>21.0</td>\n",
       "      <td>24.0</td>\n",
       "      <td>0.0</td>\n",
       "      <td>28.0</td>\n",
       "      <td>21.0</td>\n",
       "      <td>101.0</td>\n",
       "      <td>51.0</td>\n",
       "      <td>44.0</td>\n",
       "      <td>...</td>\n",
       "      <td>0.0</td>\n",
       "      <td>0.0</td>\n",
       "      <td>0.0</td>\n",
       "      <td>0.0</td>\n",
       "      <td>0.0</td>\n",
       "      <td>0.0</td>\n",
       "      <td>0.0</td>\n",
       "      <td>0.0</td>\n",
       "      <td>0.0</td>\n",
       "      <td>0.0</td>\n",
       "    </tr>\n",
       "  </tbody>\n",
       "</table>\n",
       "<p>5 rows × 136 columns</p>\n",
       "</div>"
      ],
      "text/plain": [
       "STREAMID  579   580   581   582   583   584   585    586   587   588 ...   \\\n",
       "USERID                                                               ...    \n",
       "950       0.0   0.0   0.0   0.0  12.0   0.0   0.0    0.0   0.0   0.0 ...    \n",
       "958       0.0   5.0   0.0   0.0   0.0   0.0   0.0    0.0   0.0  14.0 ...    \n",
       "959       0.0  31.0  24.0   7.0   0.0   6.0   0.0   32.0   0.0   0.0 ...    \n",
       "961       0.0  14.0   9.0   0.0   0.0  16.0   0.0   34.0   0.0   0.0 ...    \n",
       "963       7.0  36.0  21.0  24.0   0.0  28.0  21.0  101.0  51.0  44.0 ...    \n",
       "\n",
       "STREAMID  786  787  788  789  790  793  795  796  797  798  \n",
       "USERID                                                      \n",
       "950       0.0  0.0  0.0  0.0  0.0  0.0  0.0  0.0  0.0  0.0  \n",
       "958       0.0  0.0  0.0  0.0  0.0  0.0  0.0  0.0  0.0  0.0  \n",
       "959       0.0  0.0  0.0  0.0  0.0  0.0  0.0  0.0  0.0  0.0  \n",
       "961       0.0  0.0  0.0  0.0  0.0  0.0  0.0  0.0  0.0  0.0  \n",
       "963       0.0  0.0  0.0  0.0  0.0  0.0  0.0  0.0  0.0  0.0  \n",
       "\n",
       "[5 rows x 136 columns]"
      ]
     },
     "execution_count": 57,
     "metadata": {},
     "output_type": "execute_result"
    }
   ],
   "source": [
    "# Generate a pivot table from the views data\n",
    "content_views_by_user = pd.pivot_table(content_views_df, index = \"USERID\", columns = \"STREAMID\", values = \"TIMESTAMP\", aggfunc=\"count\")\n",
    "\n",
    "# fill the NA values with 0 - since there are no views for these contents\n",
    "content_views_by_user = content_views_by_user.fillna(value = 0)\n",
    "\n",
    "content_views_by_user.head()"
   ]
  },
  {
   "cell_type": "code",
   "execution_count": 58,
   "metadata": {},
   "outputs": [
    {
     "name": "stdout",
     "output_type": "stream",
     "text": [
      "STREAMID    579    580    581    582   583    584    585     586     587  \\\n",
      "0.00        0.0    0.0    0.0    0.0   0.0    0.0    0.0     0.0     0.0   \n",
      "0.25        0.0    0.0    0.0    0.0   0.0    0.0    0.0     0.0     0.0   \n",
      "0.50        0.0    4.0    2.0    2.0   0.0    1.0    0.0     0.0     0.0   \n",
      "0.75        3.0   10.0    8.0    7.0   0.0    9.0    6.0    17.0    14.0   \n",
      "1.00      222.0  433.0  491.0  437.0  12.0  739.0  648.0  7247.0  2222.0   \n",
      "\n",
      "STREAMID     588 ...    786  787  788  789  790  793  795  796  797  798  \n",
      "0.00         0.0 ...    0.0  0.0  0.0  0.0  0.0  0.0  0.0  0.0  0.0  0.0  \n",
      "0.25         0.0 ...    0.0  0.0  0.0  0.0  0.0  0.0  0.0  0.0  0.0  0.0  \n",
      "0.50         0.0 ...    0.0  0.0  0.0  0.0  0.0  0.0  0.0  0.0  0.0  0.0  \n",
      "0.75        13.0 ...    0.0  0.0  0.0  0.0  0.0  0.0  0.0  0.0  0.0  0.0  \n",
      "1.00      1707.0 ...   14.0  6.0  6.0  6.0  6.0  8.0  1.0  4.0  2.0  1.0  \n",
      "\n",
      "[5 rows x 136 columns]\n",
      "USERID  950   958   959   961    963   964   977   1019  1020  1021  ...   \\\n",
      "0.00     0.0   0.0   0.0   0.0    0.0   0.0   0.0   0.0   0.0   0.0  ...    \n",
      "0.25     0.0   0.0   0.0   0.0    0.0   0.0   0.0   0.0   0.0   0.0  ...    \n",
      "0.50     0.0   0.0   0.0   0.0    0.0   0.0   0.0   0.0   0.0   0.0  ...    \n",
      "0.75     0.0   0.0   0.0   0.0    0.0   0.0   0.0   0.0   0.0   0.0  ...    \n",
      "1.00    12.0  14.0  32.0  34.0  101.0  15.0  33.0   6.0   7.0   6.0  ...    \n",
      "\n",
      "USERID  2787  2788  2789  2790  2792  2794  2797  2799  2800  2803  \n",
      "0.00     0.0   0.0   0.0   0.0   0.0   0.0   0.0   0.0   0.0   0.0  \n",
      "0.25     0.0   0.0   0.0   0.0   0.0   0.0   0.0   0.0   0.0   0.0  \n",
      "0.50     0.0   0.0   0.0   0.0   0.0   0.0   0.0   0.0   0.0   0.0  \n",
      "0.75     0.0   0.0   0.0   0.0   0.0   0.0   0.0   0.0   0.0   0.0  \n",
      "1.00     7.0   2.0   4.0   6.0  10.0  27.0  17.0  17.0   6.0  12.0  \n",
      "\n",
      "[5 rows x 1320 columns]\n"
     ]
    }
   ],
   "source": [
    "content_views_by_user.to_csv(\"../data/generated/content_views_by_user_op.csv\")\n",
    "\n",
    "# the 5 quantiles\n",
    "quantile_values = [0, 0.25, 0.5, 0.75, 1]\n",
    "\n",
    "# quantiles by users\n",
    "quantiles_by_users = content_views_by_user.quantile(quantile_values, axis = 0)\n",
    "\n",
    "# quantiles by streams\n",
    "quantiles_by_streams = content_views_by_user.quantile(quantile_values, axis = 1)\n",
    "\n",
    "print(quantiles_by_users)\n",
    "print(quantiles_by_streams)"
   ]
  },
  {
   "cell_type": "markdown",
   "metadata": {},
   "source": [
    "### Considering the number of streams that each user has viewed"
   ]
  },
  {
   "cell_type": "code",
   "execution_count": 59,
   "metadata": {},
   "outputs": [
    {
     "name": "stdout",
     "output_type": "stream",
     "text": [
      "0.00     1.0\n",
      "0.25     3.0\n",
      "0.50     7.0\n",
      "0.75    16.0\n",
      "1.00    41.0\n",
      "Name: STREAMID, dtype: float64\n"
     ]
    }
   ],
   "source": [
    "quantiles_by_num_views = unique_num_content_views_by_user.quantile(quantile_values)\n",
    "print(quantiles_by_num_views)"
   ]
  },
  {
   "cell_type": "code",
   "execution_count": 60,
   "metadata": {},
   "outputs": [
    {
     "name": "stdout",
     "output_type": "stream",
     "text": [
      "No cards for the stream: 583\n",
      "No cards for the stream: 601\n",
      "No cards for the stream: 605\n",
      "No cards for the stream: 621\n",
      "No cards for the stream: 631\n",
      "No cards for the stream: 643\n",
      "No cards for the stream: 644\n",
      "No cards for the stream: 645\n",
      "No cards for the stream: 646\n",
      "No cards for the stream: 647\n",
      "No cards for the stream: 648\n",
      "No cards for the stream: 649\n",
      "No cards for the stream: 650\n",
      "No cards for the stream: 651\n",
      "No cards for the stream: 652\n",
      "No cards for the stream: 653\n",
      "No cards for the stream: 654\n",
      "No cards for the stream: 655\n",
      "No cards for the stream: 659\n",
      "No cards for the stream: 682\n",
      "No cards for the stream: 685\n",
      "No cards for the stream: 701\n",
      "No cards for the stream: 757\n",
      "No cards for the stream: 793\n",
      "No cards for the stream: 795\n",
      "No cards for the stream: 796\n",
      "No cards for the stream: 797\n",
      "No cards for the stream: 798\n"
     ]
    },
    {
     "data": {
      "text/html": [
       "<div>\n",
       "<style>\n",
       "    .dataframe thead tr:only-child th {\n",
       "        text-align: right;\n",
       "    }\n",
       "\n",
       "    .dataframe thead th {\n",
       "        text-align: left;\n",
       "    }\n",
       "\n",
       "    .dataframe tbody tr th {\n",
       "        vertical-align: top;\n",
       "    }\n",
       "</style>\n",
       "<table border=\"1\" class=\"dataframe\">\n",
       "  <thead>\n",
       "    <tr style=\"text-align: right;\">\n",
       "      <th>STREAMID</th>\n",
       "      <th>579</th>\n",
       "      <th>580</th>\n",
       "      <th>581</th>\n",
       "      <th>582</th>\n",
       "      <th>583</th>\n",
       "      <th>584</th>\n",
       "      <th>585</th>\n",
       "      <th>586</th>\n",
       "      <th>587</th>\n",
       "      <th>588</th>\n",
       "      <th>...</th>\n",
       "      <th>786</th>\n",
       "      <th>787</th>\n",
       "      <th>788</th>\n",
       "      <th>789</th>\n",
       "      <th>790</th>\n",
       "      <th>793</th>\n",
       "      <th>795</th>\n",
       "      <th>796</th>\n",
       "      <th>797</th>\n",
       "      <th>798</th>\n",
       "    </tr>\n",
       "    <tr>\n",
       "      <th>USERID</th>\n",
       "      <th></th>\n",
       "      <th></th>\n",
       "      <th></th>\n",
       "      <th></th>\n",
       "      <th></th>\n",
       "      <th></th>\n",
       "      <th></th>\n",
       "      <th></th>\n",
       "      <th></th>\n",
       "      <th></th>\n",
       "      <th></th>\n",
       "      <th></th>\n",
       "      <th></th>\n",
       "      <th></th>\n",
       "      <th></th>\n",
       "      <th></th>\n",
       "      <th></th>\n",
       "      <th></th>\n",
       "      <th></th>\n",
       "      <th></th>\n",
       "      <th></th>\n",
       "    </tr>\n",
       "  </thead>\n",
       "  <tbody>\n",
       "    <tr>\n",
       "      <th>950</th>\n",
       "      <td>0.0</td>\n",
       "      <td>0.000000</td>\n",
       "      <td>0.000000</td>\n",
       "      <td>0.00</td>\n",
       "      <td>12.0</td>\n",
       "      <td>0.000000</td>\n",
       "      <td>0.00</td>\n",
       "      <td>0.000000</td>\n",
       "      <td>0.0</td>\n",
       "      <td>0.000000</td>\n",
       "      <td>...</td>\n",
       "      <td>0.0</td>\n",
       "      <td>0.0</td>\n",
       "      <td>0.0</td>\n",
       "      <td>0.0</td>\n",
       "      <td>0.0</td>\n",
       "      <td>0.0</td>\n",
       "      <td>0.0</td>\n",
       "      <td>0.0</td>\n",
       "      <td>0.0</td>\n",
       "      <td>0.0</td>\n",
       "    </tr>\n",
       "    <tr>\n",
       "      <th>958</th>\n",
       "      <td>0.0</td>\n",
       "      <td>0.263158</td>\n",
       "      <td>0.000000</td>\n",
       "      <td>0.00</td>\n",
       "      <td>0.0</td>\n",
       "      <td>0.000000</td>\n",
       "      <td>0.00</td>\n",
       "      <td>0.000000</td>\n",
       "      <td>0.0</td>\n",
       "      <td>1.000000</td>\n",
       "      <td>...</td>\n",
       "      <td>0.0</td>\n",
       "      <td>0.0</td>\n",
       "      <td>0.0</td>\n",
       "      <td>0.0</td>\n",
       "      <td>0.0</td>\n",
       "      <td>0.0</td>\n",
       "      <td>0.0</td>\n",
       "      <td>0.0</td>\n",
       "      <td>0.0</td>\n",
       "      <td>0.0</td>\n",
       "    </tr>\n",
       "    <tr>\n",
       "      <th>959</th>\n",
       "      <td>0.0</td>\n",
       "      <td>1.631579</td>\n",
       "      <td>1.263158</td>\n",
       "      <td>0.35</td>\n",
       "      <td>0.0</td>\n",
       "      <td>0.545455</td>\n",
       "      <td>0.00</td>\n",
       "      <td>1.684211</td>\n",
       "      <td>0.0</td>\n",
       "      <td>0.000000</td>\n",
       "      <td>...</td>\n",
       "      <td>0.0</td>\n",
       "      <td>0.0</td>\n",
       "      <td>0.0</td>\n",
       "      <td>0.0</td>\n",
       "      <td>0.0</td>\n",
       "      <td>0.0</td>\n",
       "      <td>0.0</td>\n",
       "      <td>0.0</td>\n",
       "      <td>0.0</td>\n",
       "      <td>0.0</td>\n",
       "    </tr>\n",
       "    <tr>\n",
       "      <th>961</th>\n",
       "      <td>0.0</td>\n",
       "      <td>0.736842</td>\n",
       "      <td>0.473684</td>\n",
       "      <td>0.00</td>\n",
       "      <td>0.0</td>\n",
       "      <td>1.454545</td>\n",
       "      <td>0.00</td>\n",
       "      <td>1.789474</td>\n",
       "      <td>0.0</td>\n",
       "      <td>0.000000</td>\n",
       "      <td>...</td>\n",
       "      <td>0.0</td>\n",
       "      <td>0.0</td>\n",
       "      <td>0.0</td>\n",
       "      <td>0.0</td>\n",
       "      <td>0.0</td>\n",
       "      <td>0.0</td>\n",
       "      <td>0.0</td>\n",
       "      <td>0.0</td>\n",
       "      <td>0.0</td>\n",
       "      <td>0.0</td>\n",
       "    </tr>\n",
       "    <tr>\n",
       "      <th>963</th>\n",
       "      <td>3.5</td>\n",
       "      <td>1.894737</td>\n",
       "      <td>1.105263</td>\n",
       "      <td>1.20</td>\n",
       "      <td>0.0</td>\n",
       "      <td>2.545455</td>\n",
       "      <td>5.25</td>\n",
       "      <td>5.315789</td>\n",
       "      <td>10.2</td>\n",
       "      <td>3.142857</td>\n",
       "      <td>...</td>\n",
       "      <td>0.0</td>\n",
       "      <td>0.0</td>\n",
       "      <td>0.0</td>\n",
       "      <td>0.0</td>\n",
       "      <td>0.0</td>\n",
       "      <td>0.0</td>\n",
       "      <td>0.0</td>\n",
       "      <td>0.0</td>\n",
       "      <td>0.0</td>\n",
       "      <td>0.0</td>\n",
       "    </tr>\n",
       "  </tbody>\n",
       "</table>\n",
       "<p>5 rows × 136 columns</p>\n",
       "</div>"
      ],
      "text/plain": [
       "STREAMID  579       580       581   582   583       584   585       586   587  \\\n",
       "USERID                                                                          \n",
       "950       0.0  0.000000  0.000000  0.00  12.0  0.000000  0.00  0.000000   0.0   \n",
       "958       0.0  0.263158  0.000000  0.00   0.0  0.000000  0.00  0.000000   0.0   \n",
       "959       0.0  1.631579  1.263158  0.35   0.0  0.545455  0.00  1.684211   0.0   \n",
       "961       0.0  0.736842  0.473684  0.00   0.0  1.454545  0.00  1.789474   0.0   \n",
       "963       3.5  1.894737  1.105263  1.20   0.0  2.545455  5.25  5.315789  10.2   \n",
       "\n",
       "STREAMID       588 ...   786  787  788  789  790  793  795  796  797  798  \n",
       "USERID             ...                                                     \n",
       "950       0.000000 ...   0.0  0.0  0.0  0.0  0.0  0.0  0.0  0.0  0.0  0.0  \n",
       "958       1.000000 ...   0.0  0.0  0.0  0.0  0.0  0.0  0.0  0.0  0.0  0.0  \n",
       "959       0.000000 ...   0.0  0.0  0.0  0.0  0.0  0.0  0.0  0.0  0.0  0.0  \n",
       "961       0.000000 ...   0.0  0.0  0.0  0.0  0.0  0.0  0.0  0.0  0.0  0.0  \n",
       "963       3.142857 ...   0.0  0.0  0.0  0.0  0.0  0.0  0.0  0.0  0.0  0.0  \n",
       "\n",
       "[5 rows x 136 columns]"
      ]
     },
     "execution_count": 60,
     "metadata": {},
     "output_type": "execute_result"
    }
   ],
   "source": [
    "for streamId in content_views_by_user:\n",
    "    \n",
    "    if cards_per_stream.get(streamId):\n",
    "        content_views_by_user[streamId] = content_views_by_user[streamId] / cards_per_stream[streamId]\n",
    "    else:\n",
    "        print(\"No cards for the stream: \" + str(streamId))\n",
    "        \n",
    "content_views_by_user.head()"
   ]
  },
  {
   "cell_type": "markdown",
   "metadata": {},
   "source": [
    "### test the above values"
   ]
  },
  {
   "cell_type": "code",
   "execution_count": 61,
   "metadata": {},
   "outputs": [
    {
     "name": "stdout",
     "output_type": "stream",
     "text": [
      "5\n"
     ]
    }
   ],
   "source": [
    "streamId = 587\n",
    "\n",
    "if cards_per_stream.get(streamId):\n",
    "    print(cards_per_stream[streamId])\n",
    "else:\n",
    "    print(\"No card for the stream with streamId {0} exists\".format(str(streamId)))"
   ]
  },
  {
   "cell_type": "code",
   "execution_count": 62,
   "metadata": {
    "collapsed": true
   },
   "outputs": [],
   "source": [
    "content_views_by_user.to_csv(\"../data/generated/content_views_by_user_by_card.csv\")"
   ]
  },
  {
   "cell_type": "code",
   "execution_count": 63,
   "metadata": {},
   "outputs": [
    {
     "name": "stdout",
     "output_type": "stream",
     "text": [
      "          579       580      581       582  583       584       585       586  \\\n",
      "950  0.000000  0.000000  0.00000  0.000000  1.0  0.000000  0.000000  0.000000   \n",
      "958  0.000000  0.011547  0.00000  0.000000  0.0  0.000000  0.000000  0.000000   \n",
      "959  0.000000  0.071594  0.04888  0.016018  0.0  0.008119  0.000000  0.004416   \n",
      "961  0.000000  0.032333  0.01833  0.000000  0.0  0.021651  0.000000  0.004692   \n",
      "963  0.031532  0.083141  0.04277  0.054920  0.0  0.037889  0.032407  0.013937   \n",
      "\n",
      "          587       588 ...   786  787  788  789  790  793  795  796  797  798  \n",
      "950  0.000000  0.000000 ...   0.0  0.0  0.0  0.0  0.0  0.0  0.0  0.0  0.0  0.0  \n",
      "958  0.000000  0.008202 ...   0.0  0.0  0.0  0.0  0.0  0.0  0.0  0.0  0.0  0.0  \n",
      "959  0.000000  0.000000 ...   0.0  0.0  0.0  0.0  0.0  0.0  0.0  0.0  0.0  0.0  \n",
      "961  0.000000  0.000000 ...   0.0  0.0  0.0  0.0  0.0  0.0  0.0  0.0  0.0  0.0  \n",
      "963  0.022952  0.025776 ...   0.0  0.0  0.0  0.0  0.0  0.0  0.0  0.0  0.0  0.0  \n",
      "\n",
      "[5 rows x 136 columns]\n",
      "File created...\n"
     ]
    }
   ],
   "source": [
    "from sklearn.preprocessing import MinMaxScaler\n",
    "scaler = MinMaxScaler()\n",
    "\n",
    "# deep copy a data frame\n",
    "content_views_by_user_copy = content_views_by_user.copy(deep = True)\n",
    "\n",
    "scaled_content_views = scaler.fit_transform(content_views_by_user_copy)\n",
    "\n",
    "scaled_content_views_df = pd.DataFrame(scaled_content_views, columns=list(content_views_by_user), index = list(content_views_by_user.index))\n",
    "\n",
    "print(scaled_content_views_df.head(5))\n",
    "\n",
    "scaled_content_views_df.to_csv(\"../data/generated/content_views_by_user_scaled.csv\")\n",
    "print(\"File created...\")"
   ]
  },
  {
   "cell_type": "code",
   "execution_count": null,
   "metadata": {
    "collapsed": true
   },
   "outputs": [],
   "source": []
  }
 ],
 "metadata": {
  "kernelspec": {
   "display_name": "Python 3",
   "language": "python",
   "name": "python3"
  },
  "language_info": {
   "codemirror_mode": {
    "name": "ipython",
    "version": 3
   },
   "file_extension": ".py",
   "mimetype": "text/x-python",
   "name": "python",
   "nbconvert_exporter": "python",
   "pygments_lexer": "ipython3",
   "version": "3.6.3"
  }
 },
 "nbformat": 4,
 "nbformat_minor": 2
}
