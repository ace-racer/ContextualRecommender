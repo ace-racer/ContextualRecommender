{
 "cells": [
  {
   "cell_type": "code",
   "execution_count": 1,
   "metadata": {
    "collapsed": true
   },
   "outputs": [],
   "source": [
    "import pandas as pd\n",
    "import matplotlib.pyplot as plt\n",
    "import numpy as np\n"
   ]
  },
  {
   "cell_type": "markdown",
   "metadata": {},
   "source": [
    "### Get the number of unique streams per organizations from the stream_details csv, which captures organization, stream, card mapping"
   ]
  },
  {
   "cell_type": "code",
   "execution_count": 7,
   "metadata": {},
   "outputs": [
    {
     "name": "stdout",
     "output_type": "stream",
     "text": [
      "   ORGANIZATION  STREAMID                STREAMNAME  CARDID  \\\n",
      "0            14       163  Lubes Concepts for Japan    1090   \n",
      "1            14       163  Lubes Concepts for Japan    1091   \n",
      "2            14       163  Lubes Concepts for Japan    1092   \n",
      "3            14       163  Lubes Concepts for Japan    1093   \n",
      "4            14       163  Lubes Concepts for Japan    1094   \n",
      "\n",
      "                 CARDNAME  \n",
      "0            ????????????  \n",
      "1    ???????????? - ?????  \n",
      "2    ???????????? - ?????  \n",
      "3  ???????????? - ???????  \n",
      "4    ???????????? - ?????  \n"
     ]
    }
   ],
   "source": [
    "stream_details_df = pd.read_csv(\"../data/stream_details.csv\", encoding = \"ISO-8859-1\")\n",
    "print(stream_details_df.head())"
   ]
  },
  {
   "cell_type": "markdown",
   "metadata": {},
   "source": [
    "### Get the number of unique organizations"
   ]
  },
  {
   "cell_type": "code",
   "execution_count": 8,
   "metadata": {},
   "outputs": [
    {
     "name": "stdout",
     "output_type": "stream",
     "text": [
      "2\n"
     ]
    }
   ],
   "source": [
    "print(stream_details_df[\"ORGANIZATION\"].nunique())"
   ]
  },
  {
   "cell_type": "markdown",
   "metadata": {},
   "source": [
    "### Get the number of unique streams"
   ]
  },
  {
   "cell_type": "code",
   "execution_count": 9,
   "metadata": {},
   "outputs": [
    {
     "name": "stdout",
     "output_type": "stream",
     "text": [
      "840\n"
     ]
    }
   ],
   "source": [
    "print(stream_details_df[\"STREAMID\"].nunique())"
   ]
  },
  {
   "cell_type": "markdown",
   "metadata": {},
   "source": [
    "### Get the distribution of streams for each organization - group by the organization and then the number of streams"
   ]
  },
  {
   "cell_type": "code",
   "execution_count": 11,
   "metadata": {},
   "outputs": [
    {
     "name": "stdout",
     "output_type": "stream",
     "text": [
      "ORGANIZATION\n",
      "14    120\n",
      "28    720\n",
      "Name: STREAMID, dtype: int64\n"
     ]
    }
   ],
   "source": [
    "stream_details_by_org = stream_details_df.groupby('ORGANIZATION')['STREAMID'].nunique()\n",
    "print(stream_details_by_org)"
   ]
  },
  {
   "cell_type": "code",
   "execution_count": 12,
   "metadata": {},
   "outputs": [
    {
     "name": "stdout",
     "output_type": "stream",
     "text": [
      "   org_id  User_Id  Gender  Dob     Location    City Country  \\\n",
      "0      14      245     NaN  NaN          NaN     NaN      SG   \n",
      "1      14      337     NaN  NaN          NaN     NaN      SG   \n",
      "2      14      267     NaN  NaN  Philippines  Manila      PH   \n",
      "3      14      343     NaN  NaN          NaN     NaN      SG   \n",
      "4      14      574     NaN  NaN          NaN     NaN      PH   \n",
      "\n",
      "               Role user_timezone  \n",
      "0  No Role Assigned     Singapore  \n",
      "1  No Role Assigned     Singapore  \n",
      "2  No Role Assigned     Singapore  \n",
      "3  No Role Assigned     Singapore  \n",
      "4  No Role Assigned     Singapore  \n"
     ]
    }
   ],
   "source": [
    "users_details_df = pd.read_csv(\"../data/UserProfile_Customer1 and 2.csv\", encoding = \"ISO-8859-1\")\n",
    "print(users_details_df.head())"
   ]
  },
  {
   "cell_type": "markdown",
   "metadata": {},
   "source": [
    "### Get the number of unique organizations from the user table"
   ]
  },
  {
   "cell_type": "code",
   "execution_count": 13,
   "metadata": {},
   "outputs": [
    {
     "name": "stdout",
     "output_type": "stream",
     "text": [
      "2\n"
     ]
    }
   ],
   "source": [
    "print(users_details_df[\"org_id\"].nunique())"
   ]
  },
  {
   "cell_type": "markdown",
   "metadata": {},
   "source": [
    "### Get the number of unique users from the user table"
   ]
  },
  {
   "cell_type": "code",
   "execution_count": 15,
   "metadata": {},
   "outputs": [
    {
     "name": "stdout",
     "output_type": "stream",
     "text": [
      "22412\n"
     ]
    }
   ],
   "source": [
    "print(users_details_df[\"User_Id\"].nunique())"
   ]
  },
  {
   "cell_type": "markdown",
   "metadata": {},
   "source": [
    "### Get the distribution of users for each organization - group by the organization and then the number of users"
   ]
  },
  {
   "cell_type": "code",
   "execution_count": 16,
   "metadata": {},
   "outputs": [
    {
     "name": "stdout",
     "output_type": "stream",
     "text": [
      "org_id\n",
      "14      242\n",
      "28    22170\n",
      "Name: User_Id, dtype: int64\n"
     ]
    }
   ],
   "source": [
    "user_details_by_org = users_details_df.groupby('org_id')['User_Id'].nunique()\n",
    "print(user_details_by_org)"
   ]
  },
  {
   "cell_type": "markdown",
   "metadata": {},
   "source": [
    "#### Seems there is substantial representation from organization with org_id = 28"
   ]
  },
  {
   "cell_type": "markdown",
   "metadata": {},
   "source": [
    "### Get the views per user and group by organization"
   ]
  },
  {
   "cell_type": "code",
   "execution_count": 18,
   "metadata": {},
   "outputs": [
    {
     "name": "stdout",
     "output_type": "stream",
     "text": [
      "   USERID  CARDID      CARDTITLE  STREAMID STREAMNAME            TIMESTAMP  \\\n",
      "0    1019    3021  Best in Class       579  About HMD  2017-07-09 10:23:36   \n",
      "1    1054    3021  Best in Class       579  About HMD  2017-07-09 14:41:25   \n",
      "2     977    3021  Best in Class       579  About HMD  2017-07-09 13:35:38   \n",
      "3    1337    3021  Best in Class       579  About HMD  2017-07-10 05:53:05   \n",
      "4    1346    3021  Best in Class       579  About HMD  2017-07-10 11:23:59   \n",
      "\n",
      "   MODULEID MODULENAME  ORGANIZATION  \n",
      "0       473        HMD            28  \n",
      "1       473        HMD            28  \n",
      "2       473        HMD            28  \n",
      "3       473        HMD            28  \n",
      "4       473        HMD            28  \n"
     ]
    }
   ],
   "source": [
    "content_views_df = pd.read_csv(\"../data/stream_views/0907to0908.csv\", encoding = \"ISO-8859-1\")\n",
    "print(content_views_df.head())"
   ]
  },
  {
   "cell_type": "code",
   "execution_count": 20,
   "metadata": {},
   "outputs": [
    {
     "name": "stdout",
     "output_type": "stream",
     "text": [
      "ORGANIZATION\n",
      "28    136\n",
      "Name: STREAMID, dtype: int64\n"
     ]
    }
   ],
   "source": [
    "content_views_per_organization = content_views_df.groupby('ORGANIZATION')[\"STREAMID\"].nunique()\n",
    "print(content_views_per_organization)"
   ]
  },
  {
   "cell_type": "markdown",
   "metadata": {},
   "source": [
    "### So this file only has streams of organization 28"
   ]
  },
  {
   "cell_type": "code",
   "execution_count": 25,
   "metadata": {},
   "outputs": [
    {
     "name": "stdout",
     "output_type": "stream",
     "text": [
      "USERID\n",
      "950      3\n",
      "958      4\n",
      "959     10\n",
      "961      6\n",
      "963     21\n",
      "964      2\n",
      "977     22\n",
      "1019     5\n",
      "1020     1\n",
      "1021     4\n",
      "1027    10\n",
      "1034     4\n",
      "1035     1\n",
      "1038     1\n",
      "1039     2\n",
      "1044     2\n",
      "1046     5\n",
      "1054    22\n",
      "1058     4\n",
      "1059    17\n",
      "1063    20\n",
      "1064    20\n",
      "1065    13\n",
      "1066     1\n",
      "1067     3\n",
      "1076     4\n",
      "1078     5\n",
      "1079     2\n",
      "1080     5\n",
      "1081    10\n",
      "        ..\n",
      "2760     2\n",
      "2761    13\n",
      "2762     9\n",
      "2763    19\n",
      "2764    11\n",
      "2765     4\n",
      "2767     5\n",
      "2768     5\n",
      "2769     4\n",
      "2770     7\n",
      "2771     5\n",
      "2772     2\n",
      "2773     8\n",
      "2774     7\n",
      "2775     1\n",
      "2776     2\n",
      "2777     2\n",
      "2778     6\n",
      "2782    13\n",
      "2783     6\n",
      "2787     2\n",
      "2788     1\n",
      "2789     3\n",
      "2790     2\n",
      "2792     5\n",
      "2794    10\n",
      "2797     9\n",
      "2799    19\n",
      "2800     2\n",
      "2803     6\n",
      "Name: STREAMID, Length: 1320, dtype: int64\n"
     ]
    }
   ],
   "source": [
    "content_views_by_user = content_views_df.groupby('USERID')[\"STREAMID\"].nunique()\n",
    "print(content_views_by_user)"
   ]
  },
  {
   "cell_type": "code",
   "execution_count": null,
   "metadata": {
    "collapsed": true
   },
   "outputs": [],
   "source": []
  }
 ],
 "metadata": {
  "kernelspec": {
   "display_name": "Python 3",
   "language": "python",
   "name": "python3"
  },
  "language_info": {
   "codemirror_mode": {
    "name": "ipython",
    "version": 3
   },
   "file_extension": ".py",
   "mimetype": "text/x-python",
   "name": "python",
   "nbconvert_exporter": "python",
   "pygments_lexer": "ipython3",
   "version": "3.6.3"
  }
 },
 "nbformat": 4,
 "nbformat_minor": 2
}
