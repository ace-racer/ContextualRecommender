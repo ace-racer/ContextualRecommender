{
 "cells": [
  {
   "cell_type": "code",
   "execution_count": 1,
   "metadata": {
    "collapsed": true
   },
   "outputs": [],
   "source": [
    "import pandas as pd\n",
    "import matplotlib.pyplot as plt\n",
    "import numpy as np\n"
   ]
  },
  {
   "cell_type": "markdown",
   "metadata": {},
   "source": [
    "### Get the number of unique streams per organizations from the stream_details csv, which captures organization, stream, card mapping"
   ]
  },
  {
   "cell_type": "code",
   "execution_count": 7,
   "metadata": {},
   "outputs": [
    {
     "name": "stdout",
     "output_type": "stream",
     "text": [
      "   ORGANIZATION  STREAMID                STREAMNAME  CARDID  \\\n",
      "0            14       163  Lubes Concepts for Japan    1090   \n",
      "1            14       163  Lubes Concepts for Japan    1091   \n",
      "2            14       163  Lubes Concepts for Japan    1092   \n",
      "3            14       163  Lubes Concepts for Japan    1093   \n",
      "4            14       163  Lubes Concepts for Japan    1094   \n",
      "\n",
      "                 CARDNAME  \n",
      "0            ????????????  \n",
      "1    ???????????? - ?????  \n",
      "2    ???????????? - ?????  \n",
      "3  ???????????? - ???????  \n",
      "4    ???????????? - ?????  \n"
     ]
    }
   ],
   "source": [
    "stream_details_df = pd.read_csv(\"../data/stream_details.csv\", encoding = \"ISO-8859-1\")\n",
    "print(stream_details_df.head())"
   ]
  },
  {
   "cell_type": "markdown",
   "metadata": {},
   "source": [
    "### Get the number of unique organizations"
   ]
  },
  {
   "cell_type": "code",
   "execution_count": 8,
   "metadata": {},
   "outputs": [
    {
     "name": "stdout",
     "output_type": "stream",
     "text": [
      "2\n"
     ]
    }
   ],
   "source": [
    "print(stream_details_df[\"ORGANIZATION\"].nunique())"
   ]
  },
  {
   "cell_type": "markdown",
   "metadata": {},
   "source": [
    "### Get the number of unique streams"
   ]
  },
  {
   "cell_type": "code",
   "execution_count": 9,
   "metadata": {},
   "outputs": [
    {
     "name": "stdout",
     "output_type": "stream",
     "text": [
      "840\n"
     ]
    }
   ],
   "source": [
    "print(stream_details_df[\"STREAMID\"].nunique())"
   ]
  },
  {
   "cell_type": "markdown",
   "metadata": {},
   "source": [
    "### Get the distribution of streams for each organization - group by the organization and then the number of streams"
   ]
  },
  {
   "cell_type": "code",
   "execution_count": 11,
   "metadata": {},
   "outputs": [
    {
     "name": "stdout",
     "output_type": "stream",
     "text": [
      "ORGANIZATION\n",
      "14    120\n",
      "28    720\n",
      "Name: STREAMID, dtype: int64\n"
     ]
    }
   ],
   "source": [
    "stream_details_by_org = stream_details_df.groupby('ORGANIZATION')['STREAMID'].nunique()\n",
    "print(stream_details_by_org)"
   ]
  },
  {
   "cell_type": "code",
   "execution_count": null,
   "metadata": {
    "collapsed": true
   },
   "outputs": [],
   "source": []
  }
 ],
 "metadata": {
  "kernelspec": {
   "display_name": "Python 3",
   "language": "python",
   "name": "python3"
  },
  "language_info": {
   "codemirror_mode": {
    "name": "ipython",
    "version": 3
   },
   "file_extension": ".py",
   "mimetype": "text/x-python",
   "name": "python",
   "nbconvert_exporter": "python",
   "pygments_lexer": "ipython3",
   "version": "3.6.3"
  }
 },
 "nbformat": 4,
 "nbformat_minor": 2
}
