{
 "cells": [
  {
   "cell_type": "code",
   "execution_count": 1,
   "metadata": {
    "collapsed": true
   },
   "outputs": [],
   "source": [
    "import pandas as pd\n",
    "import numpy as np\n",
    "import matplotlib.pyplot as plt\n",
    "%matplotlib inline\n",
    "import sys"
   ]
  },
  {
   "cell_type": "code",
   "execution_count": 2,
   "metadata": {
    "collapsed": true
   },
   "outputs": [],
   "source": [
    "sys.path.append(\"../modules/\")"
   ]
  },
  {
   "cell_type": "code",
   "execution_count": 3,
   "metadata": {
    "collapsed": true
   },
   "outputs": [],
   "source": [
    "import ContentRecommender\n",
    "import CollaborativeRecommender"
   ]
  },
  {
   "cell_type": "code",
   "execution_count": 4,
   "metadata": {
    "collapsed": true
   },
   "outputs": [],
   "source": [
    "import UserStreamViews\n",
    "import CombinedRecommender"
   ]
  },
  {
   "cell_type": "code",
   "execution_count": 5,
   "metadata": {},
   "outputs": [
    {
     "data": {
      "text/html": [
       "<div>\n",
       "<style scoped>\n",
       "    .dataframe tbody tr th:only-of-type {\n",
       "        vertical-align: middle;\n",
       "    }\n",
       "\n",
       "    .dataframe tbody tr th {\n",
       "        vertical-align: top;\n",
       "    }\n",
       "\n",
       "    .dataframe thead th {\n",
       "        text-align: right;\n",
       "    }\n",
       "</style>\n",
       "<table border=\"1\" class=\"dataframe\">\n",
       "  <thead>\n",
       "    <tr style=\"text-align: right;\">\n",
       "      <th></th>\n",
       "      <th>USERID</th>\n",
       "      <th>STREAMID</th>\n",
       "      <th>num_views</th>\n",
       "      <th>day_of_week</th>\n",
       "      <th>time_labeled</th>\n",
       "      <th>num_cards</th>\n",
       "      <th>views_per_card</th>\n",
       "    </tr>\n",
       "  </thead>\n",
       "  <tbody>\n",
       "    <tr>\n",
       "      <th>0</th>\n",
       "      <td>245</td>\n",
       "      <td>163</td>\n",
       "      <td>1029</td>\n",
       "      <td>Wednesday</td>\n",
       "      <td>Afternoon</td>\n",
       "      <td>15</td>\n",
       "      <td>68.600000</td>\n",
       "    </tr>\n",
       "    <tr>\n",
       "      <th>1</th>\n",
       "      <td>245</td>\n",
       "      <td>167</td>\n",
       "      <td>258</td>\n",
       "      <td>Thursday</td>\n",
       "      <td>Afternoon</td>\n",
       "      <td>14</td>\n",
       "      <td>18.428571</td>\n",
       "    </tr>\n",
       "    <tr>\n",
       "      <th>2</th>\n",
       "      <td>245</td>\n",
       "      <td>171</td>\n",
       "      <td>123</td>\n",
       "      <td>Wednesday</td>\n",
       "      <td>Afternoon</td>\n",
       "      <td>6</td>\n",
       "      <td>20.500000</td>\n",
       "    </tr>\n",
       "    <tr>\n",
       "      <th>3</th>\n",
       "      <td>245</td>\n",
       "      <td>172</td>\n",
       "      <td>83</td>\n",
       "      <td>Wednesday</td>\n",
       "      <td>Afternoon</td>\n",
       "      <td>4</td>\n",
       "      <td>20.750000</td>\n",
       "    </tr>\n",
       "    <tr>\n",
       "      <th>4</th>\n",
       "      <td>245</td>\n",
       "      <td>173</td>\n",
       "      <td>167</td>\n",
       "      <td>Monday</td>\n",
       "      <td>Afternoon</td>\n",
       "      <td>8</td>\n",
       "      <td>20.875000</td>\n",
       "    </tr>\n",
       "  </tbody>\n",
       "</table>\n",
       "</div>"
      ],
      "text/plain": [
       "   USERID  STREAMID  num_views day_of_week time_labeled  num_cards  \\\n",
       "0     245       163       1029   Wednesday    Afternoon         15   \n",
       "1     245       167        258    Thursday    Afternoon         14   \n",
       "2     245       171        123   Wednesday    Afternoon          6   \n",
       "3     245       172         83   Wednesday    Afternoon          4   \n",
       "4     245       173        167      Monday    Afternoon          8   \n",
       "\n",
       "   views_per_card  \n",
       "0       68.600000  \n",
       "1       18.428571  \n",
       "2       20.500000  \n",
       "3       20.750000  \n",
       "4       20.875000  "
      ]
     },
     "execution_count": 5,
     "metadata": {},
     "output_type": "execute_result"
    }
   ],
   "source": [
    "user_views_per_stream_df = pd.read_csv(\"data/user_views_per_stream.csv\", header=0)\n",
    "user_views_per_stream_df.head()"
   ]
  },
  {
   "cell_type": "code",
   "execution_count": 6,
   "metadata": {},
   "outputs": [
    {
     "data": {
      "text/plain": [
       "(219,)"
      ]
     },
     "execution_count": 6,
     "metadata": {},
     "output_type": "execute_result"
    }
   ],
   "source": [
    "unique_users = np.unique(user_views_per_stream_df[\"USERID\"].values)\n",
    "unique_users.shape"
   ]
  },
  {
   "cell_type": "code",
   "execution_count": 7,
   "metadata": {},
   "outputs": [
    {
     "data": {
      "text/html": [
       "<div>\n",
       "<style scoped>\n",
       "    .dataframe tbody tr th:only-of-type {\n",
       "        vertical-align: middle;\n",
       "    }\n",
       "\n",
       "    .dataframe tbody tr th {\n",
       "        vertical-align: top;\n",
       "    }\n",
       "\n",
       "    .dataframe thead th {\n",
       "        text-align: right;\n",
       "    }\n",
       "</style>\n",
       "<table border=\"1\" class=\"dataframe\">\n",
       "  <thead>\n",
       "    <tr style=\"text-align: right;\">\n",
       "      <th></th>\n",
       "      <th>USERID</th>\n",
       "      <th>CARDID</th>\n",
       "      <th>CARDTITLE</th>\n",
       "      <th>STREAMID</th>\n",
       "      <th>STREAMNAME</th>\n",
       "      <th>TIMESTAMP</th>\n",
       "      <th>MODULEID</th>\n",
       "      <th>MODULENAME</th>\n",
       "    </tr>\n",
       "  </thead>\n",
       "  <tbody>\n",
       "    <tr>\n",
       "      <th>0</th>\n",
       "      <td>1007</td>\n",
       "      <td>2798</td>\n",
       "      <td>QUICK TEST - WHAT IS IN MY ENGINE OIL?</td>\n",
       "      <td>561</td>\n",
       "      <td>What is engine oil made of?</td>\n",
       "      <td>31-05-2017 01:14</td>\n",
       "      <td>430</td>\n",
       "      <td>2. WHAT IS ENGINE OIL MADE OF?</td>\n",
       "    </tr>\n",
       "    <tr>\n",
       "      <th>1</th>\n",
       "      <td>1007</td>\n",
       "      <td>2798</td>\n",
       "      <td>QUICK TEST - WHAT IS IN MY ENGINE OIL?</td>\n",
       "      <td>561</td>\n",
       "      <td>What is engine oil made of?</td>\n",
       "      <td>31-05-2017 01:14</td>\n",
       "      <td>430</td>\n",
       "      <td>2. WHAT IS ENGINE OIL MADE OF?</td>\n",
       "    </tr>\n",
       "    <tr>\n",
       "      <th>2</th>\n",
       "      <td>1007</td>\n",
       "      <td>2798</td>\n",
       "      <td>QUICK TEST - WHAT IS IN MY ENGINE OIL?</td>\n",
       "      <td>561</td>\n",
       "      <td>What is engine oil made of?</td>\n",
       "      <td>31-05-2017 01:14</td>\n",
       "      <td>430</td>\n",
       "      <td>2. WHAT IS ENGINE OIL MADE OF?</td>\n",
       "    </tr>\n",
       "    <tr>\n",
       "      <th>3</th>\n",
       "      <td>1007</td>\n",
       "      <td>2808</td>\n",
       "      <td>ENGINE OIL ADDITIVES</td>\n",
       "      <td>561</td>\n",
       "      <td>What is engine oil made of?</td>\n",
       "      <td>31-05-2017 01:15</td>\n",
       "      <td>430</td>\n",
       "      <td>2. WHAT IS ENGINE OIL MADE OF?</td>\n",
       "    </tr>\n",
       "    <tr>\n",
       "      <th>4</th>\n",
       "      <td>1007</td>\n",
       "      <td>2808</td>\n",
       "      <td>ENGINE OIL ADDITIVES</td>\n",
       "      <td>561</td>\n",
       "      <td>What is engine oil made of?</td>\n",
       "      <td>31-05-2017 01:15</td>\n",
       "      <td>430</td>\n",
       "      <td>2. WHAT IS ENGINE OIL MADE OF?</td>\n",
       "    </tr>\n",
       "  </tbody>\n",
       "</table>\n",
       "</div>"
      ],
      "text/plain": [
       "   USERID  CARDID                               CARDTITLE  STREAMID  \\\n",
       "0    1007    2798  QUICK TEST - WHAT IS IN MY ENGINE OIL?       561   \n",
       "1    1007    2798  QUICK TEST - WHAT IS IN MY ENGINE OIL?       561   \n",
       "2    1007    2798  QUICK TEST - WHAT IS IN MY ENGINE OIL?       561   \n",
       "3    1007    2808                    ENGINE OIL ADDITIVES       561   \n",
       "4    1007    2808                    ENGINE OIL ADDITIVES       561   \n",
       "\n",
       "                    STREAMNAME         TIMESTAMP  MODULEID  \\\n",
       "0  What is engine oil made of?  31-05-2017 01:14       430   \n",
       "1  What is engine oil made of?  31-05-2017 01:14       430   \n",
       "2  What is engine oil made of?  31-05-2017 01:14       430   \n",
       "3  What is engine oil made of?  31-05-2017 01:15       430   \n",
       "4  What is engine oil made of?  31-05-2017 01:15       430   \n",
       "\n",
       "                       MODULENAME  \n",
       "0  2. WHAT IS ENGINE OIL MADE OF?  \n",
       "1  2. WHAT IS ENGINE OIL MADE OF?  \n",
       "2  2. WHAT IS ENGINE OIL MADE OF?  \n",
       "3  2. WHAT IS ENGINE OIL MADE OF?  \n",
       "4  2. WHAT IS ENGINE OIL MADE OF?  "
      ]
     },
     "execution_count": 7,
     "metadata": {},
     "output_type": "execute_result"
    }
   ],
   "source": [
    "stream_views_raw_df = pd.read_csv(\"data/content_views_raw.csv\", header=0)\n",
    "stream_views_raw_df.head()"
   ]
  },
  {
   "cell_type": "code",
   "execution_count": 8,
   "metadata": {
    "collapsed": true
   },
   "outputs": [],
   "source": [
    "stream_views_raw_df['TIMESTAMP'] = pd.to_datetime(stream_views_raw_df['TIMESTAMP'], format=\"%d-%m-%Y %H:%M\")\n"
   ]
  },
  {
   "cell_type": "markdown",
   "metadata": {},
   "source": [
    "## Coverage for content recommendations over all users"
   ]
  },
  {
   "cell_type": "code",
   "execution_count": 13,
   "metadata": {},
   "outputs": [],
   "source": [
    "unique_streams = np.unique(user_views_per_stream_df[\"STREAMID\"].values)\n",
    "unique_streams.shape\n",
    "num_unique_streams = unique_streams.shape[0]"
   ]
  },
  {
   "cell_type": "code",
   "execution_count": 14,
   "metadata": {
    "collapsed": true
   },
   "outputs": [],
   "source": [
    "def get_content_recommendation_performance(users, num_recommendations = 10):\n",
    "    content_recommended_streams = []\n",
    "    all_user_viewed_streams = []\n",
    "\n",
    "    for userid in users:\n",
    "        recent_viewed_streams = UserStreamViews.get_latest_streams_for_user(stream_views_raw_df, userid)\n",
    "        recent_viewed_stream_ids = [x[0] for x in recent_viewed_streams]\n",
    "        similar_streams_based_on_history = ContentRecommender.get_similar_streams_based_on_history(recent_viewed_stream_ids, max_similar_streams = num_recommendations)\n",
    "        if similar_streams_based_on_history is not None:\n",
    "            recommended_stream_ids = [s[0] for s in similar_streams_based_on_history]\n",
    "            content_recommended_streams.extend(recommended_stream_ids)\n",
    "    \n",
    "    content_recommended_streams = set(content_recommended_streams)\n",
    "\n",
    "    recommended_content_coverage = len(content_recommended_streams) / num_unique_streams\n",
    "    return recommended_content_coverage"
   ]
  },
  {
   "cell_type": "code",
   "execution_count": 15,
   "metadata": {},
   "outputs": [],
   "source": [
    "content_reco_coverages = []\n",
    "for itr in [10, 15, 20, 25, 30]:\n",
    "    content_reco_coverage = 0\n",
    "    for jtr in range(3):\n",
    "        content_reco_coverage += get_content_recommendation_performance(unique_users, itr)\n",
    "        \n",
    "    content_reco_coverages.append((itr, content_reco_coverage/3))"
   ]
  },
  {
   "cell_type": "code",
   "execution_count": 16,
   "metadata": {},
   "outputs": [
    {
     "data": {
      "text/plain": [
       "[(10, 0.5163398692810458),\n",
       " (15, 0.5751633986928104),\n",
       " (20, 0.6013071895424836),\n",
       " (25, 0.6013071895424836),\n",
       " (30, 0.6143790849673203)]"
      ]
     },
     "execution_count": 16,
     "metadata": {},
     "output_type": "execute_result"
    }
   ],
   "source": [
    "content_reco_coverages"
   ]
  },
  {
   "cell_type": "code",
   "execution_count": 19,
   "metadata": {},
   "outputs": [],
   "source": [
    "x = [content_reco_coverage[0] for content_reco_coverage in content_reco_coverages ]\n",
    "y = [content_reco_coverage[1] for content_reco_coverage in content_reco_coverages ]\n"
   ]
  },
  {
   "cell_type": "code",
   "execution_count": 20,
   "metadata": {},
   "outputs": [
    {
     "data": {
      "text/plain": [
       "[<matplotlib.lines.Line2D at 0x27346b4c7f0>]"
      ]
     },
     "execution_count": 20,
     "metadata": {},
     "output_type": "execute_result"
    },
    {
     "data": {
      "image/png": "[encoded data removed]",
      "text/plain": [
       "<matplotlib.figure.Figure at 0x27346b4c390>"
      ]
     },
     "metadata": {},
     "output_type": "display_data"
    }
   ],
   "source": [
    "plt.xticks(x)\n",
    "plt.plot(x, y)"
   ]
  },
  {
   "cell_type": "markdown",
   "metadata": {},
   "source": [
    "## Coverage for collaborative recommendations over all users"
   ]
  },
  {
   "cell_type": "code",
   "execution_count": 21,
   "metadata": {
    "collapsed": true
   },
   "outputs": [],
   "source": [
    "def get_collaborative_recommendation_coverage(users, num_recommendations = 10):\n",
    "    collaborative_recommended_streams = []\n",
    "\n",
    "    for userid in users:\n",
    "        streams_based_on_other_users = CollaborativeRecommender.get_similar_streams_based_on_other_users(userid, max_similar_streams = num_recommendations)\n",
    "        if streams_based_on_other_users is not None:\n",
    "            recommended_stream_ids = [int(s[0]) for s in streams_based_on_other_users]\n",
    "            collaborative_recommended_streams.extend(recommended_stream_ids)\n",
    "    \n",
    "    collaborative_recommended_streams = set(collaborative_recommended_streams)\n",
    "\n",
    "    recommended_collaborative_coverage = len(collaborative_recommended_streams) / num_unique_streams\n",
    "    return recommended_collaborative_coverage"
   ]
  },
  {
   "cell_type": "code",
   "execution_count": 23,
   "metadata": {},
   "outputs": [],
   "source": [
    "collaborative_reco_coverages = []\n",
    "for itr in [10, 15, 20, 25, 30]:\n",
    "    collaborative_reco_coverage = 0\n",
    "    for jtr in range(3):\n",
    "        collaborative_reco_coverage += get_collaborative_recommendation_coverage(unique_users, itr)\n",
    "        \n",
    "    collaborative_reco_coverages.append((itr, collaborative_reco_coverage/3))"
   ]
  },
  {
   "cell_type": "code",
   "execution_count": 24,
   "metadata": {},
   "outputs": [
    {
     "data": {
      "text/plain": [
       "[(10, 0.8431372549019608),\n",
       " (15, 0.9150326797385621),\n",
       " (20, 0.9281045751633986),\n",
       " (25, 0.9281045751633986),\n",
       " (30, 0.9281045751633986)]"
      ]
     },
     "execution_count": 24,
     "metadata": {},
     "output_type": "execute_result"
    }
   ],
   "source": [
    "collaborative_reco_coverages"
   ]
  },
  {
   "cell_type": "code",
   "execution_count": 25,
   "metadata": {},
   "outputs": [
    {
     "data": {
      "text/plain": [
       "[<matplotlib.lines.Line2D at 0x27346bf5908>]"
      ]
     },
     "execution_count": 25,
     "metadata": {},
     "output_type": "execute_result"
    },
    {
     "data": {
      "image/png": "[encoded data removed]",
      "text/plain": [
       "<matplotlib.figure.Figure at 0x27346bf5978>"
      ]
     },
     "metadata": {},
     "output_type": "display_data"
    }
   ],
   "source": [
    "x = [collaborative_reco_coverage[0] for collaborative_reco_coverage in collaborative_reco_coverages ]\n",
    "y = [collaborative_reco_coverage[1] for collaborative_reco_coverage in collaborative_reco_coverages ]\n",
    "plt.xticks(x)\n",
    "plt.plot(x, y)"
   ]
  },
  {
   "cell_type": "markdown",
   "metadata": {},
   "source": [
    "## Coverage for hybrid recommendations over all users"
   ]
  },
  {
   "cell_type": "code",
   "execution_count": 26,
   "metadata": {
    "collapsed": true
   },
   "outputs": [],
   "source": [
    "def get_hybrid_recommendation_coverage(users, num_recommendations = 10):\n",
    "    hybrid_recommended_streams = []\n",
    "\n",
    "    for userid in users:\n",
    "        recent_viewed_streams = UserStreamViews.get_latest_streams_for_user(stream_views_raw_df, userid)\n",
    "        recent_viewed_stream_ids = [x[0] for x in recent_viewed_streams]\n",
    "        recommended_stream_ids, selection_reasoning = CombinedRecommender.get_recommended_stream_ids(userid, recent_viewed_stream_ids, max_num_streams_required = num_recommendations)\n",
    "        \n",
    "        if recommended_stream_ids is not None:\n",
    "            recommended_stream_ids = [int(s[0]) for s in recommended_stream_ids]\n",
    "            hybrid_recommended_streams.extend(recommended_stream_ids)\n",
    "    \n",
    "    hybrid_recommended_streams = set(hybrid_recommended_streams)\n",
    "\n",
    "    recommended_hybrid_coverage = len(hybrid_recommended_streams) / num_unique_streams\n",
    "    return recommended_hybrid_coverage"
   ]
  },
  {
   "cell_type": "code",
   "execution_count": 27,
   "metadata": {
    "collapsed": true
   },
   "outputs": [],
   "source": [
    "hybrid_reco_coverages = []\n",
    "for itr in [10, 15, 20, 25, 30]:\n",
    "    hybrid_reco_coverage = 0\n",
    "    for jtr in range(3):\n",
    "        hybrid_reco_coverage += get_collaborative_recommendation_coverage(unique_users, itr)\n",
    "        \n",
    "    hybrid_reco_coverages.append((itr, hybrid_reco_coverage/3))"
   ]
  },
  {
   "cell_type": "code",
   "execution_count": 28,
   "metadata": {},
   "outputs": [
    {
     "data": {
      "text/plain": [
       "[(10, 0.8431372549019608),\n",
       " (15, 0.9150326797385621),\n",
       " (20, 0.9281045751633986),\n",
       " (25, 0.9281045751633986),\n",
       " (30, 0.9281045751633986)]"
      ]
     },
     "execution_count": 28,
     "metadata": {},
     "output_type": "execute_result"
    }
   ],
   "source": [
    "hybrid_reco_coverages"
   ]
  },
  {
   "cell_type": "code",
   "execution_count": 29,
   "metadata": {},
   "outputs": [
    {
     "data": {
      "text/plain": [
       "[<matplotlib.lines.Line2D at 0x27346c24160>]"
      ]
     },
     "execution_count": 29,
     "metadata": {},
     "output_type": "execute_result"
    },
    {
     "data": {
      "image/png": "[encoded data removed]",
      "text/plain": [
       "<matplotlib.figure.Figure at 0x27346c241d0>"
      ]
     },
     "metadata": {},
     "output_type": "display_data"
    }
   ],
   "source": [
    "x = [hybrid_reco_coverage[0] for hybrid_reco_coverage in hybrid_reco_coverages ]\n",
    "y = [hybrid_reco_coverage[1] for hybrid_reco_coverage in hybrid_reco_coverages ]\n",
    "plt.xticks(x)\n",
    "plt.plot(x, y)"
   ]
  },
  {
   "cell_type": "code",
   "execution_count": null,
   "metadata": {
    "collapsed": true
   },
   "outputs": [],
   "source": []
  }
 ],
 "metadata": {
  "kernelspec": {
   "display_name": "Python 3",
   "language": "python",
   "name": "python3"
  },
  "language_info": {
   "codemirror_mode": {
    "name": "ipython",
    "version": 3
   },
   "file_extension": ".py",
   "mimetype": "text/x-python",
   "name": "python",
   "nbconvert_exporter": "python",
   "pygments_lexer": "ipython3",
   "version": "3.6.3"
  }
 },
 "nbformat": 4,
 "nbformat_minor": 2
}
