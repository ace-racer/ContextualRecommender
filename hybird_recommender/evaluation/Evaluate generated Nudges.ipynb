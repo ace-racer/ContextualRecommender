{
 "cells": [
  {
   "cell_type": "code",
   "execution_count": 2,
   "metadata": {
    "collapsed": true
   },
   "outputs": [],
   "source": [
    "import pandas as pd\n",
    "import numpy as np\n",
    "import matplotlib.pyplot as plt\n",
    "%matplotlib inline\n",
    "import sys"
   ]
  },
  {
   "cell_type": "code",
   "execution_count": 3,
   "metadata": {},
   "outputs": [
    {
     "data": {
      "text/html": [
       "<div>\n",
       "<style scoped>\n",
       "    .dataframe tbody tr th:only-of-type {\n",
       "        vertical-align: middle;\n",
       "    }\n",
       "\n",
       "    .dataframe tbody tr th {\n",
       "        vertical-align: top;\n",
       "    }\n",
       "\n",
       "    .dataframe thead th {\n",
       "        text-align: right;\n",
       "    }\n",
       "</style>\n",
       "<table border=\"1\" class=\"dataframe\">\n",
       "  <thead>\n",
       "    <tr style=\"text-align: right;\">\n",
       "      <th></th>\n",
       "      <th>USERID</th>\n",
       "      <th>STREAMID</th>\n",
       "      <th>num_views</th>\n",
       "      <th>day_of_week</th>\n",
       "      <th>time_labeled</th>\n",
       "      <th>num_cards</th>\n",
       "      <th>views_per_card</th>\n",
       "    </tr>\n",
       "  </thead>\n",
       "  <tbody>\n",
       "    <tr>\n",
       "      <th>0</th>\n",
       "      <td>245</td>\n",
       "      <td>163</td>\n",
       "      <td>1029</td>\n",
       "      <td>Wednesday</td>\n",
       "      <td>Afternoon</td>\n",
       "      <td>15</td>\n",
       "      <td>68.600000</td>\n",
       "    </tr>\n",
       "    <tr>\n",
       "      <th>1</th>\n",
       "      <td>245</td>\n",
       "      <td>167</td>\n",
       "      <td>258</td>\n",
       "      <td>Thursday</td>\n",
       "      <td>Afternoon</td>\n",
       "      <td>14</td>\n",
       "      <td>18.428571</td>\n",
       "    </tr>\n",
       "    <tr>\n",
       "      <th>2</th>\n",
       "      <td>245</td>\n",
       "      <td>171</td>\n",
       "      <td>123</td>\n",
       "      <td>Wednesday</td>\n",
       "      <td>Afternoon</td>\n",
       "      <td>6</td>\n",
       "      <td>20.500000</td>\n",
       "    </tr>\n",
       "    <tr>\n",
       "      <th>3</th>\n",
       "      <td>245</td>\n",
       "      <td>172</td>\n",
       "      <td>83</td>\n",
       "      <td>Wednesday</td>\n",
       "      <td>Afternoon</td>\n",
       "      <td>4</td>\n",
       "      <td>20.750000</td>\n",
       "    </tr>\n",
       "    <tr>\n",
       "      <th>4</th>\n",
       "      <td>245</td>\n",
       "      <td>173</td>\n",
       "      <td>167</td>\n",
       "      <td>Monday</td>\n",
       "      <td>Afternoon</td>\n",
       "      <td>8</td>\n",
       "      <td>20.875000</td>\n",
       "    </tr>\n",
       "  </tbody>\n",
       "</table>\n",
       "</div>"
      ],
      "text/plain": [
       "   USERID  STREAMID  num_views day_of_week time_labeled  num_cards  \\\n",
       "0     245       163       1029   Wednesday    Afternoon         15   \n",
       "1     245       167        258    Thursday    Afternoon         14   \n",
       "2     245       171        123   Wednesday    Afternoon          6   \n",
       "3     245       172         83   Wednesday    Afternoon          4   \n",
       "4     245       173        167      Monday    Afternoon          8   \n",
       "\n",
       "   views_per_card  \n",
       "0       68.600000  \n",
       "1       18.428571  \n",
       "2       20.500000  \n",
       "3       20.750000  \n",
       "4       20.875000  "
      ]
     },
     "execution_count": 3,
     "metadata": {},
     "output_type": "execute_result"
    }
   ],
   "source": [
    "user_views_per_stream_df = pd.read_csv(\"data/user_views_per_stream.csv\", header=0)\n",
    "user_views_per_stream_df.head()"
   ]
  },
  {
   "cell_type": "code",
   "execution_count": 4,
   "metadata": {},
   "outputs": [
    {
     "data": {
      "text/plain": [
       "(219,)"
      ]
     },
     "execution_count": 4,
     "metadata": {},
     "output_type": "execute_result"
    }
   ],
   "source": [
    "unique_users = np.unique(user_views_per_stream_df[\"USERID\"].values)\n",
    "unique_users.shape"
   ]
  },
  {
   "cell_type": "code",
   "execution_count": 5,
   "metadata": {},
   "outputs": [
    {
     "data": {
      "text/plain": [
       "153"
      ]
     },
     "execution_count": 5,
     "metadata": {},
     "output_type": "execute_result"
    }
   ],
   "source": [
    "unique_streams = np.unique(user_views_per_stream_df[\"STREAMID\"].values)\n",
    "unique_streams.shape\n",
    "num_unique_streams = unique_streams.shape[0]\n",
    "num_unique_streams"
   ]
  },
  {
   "cell_type": "code",
   "execution_count": 6,
   "metadata": {},
   "outputs": [
    {
     "data": {
      "text/html": [
       "<div>\n",
       "<style scoped>\n",
       "    .dataframe tbody tr th:only-of-type {\n",
       "        vertical-align: middle;\n",
       "    }\n",
       "\n",
       "    .dataframe tbody tr th {\n",
       "        vertical-align: top;\n",
       "    }\n",
       "\n",
       "    .dataframe thead th {\n",
       "        text-align: right;\n",
       "    }\n",
       "</style>\n",
       "<table border=\"1\" class=\"dataframe\">\n",
       "  <thead>\n",
       "    <tr style=\"text-align: right;\">\n",
       "      <th></th>\n",
       "      <th>STREAMID</th>\n",
       "      <th>time_concatenated</th>\n",
       "      <th>total_num_views</th>\n",
       "      <th>day_of_week</th>\n",
       "      <th>time_labeled</th>\n",
       "      <th>day_of_week_conf</th>\n",
       "      <th>time_labelled_conf</th>\n",
       "    </tr>\n",
       "  </thead>\n",
       "  <tbody>\n",
       "    <tr>\n",
       "      <th>0</th>\n",
       "      <td>163</td>\n",
       "      <td>1345.566799</td>\n",
       "      <td>1759</td>\n",
       "      <td>Wednesday</td>\n",
       "      <td>Afternoon</td>\n",
       "      <td>0.312109</td>\n",
       "      <td>0.371802</td>\n",
       "    </tr>\n",
       "    <tr>\n",
       "      <th>1</th>\n",
       "      <td>167</td>\n",
       "      <td>1528.027076</td>\n",
       "      <td>554</td>\n",
       "      <td>Thursday</td>\n",
       "      <td>Afternoon</td>\n",
       "      <td>0.442238</td>\n",
       "      <td>0.323105</td>\n",
       "    </tr>\n",
       "    <tr>\n",
       "      <th>2</th>\n",
       "      <td>171</td>\n",
       "      <td>1278.251046</td>\n",
       "      <td>239</td>\n",
       "      <td>Wednesday</td>\n",
       "      <td>Afternoon</td>\n",
       "      <td>0.418410</td>\n",
       "      <td>0.209205</td>\n",
       "    </tr>\n",
       "    <tr>\n",
       "      <th>3</th>\n",
       "      <td>172</td>\n",
       "      <td>1339.262032</td>\n",
       "      <td>187</td>\n",
       "      <td>Thursday</td>\n",
       "      <td>Afternoon</td>\n",
       "      <td>0.331551</td>\n",
       "      <td>0.251337</td>\n",
       "    </tr>\n",
       "    <tr>\n",
       "      <th>4</th>\n",
       "      <td>173</td>\n",
       "      <td>1314.365729</td>\n",
       "      <td>391</td>\n",
       "      <td>Thursday</td>\n",
       "      <td>Afternoon</td>\n",
       "      <td>0.309463</td>\n",
       "      <td>0.355499</td>\n",
       "    </tr>\n",
       "  </tbody>\n",
       "</table>\n",
       "</div>"
      ],
      "text/plain": [
       "   STREAMID  time_concatenated  total_num_views day_of_week time_labeled  \\\n",
       "0       163        1345.566799             1759   Wednesday    Afternoon   \n",
       "1       167        1528.027076              554    Thursday    Afternoon   \n",
       "2       171        1278.251046              239   Wednesday    Afternoon   \n",
       "3       172        1339.262032              187    Thursday    Afternoon   \n",
       "4       173        1314.365729              391    Thursday    Afternoon   \n",
       "\n",
       "   day_of_week_conf  time_labelled_conf  \n",
       "0          0.312109            0.371802  \n",
       "1          0.442238            0.323105  \n",
       "2          0.418410            0.209205  \n",
       "3          0.331551            0.251337  \n",
       "4          0.309463            0.355499  "
      ]
     },
     "execution_count": 6,
     "metadata": {},
     "output_type": "execute_result"
    }
   ],
   "source": [
    "stream_views_grouped_stream_df = pd.read_csv(\"../../nudge_framework/generated/stream_views_grouped_stream.csv\", header=0)\n",
    "stream_views_grouped_user_df = pd.read_csv(\"../../nudge_framework/generated/stream_views_grouped_user.csv\", header=0)\n",
    "stream_views_grouped_stream_df.head()"
   ]
  },
  {
   "cell_type": "code",
   "execution_count": 7,
   "metadata": {},
   "outputs": [
    {
     "data": {
      "text/html": [
       "<div>\n",
       "<style scoped>\n",
       "    .dataframe tbody tr th:only-of-type {\n",
       "        vertical-align: middle;\n",
       "    }\n",
       "\n",
       "    .dataframe tbody tr th {\n",
       "        vertical-align: top;\n",
       "    }\n",
       "\n",
       "    .dataframe thead th {\n",
       "        text-align: right;\n",
       "    }\n",
       "</style>\n",
       "<table border=\"1\" class=\"dataframe\">\n",
       "  <thead>\n",
       "    <tr style=\"text-align: right;\">\n",
       "      <th></th>\n",
       "      <th>USERID</th>\n",
       "      <th>time_concatenated</th>\n",
       "      <th>total_num_views</th>\n",
       "      <th>day_of_week</th>\n",
       "      <th>time_labeled</th>\n",
       "      <th>day_of_week_conf</th>\n",
       "      <th>time_labelled_conf</th>\n",
       "    </tr>\n",
       "  </thead>\n",
       "  <tbody>\n",
       "    <tr>\n",
       "      <th>0</th>\n",
       "      <td>245</td>\n",
       "      <td>1567.501350</td>\n",
       "      <td>4075</td>\n",
       "      <td>Thursday</td>\n",
       "      <td>Afternoon</td>\n",
       "      <td>0.314110</td>\n",
       "      <td>0.275092</td>\n",
       "    </tr>\n",
       "    <tr>\n",
       "      <th>1</th>\n",
       "      <td>246</td>\n",
       "      <td>1704.980989</td>\n",
       "      <td>263</td>\n",
       "      <td>Thursday</td>\n",
       "      <td>Evening</td>\n",
       "      <td>0.802281</td>\n",
       "      <td>0.068441</td>\n",
       "    </tr>\n",
       "    <tr>\n",
       "      <th>2</th>\n",
       "      <td>247</td>\n",
       "      <td>1256.211226</td>\n",
       "      <td>677</td>\n",
       "      <td>Wednesday</td>\n",
       "      <td>Afternoon</td>\n",
       "      <td>0.392910</td>\n",
       "      <td>0.267356</td>\n",
       "    </tr>\n",
       "    <tr>\n",
       "      <th>3</th>\n",
       "      <td>248</td>\n",
       "      <td>1389.285714</td>\n",
       "      <td>21</td>\n",
       "      <td>Wednesday</td>\n",
       "      <td>Afternoon</td>\n",
       "      <td>0.714286</td>\n",
       "      <td>0.714286</td>\n",
       "    </tr>\n",
       "    <tr>\n",
       "      <th>4</th>\n",
       "      <td>249</td>\n",
       "      <td>1401.199070</td>\n",
       "      <td>1075</td>\n",
       "      <td>Thursday</td>\n",
       "      <td>Afternoon</td>\n",
       "      <td>0.282791</td>\n",
       "      <td>0.214884</td>\n",
       "    </tr>\n",
       "  </tbody>\n",
       "</table>\n",
       "</div>"
      ],
      "text/plain": [
       "   USERID  time_concatenated  total_num_views day_of_week time_labeled  \\\n",
       "0     245        1567.501350             4075    Thursday    Afternoon   \n",
       "1     246        1704.980989              263    Thursday      Evening   \n",
       "2     247        1256.211226              677   Wednesday    Afternoon   \n",
       "3     248        1389.285714               21   Wednesday    Afternoon   \n",
       "4     249        1401.199070             1075    Thursday    Afternoon   \n",
       "\n",
       "   day_of_week_conf  time_labelled_conf  \n",
       "0          0.314110            0.275092  \n",
       "1          0.802281            0.068441  \n",
       "2          0.392910            0.267356  \n",
       "3          0.714286            0.714286  \n",
       "4          0.282791            0.214884  "
      ]
     },
     "execution_count": 7,
     "metadata": {},
     "output_type": "execute_result"
    }
   ],
   "source": [
    "stream_views_grouped_user_df.head()"
   ]
  },
  {
   "cell_type": "code",
   "execution_count": 9,
   "metadata": {},
   "outputs": [
    {
     "data": {
      "text/html": [
       "<div>\n",
       "<style scoped>\n",
       "    .dataframe tbody tr th:only-of-type {\n",
       "        vertical-align: middle;\n",
       "    }\n",
       "\n",
       "    .dataframe tbody tr th {\n",
       "        vertical-align: top;\n",
       "    }\n",
       "\n",
       "    .dataframe thead th {\n",
       "        text-align: right;\n",
       "    }\n",
       "</style>\n",
       "<table border=\"1\" class=\"dataframe\">\n",
       "  <thead>\n",
       "    <tr style=\"text-align: right;\">\n",
       "      <th></th>\n",
       "      <th>USERID</th>\n",
       "      <th>STREAMID</th>\n",
       "      <th>time_concatenated</th>\n",
       "      <th>total_num_views</th>\n",
       "      <th>day_of_week</th>\n",
       "      <th>time_labeled</th>\n",
       "    </tr>\n",
       "  </thead>\n",
       "  <tbody>\n",
       "    <tr>\n",
       "      <th>0</th>\n",
       "      <td>245</td>\n",
       "      <td>163</td>\n",
       "      <td>1414.703596</td>\n",
       "      <td>1029</td>\n",
       "      <td>Wednesday</td>\n",
       "      <td>Afternoon</td>\n",
       "    </tr>\n",
       "    <tr>\n",
       "      <th>1</th>\n",
       "      <td>245</td>\n",
       "      <td>167</td>\n",
       "      <td>1633.251938</td>\n",
       "      <td>258</td>\n",
       "      <td>Thursday</td>\n",
       "      <td>Evening</td>\n",
       "    </tr>\n",
       "    <tr>\n",
       "      <th>2</th>\n",
       "      <td>245</td>\n",
       "      <td>171</td>\n",
       "      <td>1419.065041</td>\n",
       "      <td>123</td>\n",
       "      <td>Wednesday</td>\n",
       "      <td>Afternoon</td>\n",
       "    </tr>\n",
       "    <tr>\n",
       "      <th>3</th>\n",
       "      <td>245</td>\n",
       "      <td>172</td>\n",
       "      <td>1486.048193</td>\n",
       "      <td>83</td>\n",
       "      <td>Wednesday</td>\n",
       "      <td>Afternoon</td>\n",
       "    </tr>\n",
       "    <tr>\n",
       "      <th>4</th>\n",
       "      <td>245</td>\n",
       "      <td>173</td>\n",
       "      <td>1482.485030</td>\n",
       "      <td>167</td>\n",
       "      <td>Monday</td>\n",
       "      <td>Afternoon</td>\n",
       "    </tr>\n",
       "  </tbody>\n",
       "</table>\n",
       "</div>"
      ],
      "text/plain": [
       "   USERID  STREAMID  time_concatenated  total_num_views day_of_week  \\\n",
       "0     245       163        1414.703596             1029   Wednesday   \n",
       "1     245       167        1633.251938              258    Thursday   \n",
       "2     245       171        1419.065041              123   Wednesday   \n",
       "3     245       172        1486.048193               83   Wednesday   \n",
       "4     245       173        1482.485030              167      Monday   \n",
       "\n",
       "  time_labeled  \n",
       "0    Afternoon  \n",
       "1      Evening  \n",
       "2    Afternoon  \n",
       "3    Afternoon  \n",
       "4    Afternoon  "
      ]
     },
     "execution_count": 9,
     "metadata": {},
     "output_type": "execute_result"
    }
   ],
   "source": [
    "actual_user_views_df = pd.read_csv(\"../../nudge_framework/generated/stream_views_grouped_by_userid_streamid.csv\", header=0)\n",
    "actual_user_views_df.head()"
   ]
  },
  {
   "cell_type": "markdown",
   "metadata": {},
   "source": [
    "## Baseline"
   ]
  },
  {
   "cell_type": "code",
   "execution_count": 37,
   "metadata": {},
   "outputs": [
    {
     "name": "stderr",
     "output_type": "stream",
     "text": [
      "G:\\anaconda\\lib\\site-packages\\seaborn\\categorical.py:1460: FutureWarning: remove_na is deprecated and is a private function. Do not use.\n",
      "  stat_data = remove_na(group_data)\n"
     ]
    },
    {
     "data": {
      "text/plain": [
       "<matplotlib.axes._subplots.AxesSubplot at 0x166baf6fa20>"
      ]
     },
     "execution_count": 37,
     "metadata": {},
     "output_type": "execute_result"
    },
    {
     "data": {
      "image/png": "[encoded data removed]",
      "text/plain": [
       "<matplotlib.figure.Figure at 0x166baf5a278>"
      ]
     },
     "metadata": {},
     "output_type": "display_data"
    }
   ],
   "source": [
    "import seaborn as sns\n",
    "sns.countplot(x=\"day_of_week\", data=actual_user_views_df)"
   ]
  },
  {
   "cell_type": "code",
   "execution_count": 39,
   "metadata": {},
   "outputs": [
    {
     "data": {
      "text/plain": [
       "0.2464861158724717"
      ]
     },
     "execution_count": 39,
     "metadata": {},
     "output_type": "execute_result"
    }
   ],
   "source": [
    "actual_user_views_df[actual_user_views_df[\"day_of_week\"] == \"Wednesday\"].shape[0]/actual_user_views_df.shape[0]"
   ]
  },
  {
   "cell_type": "markdown",
   "metadata": {},
   "source": [
    "### So, baseline for day of week is 0.24, if we always predict the most common day of week"
   ]
  },
  {
   "cell_type": "code",
   "execution_count": 38,
   "metadata": {},
   "outputs": [
    {
     "name": "stderr",
     "output_type": "stream",
     "text": [
      "G:\\anaconda\\lib\\site-packages\\seaborn\\categorical.py:1460: FutureWarning: remove_na is deprecated and is a private function. Do not use.\n",
      "  stat_data = remove_na(group_data)\n"
     ]
    },
    {
     "data": {
      "text/plain": [
       "<matplotlib.axes._subplots.AxesSubplot at 0x166b732f128>"
      ]
     },
     "execution_count": 38,
     "metadata": {},
     "output_type": "execute_result"
    },
    {
     "data": {
      "image/png": "[encoded data removed]",
      "text/plain": [
       "<matplotlib.figure.Figure at 0x166b70d84e0>"
      ]
     },
     "metadata": {},
     "output_type": "display_data"
    }
   ],
   "source": [
    "import seaborn as sns\n",
    "sns.countplot(x=\"time_labeled\", data=actual_user_views_df)"
   ]
  },
  {
   "cell_type": "code",
   "execution_count": 40,
   "metadata": {},
   "outputs": [
    {
     "data": {
      "text/plain": [
       "0.4494343503599589"
      ]
     },
     "execution_count": 40,
     "metadata": {},
     "output_type": "execute_result"
    }
   ],
   "source": [
    "actual_user_views_df[actual_user_views_df[\"time_labeled\"] == \"Afternoon\"].shape[0]/actual_user_views_df.shape[0]"
   ]
  },
  {
   "cell_type": "markdown",
   "metadata": {},
   "source": [
    "### So, baseline for time of day is 0.44, if we always predict the most common time of day"
   ]
  },
  {
   "cell_type": "code",
   "execution_count": 13,
   "metadata": {
    "collapsed": true
   },
   "outputs": [],
   "source": [
    "def predict_day_time_for_nudge(userid, streamid, choose_best=True):\n",
    "    # get the details from the user df\n",
    "    user_df = stream_views_grouped_user_df[stream_views_grouped_user_df[\"USERID\"] == userid]\n",
    "    \n",
    "    # get the details from the stream df\n",
    "    stream_df = stream_views_grouped_stream_df[stream_views_grouped_stream_df[\"STREAMID\"] == streamid]\n",
    "    \n",
    "    if user_df.empty and stream_df.empty:\n",
    "        return None, None, None\n",
    "    elif user_df.empty:\n",
    "        return stream_df[\"day_of_week\"].values[0], stream_df[\"time_labeled\"].values[0], stream_df\n",
    "    elif stream_df.empty:\n",
    "        return user_df[\"day_of_week\"].values[0], user_df[\"time_labeled\"].values[0], user_df\n",
    "    else:\n",
    "        \n",
    "        if choose_best:\n",
    "            user_day_of_week_conf = user_df[\"day_of_week_conf\"].values[0]\n",
    "            stream_day_of_week_conf = stream_df[\"day_of_week_conf\"].values[0]\n",
    "            day_to_recommend = user_df[\"day_of_week\"].values[0]\n",
    "            if stream_day_of_week_conf > user_day_of_week_conf:\n",
    "                day_to_recommend = stream_df[\"day_of_week\"].values[0]\n",
    "\n",
    "            user_time_conf = user_df[\"time_labelled_conf\"].values[0]\n",
    "            stream_time_conf = stream_df[\"time_labelled_conf\"].values[0]\n",
    "            time_to_recommend = user_df[\"time_labeled\"].values[0]\n",
    "            if stream_time_conf > user_time_conf:\n",
    "                time_to_recommend = stream_df[\"time_labeled\"].values[0]\n",
    "        else:\n",
    "            day_to_recommend_by_stream = stream_df[\"day_of_week\"].values[0]\n",
    "            day_to_recommend_by_user = user_df[\"day_of_week\"].values[0]\n",
    "            \n",
    "            time_to_recommend_by_stream = user_df[\"time_labeled\"].values[0]\n",
    "            time_to_recommend_by_user = stream_df[\"time_labeled\"].values[0]\n",
    "            \n",
    "            day_to_recommend = (day_to_recommend_by_stream, day_to_recommend_by_user)\n",
    "            time_to_recommend = (time_to_recommend_by_stream, time_to_recommend_by_user)\n",
    "            \n",
    "        return day_to_recommend, time_to_recommend, None"
   ]
  },
  {
   "cell_type": "markdown",
   "metadata": {},
   "source": [
    "## Predict nudge based on combination"
   ]
  },
  {
   "cell_type": "code",
   "execution_count": 21,
   "metadata": {},
   "outputs": [],
   "source": [
    "nudge_predictions_time_of_day = []\n",
    "nudge_predictions_day = []\n",
    "\n",
    "for itr in [10, 15, 20, 25, 30, 40, 50]:\n",
    "    correct_time_of_day_ratio = 0\n",
    "    correct_day_ratio = 0    \n",
    "    for jtr in range(10): \n",
    "        correct_time_of_day = 0\n",
    "        correct_day = 0\n",
    "        selected_users = np.random.choice(unique_users, itr, False)\n",
    "        selected_streams = np.random.choice(unique_streams, itr, False)\n",
    "        streams_actually_viewed = 0\n",
    "        for userid in selected_users:\n",
    "            for streamid in selected_streams:\n",
    "                predicted_day, predicted_time, _ = predict_day_time_for_nudge(userid, streamid)\n",
    "                actual_day_df = actual_user_views_df[(actual_user_views_df[\"USERID\"] == userid) & (actual_user_views_df[\"STREAMID\"] == streamid)]\n",
    "                actual_time_df = actual_user_views_df[(actual_user_views_df[\"USERID\"] == userid) & (actual_user_views_df[\"STREAMID\"] == streamid)]\n",
    "                \n",
    "                # user has not viewed the stream in reality\n",
    "                if (predicted_day is None) or (actual_day_df.empty) or (actual_time_df.empty):\n",
    "                    continue\n",
    "                    \n",
    "                actual_day = actual_day_df[\"day_of_week\"].values[0]\n",
    "                actual_time = actual_time_df[\"time_labeled\"].values[0]\n",
    "                streams_actually_viewed += 1\n",
    "                if predicted_day == actual_day:\n",
    "                    correct_day += 1\n",
    "                if predicted_time == actual_time:\n",
    "                    correct_time_of_day += 1\n",
    "        \n",
    "        correct_time_of_day_ratio += (correct_time_of_day)/streams_actually_viewed\n",
    "        correct_day_ratio += (correct_day)/streams_actually_viewed\n",
    "        \n",
    "    nudge_predictions_time_of_day.append((itr, correct_time_of_day_ratio/10))\n",
    "    nudge_predictions_day.append((itr, correct_day_ratio/10))"
   ]
  },
  {
   "cell_type": "code",
   "execution_count": 22,
   "metadata": {},
   "outputs": [
    {
     "data": {
      "text/plain": [
       "[(10, 0.542027417027417),\n",
       " (15, 0.6125134732255475),\n",
       " (20, 0.5689716224695751),\n",
       " (25, 0.5929216766172142),\n",
       " (30, 0.6035193830837902),\n",
       " (40, 0.5934453862620188),\n",
       " (50, 0.5887080901552156)]"
      ]
     },
     "execution_count": 22,
     "metadata": {},
     "output_type": "execute_result"
    }
   ],
   "source": [
    "nudge_predictions_time_of_day"
   ]
  },
  {
   "cell_type": "code",
   "execution_count": 23,
   "metadata": {},
   "outputs": [
    {
     "data": {
      "text/plain": [
       "[(10, 0.46551226551226554),\n",
       " (15, 0.3945670117063306),\n",
       " (20, 0.4878701576295791),\n",
       " (25, 0.5056695496587341),\n",
       " (30, 0.5168131160570277),\n",
       " (40, 0.5113464255254546),\n",
       " (50, 0.5061315729048752)]"
      ]
     },
     "execution_count": 23,
     "metadata": {},
     "output_type": "execute_result"
    }
   ],
   "source": [
    "nudge_predictions_day"
   ]
  },
  {
   "cell_type": "code",
   "execution_count": 24,
   "metadata": {},
   "outputs": [
    {
     "data": {
      "text/plain": [
       "[<matplotlib.lines.Line2D at 0x166b71b55f8>]"
      ]
     },
     "execution_count": 24,
     "metadata": {},
     "output_type": "execute_result"
    },
    {
     "data": {
      "image/png": "[encoded data removed]",
      "text/plain": [
       "<matplotlib.figure.Figure at 0x166b71568d0>"
      ]
     },
     "metadata": {},
     "output_type": "display_data"
    }
   ],
   "source": [
    "x = [nudge_prediction_time_of_day[0] for nudge_prediction_time_of_day in nudge_predictions_time_of_day]\n",
    "y = [nudge_prediction_time_of_day[1] for nudge_prediction_time_of_day in nudge_predictions_time_of_day]\n",
    "\n",
    "plt.xticks(x)\n",
    "plt.ylim(ymin=0)\n",
    "plt.plot(x, y)"
   ]
  },
  {
   "cell_type": "code",
   "execution_count": 25,
   "metadata": {},
   "outputs": [
    {
     "data": {
      "text/plain": [
       "[<matplotlib.lines.Line2D at 0x166b71d8b38>]"
      ]
     },
     "execution_count": 25,
     "metadata": {},
     "output_type": "execute_result"
    },
    {
     "data": {
      "image/png": "[encoded data removed]",
      "text/plain": [
       "<matplotlib.figure.Figure at 0x166b719bc18>"
      ]
     },
     "metadata": {},
     "output_type": "display_data"
    }
   ],
   "source": [
    "x = [nudge_prediction_day[0] for nudge_prediction_day in nudge_predictions_day]\n",
    "y = [nudge_prediction_day[1] for nudge_prediction_day in nudge_predictions_day]\n",
    "\n",
    "plt.xticks(x)\n",
    "plt.ylim(ymin=0)\n",
    "plt.plot(x, y)"
   ]
  },
  {
   "cell_type": "markdown",
   "metadata": {},
   "source": [
    "## Predict nudge based on user preferences alone"
   ]
  },
  {
   "cell_type": "code",
   "execution_count": 27,
   "metadata": {
    "collapsed": true
   },
   "outputs": [],
   "source": [
    "nudge_predictions_time_of_day = []\n",
    "nudge_predictions_day = []\n",
    "\n",
    "for itr in [10, 15, 20, 25, 30, 40, 50]:\n",
    "    correct_time_of_day_ratio = 0\n",
    "    correct_day_ratio = 0    \n",
    "    for jtr in range(10): \n",
    "        correct_time_of_day = 0\n",
    "        correct_day = 0\n",
    "        selected_users = np.random.choice(unique_users, itr, False)\n",
    "        selected_streams = np.random.choice(unique_streams, itr, False)\n",
    "        streams_actually_viewed = 0\n",
    "        for userid in selected_users:\n",
    "            for streamid in selected_streams:\n",
    "                predicted_day, predicted_time, _ = predict_day_time_for_nudge(userid, streamid, False)\n",
    "                actual_day_df = actual_user_views_df[(actual_user_views_df[\"USERID\"] == userid) & (actual_user_views_df[\"STREAMID\"] == streamid)]\n",
    "                actual_time_df = actual_user_views_df[(actual_user_views_df[\"USERID\"] == userid) & (actual_user_views_df[\"STREAMID\"] == streamid)]\n",
    "                \n",
    "                # user has not viewed the stream in reality\n",
    "                if (predicted_day is None) or (actual_day_df.empty) or (actual_time_df.empty):\n",
    "                    continue\n",
    "                \n",
    "                predicted_day = predicted_day[1]\n",
    "                predicted_time = predicted_time[1]\n",
    "                \n",
    "                actual_day = actual_day_df[\"day_of_week\"].values[0]\n",
    "                actual_time = actual_time_df[\"time_labeled\"].values[0]\n",
    "                streams_actually_viewed += 1\n",
    "                if predicted_day == actual_day:\n",
    "                    correct_day += 1\n",
    "                if predicted_time == actual_time:\n",
    "                    correct_time_of_day += 1\n",
    "        \n",
    "        correct_time_of_day_ratio += (correct_time_of_day)/streams_actually_viewed\n",
    "        correct_day_ratio += (correct_day)/streams_actually_viewed\n",
    "        \n",
    "    nudge_predictions_time_of_day.append((itr, correct_time_of_day_ratio/10))\n",
    "    nudge_predictions_day.append((itr, correct_day_ratio/10))"
   ]
  },
  {
   "cell_type": "code",
   "execution_count": 28,
   "metadata": {},
   "outputs": [
    {
     "data": {
      "text/plain": [
       "[(10, 0.5274825174825175),\n",
       " (15, 0.45790578597030207),\n",
       " (20, 0.4762548653735267),\n",
       " (25, 0.46340607508452286),\n",
       " (30, 0.4645488035506129),\n",
       " (40, 0.4474149688264891),\n",
       " (50, 0.4696397971274167)]"
      ]
     },
     "execution_count": 28,
     "metadata": {},
     "output_type": "execute_result"
    }
   ],
   "source": [
    "nudge_predictions_time_of_day"
   ]
  },
  {
   "cell_type": "code",
   "execution_count": 29,
   "metadata": {},
   "outputs": [
    {
     "data": {
      "text/plain": [
       "[(10, 0.5560839160839162),\n",
       " (15, 0.5203942652329749),\n",
       " (20, 0.5113538426864999),\n",
       " (25, 0.48126746060167847),\n",
       " (30, 0.4579198627900422),\n",
       " (40, 0.4766588309329893),\n",
       " (50, 0.47361026247112986)]"
      ]
     },
     "execution_count": 29,
     "metadata": {},
     "output_type": "execute_result"
    }
   ],
   "source": [
    "nudge_predictions_day"
   ]
  },
  {
   "cell_type": "code",
   "execution_count": 30,
   "metadata": {},
   "outputs": [
    {
     "data": {
      "text/plain": [
       "[<matplotlib.lines.Line2D at 0x166b7268c18>]"
      ]
     },
     "execution_count": 30,
     "metadata": {},
     "output_type": "execute_result"
    },
    {
     "data": {
      "image/png": "[encoded data removed]",
      "text/plain": [
       "<matplotlib.figure.Figure at 0x166b72115c0>"
      ]
     },
     "metadata": {},
     "output_type": "display_data"
    }
   ],
   "source": [
    "x = [nudge_prediction_time_of_day[0] for nudge_prediction_time_of_day in nudge_predictions_time_of_day]\n",
    "y = [nudge_prediction_time_of_day[1] for nudge_prediction_time_of_day in nudge_predictions_time_of_day]\n",
    "\n",
    "plt.xticks(x)\n",
    "plt.ylim(ymin=0)\n",
    "plt.plot(x, y)"
   ]
  },
  {
   "cell_type": "code",
   "execution_count": 31,
   "metadata": {},
   "outputs": [
    {
     "data": {
      "text/plain": [
       "[<matplotlib.lines.Line2D at 0x166b72bf940>]"
      ]
     },
     "execution_count": 31,
     "metadata": {},
     "output_type": "execute_result"
    },
    {
     "data": {
      "image/png": "[encoded data removed]",
      "text/plain": [
       "<matplotlib.figure.Figure at 0x166b727c240>"
      ]
     },
     "metadata": {},
     "output_type": "display_data"
    }
   ],
   "source": [
    "x = [nudge_prediction_day[0] for nudge_prediction_day in nudge_predictions_day]\n",
    "y = [nudge_prediction_day[1] for nudge_prediction_day in nudge_predictions_day]\n",
    "\n",
    "plt.xticks(x)\n",
    "plt.ylim(ymin=0)\n",
    "plt.plot(x, y)"
   ]
  },
  {
   "cell_type": "markdown",
   "metadata": {},
   "source": [
    "## Predict nudge based on stream preferences alone"
   ]
  },
  {
   "cell_type": "code",
   "execution_count": 32,
   "metadata": {
    "collapsed": true
   },
   "outputs": [],
   "source": [
    "nudge_predictions_time_of_day = []\n",
    "nudge_predictions_day = []\n",
    "\n",
    "for itr in [10, 15, 20, 25, 30, 40, 50]:\n",
    "    correct_time_of_day_ratio = 0\n",
    "    correct_day_ratio = 0    \n",
    "    for jtr in range(10): \n",
    "        correct_time_of_day = 0\n",
    "        correct_day = 0\n",
    "        selected_users = np.random.choice(unique_users, itr, False)\n",
    "        selected_streams = np.random.choice(unique_streams, itr, False)\n",
    "        streams_actually_viewed = 0\n",
    "        for userid in selected_users:\n",
    "            for streamid in selected_streams:\n",
    "                predicted_day, predicted_time, _ = predict_day_time_for_nudge(userid, streamid, False)\n",
    "                actual_day_df = actual_user_views_df[(actual_user_views_df[\"USERID\"] == userid) & (actual_user_views_df[\"STREAMID\"] == streamid)]\n",
    "                actual_time_df = actual_user_views_df[(actual_user_views_df[\"USERID\"] == userid) & (actual_user_views_df[\"STREAMID\"] == streamid)]\n",
    "                \n",
    "                # user has not viewed the stream in reality\n",
    "                if (predicted_day is None) or (actual_day_df.empty) or (actual_time_df.empty):\n",
    "                    continue\n",
    "                \n",
    "                predicted_day = predicted_day[0]\n",
    "                predicted_time = predicted_time[0]\n",
    "                \n",
    "                actual_day = actual_day_df[\"day_of_week\"].values[0]\n",
    "                actual_time = actual_time_df[\"time_labeled\"].values[0]\n",
    "                streams_actually_viewed += 1\n",
    "                if predicted_day == actual_day:\n",
    "                    correct_day += 1\n",
    "                if predicted_time == actual_time:\n",
    "                    correct_time_of_day += 1\n",
    "        \n",
    "        correct_time_of_day_ratio += (correct_time_of_day)/streams_actually_viewed\n",
    "        correct_day_ratio += (correct_day)/streams_actually_viewed\n",
    "        \n",
    "    nudge_predictions_time_of_day.append((itr, correct_time_of_day_ratio/10))\n",
    "    nudge_predictions_day.append((itr, correct_day_ratio/10))"
   ]
  },
  {
   "cell_type": "code",
   "execution_count": 33,
   "metadata": {},
   "outputs": [
    {
     "data": {
      "text/plain": [
       "[(10, 0.5915207015207016),\n",
       " (15, 0.5897396463185938),\n",
       " (20, 0.6008180172081101),\n",
       " (25, 0.5727819341036103),\n",
       " (30, 0.6068106558407246),\n",
       " (40, 0.6092291850093752),\n",
       " (50, 0.5999533508402335)]"
      ]
     },
     "execution_count": 33,
     "metadata": {},
     "output_type": "execute_result"
    }
   ],
   "source": [
    "nudge_predictions_time_of_day"
   ]
  },
  {
   "cell_type": "code",
   "execution_count": 34,
   "metadata": {},
   "outputs": [
    {
     "data": {
      "text/plain": [
       "[(10, 0.3034459984459984),\n",
       " (15, 0.291956990378043),\n",
       " (20, 0.25626213226058425),\n",
       " (25, 0.31387604373931327),\n",
       " (30, 0.3304096524049936),\n",
       " (40, 0.3331105828274177),\n",
       " (50, 0.32030453124212765)]"
      ]
     },
     "execution_count": 34,
     "metadata": {},
     "output_type": "execute_result"
    }
   ],
   "source": [
    "nudge_predictions_day"
   ]
  },
  {
   "cell_type": "code",
   "execution_count": 35,
   "metadata": {},
   "outputs": [
    {
     "data": {
      "text/plain": [
       "[<matplotlib.lines.Line2D at 0x166b73161d0>]"
      ]
     },
     "execution_count": 35,
     "metadata": {},
     "output_type": "execute_result"
    },
    {
     "data": {
      "image/png": "[encoded data removed]",
      "text/plain": [
       "<matplotlib.figure.Figure at 0x166b7072da0>"
      ]
     },
     "metadata": {},
     "output_type": "display_data"
    }
   ],
   "source": [
    "x = [nudge_prediction_time_of_day[0] for nudge_prediction_time_of_day in nudge_predictions_time_of_day]\n",
    "y = [nudge_prediction_time_of_day[1] for nudge_prediction_time_of_day in nudge_predictions_time_of_day]\n",
    "\n",
    "plt.xticks(x)\n",
    "plt.ylim(ymin=0)\n",
    "plt.plot(x, y)"
   ]
  },
  {
   "cell_type": "code",
   "execution_count": 36,
   "metadata": {},
   "outputs": [
    {
     "data": {
      "text/plain": [
       "[<matplotlib.lines.Line2D at 0x166b7373be0>]"
      ]
     },
     "execution_count": 36,
     "metadata": {},
     "output_type": "execute_result"
    },
    {
     "data": {
      "image/png": "[encoded data removed]",
      "text/plain": [
       "<matplotlib.figure.Figure at 0x166b72f2cc0>"
      ]
     },
     "metadata": {},
     "output_type": "display_data"
    }
   ],
   "source": [
    "x = [nudge_prediction_day[0] for nudge_prediction_day in nudge_predictions_day]\n",
    "y = [nudge_prediction_day[1] for nudge_prediction_day in nudge_predictions_day]\n",
    "\n",
    "plt.xticks(x)\n",
    "plt.ylim(ymin=0)\n",
    "plt.plot(x, y)"
   ]
  },
  {
   "cell_type": "code",
   "execution_count": null,
   "metadata": {
    "collapsed": true
   },
   "outputs": [],
   "source": []
  }
 ],
 "metadata": {
  "kernelspec": {
   "display_name": "Python 3",
   "language": "python",
   "name": "python3"
  },
  "language_info": {
   "codemirror_mode": {
    "name": "ipython",
    "version": 3
   },
   "file_extension": ".py",
   "mimetype": "text/x-python",
   "name": "python",
   "nbconvert_exporter": "python",
   "pygments_lexer": "ipython3",
   "version": "3.6.3"
  }
 },
 "nbformat": 4,
 "nbformat_minor": 2
}
