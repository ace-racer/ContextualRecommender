{
 "cells": [
  {
   "cell_type": "code",
   "execution_count": 1,
   "metadata": {
    "collapsed": true
   },
   "outputs": [],
   "source": [
    "import pandas as pd\n",
    "import numpy as np\n",
    "import matplotlib.pyplot as plt\n",
    "%matplotlib inline\n",
    "import sys"
   ]
  },
  {
   "cell_type": "code",
   "execution_count": 2,
   "metadata": {
    "collapsed": true
   },
   "outputs": [],
   "source": [
    "sys.path.append(\"../modules/\")"
   ]
  },
  {
   "cell_type": "code",
   "execution_count": 3,
   "metadata": {
    "collapsed": true
   },
   "outputs": [],
   "source": [
    "import ContentRecommender\n",
    "import CollaborativeRecommender"
   ]
  },
  {
   "cell_type": "code",
   "execution_count": 4,
   "metadata": {
    "collapsed": true
   },
   "outputs": [],
   "source": [
    "import UserStreamViews\n",
    "import CombinedRecommender"
   ]
  },
  {
   "cell_type": "code",
   "execution_count": 5,
   "metadata": {},
   "outputs": [
    {
     "data": {
      "text/html": [
       "<div>\n",
       "<style scoped>\n",
       "    .dataframe tbody tr th:only-of-type {\n",
       "        vertical-align: middle;\n",
       "    }\n",
       "\n",
       "    .dataframe tbody tr th {\n",
       "        vertical-align: top;\n",
       "    }\n",
       "\n",
       "    .dataframe thead th {\n",
       "        text-align: right;\n",
       "    }\n",
       "</style>\n",
       "<table border=\"1\" class=\"dataframe\">\n",
       "  <thead>\n",
       "    <tr style=\"text-align: right;\">\n",
       "      <th></th>\n",
       "      <th>USERID</th>\n",
       "      <th>STREAMID</th>\n",
       "      <th>num_views</th>\n",
       "      <th>day_of_week</th>\n",
       "      <th>time_labeled</th>\n",
       "      <th>num_cards</th>\n",
       "      <th>views_per_card</th>\n",
       "    </tr>\n",
       "  </thead>\n",
       "  <tbody>\n",
       "    <tr>\n",
       "      <th>0</th>\n",
       "      <td>245</td>\n",
       "      <td>163</td>\n",
       "      <td>1029</td>\n",
       "      <td>Wednesday</td>\n",
       "      <td>Afternoon</td>\n",
       "      <td>15</td>\n",
       "      <td>68.600000</td>\n",
       "    </tr>\n",
       "    <tr>\n",
       "      <th>1</th>\n",
       "      <td>245</td>\n",
       "      <td>167</td>\n",
       "      <td>258</td>\n",
       "      <td>Thursday</td>\n",
       "      <td>Afternoon</td>\n",
       "      <td>14</td>\n",
       "      <td>18.428571</td>\n",
       "    </tr>\n",
       "    <tr>\n",
       "      <th>2</th>\n",
       "      <td>245</td>\n",
       "      <td>171</td>\n",
       "      <td>123</td>\n",
       "      <td>Wednesday</td>\n",
       "      <td>Afternoon</td>\n",
       "      <td>6</td>\n",
       "      <td>20.500000</td>\n",
       "    </tr>\n",
       "    <tr>\n",
       "      <th>3</th>\n",
       "      <td>245</td>\n",
       "      <td>172</td>\n",
       "      <td>83</td>\n",
       "      <td>Wednesday</td>\n",
       "      <td>Afternoon</td>\n",
       "      <td>4</td>\n",
       "      <td>20.750000</td>\n",
       "    </tr>\n",
       "    <tr>\n",
       "      <th>4</th>\n",
       "      <td>245</td>\n",
       "      <td>173</td>\n",
       "      <td>167</td>\n",
       "      <td>Monday</td>\n",
       "      <td>Afternoon</td>\n",
       "      <td>8</td>\n",
       "      <td>20.875000</td>\n",
       "    </tr>\n",
       "  </tbody>\n",
       "</table>\n",
       "</div>"
      ],
      "text/plain": [
       "   USERID  STREAMID  num_views day_of_week time_labeled  num_cards  \\\n",
       "0     245       163       1029   Wednesday    Afternoon         15   \n",
       "1     245       167        258    Thursday    Afternoon         14   \n",
       "2     245       171        123   Wednesday    Afternoon          6   \n",
       "3     245       172         83   Wednesday    Afternoon          4   \n",
       "4     245       173        167      Monday    Afternoon          8   \n",
       "\n",
       "   views_per_card  \n",
       "0       68.600000  \n",
       "1       18.428571  \n",
       "2       20.500000  \n",
       "3       20.750000  \n",
       "4       20.875000  "
      ]
     },
     "execution_count": 5,
     "metadata": {},
     "output_type": "execute_result"
    }
   ],
   "source": [
    "user_views_per_stream_df = pd.read_csv(\"data/user_views_per_stream.csv\", header=0)\n",
    "user_views_per_stream_df.head()"
   ]
  },
  {
   "cell_type": "code",
   "execution_count": 6,
   "metadata": {},
   "outputs": [
    {
     "data": {
      "text/plain": [
       "(219,)"
      ]
     },
     "execution_count": 6,
     "metadata": {},
     "output_type": "execute_result"
    }
   ],
   "source": [
    "unique_users = np.unique(user_views_per_stream_df[\"USERID\"].values)\n",
    "unique_users.shape"
   ]
  },
  {
   "cell_type": "code",
   "execution_count": 7,
   "metadata": {},
   "outputs": [
    {
     "data": {
      "text/html": [
       "<div>\n",
       "<style scoped>\n",
       "    .dataframe tbody tr th:only-of-type {\n",
       "        vertical-align: middle;\n",
       "    }\n",
       "\n",
       "    .dataframe tbody tr th {\n",
       "        vertical-align: top;\n",
       "    }\n",
       "\n",
       "    .dataframe thead th {\n",
       "        text-align: right;\n",
       "    }\n",
       "</style>\n",
       "<table border=\"1\" class=\"dataframe\">\n",
       "  <thead>\n",
       "    <tr style=\"text-align: right;\">\n",
       "      <th></th>\n",
       "      <th>USERID</th>\n",
       "      <th>CARDID</th>\n",
       "      <th>CARDTITLE</th>\n",
       "      <th>STREAMID</th>\n",
       "      <th>STREAMNAME</th>\n",
       "      <th>TIMESTAMP</th>\n",
       "      <th>MODULEID</th>\n",
       "      <th>MODULENAME</th>\n",
       "    </tr>\n",
       "  </thead>\n",
       "  <tbody>\n",
       "    <tr>\n",
       "      <th>0</th>\n",
       "      <td>1007</td>\n",
       "      <td>2798</td>\n",
       "      <td>QUICK TEST - WHAT IS IN MY ENGINE OIL?</td>\n",
       "      <td>561</td>\n",
       "      <td>What is engine oil made of?</td>\n",
       "      <td>31-05-2017 01:14</td>\n",
       "      <td>430</td>\n",
       "      <td>2. WHAT IS ENGINE OIL MADE OF?</td>\n",
       "    </tr>\n",
       "    <tr>\n",
       "      <th>1</th>\n",
       "      <td>1007</td>\n",
       "      <td>2798</td>\n",
       "      <td>QUICK TEST - WHAT IS IN MY ENGINE OIL?</td>\n",
       "      <td>561</td>\n",
       "      <td>What is engine oil made of?</td>\n",
       "      <td>31-05-2017 01:14</td>\n",
       "      <td>430</td>\n",
       "      <td>2. WHAT IS ENGINE OIL MADE OF?</td>\n",
       "    </tr>\n",
       "    <tr>\n",
       "      <th>2</th>\n",
       "      <td>1007</td>\n",
       "      <td>2798</td>\n",
       "      <td>QUICK TEST - WHAT IS IN MY ENGINE OIL?</td>\n",
       "      <td>561</td>\n",
       "      <td>What is engine oil made of?</td>\n",
       "      <td>31-05-2017 01:14</td>\n",
       "      <td>430</td>\n",
       "      <td>2. WHAT IS ENGINE OIL MADE OF?</td>\n",
       "    </tr>\n",
       "    <tr>\n",
       "      <th>3</th>\n",
       "      <td>1007</td>\n",
       "      <td>2808</td>\n",
       "      <td>ENGINE OIL ADDITIVES</td>\n",
       "      <td>561</td>\n",
       "      <td>What is engine oil made of?</td>\n",
       "      <td>31-05-2017 01:15</td>\n",
       "      <td>430</td>\n",
       "      <td>2. WHAT IS ENGINE OIL MADE OF?</td>\n",
       "    </tr>\n",
       "    <tr>\n",
       "      <th>4</th>\n",
       "      <td>1007</td>\n",
       "      <td>2808</td>\n",
       "      <td>ENGINE OIL ADDITIVES</td>\n",
       "      <td>561</td>\n",
       "      <td>What is engine oil made of?</td>\n",
       "      <td>31-05-2017 01:15</td>\n",
       "      <td>430</td>\n",
       "      <td>2. WHAT IS ENGINE OIL MADE OF?</td>\n",
       "    </tr>\n",
       "  </tbody>\n",
       "</table>\n",
       "</div>"
      ],
      "text/plain": [
       "   USERID  CARDID                               CARDTITLE  STREAMID  \\\n",
       "0    1007    2798  QUICK TEST - WHAT IS IN MY ENGINE OIL?       561   \n",
       "1    1007    2798  QUICK TEST - WHAT IS IN MY ENGINE OIL?       561   \n",
       "2    1007    2798  QUICK TEST - WHAT IS IN MY ENGINE OIL?       561   \n",
       "3    1007    2808                    ENGINE OIL ADDITIVES       561   \n",
       "4    1007    2808                    ENGINE OIL ADDITIVES       561   \n",
       "\n",
       "                    STREAMNAME         TIMESTAMP  MODULEID  \\\n",
       "0  What is engine oil made of?  31-05-2017 01:14       430   \n",
       "1  What is engine oil made of?  31-05-2017 01:14       430   \n",
       "2  What is engine oil made of?  31-05-2017 01:14       430   \n",
       "3  What is engine oil made of?  31-05-2017 01:15       430   \n",
       "4  What is engine oil made of?  31-05-2017 01:15       430   \n",
       "\n",
       "                       MODULENAME  \n",
       "0  2. WHAT IS ENGINE OIL MADE OF?  \n",
       "1  2. WHAT IS ENGINE OIL MADE OF?  \n",
       "2  2. WHAT IS ENGINE OIL MADE OF?  \n",
       "3  2. WHAT IS ENGINE OIL MADE OF?  \n",
       "4  2. WHAT IS ENGINE OIL MADE OF?  "
      ]
     },
     "execution_count": 7,
     "metadata": {},
     "output_type": "execute_result"
    }
   ],
   "source": [
    "stream_views_raw_df = pd.read_csv(\"data/content_views_raw.csv\", header=0)\n",
    "stream_views_raw_df.head()"
   ]
  },
  {
   "cell_type": "code",
   "execution_count": 8,
   "metadata": {
    "collapsed": true
   },
   "outputs": [],
   "source": [
    "stream_views_raw_df['TIMESTAMP'] = pd.to_datetime(stream_views_raw_df['TIMESTAMP'], format=\"%d-%m-%Y %H:%M\")\n"
   ]
  },
  {
   "cell_type": "code",
   "execution_count": 9,
   "metadata": {
    "collapsed": true
   },
   "outputs": [],
   "source": [
    "NUM_USERS = 10\n",
    "selected_users = np.random.choice(unique_users, NUM_USERS, False)\n"
   ]
  },
  {
   "cell_type": "markdown",
   "metadata": {},
   "source": [
    "## Content recommendations for each of the users"
   ]
  },
  {
   "cell_type": "code",
   "execution_count": 10,
   "metadata": {
    "scrolled": false
   },
   "outputs": [
    {
     "name": "stdout",
     "output_type": "stream",
     "text": [
      "Recommendations\n",
      "{2433, 2062, 548, 2103, 2104, 1347, 2373, 2374, 199, 202, 2380, 2381, 2511, 2392, 2265, 1498, 2266, 1499, 2401, 2405, 230, 232, 1128, 1512, 364, 1644, 2030, 2031, 624, 623, 2036, 245, 246, 634, 2037, 1658, 1659}\n",
      "{517, 1655, 1528, 414, 1058, 237, 556, 557, 238, 558, 560, 561, 562, 179, 820, 439, 189, 318, 191, 578, 199, 201, 202, 203, 204, 205, 206, 1644, 218, 219, 220, 247, 248, 1633, 610, 228, 229, 230, 1381, 231, 233, 232, 363, 492, 493, 494, 236, 496, 497, 498, 499, 500, 629, 245, 246, 244, 505, 637}\n"
     ]
    },
    {
     "data": {
      "text/plain": [
       "0.1891891891891892"
      ]
     },
     "execution_count": 10,
     "metadata": {},
     "output_type": "execute_result"
    }
   ],
   "source": [
    "content_recommended_streams = []\n",
    "all_user_viewed_streams = []\n",
    "\n",
    "for userid in selected_users:\n",
    "    recent_viewed_streams = UserStreamViews.get_latest_streams_for_user(stream_views_raw_df, userid)\n",
    "    recent_viewed_stream_ids = [x[0] for x in recent_viewed_streams]\n",
    "    similar_streams_based_on_history = ContentRecommender.get_similar_streams_based_on_history(recent_viewed_stream_ids)\n",
    "    if similar_streams_based_on_history is not None:\n",
    "        recommended_stream_ids = [s[0] for s in similar_streams_based_on_history]\n",
    "        content_recommended_streams.extend(recommended_stream_ids)\n",
    "    \n",
    "    current_user_viewed_streams = user_views_per_stream_df[user_views_per_stream_df[\"USERID\"] == userid][\"STREAMID\"].values\n",
    "    all_user_viewed_streams.extend(current_user_viewed_streams)\n",
    "    \n",
    "content_recommended_streams = set(content_recommended_streams)\n",
    "all_user_viewed_streams = set(all_user_viewed_streams)\n",
    "\n",
    "print(\"Recommendations\")\n",
    "print(content_recommended_streams)\n",
    "print(all_user_viewed_streams)\n",
    "\n",
    "recommended_content_viewed = content_recommended_streams.intersection(all_user_viewed_streams)\n",
    "len(recommended_content_viewed) / len(content_recommended_streams)"
   ]
  },
  {
   "cell_type": "code",
   "execution_count": 13,
   "metadata": {
    "collapsed": true
   },
   "outputs": [],
   "source": [
    "def get_content_recommendation_performance(users, num_recommendations = 10):\n",
    "    content_recommended_streams = []\n",
    "    all_user_viewed_streams = []\n",
    "\n",
    "    for userid in users:\n",
    "        recent_viewed_streams = UserStreamViews.get_latest_streams_for_user(stream_views_raw_df, userid)\n",
    "        recent_viewed_stream_ids = [x[0] for x in recent_viewed_streams]\n",
    "        similar_streams_based_on_history = ContentRecommender.get_similar_streams_based_on_history(recent_viewed_stream_ids, max_similar_streams = num_recommendations)\n",
    "        if similar_streams_based_on_history is not None:\n",
    "            recommended_stream_ids = [s[0] for s in similar_streams_based_on_history]\n",
    "            content_recommended_streams.extend(recommended_stream_ids)\n",
    "\n",
    "        current_user_viewed_streams = user_views_per_stream_df[user_views_per_stream_df[\"USERID\"] == userid][\"STREAMID\"].values\n",
    "        all_user_viewed_streams.extend(current_user_viewed_streams)\n",
    "    \n",
    "    content_recommended_streams = set(content_recommended_streams)\n",
    "    all_user_viewed_streams = set(all_user_viewed_streams)\n",
    "\n",
    "    print(\"Recommendations\")\n",
    "    #print(content_recommended_streams)\n",
    "    #print(all_user_viewed_streams)\n",
    "\n",
    "    recommended_content_viewed = content_recommended_streams.intersection(all_user_viewed_streams)\n",
    "    recommended_content_viewed_ratio = len(recommended_content_viewed) / len(content_recommended_streams)\n",
    "    return recommended_content_viewed_ratio"
   ]
  },
  {
   "cell_type": "code",
   "execution_count": 16,
   "metadata": {},
   "outputs": [
    {
     "name": "stdout",
     "output_type": "stream",
     "text": [
      "Recommendations\n",
      "Recommendations\n",
      "Recommendations\n",
      "Recommendations\n",
      "Recommendations\n",
      "Recommendations\n",
      "Recommendations\n",
      "Recommendations\n",
      "Recommendations\n",
      "Recommendations\n",
      "Recommendations\n",
      "Recommendations\n",
      "Recommendations\n",
      "Recommendations\n",
      "Recommendations\n",
      "Recommendations\n",
      "Recommendations\n",
      "Recommendations\n",
      "Recommendations\n",
      "Recommendations\n",
      "Recommendations\n",
      "Recommendations\n",
      "Recommendations\n",
      "Recommendations\n",
      "Recommendations\n",
      "Recommendations\n",
      "Recommendations\n",
      "Recommendations\n",
      "Recommendations\n",
      "Recommendations\n",
      "Recommendations\n",
      "Recommendations\n",
      "Recommendations\n",
      "Recommendations\n",
      "Recommendations\n",
      "Recommendations\n",
      "Recommendations\n",
      "Recommendations\n",
      "Recommendations\n",
      "Recommendations\n",
      "Recommendations\n",
      "Recommendations\n",
      "Recommendations\n",
      "Recommendations\n",
      "Recommendations\n",
      "Recommendations\n",
      "Recommendations\n",
      "Recommendations\n",
      "Recommendations\n",
      "Recommendations\n"
     ]
    }
   ],
   "source": [
    "content_reco_perfs = []\n",
    "for itr in [10, 15, 20, 25, 30]:\n",
    "    content_reco_perf = 0\n",
    "    for jtr in range(10):\n",
    "        selected_users = np.random.choice(unique_users, 20, False)\n",
    "        content_reco_perf += get_content_recommendation_performance(selected_users, itr)\n",
    "        \n",
    "    content_reco_perfs.append((itr, content_reco_perf/10))"
   ]
  },
  {
   "cell_type": "code",
   "execution_count": 17,
   "metadata": {},
   "outputs": [
    {
     "data": {
      "text/plain": [
       "[(10, 0.26492892370400895),\n",
       " (15, 0.2995726496707568),\n",
       " (20, 0.2718310451920161),\n",
       " (25, 0.29199657214717456),\n",
       " (30, 0.3252277109795395)]"
      ]
     },
     "execution_count": 17,
     "metadata": {},
     "output_type": "execute_result"
    }
   ],
   "source": [
    "content_reco_perfs"
   ]
  },
  {
   "cell_type": "code",
   "execution_count": 20,
   "metadata": {},
   "outputs": [
    {
     "data": {
      "text/plain": [
       "[<matplotlib.lines.Line2D at 0x1bd11b372b0>]"
      ]
     },
     "execution_count": 20,
     "metadata": {},
     "output_type": "execute_result"
    },
    {
     "data": {
      "image/png": "[encoded data removed]",
      "text/plain": [
       "<matplotlib.figure.Figure at 0x1bd11aaf5c0>"
      ]
     },
     "metadata": {},
     "output_type": "display_data"
    }
   ],
   "source": [
    "x = [content_reco_perf[0] for content_reco_perf in content_reco_perfs if content_reco_perf[0] != 15]\n",
    "y = [content_reco_perf[1] for content_reco_perf in content_reco_perfs if content_reco_perf[0] != 15]\n",
    "\n",
    "plt.plot(x, y)"
   ]
  },
  {
   "cell_type": "markdown",
   "metadata": {},
   "source": [
    "## Collaborative recommendations for the users"
   ]
  },
  {
   "cell_type": "code",
   "execution_count": 30,
   "metadata": {
    "collapsed": true
   },
   "outputs": [],
   "source": [
    "def get_collaborative_recommendation_performance(users, num_recommendations = 10):\n",
    "    collaborative_recommended_streams = []\n",
    "    all_user_viewed_streams = []\n",
    "\n",
    "    for userid in users:\n",
    "        streams_based_on_other_users = CollaborativeRecommender.get_similar_streams_based_on_other_users(userid, max_similar_streams = num_recommendations)\n",
    "        # print(streams_based_on_other_users)\n",
    "        if streams_based_on_other_users is not None:\n",
    "            recommended_stream_ids = [int(s[0]) for s in streams_based_on_other_users]\n",
    "            collaborative_recommended_streams.extend(recommended_stream_ids)\n",
    "\n",
    "        current_user_viewed_streams = user_views_per_stream_df[user_views_per_stream_df[\"USERID\"] == userid][\"STREAMID\"].values\n",
    "        all_user_viewed_streams.extend(current_user_viewed_streams)\n",
    "    \n",
    "    collaborative_recommended_streams = set(collaborative_recommended_streams)\n",
    "    all_user_viewed_streams = set(all_user_viewed_streams)\n",
    "\n",
    "    # print(\"Recommendations\")\n",
    "    #print(content_recommended_streams)\n",
    "    #print(all_user_viewed_streams)\n",
    "\n",
    "    recommended_content_viewed = collaborative_recommended_streams.intersection(all_user_viewed_streams)\n",
    "    recommended_content_viewed_ratio = len(recommended_content_viewed) / len(collaborative_recommended_streams)\n",
    "    return recommended_content_viewed_ratio"
   ]
  },
  {
   "cell_type": "code",
   "execution_count": 31,
   "metadata": {},
   "outputs": [],
   "source": [
    "collaborative_reco_perfs = []\n",
    "for itr in [10, 15, 20, 25, 30]:\n",
    "    collaborative_reco_perf = 0\n",
    "    for jtr in range(10):\n",
    "        selected_users = np.random.choice(unique_users, 20, False)\n",
    "        collaborative_reco_perf += get_collaborative_recommendation_performance(selected_users, itr)\n",
    "        \n",
    "    collaborative_reco_perfs.append((itr, collaborative_reco_perf/10))"
   ]
  },
  {
   "cell_type": "code",
   "execution_count": 32,
   "metadata": {},
   "outputs": [
    {
     "data": {
      "text/plain": [
       "[(10, 0.9199626692751692),\n",
       " (15, 0.889498290821817),\n",
       " (20, 0.8724489576641016),\n",
       " (25, 0.8687595535335106),\n",
       " (30, 0.811105465789403)]"
      ]
     },
     "execution_count": 32,
     "metadata": {},
     "output_type": "execute_result"
    }
   ],
   "source": [
    "collaborative_reco_perfs"
   ]
  },
  {
   "cell_type": "code",
   "execution_count": 33,
   "metadata": {},
   "outputs": [
    {
     "data": {
      "text/plain": [
       "[<matplotlib.lines.Line2D at 0x1f9e769d828>]"
      ]
     },
     "execution_count": 33,
     "metadata": {},
     "output_type": "execute_result"
    },
    {
     "data": {
      "image/png": "[encoded data removed]",
      "text/plain": [
       "<matplotlib.figure.Figure at 0x1f9e7664e48>"
      ]
     },
     "metadata": {},
     "output_type": "display_data"
    }
   ],
   "source": [
    "x = [collaborative_reco_perf[0] for collaborative_reco_perf in collaborative_reco_perfs]\n",
    "y = [collaborative_reco_perf[1] for collaborative_reco_perf in collaborative_reco_perfs]\n",
    "\n",
    "plt.plot(x, y)"
   ]
  },
  {
   "cell_type": "code",
   "execution_count": 34,
   "metadata": {},
   "outputs": [
    {
     "data": {
      "text/plain": [
       "0.25"
      ]
     },
     "execution_count": 34,
     "metadata": {},
     "output_type": "execute_result"
    }
   ],
   "source": [
    "get_collaborative_recommendation_performance([1007], 30)"
   ]
  },
  {
   "cell_type": "markdown",
   "metadata": {},
   "source": [
    "## Hybrid recommender performance"
   ]
  },
  {
   "cell_type": "code",
   "execution_count": 35,
   "metadata": {
    "collapsed": true
   },
   "outputs": [],
   "source": [
    "def get_hybrid_recommendation_performance(users, num_recommendations = 10):\n",
    "    hybrid_recommended_streams = []\n",
    "    all_user_viewed_streams = []\n",
    "\n",
    "    for userid in users:\n",
    "        recent_viewed_streams = UserStreamViews.get_latest_streams_for_user(stream_views_raw_df, userid)\n",
    "        recent_viewed_stream_ids = [x[0] for x in recent_viewed_streams]\n",
    "        recommended_stream_ids, selection_reasoning = CombinedRecommender.get_recommended_stream_ids(userid, recent_viewed_stream_ids, max_num_streams_required = num_recommendations)\n",
    "        \n",
    "        if recommended_stream_ids is not None:\n",
    "            recommended_stream_ids = [int(s[0]) for s in recommended_stream_ids]\n",
    "            hybrid_recommended_streams.extend(recommended_stream_ids)\n",
    "\n",
    "        current_user_viewed_streams = user_views_per_stream_df[user_views_per_stream_df[\"USERID\"] == userid][\"STREAMID\"].values\n",
    "        all_user_viewed_streams.extend(current_user_viewed_streams)\n",
    "    \n",
    "    hybrid_recommended_streams = set(hybrid_recommended_streams)\n",
    "    all_user_viewed_streams = set(all_user_viewed_streams)\n",
    "\n",
    "    # print(\"Recommendations\")\n",
    "    #print(content_recommended_streams)\n",
    "    #print(all_user_viewed_streams)\n",
    "\n",
    "    recommended_content_viewed = hybrid_recommended_streams.intersection(all_user_viewed_streams)\n",
    "    recommended_content_viewed_ratio = len(recommended_content_viewed) / len(hybrid_recommended_streams)\n",
    "    return recommended_content_viewed_ratio"
   ]
  },
  {
   "cell_type": "code",
   "execution_count": 36,
   "metadata": {
    "collapsed": true
   },
   "outputs": [],
   "source": [
    "hybrid_reco_perfs = []\n",
    "for itr in [10, 15, 20, 25, 30]:\n",
    "    hybrid_reco_perf = 0\n",
    "    for jtr in range(10):\n",
    "        selected_users = np.random.choice(unique_users, 20, False)\n",
    "        hybrid_reco_perf += get_collaborative_recommendation_performance(selected_users, itr)\n",
    "        \n",
    "    hybrid_reco_perfs.append((itr, hybrid_reco_perf/10))"
   ]
  },
  {
   "cell_type": "code",
   "execution_count": 37,
   "metadata": {},
   "outputs": [
    {
     "data": {
      "text/plain": [
       "[(10, 0.9359911555242967),\n",
       " (15, 0.9151783864454727),\n",
       " (20, 0.8513585695353015),\n",
       " (25, 0.8449923203200974),\n",
       " (30, 0.8588384921082834)]"
      ]
     },
     "execution_count": 37,
     "metadata": {},
     "output_type": "execute_result"
    }
   ],
   "source": [
    "hybrid_reco_perfs"
   ]
  },
  {
   "cell_type": "code",
   "execution_count": 38,
   "metadata": {},
   "outputs": [
    {
     "data": {
      "text/plain": [
       "[<matplotlib.lines.Line2D at 0x1f9e7709898>]"
      ]
     },
     "execution_count": 38,
     "metadata": {},
     "output_type": "execute_result"
    },
    {
     "data": {
      "image/png": "[encoded data removed]",
      "text/plain": [
       "<matplotlib.figure.Figure at 0x1f9e76644e0>"
      ]
     },
     "metadata": {},
     "output_type": "display_data"
    }
   ],
   "source": [
    "x = [hybrid_reco_perf[0] for hybrid_reco_perf in hybrid_reco_perfs]\n",
    "y = [hybrid_reco_perf[1] for hybrid_reco_perf in hybrid_reco_perfs]\n",
    "\n",
    "plt.plot(x, y)"
   ]
  },
  {
   "cell_type": "code",
   "execution_count": null,
   "metadata": {
    "collapsed": true
   },
   "outputs": [],
   "source": []
  }
 ],
 "metadata": {
  "kernelspec": {
   "display_name": "Python 3",
   "language": "python",
   "name": "python3"
  },
  "language_info": {
   "codemirror_mode": {
    "name": "ipython",
    "version": 3
   },
   "file_extension": ".py",
   "mimetype": "text/x-python",
   "name": "python",
   "nbconvert_exporter": "python",
   "pygments_lexer": "ipython3",
   "version": "3.6.3"
  }
 },
 "nbformat": 4,
 "nbformat_minor": 2
}
