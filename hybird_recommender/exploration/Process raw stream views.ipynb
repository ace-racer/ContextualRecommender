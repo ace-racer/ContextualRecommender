{
 "cells": [
  {
   "cell_type": "code",
   "execution_count": 1,
   "metadata": {
    "collapsed": true
   },
   "outputs": [],
   "source": [
    "import pandas as pd\n",
    "import numpy as np\n",
    "import matplotlib.pyplot as plt\n",
    "%matplotlib inline"
   ]
  },
  {
   "cell_type": "code",
   "execution_count": 2,
   "metadata": {},
   "outputs": [
    {
     "data": {
      "text/html": [
       "<div>\n",
       "<style>\n",
       "    .dataframe thead tr:only-child th {\n",
       "        text-align: right;\n",
       "    }\n",
       "\n",
       "    .dataframe thead th {\n",
       "        text-align: left;\n",
       "    }\n",
       "\n",
       "    .dataframe tbody tr th {\n",
       "        vertical-align: top;\n",
       "    }\n",
       "</style>\n",
       "<table border=\"1\" class=\"dataframe\">\n",
       "  <thead>\n",
       "    <tr style=\"text-align: right;\">\n",
       "      <th></th>\n",
       "      <th>USERID</th>\n",
       "      <th>CARDID</th>\n",
       "      <th>CARDTITLE</th>\n",
       "      <th>STREAMID</th>\n",
       "      <th>STREAMNAME</th>\n",
       "      <th>TIMESTAMP</th>\n",
       "      <th>MODULEID</th>\n",
       "      <th>MODULENAME</th>\n",
       "      <th>ORGANIZATION</th>\n",
       "    </tr>\n",
       "  </thead>\n",
       "  <tbody>\n",
       "    <tr>\n",
       "      <th>0</th>\n",
       "      <td>1019</td>\n",
       "      <td>3021</td>\n",
       "      <td>Best in Class</td>\n",
       "      <td>579</td>\n",
       "      <td>About HMD</td>\n",
       "      <td>2017-07-09 10:23:36</td>\n",
       "      <td>473</td>\n",
       "      <td>HMD</td>\n",
       "      <td>28</td>\n",
       "    </tr>\n",
       "    <tr>\n",
       "      <th>1</th>\n",
       "      <td>1054</td>\n",
       "      <td>3021</td>\n",
       "      <td>Best in Class</td>\n",
       "      <td>579</td>\n",
       "      <td>About HMD</td>\n",
       "      <td>2017-07-09 14:41:25</td>\n",
       "      <td>473</td>\n",
       "      <td>HMD</td>\n",
       "      <td>28</td>\n",
       "    </tr>\n",
       "    <tr>\n",
       "      <th>2</th>\n",
       "      <td>977</td>\n",
       "      <td>3021</td>\n",
       "      <td>Best in Class</td>\n",
       "      <td>579</td>\n",
       "      <td>About HMD</td>\n",
       "      <td>2017-07-09 13:35:38</td>\n",
       "      <td>473</td>\n",
       "      <td>HMD</td>\n",
       "      <td>28</td>\n",
       "    </tr>\n",
       "    <tr>\n",
       "      <th>3</th>\n",
       "      <td>1337</td>\n",
       "      <td>3021</td>\n",
       "      <td>Best in Class</td>\n",
       "      <td>579</td>\n",
       "      <td>About HMD</td>\n",
       "      <td>2017-07-10 05:53:05</td>\n",
       "      <td>473</td>\n",
       "      <td>HMD</td>\n",
       "      <td>28</td>\n",
       "    </tr>\n",
       "    <tr>\n",
       "      <th>4</th>\n",
       "      <td>1346</td>\n",
       "      <td>3021</td>\n",
       "      <td>Best in Class</td>\n",
       "      <td>579</td>\n",
       "      <td>About HMD</td>\n",
       "      <td>2017-07-10 11:23:59</td>\n",
       "      <td>473</td>\n",
       "      <td>HMD</td>\n",
       "      <td>28</td>\n",
       "    </tr>\n",
       "  </tbody>\n",
       "</table>\n",
       "</div>"
      ],
      "text/plain": [
       "   USERID  CARDID      CARDTITLE  STREAMID STREAMNAME            TIMESTAMP  \\\n",
       "0    1019    3021  Best in Class       579  About HMD  2017-07-09 10:23:36   \n",
       "1    1054    3021  Best in Class       579  About HMD  2017-07-09 14:41:25   \n",
       "2     977    3021  Best in Class       579  About HMD  2017-07-09 13:35:38   \n",
       "3    1337    3021  Best in Class       579  About HMD  2017-07-10 05:53:05   \n",
       "4    1346    3021  Best in Class       579  About HMD  2017-07-10 11:23:59   \n",
       "\n",
       "   MODULEID MODULENAME  ORGANIZATION  \n",
       "0       473        HMD            28  \n",
       "1       473        HMD            28  \n",
       "2       473        HMD            28  \n",
       "3       473        HMD            28  \n",
       "4       473        HMD            28  "
      ]
     },
     "execution_count": 2,
     "metadata": {},
     "output_type": "execute_result"
    }
   ],
   "source": [
    "stream_views_df = pd.read_csv(\"data/content_views_raw.csv\", header=0)\n",
    "stream_views_df.head()"
   ]
  },
  {
   "cell_type": "code",
   "execution_count": 3,
   "metadata": {},
   "outputs": [
    {
     "data": {
      "text/html": [
       "<div>\n",
       "<style>\n",
       "    .dataframe thead tr:only-child th {\n",
       "        text-align: right;\n",
       "    }\n",
       "\n",
       "    .dataframe thead th {\n",
       "        text-align: left;\n",
       "    }\n",
       "\n",
       "    .dataframe tbody tr th {\n",
       "        vertical-align: top;\n",
       "    }\n",
       "</style>\n",
       "<table border=\"1\" class=\"dataframe\">\n",
       "  <thead>\n",
       "    <tr style=\"text-align: right;\">\n",
       "      <th></th>\n",
       "      <th>USERID</th>\n",
       "      <th>CARDID</th>\n",
       "      <th>STREAMID</th>\n",
       "      <th>TIMESTAMP</th>\n",
       "      <th>MODULEID</th>\n",
       "    </tr>\n",
       "  </thead>\n",
       "  <tbody>\n",
       "    <tr>\n",
       "      <th>0</th>\n",
       "      <td>1019</td>\n",
       "      <td>3021</td>\n",
       "      <td>579</td>\n",
       "      <td>2017-07-09 10:23:36</td>\n",
       "      <td>473</td>\n",
       "    </tr>\n",
       "    <tr>\n",
       "      <th>1</th>\n",
       "      <td>1054</td>\n",
       "      <td>3021</td>\n",
       "      <td>579</td>\n",
       "      <td>2017-07-09 14:41:25</td>\n",
       "      <td>473</td>\n",
       "    </tr>\n",
       "    <tr>\n",
       "      <th>2</th>\n",
       "      <td>977</td>\n",
       "      <td>3021</td>\n",
       "      <td>579</td>\n",
       "      <td>2017-07-09 13:35:38</td>\n",
       "      <td>473</td>\n",
       "    </tr>\n",
       "    <tr>\n",
       "      <th>3</th>\n",
       "      <td>1337</td>\n",
       "      <td>3021</td>\n",
       "      <td>579</td>\n",
       "      <td>2017-07-10 05:53:05</td>\n",
       "      <td>473</td>\n",
       "    </tr>\n",
       "    <tr>\n",
       "      <th>4</th>\n",
       "      <td>1346</td>\n",
       "      <td>3021</td>\n",
       "      <td>579</td>\n",
       "      <td>2017-07-10 11:23:59</td>\n",
       "      <td>473</td>\n",
       "    </tr>\n",
       "  </tbody>\n",
       "</table>\n",
       "</div>"
      ],
      "text/plain": [
       "   USERID  CARDID  STREAMID            TIMESTAMP  MODULEID\n",
       "0    1019    3021       579  2017-07-09 10:23:36       473\n",
       "1    1054    3021       579  2017-07-09 14:41:25       473\n",
       "2     977    3021       579  2017-07-09 13:35:38       473\n",
       "3    1337    3021       579  2017-07-10 05:53:05       473\n",
       "4    1346    3021       579  2017-07-10 11:23:59       473"
      ]
     },
     "execution_count": 3,
     "metadata": {},
     "output_type": "execute_result"
    }
   ],
   "source": [
    "stream_views_df = stream_views_df.drop([\"CARDTITLE\", \"STREAMNAME\", \"ORGANIZATION\", \"MODULENAME\"], axis=1)\n",
    "stream_views_df.head()"
   ]
  },
  {
   "cell_type": "code",
   "execution_count": 4,
   "metadata": {},
   "outputs": [
    {
     "data": {
      "text/html": [
       "<div>\n",
       "<style>\n",
       "    .dataframe thead tr:only-child th {\n",
       "        text-align: right;\n",
       "    }\n",
       "\n",
       "    .dataframe thead th {\n",
       "        text-align: left;\n",
       "    }\n",
       "\n",
       "    .dataframe tbody tr th {\n",
       "        vertical-align: top;\n",
       "    }\n",
       "</style>\n",
       "<table border=\"1\" class=\"dataframe\">\n",
       "  <thead>\n",
       "    <tr style=\"text-align: right;\">\n",
       "      <th></th>\n",
       "      <th>USERID</th>\n",
       "      <th>CARDID</th>\n",
       "      <th>STREAMID</th>\n",
       "      <th>MODULEID</th>\n",
       "      <th>date</th>\n",
       "      <th>time</th>\n",
       "    </tr>\n",
       "  </thead>\n",
       "  <tbody>\n",
       "    <tr>\n",
       "      <th>0</th>\n",
       "      <td>1019</td>\n",
       "      <td>3021</td>\n",
       "      <td>579</td>\n",
       "      <td>473</td>\n",
       "      <td>2017-07-09</td>\n",
       "      <td>10:23:36</td>\n",
       "    </tr>\n",
       "    <tr>\n",
       "      <th>1</th>\n",
       "      <td>1054</td>\n",
       "      <td>3021</td>\n",
       "      <td>579</td>\n",
       "      <td>473</td>\n",
       "      <td>2017-07-09</td>\n",
       "      <td>14:41:25</td>\n",
       "    </tr>\n",
       "    <tr>\n",
       "      <th>2</th>\n",
       "      <td>977</td>\n",
       "      <td>3021</td>\n",
       "      <td>579</td>\n",
       "      <td>473</td>\n",
       "      <td>2017-07-09</td>\n",
       "      <td>13:35:38</td>\n",
       "    </tr>\n",
       "    <tr>\n",
       "      <th>3</th>\n",
       "      <td>1337</td>\n",
       "      <td>3021</td>\n",
       "      <td>579</td>\n",
       "      <td>473</td>\n",
       "      <td>2017-07-10</td>\n",
       "      <td>05:53:05</td>\n",
       "    </tr>\n",
       "    <tr>\n",
       "      <th>4</th>\n",
       "      <td>1346</td>\n",
       "      <td>3021</td>\n",
       "      <td>579</td>\n",
       "      <td>473</td>\n",
       "      <td>2017-07-10</td>\n",
       "      <td>11:23:59</td>\n",
       "    </tr>\n",
       "  </tbody>\n",
       "</table>\n",
       "</div>"
      ],
      "text/plain": [
       "   USERID  CARDID  STREAMID  MODULEID        date      time\n",
       "0    1019    3021       579       473  2017-07-09  10:23:36\n",
       "1    1054    3021       579       473  2017-07-09  14:41:25\n",
       "2     977    3021       579       473  2017-07-09  13:35:38\n",
       "3    1337    3021       579       473  2017-07-10  05:53:05\n",
       "4    1346    3021       579       473  2017-07-10  11:23:59"
      ]
     },
     "execution_count": 4,
     "metadata": {},
     "output_type": "execute_result"
    }
   ],
   "source": [
    "stream_views_df[\"date\"] = stream_views_df[\"TIMESTAMP\"].apply(lambda x: x.split(\" \")[0].strip())\n",
    "stream_views_df[\"time\"] = stream_views_df[\"TIMESTAMP\"].apply(lambda x: x.split(\" \")[1].strip())\n",
    "stream_views_df = stream_views_df.drop(\"TIMESTAMP\", axis=1)\n",
    "stream_views_df.head()"
   ]
  },
  {
   "cell_type": "code",
   "execution_count": 5,
   "metadata": {
    "collapsed": true
   },
   "outputs": [],
   "source": [
    "def concat_time(time_str):\n",
    "    return int(time_str[:2]) * 100 + int(time_str[3:5])\n",
    "\n",
    "stream_views_df[\"time_concatenated\"] = stream_views_df[\"time\"].apply(concat_time)"
   ]
  },
  {
   "cell_type": "code",
   "execution_count": 6,
   "metadata": {},
   "outputs": [
    {
     "data": {
      "text/html": [
       "<div>\n",
       "<style>\n",
       "    .dataframe thead tr:only-child th {\n",
       "        text-align: right;\n",
       "    }\n",
       "\n",
       "    .dataframe thead th {\n",
       "        text-align: left;\n",
       "    }\n",
       "\n",
       "    .dataframe tbody tr th {\n",
       "        vertical-align: top;\n",
       "    }\n",
       "</style>\n",
       "<table border=\"1\" class=\"dataframe\">\n",
       "  <thead>\n",
       "    <tr style=\"text-align: right;\">\n",
       "      <th></th>\n",
       "      <th>USERID</th>\n",
       "      <th>CARDID</th>\n",
       "      <th>STREAMID</th>\n",
       "      <th>MODULEID</th>\n",
       "      <th>date</th>\n",
       "      <th>time</th>\n",
       "      <th>time_concatenated</th>\n",
       "    </tr>\n",
       "  </thead>\n",
       "  <tbody>\n",
       "    <tr>\n",
       "      <th>0</th>\n",
       "      <td>1019</td>\n",
       "      <td>3021</td>\n",
       "      <td>579</td>\n",
       "      <td>473</td>\n",
       "      <td>2017-07-09</td>\n",
       "      <td>10:23:36</td>\n",
       "      <td>1023</td>\n",
       "    </tr>\n",
       "    <tr>\n",
       "      <th>1</th>\n",
       "      <td>1054</td>\n",
       "      <td>3021</td>\n",
       "      <td>579</td>\n",
       "      <td>473</td>\n",
       "      <td>2017-07-09</td>\n",
       "      <td>14:41:25</td>\n",
       "      <td>1441</td>\n",
       "    </tr>\n",
       "    <tr>\n",
       "      <th>2</th>\n",
       "      <td>977</td>\n",
       "      <td>3021</td>\n",
       "      <td>579</td>\n",
       "      <td>473</td>\n",
       "      <td>2017-07-09</td>\n",
       "      <td>13:35:38</td>\n",
       "      <td>1335</td>\n",
       "    </tr>\n",
       "    <tr>\n",
       "      <th>3</th>\n",
       "      <td>1337</td>\n",
       "      <td>3021</td>\n",
       "      <td>579</td>\n",
       "      <td>473</td>\n",
       "      <td>2017-07-10</td>\n",
       "      <td>05:53:05</td>\n",
       "      <td>553</td>\n",
       "    </tr>\n",
       "    <tr>\n",
       "      <th>4</th>\n",
       "      <td>1346</td>\n",
       "      <td>3021</td>\n",
       "      <td>579</td>\n",
       "      <td>473</td>\n",
       "      <td>2017-07-10</td>\n",
       "      <td>11:23:59</td>\n",
       "      <td>1123</td>\n",
       "    </tr>\n",
       "  </tbody>\n",
       "</table>\n",
       "</div>"
      ],
      "text/plain": [
       "   USERID  CARDID  STREAMID  MODULEID        date      time  time_concatenated\n",
       "0    1019    3021       579       473  2017-07-09  10:23:36               1023\n",
       "1    1054    3021       579       473  2017-07-09  14:41:25               1441\n",
       "2     977    3021       579       473  2017-07-09  13:35:38               1335\n",
       "3    1337    3021       579       473  2017-07-10  05:53:05                553\n",
       "4    1346    3021       579       473  2017-07-10  11:23:59               1123"
      ]
     },
     "execution_count": 6,
     "metadata": {},
     "output_type": "execute_result"
    }
   ],
   "source": [
    "stream_views_df.head()"
   ]
  },
  {
   "cell_type": "code",
   "execution_count": 7,
   "metadata": {},
   "outputs": [
    {
     "data": {
      "text/html": [
       "<div>\n",
       "<style>\n",
       "    .dataframe thead tr:only-child th {\n",
       "        text-align: right;\n",
       "    }\n",
       "\n",
       "    .dataframe thead th {\n",
       "        text-align: left;\n",
       "    }\n",
       "\n",
       "    .dataframe tbody tr th {\n",
       "        vertical-align: top;\n",
       "    }\n",
       "</style>\n",
       "<table border=\"1\" class=\"dataframe\">\n",
       "  <thead>\n",
       "    <tr style=\"text-align: right;\">\n",
       "      <th></th>\n",
       "      <th>USERID</th>\n",
       "      <th>CARDID</th>\n",
       "      <th>STREAMID</th>\n",
       "      <th>MODULEID</th>\n",
       "      <th>date</th>\n",
       "      <th>time</th>\n",
       "      <th>time_concatenated</th>\n",
       "      <th>time_labeled</th>\n",
       "    </tr>\n",
       "  </thead>\n",
       "  <tbody>\n",
       "    <tr>\n",
       "      <th>0</th>\n",
       "      <td>1019</td>\n",
       "      <td>3021</td>\n",
       "      <td>579</td>\n",
       "      <td>473</td>\n",
       "      <td>2017-07-09</td>\n",
       "      <td>10:23:36</td>\n",
       "      <td>1023</td>\n",
       "      <td>Morning</td>\n",
       "    </tr>\n",
       "    <tr>\n",
       "      <th>1</th>\n",
       "      <td>1054</td>\n",
       "      <td>3021</td>\n",
       "      <td>579</td>\n",
       "      <td>473</td>\n",
       "      <td>2017-07-09</td>\n",
       "      <td>14:41:25</td>\n",
       "      <td>1441</td>\n",
       "      <td>Afternoon</td>\n",
       "    </tr>\n",
       "    <tr>\n",
       "      <th>2</th>\n",
       "      <td>977</td>\n",
       "      <td>3021</td>\n",
       "      <td>579</td>\n",
       "      <td>473</td>\n",
       "      <td>2017-07-09</td>\n",
       "      <td>13:35:38</td>\n",
       "      <td>1335</td>\n",
       "      <td>Noon</td>\n",
       "    </tr>\n",
       "    <tr>\n",
       "      <th>3</th>\n",
       "      <td>1337</td>\n",
       "      <td>3021</td>\n",
       "      <td>579</td>\n",
       "      <td>473</td>\n",
       "      <td>2017-07-10</td>\n",
       "      <td>05:53:05</td>\n",
       "      <td>553</td>\n",
       "      <td>Early morning</td>\n",
       "    </tr>\n",
       "    <tr>\n",
       "      <th>4</th>\n",
       "      <td>1346</td>\n",
       "      <td>3021</td>\n",
       "      <td>579</td>\n",
       "      <td>473</td>\n",
       "      <td>2017-07-10</td>\n",
       "      <td>11:23:59</td>\n",
       "      <td>1123</td>\n",
       "      <td>Morning</td>\n",
       "    </tr>\n",
       "  </tbody>\n",
       "</table>\n",
       "</div>"
      ],
      "text/plain": [
       "   USERID  CARDID  STREAMID  MODULEID        date      time  \\\n",
       "0    1019    3021       579       473  2017-07-09  10:23:36   \n",
       "1    1054    3021       579       473  2017-07-09  14:41:25   \n",
       "2     977    3021       579       473  2017-07-09  13:35:38   \n",
       "3    1337    3021       579       473  2017-07-10  05:53:05   \n",
       "4    1346    3021       579       473  2017-07-10  11:23:59   \n",
       "\n",
       "   time_concatenated   time_labeled  \n",
       "0               1023        Morning  \n",
       "1               1441      Afternoon  \n",
       "2               1335           Noon  \n",
       "3                553  Early morning  \n",
       "4               1123        Morning  "
      ]
     },
     "execution_count": 7,
     "metadata": {},
     "output_type": "execute_result"
    }
   ],
   "source": [
    "def label_time(x):\n",
    "    if x < 800:\n",
    "        return \"Early morning\"\n",
    "    elif x >= 800 and x < 1200:\n",
    "        return \"Morning\"\n",
    "    elif x >= 1200 and x < 1400:\n",
    "        return \"Noon\"\n",
    "    elif x >= 1400 and x < 1800:\n",
    "        return \"Afternoon\"\n",
    "    elif x >= 1800 and x < 2000:\n",
    "        return \"Evening\"\n",
    "    else:\n",
    "        return \"Night\"\n",
    "    \n",
    "stream_views_df[\"time_labeled\"] = stream_views_df[\"time_concatenated\"].apply(label_time)  \n",
    "stream_views_df.head()"
   ]
  },
  {
   "cell_type": "code",
   "execution_count": 8,
   "metadata": {},
   "outputs": [
    {
     "data": {
      "image/png": "[encoded data removed]",
      "text/plain": [
       "<matplotlib.figure.Figure at 0x1cc06437da0>"
      ]
     },
     "metadata": {},
     "output_type": "display_data"
    }
   ],
   "source": [
    "import seaborn as sns\n",
    "sns.set(style=\"darkgrid\")\n",
    "ax = sns.countplot(x=\"time_labeled\", data=stream_views_df)"
   ]
  },
  {
   "cell_type": "code",
   "execution_count": 9,
   "metadata": {},
   "outputs": [
    {
     "data": {
      "text/html": [
       "<div>\n",
       "<style>\n",
       "    .dataframe thead tr:only-child th {\n",
       "        text-align: right;\n",
       "    }\n",
       "\n",
       "    .dataframe thead th {\n",
       "        text-align: left;\n",
       "    }\n",
       "\n",
       "    .dataframe tbody tr th {\n",
       "        vertical-align: top;\n",
       "    }\n",
       "</style>\n",
       "<table border=\"1\" class=\"dataframe\">\n",
       "  <thead>\n",
       "    <tr style=\"text-align: right;\">\n",
       "      <th></th>\n",
       "      <th>USERID</th>\n",
       "      <th>CARDID</th>\n",
       "      <th>STREAMID</th>\n",
       "      <th>MODULEID</th>\n",
       "      <th>date</th>\n",
       "      <th>time</th>\n",
       "      <th>time_concatenated</th>\n",
       "      <th>time_labeled</th>\n",
       "      <th>day_of_week</th>\n",
       "    </tr>\n",
       "  </thead>\n",
       "  <tbody>\n",
       "    <tr>\n",
       "      <th>0</th>\n",
       "      <td>1019</td>\n",
       "      <td>3021</td>\n",
       "      <td>579</td>\n",
       "      <td>473</td>\n",
       "      <td>2017-07-09</td>\n",
       "      <td>10:23:36</td>\n",
       "      <td>1023</td>\n",
       "      <td>Morning</td>\n",
       "      <td>Sunday</td>\n",
       "    </tr>\n",
       "    <tr>\n",
       "      <th>1</th>\n",
       "      <td>1054</td>\n",
       "      <td>3021</td>\n",
       "      <td>579</td>\n",
       "      <td>473</td>\n",
       "      <td>2017-07-09</td>\n",
       "      <td>14:41:25</td>\n",
       "      <td>1441</td>\n",
       "      <td>Afternoon</td>\n",
       "      <td>Sunday</td>\n",
       "    </tr>\n",
       "    <tr>\n",
       "      <th>2</th>\n",
       "      <td>977</td>\n",
       "      <td>3021</td>\n",
       "      <td>579</td>\n",
       "      <td>473</td>\n",
       "      <td>2017-07-09</td>\n",
       "      <td>13:35:38</td>\n",
       "      <td>1335</td>\n",
       "      <td>Noon</td>\n",
       "      <td>Sunday</td>\n",
       "    </tr>\n",
       "    <tr>\n",
       "      <th>3</th>\n",
       "      <td>1337</td>\n",
       "      <td>3021</td>\n",
       "      <td>579</td>\n",
       "      <td>473</td>\n",
       "      <td>2017-07-10</td>\n",
       "      <td>05:53:05</td>\n",
       "      <td>553</td>\n",
       "      <td>Early morning</td>\n",
       "      <td>Monday</td>\n",
       "    </tr>\n",
       "    <tr>\n",
       "      <th>4</th>\n",
       "      <td>1346</td>\n",
       "      <td>3021</td>\n",
       "      <td>579</td>\n",
       "      <td>473</td>\n",
       "      <td>2017-07-10</td>\n",
       "      <td>11:23:59</td>\n",
       "      <td>1123</td>\n",
       "      <td>Morning</td>\n",
       "      <td>Monday</td>\n",
       "    </tr>\n",
       "  </tbody>\n",
       "</table>\n",
       "</div>"
      ],
      "text/plain": [
       "   USERID  CARDID  STREAMID  MODULEID        date      time  \\\n",
       "0    1019    3021       579       473  2017-07-09  10:23:36   \n",
       "1    1054    3021       579       473  2017-07-09  14:41:25   \n",
       "2     977    3021       579       473  2017-07-09  13:35:38   \n",
       "3    1337    3021       579       473  2017-07-10  05:53:05   \n",
       "4    1346    3021       579       473  2017-07-10  11:23:59   \n",
       "\n",
       "   time_concatenated   time_labeled day_of_week  \n",
       "0               1023        Morning      Sunday  \n",
       "1               1441      Afternoon      Sunday  \n",
       "2               1335           Noon      Sunday  \n",
       "3                553  Early morning      Monday  \n",
       "4               1123        Morning      Monday  "
      ]
     },
     "execution_count": 9,
     "metadata": {},
     "output_type": "execute_result"
    }
   ],
   "source": [
    "import datetime\n",
    "\n",
    "def convert_to_date_of_week(x):\n",
    "    d = datetime.datetime.strptime(x, \"%Y-%m-%d\").date()\n",
    "    days_of_week = [\"Monday\", \"Tuesday\", \"Wednesday\", \"Thursday\", \"Friday\", \"Saturday\", \"Sunday\"]\n",
    "    return days_of_week[d.weekday()]\n",
    "\n",
    "stream_views_df[\"day_of_week\"] = stream_views_df[\"date\"].apply(convert_to_date_of_week)  \n",
    "stream_views_df.head()"
   ]
  },
  {
   "cell_type": "code",
   "execution_count": 10,
   "metadata": {},
   "outputs": [
    {
     "data": {
      "image/png": "[encoded data removed]",
      "text/plain": [
       "<matplotlib.figure.Figure at 0x1cc068ed5f8>"
      ]
     },
     "metadata": {},
     "output_type": "display_data"
    }
   ],
   "source": [
    "sns.set(style=\"darkgrid\")\n",
    "ax = sns.countplot(x=\"day_of_week\", data=stream_views_df)"
   ]
  },
  {
   "cell_type": "markdown",
   "metadata": {
    "collapsed": true
   },
   "source": [
    "## Num employees watching the streams"
   ]
  },
  {
   "cell_type": "code",
   "execution_count": 11,
   "metadata": {},
   "outputs": [
    {
     "data": {
      "text/plain": [
       "1320"
      ]
     },
     "execution_count": 11,
     "metadata": {},
     "output_type": "execute_result"
    }
   ],
   "source": [
    "stream_views_df[\"USERID\"].nunique()"
   ]
  },
  {
   "cell_type": "markdown",
   "metadata": {},
   "source": [
    "## Unique streams present"
   ]
  },
  {
   "cell_type": "code",
   "execution_count": 12,
   "metadata": {},
   "outputs": [
    {
     "data": {
      "text/plain": [
       "136"
      ]
     },
     "execution_count": 12,
     "metadata": {},
     "output_type": "execute_result"
    }
   ],
   "source": [
    "stream_views_df[\"STREAMID\"].nunique()"
   ]
  },
  {
   "cell_type": "markdown",
   "metadata": {},
   "source": [
    "## Check the viewing pattern for a specific stream"
   ]
  },
  {
   "cell_type": "code",
   "execution_count": 13,
   "metadata": {},
   "outputs": [
    {
     "data": {
      "image/png": "[encoded data removed]",
      "text/plain": [
       "<matplotlib.figure.Figure at 0x1cc0695d0b8>"
      ]
     },
     "metadata": {},
     "output_type": "display_data"
    }
   ],
   "source": [
    "ax = sns.countplot(x=\"day_of_week\", data=stream_views_df[stream_views_df[\"STREAMID\"] == 579])"
   ]
  },
  {
   "cell_type": "code",
   "execution_count": 14,
   "metadata": {},
   "outputs": [
    {
     "data": {
      "image/png": "[encoded data removed]",
      "text/plain": [
       "<matplotlib.figure.Figure at 0x1cc069639e8>"
      ]
     },
     "metadata": {},
     "output_type": "display_data"
    }
   ],
   "source": [
    "ax = sns.countplot(x=\"time_labeled\", data=stream_views_df[stream_views_df[\"STREAMID\"] == 579])"
   ]
  },
  {
   "cell_type": "markdown",
   "metadata": {},
   "source": [
    "## Map the views for a user"
   ]
  },
  {
   "cell_type": "markdown",
   "metadata": {},
   "source": [
    "### This person watches only on Sunday"
   ]
  },
  {
   "cell_type": "code",
   "execution_count": 15,
   "metadata": {},
   "outputs": [
    {
     "data": {
      "image/png": "[encoded data removed]",
      "text/plain": [
       "<matplotlib.figure.Figure at 0x1cc0698fa58>"
      ]
     },
     "metadata": {},
     "output_type": "display_data"
    }
   ],
   "source": [
    "ax = sns.countplot(x=\"day_of_week\", data=stream_views_df[stream_views_df[\"USERID\"] == 1019])"
   ]
  },
  {
   "cell_type": "code",
   "execution_count": 16,
   "metadata": {},
   "outputs": [
    {
     "data": {
      "image/png": "[encoded data removed]",
      "text/plain": [
       "<matplotlib.figure.Figure at 0x1cc03e9f0b8>"
      ]
     },
     "metadata": {},
     "output_type": "display_data"
    }
   ],
   "source": [
    "ax = sns.countplot(x=\"day_of_week\", data=stream_views_df[stream_views_df[\"USERID\"] == 1054])"
   ]
  },
  {
   "cell_type": "code",
   "execution_count": 17,
   "metadata": {},
   "outputs": [
    {
     "data": {
      "image/png": "[encoded data removed]",
      "text/plain": [
       "<matplotlib.figure.Figure at 0x1cc03e7f668>"
      ]
     },
     "metadata": {},
     "output_type": "display_data"
    }
   ],
   "source": [
    "ax = sns.countplot(x=\"day_of_week\", data=stream_views_df[stream_views_df[\"USERID\"] == 977])"
   ]
  },
  {
   "cell_type": "markdown",
   "metadata": {},
   "source": [
    "## Map the time of the day the same users are viewing the streams"
   ]
  },
  {
   "cell_type": "code",
   "execution_count": 18,
   "metadata": {},
   "outputs": [
    {
     "data": {
      "image/png": "[encoded data removed]",
      "text/plain": [
       "<matplotlib.figure.Figure at 0x1cc0698f3c8>"
      ]
     },
     "metadata": {},
     "output_type": "display_data"
    }
   ],
   "source": [
    "ax = sns.countplot(x=\"time_labeled\", data=stream_views_df[stream_views_df[\"USERID\"] == 1019])"
   ]
  },
  {
   "cell_type": "code",
   "execution_count": 19,
   "metadata": {},
   "outputs": [
    {
     "data": {
      "image/png": "[encoded data removed]",
      "text/plain": [
       "<matplotlib.figure.Figure at 0x1cc068a0668>"
      ]
     },
     "metadata": {},
     "output_type": "display_data"
    }
   ],
   "source": [
    "ax = sns.countplot(x=\"time_labeled\", data=stream_views_df[stream_views_df[\"USERID\"] == 1054])"
   ]
  },
  {
   "cell_type": "code",
   "execution_count": 20,
   "metadata": {},
   "outputs": [
    {
     "data": {
      "image/png": "[encoded data removed]",
      "text/plain": [
       "<matplotlib.figure.Figure at 0x1cc068ed898>"
      ]
     },
     "metadata": {},
     "output_type": "display_data"
    }
   ],
   "source": [
    "ax = sns.countplot(x=\"time_labeled\", data=stream_views_df[stream_views_df[\"USERID\"] == 977])"
   ]
  },
  {
   "cell_type": "markdown",
   "metadata": {},
   "source": [
    "### Combine stream ID and card ID"
   ]
  },
  {
   "cell_type": "code",
   "execution_count": 21,
   "metadata": {
    "collapsed": true
   },
   "outputs": [],
   "source": [
    "stream_views_df[\"streamid_cardid\"] = stream_views_df[\"STREAMID\"].map(str) + \"_\" + stream_views_df[\"CARDID\"].map(str)"
   ]
  },
  {
   "cell_type": "markdown",
   "metadata": {},
   "source": [
    "### How many times is a given user watching the same card again?"
   ]
  },
  {
   "cell_type": "code",
   "execution_count": 26,
   "metadata": {},
   "outputs": [
    {
     "data": {
      "text/html": [
       "<div>\n",
       "<style>\n",
       "    .dataframe thead tr:only-child th {\n",
       "        text-align: right;\n",
       "    }\n",
       "\n",
       "    .dataframe thead th {\n",
       "        text-align: left;\n",
       "    }\n",
       "\n",
       "    .dataframe tbody tr th {\n",
       "        vertical-align: top;\n",
       "    }\n",
       "</style>\n",
       "<table border=\"1\" class=\"dataframe\">\n",
       "  <thead>\n",
       "    <tr style=\"text-align: right;\">\n",
       "      <th></th>\n",
       "      <th>streamid_cardid</th>\n",
       "      <th>time_labeled</th>\n",
       "    </tr>\n",
       "  </thead>\n",
       "  <tbody>\n",
       "    <tr>\n",
       "      <th>1</th>\n",
       "      <td>579_3021</td>\n",
       "      <td>Afternoon</td>\n",
       "    </tr>\n",
       "    <tr>\n",
       "      <th>10</th>\n",
       "      <td>579_3021</td>\n",
       "      <td>Noon</td>\n",
       "    </tr>\n",
       "    <tr>\n",
       "      <th>11</th>\n",
       "      <td>579_3021</td>\n",
       "      <td>Noon</td>\n",
       "    </tr>\n",
       "    <tr>\n",
       "      <th>149</th>\n",
       "      <td>579_3021</td>\n",
       "      <td>Noon</td>\n",
       "    </tr>\n",
       "    <tr>\n",
       "      <th>461</th>\n",
       "      <td>579_3021</td>\n",
       "      <td>Evening</td>\n",
       "    </tr>\n",
       "  </tbody>\n",
       "</table>\n",
       "</div>"
      ],
      "text/plain": [
       "    streamid_cardid time_labeled\n",
       "1          579_3021    Afternoon\n",
       "10         579_3021         Noon\n",
       "11         579_3021         Noon\n",
       "149        579_3021         Noon\n",
       "461        579_3021      Evening"
      ]
     },
     "execution_count": 26,
     "metadata": {},
     "output_type": "execute_result"
    }
   ],
   "source": [
    "user_views_df = stream_views_df[stream_views_df[\"USERID\"] == 1054][[\"streamid_cardid\", \"time_labeled\"]]\n",
    "user_views_df.head()"
   ]
  },
  {
   "cell_type": "code",
   "execution_count": 28,
   "metadata": {},
   "outputs": [
    {
     "data": {
      "text/html": [
       "<div>\n",
       "<style>\n",
       "    .dataframe thead tr:only-child th {\n",
       "        text-align: right;\n",
       "    }\n",
       "\n",
       "    .dataframe thead th {\n",
       "        text-align: left;\n",
       "    }\n",
       "\n",
       "    .dataframe tbody tr th {\n",
       "        vertical-align: top;\n",
       "    }\n",
       "</style>\n",
       "<table border=\"1\" class=\"dataframe\">\n",
       "  <thead>\n",
       "    <tr style=\"text-align: right;\">\n",
       "      <th></th>\n",
       "      <th>time_labeled</th>\n",
       "    </tr>\n",
       "    <tr>\n",
       "      <th>streamid_cardid</th>\n",
       "      <th></th>\n",
       "    </tr>\n",
       "  </thead>\n",
       "  <tbody>\n",
       "    <tr>\n",
       "      <th>579_3021</th>\n",
       "      <td>9</td>\n",
       "    </tr>\n",
       "    <tr>\n",
       "      <th>579_3022</th>\n",
       "      <td>6</td>\n",
       "    </tr>\n",
       "    <tr>\n",
       "      <th>579_5167</th>\n",
       "      <td>1</td>\n",
       "    </tr>\n",
       "    <tr>\n",
       "      <th>580_3029</th>\n",
       "      <td>11</td>\n",
       "    </tr>\n",
       "    <tr>\n",
       "      <th>580_3030</th>\n",
       "      <td>9</td>\n",
       "    </tr>\n",
       "  </tbody>\n",
       "</table>\n",
       "</div>"
      ],
      "text/plain": [
       "                 time_labeled\n",
       "streamid_cardid              \n",
       "579_3021                    9\n",
       "579_3022                    6\n",
       "579_5167                    1\n",
       "580_3029                   11\n",
       "580_3030                    9"
      ]
     },
     "execution_count": 28,
     "metadata": {},
     "output_type": "execute_result"
    }
   ],
   "source": [
    "user_views_aggr_df = user_views_df.groupby(\"streamid_cardid\").agg('count')\n",
    "user_views_aggr_df.head()"
   ]
  },
  {
   "cell_type": "code",
   "execution_count": 29,
   "metadata": {},
   "outputs": [
    {
     "data": {
      "image/png": "[encoded data removed]",
      "text/plain": [
       "<matplotlib.figure.Figure at 0x1cc03e68fd0>"
      ]
     },
     "metadata": {},
     "output_type": "display_data"
    }
   ],
   "source": [
    "ax = sns.countplot(x=\"time_labeled\", data=user_views_aggr_df)"
   ]
  },
  {
   "cell_type": "code",
   "execution_count": null,
   "metadata": {
    "collapsed": true
   },
   "outputs": [],
   "source": []
  }
 ],
 "metadata": {
  "kernelspec": {
   "display_name": "Python 3",
   "language": "python",
   "name": "python3"
  },
  "language_info": {
   "codemirror_mode": {
    "name": "ipython",
    "version": 3
   },
   "file_extension": ".py",
   "mimetype": "text/x-python",
   "name": "python",
   "nbconvert_exporter": "python",
   "pygments_lexer": "ipython3",
   "version": "3.6.3"
  }
 },
 "nbformat": 4,
 "nbformat_minor": 2
}
