{
 "cells": [
  {
   "cell_type": "code",
   "execution_count": 28,
   "metadata": {
    "collapsed": true
   },
   "outputs": [],
   "source": [
    "import pandas as pd\n",
    "import numpy as np\n",
    "import matplotlib.pyplot as plt\n",
    "import matplotlib\n",
    "%matplotlib inline"
   ]
  },
  {
   "cell_type": "code",
   "execution_count": 12,
   "metadata": {},
   "outputs": [
    {
     "data": {
      "text/html": [
       "<div>\n",
       "<style scoped>\n",
       "    .dataframe tbody tr th:only-of-type {\n",
       "        vertical-align: middle;\n",
       "    }\n",
       "\n",
       "    .dataframe tbody tr th {\n",
       "        vertical-align: top;\n",
       "    }\n",
       "\n",
       "    .dataframe thead th {\n",
       "        text-align: right;\n",
       "    }\n",
       "</style>\n",
       "<table border=\"1\" class=\"dataframe\">\n",
       "  <thead>\n",
       "    <tr style=\"text-align: right;\">\n",
       "      <th></th>\n",
       "      <th>USERID</th>\n",
       "      <th>CARDID</th>\n",
       "      <th>CARDTITLE</th>\n",
       "      <th>STREAMID</th>\n",
       "      <th>STREAMNAME</th>\n",
       "      <th>TIMESTAMP</th>\n",
       "      <th>MODULEID</th>\n",
       "      <th>MODULENAME</th>\n",
       "    </tr>\n",
       "  </thead>\n",
       "  <tbody>\n",
       "    <tr>\n",
       "      <th>0</th>\n",
       "      <td>1007</td>\n",
       "      <td>2798</td>\n",
       "      <td>QUICK TEST - WHAT IS IN MY ENGINE OIL?</td>\n",
       "      <td>561</td>\n",
       "      <td>What is engine oil made of?</td>\n",
       "      <td>31-05-2017 01:14</td>\n",
       "      <td>430</td>\n",
       "      <td>2. WHAT IS ENGINE OIL MADE OF?</td>\n",
       "    </tr>\n",
       "    <tr>\n",
       "      <th>1</th>\n",
       "      <td>1007</td>\n",
       "      <td>2798</td>\n",
       "      <td>QUICK TEST - WHAT IS IN MY ENGINE OIL?</td>\n",
       "      <td>561</td>\n",
       "      <td>What is engine oil made of?</td>\n",
       "      <td>31-05-2017 01:14</td>\n",
       "      <td>430</td>\n",
       "      <td>2. WHAT IS ENGINE OIL MADE OF?</td>\n",
       "    </tr>\n",
       "    <tr>\n",
       "      <th>2</th>\n",
       "      <td>1007</td>\n",
       "      <td>2798</td>\n",
       "      <td>QUICK TEST - WHAT IS IN MY ENGINE OIL?</td>\n",
       "      <td>561</td>\n",
       "      <td>What is engine oil made of?</td>\n",
       "      <td>31-05-2017 01:14</td>\n",
       "      <td>430</td>\n",
       "      <td>2. WHAT IS ENGINE OIL MADE OF?</td>\n",
       "    </tr>\n",
       "    <tr>\n",
       "      <th>3</th>\n",
       "      <td>1007</td>\n",
       "      <td>2808</td>\n",
       "      <td>ENGINE OIL ADDITIVES</td>\n",
       "      <td>561</td>\n",
       "      <td>What is engine oil made of?</td>\n",
       "      <td>31-05-2017 01:15</td>\n",
       "      <td>430</td>\n",
       "      <td>2. WHAT IS ENGINE OIL MADE OF?</td>\n",
       "    </tr>\n",
       "    <tr>\n",
       "      <th>4</th>\n",
       "      <td>1007</td>\n",
       "      <td>2808</td>\n",
       "      <td>ENGINE OIL ADDITIVES</td>\n",
       "      <td>561</td>\n",
       "      <td>What is engine oil made of?</td>\n",
       "      <td>31-05-2017 01:15</td>\n",
       "      <td>430</td>\n",
       "      <td>2. WHAT IS ENGINE OIL MADE OF?</td>\n",
       "    </tr>\n",
       "  </tbody>\n",
       "</table>\n",
       "</div>"
      ],
      "text/plain": [
       "   USERID  CARDID                               CARDTITLE  STREAMID  \\\n",
       "0    1007    2798  QUICK TEST - WHAT IS IN MY ENGINE OIL?       561   \n",
       "1    1007    2798  QUICK TEST - WHAT IS IN MY ENGINE OIL?       561   \n",
       "2    1007    2798  QUICK TEST - WHAT IS IN MY ENGINE OIL?       561   \n",
       "3    1007    2808                    ENGINE OIL ADDITIVES       561   \n",
       "4    1007    2808                    ENGINE OIL ADDITIVES       561   \n",
       "\n",
       "                    STREAMNAME         TIMESTAMP  MODULEID  \\\n",
       "0  What is engine oil made of?  31-05-2017 01:14       430   \n",
       "1  What is engine oil made of?  31-05-2017 01:14       430   \n",
       "2  What is engine oil made of?  31-05-2017 01:14       430   \n",
       "3  What is engine oil made of?  31-05-2017 01:15       430   \n",
       "4  What is engine oil made of?  31-05-2017 01:15       430   \n",
       "\n",
       "                       MODULENAME  \n",
       "0  2. WHAT IS ENGINE OIL MADE OF?  \n",
       "1  2. WHAT IS ENGINE OIL MADE OF?  \n",
       "2  2. WHAT IS ENGINE OIL MADE OF?  \n",
       "3  2. WHAT IS ENGINE OIL MADE OF?  \n",
       "4  2. WHAT IS ENGINE OIL MADE OF?  "
      ]
     },
     "execution_count": 12,
     "metadata": {},
     "output_type": "execute_result"
    }
   ],
   "source": [
    "stream_views_df = pd.read_csv(\"../data/content_views_raw.csv\", header=0)\n",
    "stream_views_df.head()"
   ]
  },
  {
   "cell_type": "code",
   "execution_count": 13,
   "metadata": {},
   "outputs": [
    {
     "data": {
      "text/html": [
       "<div>\n",
       "<style scoped>\n",
       "    .dataframe tbody tr th:only-of-type {\n",
       "        vertical-align: middle;\n",
       "    }\n",
       "\n",
       "    .dataframe tbody tr th {\n",
       "        vertical-align: top;\n",
       "    }\n",
       "\n",
       "    .dataframe thead th {\n",
       "        text-align: right;\n",
       "    }\n",
       "</style>\n",
       "<table border=\"1\" class=\"dataframe\">\n",
       "  <thead>\n",
       "    <tr style=\"text-align: right;\">\n",
       "      <th></th>\n",
       "      <th>USERID</th>\n",
       "      <th>CARDID</th>\n",
       "      <th>CARDTITLE</th>\n",
       "      <th>STREAMID</th>\n",
       "      <th>STREAMNAME</th>\n",
       "      <th>MODULEID</th>\n",
       "      <th>MODULENAME</th>\n",
       "      <th>date</th>\n",
       "      <th>time</th>\n",
       "    </tr>\n",
       "  </thead>\n",
       "  <tbody>\n",
       "    <tr>\n",
       "      <th>0</th>\n",
       "      <td>1007</td>\n",
       "      <td>2798</td>\n",
       "      <td>QUICK TEST - WHAT IS IN MY ENGINE OIL?</td>\n",
       "      <td>561</td>\n",
       "      <td>What is engine oil made of?</td>\n",
       "      <td>430</td>\n",
       "      <td>2. WHAT IS ENGINE OIL MADE OF?</td>\n",
       "      <td>31-05-2017</td>\n",
       "      <td>01:14</td>\n",
       "    </tr>\n",
       "    <tr>\n",
       "      <th>1</th>\n",
       "      <td>1007</td>\n",
       "      <td>2798</td>\n",
       "      <td>QUICK TEST - WHAT IS IN MY ENGINE OIL?</td>\n",
       "      <td>561</td>\n",
       "      <td>What is engine oil made of?</td>\n",
       "      <td>430</td>\n",
       "      <td>2. WHAT IS ENGINE OIL MADE OF?</td>\n",
       "      <td>31-05-2017</td>\n",
       "      <td>01:14</td>\n",
       "    </tr>\n",
       "    <tr>\n",
       "      <th>2</th>\n",
       "      <td>1007</td>\n",
       "      <td>2798</td>\n",
       "      <td>QUICK TEST - WHAT IS IN MY ENGINE OIL?</td>\n",
       "      <td>561</td>\n",
       "      <td>What is engine oil made of?</td>\n",
       "      <td>430</td>\n",
       "      <td>2. WHAT IS ENGINE OIL MADE OF?</td>\n",
       "      <td>31-05-2017</td>\n",
       "      <td>01:14</td>\n",
       "    </tr>\n",
       "    <tr>\n",
       "      <th>3</th>\n",
       "      <td>1007</td>\n",
       "      <td>2808</td>\n",
       "      <td>ENGINE OIL ADDITIVES</td>\n",
       "      <td>561</td>\n",
       "      <td>What is engine oil made of?</td>\n",
       "      <td>430</td>\n",
       "      <td>2. WHAT IS ENGINE OIL MADE OF?</td>\n",
       "      <td>31-05-2017</td>\n",
       "      <td>01:15</td>\n",
       "    </tr>\n",
       "    <tr>\n",
       "      <th>4</th>\n",
       "      <td>1007</td>\n",
       "      <td>2808</td>\n",
       "      <td>ENGINE OIL ADDITIVES</td>\n",
       "      <td>561</td>\n",
       "      <td>What is engine oil made of?</td>\n",
       "      <td>430</td>\n",
       "      <td>2. WHAT IS ENGINE OIL MADE OF?</td>\n",
       "      <td>31-05-2017</td>\n",
       "      <td>01:15</td>\n",
       "    </tr>\n",
       "  </tbody>\n",
       "</table>\n",
       "</div>"
      ],
      "text/plain": [
       "   USERID  CARDID                               CARDTITLE  STREAMID  \\\n",
       "0    1007    2798  QUICK TEST - WHAT IS IN MY ENGINE OIL?       561   \n",
       "1    1007    2798  QUICK TEST - WHAT IS IN MY ENGINE OIL?       561   \n",
       "2    1007    2798  QUICK TEST - WHAT IS IN MY ENGINE OIL?       561   \n",
       "3    1007    2808                    ENGINE OIL ADDITIVES       561   \n",
       "4    1007    2808                    ENGINE OIL ADDITIVES       561   \n",
       "\n",
       "                    STREAMNAME  MODULEID                      MODULENAME  \\\n",
       "0  What is engine oil made of?       430  2. WHAT IS ENGINE OIL MADE OF?   \n",
       "1  What is engine oil made of?       430  2. WHAT IS ENGINE OIL MADE OF?   \n",
       "2  What is engine oil made of?       430  2. WHAT IS ENGINE OIL MADE OF?   \n",
       "3  What is engine oil made of?       430  2. WHAT IS ENGINE OIL MADE OF?   \n",
       "4  What is engine oil made of?       430  2. WHAT IS ENGINE OIL MADE OF?   \n",
       "\n",
       "         date   time  \n",
       "0  31-05-2017  01:14  \n",
       "1  31-05-2017  01:14  \n",
       "2  31-05-2017  01:14  \n",
       "3  31-05-2017  01:15  \n",
       "4  31-05-2017  01:15  "
      ]
     },
     "execution_count": 13,
     "metadata": {},
     "output_type": "execute_result"
    }
   ],
   "source": [
    "stream_views_df[\"date\"] = stream_views_df[\"TIMESTAMP\"].apply(lambda x: x.split(\" \")[0].strip())\n",
    "stream_views_df[\"time\"] = stream_views_df[\"TIMESTAMP\"].apply(lambda x: x.split(\" \")[1].strip())\n",
    "stream_views_df = stream_views_df.drop(\"TIMESTAMP\", axis=1)\n",
    "stream_views_df.head()"
   ]
  },
  {
   "cell_type": "markdown",
   "metadata": {},
   "source": [
    "### 1. Group by the date and count the number of views on that day\n",
    "### 2. Perform at the level of the specific user and the level of all the users over the organization\n",
    "### 3. Forecast the values for the specific user and the organization using time-series fore-casting"
   ]
  },
  {
   "cell_type": "code",
   "execution_count": 14,
   "metadata": {},
   "outputs": [
    {
     "data": {
      "text/html": [
       "<div>\n",
       "<style scoped>\n",
       "    .dataframe tbody tr th:only-of-type {\n",
       "        vertical-align: middle;\n",
       "    }\n",
       "\n",
       "    .dataframe tbody tr th {\n",
       "        vertical-align: top;\n",
       "    }\n",
       "\n",
       "    .dataframe thead th {\n",
       "        text-align: right;\n",
       "    }\n",
       "</style>\n",
       "<table border=\"1\" class=\"dataframe\">\n",
       "  <thead>\n",
       "    <tr style=\"text-align: right;\">\n",
       "      <th></th>\n",
       "      <th>date</th>\n",
       "      <th>num_views</th>\n",
       "    </tr>\n",
       "  </thead>\n",
       "  <tbody>\n",
       "    <tr>\n",
       "      <th>0</th>\n",
       "      <td>01-01-2018</td>\n",
       "      <td>3</td>\n",
       "    </tr>\n",
       "    <tr>\n",
       "      <th>1</th>\n",
       "      <td>01-02-2017</td>\n",
       "      <td>990</td>\n",
       "    </tr>\n",
       "    <tr>\n",
       "      <th>2</th>\n",
       "      <td>01-02-2018</td>\n",
       "      <td>292</td>\n",
       "    </tr>\n",
       "    <tr>\n",
       "      <th>3</th>\n",
       "      <td>01-03-2017</td>\n",
       "      <td>92</td>\n",
       "    </tr>\n",
       "    <tr>\n",
       "      <th>4</th>\n",
       "      <td>01-04-2017</td>\n",
       "      <td>235</td>\n",
       "    </tr>\n",
       "  </tbody>\n",
       "</table>\n",
       "</div>"
      ],
      "text/plain": [
       "         date  num_views\n",
       "0  01-01-2018          3\n",
       "1  01-02-2017        990\n",
       "2  01-02-2018        292\n",
       "3  01-03-2017         92\n",
       "4  01-04-2017        235"
      ]
     },
     "execution_count": 14,
     "metadata": {},
     "output_type": "execute_result"
    }
   ],
   "source": [
    "stream_views_by_date_df = stream_views_df.groupby(\"date\").size().reset_index()\n",
    "stream_views_by_date_df.columns = [\"date\", \"num_views\"]\n",
    "stream_views_by_date_df.head()"
   ]
  },
  {
   "cell_type": "code",
   "execution_count": 15,
   "metadata": {
    "collapsed": true
   },
   "outputs": [],
   "source": [
    "stream_views_by_date_df['date'] = pd.to_datetime(stream_views_by_date_df['date'], format=\"%d-%m-%Y\")\n",
    "stream_views_by_date_df = stream_views_by_date_df.sort_values(by=\"date\")"
   ]
  },
  {
   "cell_type": "code",
   "execution_count": 16,
   "metadata": {},
   "outputs": [
    {
     "data": {
      "text/html": [
       "<div>\n",
       "<style scoped>\n",
       "    .dataframe tbody tr th:only-of-type {\n",
       "        vertical-align: middle;\n",
       "    }\n",
       "\n",
       "    .dataframe tbody tr th {\n",
       "        vertical-align: top;\n",
       "    }\n",
       "\n",
       "    .dataframe thead th {\n",
       "        text-align: right;\n",
       "    }\n",
       "</style>\n",
       "<table border=\"1\" class=\"dataframe\">\n",
       "  <thead>\n",
       "    <tr style=\"text-align: right;\">\n",
       "      <th></th>\n",
       "      <th>date</th>\n",
       "      <th>num_views</th>\n",
       "    </tr>\n",
       "  </thead>\n",
       "  <tbody>\n",
       "    <tr>\n",
       "      <th>348</th>\n",
       "      <td>2016-05-18</td>\n",
       "      <td>271</td>\n",
       "    </tr>\n",
       "    <tr>\n",
       "      <th>368</th>\n",
       "      <td>2016-05-19</td>\n",
       "      <td>86</td>\n",
       "    </tr>\n",
       "    <tr>\n",
       "      <th>388</th>\n",
       "      <td>2016-05-20</td>\n",
       "      <td>130</td>\n",
       "    </tr>\n",
       "    <tr>\n",
       "      <th>427</th>\n",
       "      <td>2016-05-22</td>\n",
       "      <td>41</td>\n",
       "    </tr>\n",
       "    <tr>\n",
       "      <th>448</th>\n",
       "      <td>2016-05-23</td>\n",
       "      <td>1</td>\n",
       "    </tr>\n",
       "  </tbody>\n",
       "</table>\n",
       "</div>"
      ],
      "text/plain": [
       "          date  num_views\n",
       "348 2016-05-18        271\n",
       "368 2016-05-19         86\n",
       "388 2016-05-20        130\n",
       "427 2016-05-22         41\n",
       "448 2016-05-23          1"
      ]
     },
     "execution_count": 16,
     "metadata": {},
     "output_type": "execute_result"
    }
   ],
   "source": [
    "stream_views_by_date_df.head()"
   ]
  },
  {
   "cell_type": "code",
   "execution_count": 17,
   "metadata": {},
   "outputs": [
    {
     "data": {
      "text/plain": [
       "<matplotlib.axes._subplots.AxesSubplot at 0x21b8b8f5240>"
      ]
     },
     "execution_count": 17,
     "metadata": {},
     "output_type": "execute_result"
    },
    {
     "data": {
      "image/png": "[encoded data removed]",
      "text/plain": [
       "<matplotlib.figure.Figure at 0x21b84340908>"
      ]
     },
     "metadata": {},
     "output_type": "display_data"
    }
   ],
   "source": [
    "stream_views_by_date_df.plot(x='date', y='num_views')"
   ]
  },
  {
   "cell_type": "code",
   "execution_count": 19,
   "metadata": {},
   "outputs": [
    {
     "data": {
      "text/plain": [
       "numpy.datetime64('2016-05-18T00:00:00.000000000')"
      ]
     },
     "execution_count": 19,
     "metadata": {},
     "output_type": "execute_result"
    }
   ],
   "source": [
    "start_date = stream_views_by_date_df[\"date\"].values[0]\n",
    "start_date"
   ]
  },
  {
   "cell_type": "code",
   "execution_count": 21,
   "metadata": {
    "collapsed": true
   },
   "outputs": [],
   "source": [
    "def getSequence(date_str):\n",
    "    month = int(date_str[3:5])\n",
    "    year = int(date_str[6:])\n",
    "    \n",
    "    if year == 2016:\n",
    "        return month - 4\n",
    "    elif year == 2017:\n",
    "        return 8 + month\n",
    "    else:\n",
    "        return 20 + month"
   ]
  },
  {
   "cell_type": "code",
   "execution_count": 22,
   "metadata": {
    "collapsed": true
   },
   "outputs": [],
   "source": [
    "stream_views_df[\"SequenceNumber\"] = stream_views_df[\"date\"].apply(getSequence)"
   ]
  },
  {
   "cell_type": "code",
   "execution_count": 23,
   "metadata": {},
   "outputs": [
    {
     "data": {
      "text/html": [
       "<div>\n",
       "<style scoped>\n",
       "    .dataframe tbody tr th:only-of-type {\n",
       "        vertical-align: middle;\n",
       "    }\n",
       "\n",
       "    .dataframe tbody tr th {\n",
       "        vertical-align: top;\n",
       "    }\n",
       "\n",
       "    .dataframe thead th {\n",
       "        text-align: right;\n",
       "    }\n",
       "</style>\n",
       "<table border=\"1\" class=\"dataframe\">\n",
       "  <thead>\n",
       "    <tr style=\"text-align: right;\">\n",
       "      <th></th>\n",
       "      <th>USERID</th>\n",
       "      <th>CARDID</th>\n",
       "      <th>CARDTITLE</th>\n",
       "      <th>STREAMID</th>\n",
       "      <th>STREAMNAME</th>\n",
       "      <th>MODULEID</th>\n",
       "      <th>MODULENAME</th>\n",
       "      <th>date</th>\n",
       "      <th>time</th>\n",
       "      <th>SequenceNumber</th>\n",
       "    </tr>\n",
       "  </thead>\n",
       "  <tbody>\n",
       "    <tr>\n",
       "      <th>0</th>\n",
       "      <td>1007</td>\n",
       "      <td>2798</td>\n",
       "      <td>QUICK TEST - WHAT IS IN MY ENGINE OIL?</td>\n",
       "      <td>561</td>\n",
       "      <td>What is engine oil made of?</td>\n",
       "      <td>430</td>\n",
       "      <td>2. WHAT IS ENGINE OIL MADE OF?</td>\n",
       "      <td>31-05-2017</td>\n",
       "      <td>01:14</td>\n",
       "      <td>13</td>\n",
       "    </tr>\n",
       "    <tr>\n",
       "      <th>1</th>\n",
       "      <td>1007</td>\n",
       "      <td>2798</td>\n",
       "      <td>QUICK TEST - WHAT IS IN MY ENGINE OIL?</td>\n",
       "      <td>561</td>\n",
       "      <td>What is engine oil made of?</td>\n",
       "      <td>430</td>\n",
       "      <td>2. WHAT IS ENGINE OIL MADE OF?</td>\n",
       "      <td>31-05-2017</td>\n",
       "      <td>01:14</td>\n",
       "      <td>13</td>\n",
       "    </tr>\n",
       "    <tr>\n",
       "      <th>2</th>\n",
       "      <td>1007</td>\n",
       "      <td>2798</td>\n",
       "      <td>QUICK TEST - WHAT IS IN MY ENGINE OIL?</td>\n",
       "      <td>561</td>\n",
       "      <td>What is engine oil made of?</td>\n",
       "      <td>430</td>\n",
       "      <td>2. WHAT IS ENGINE OIL MADE OF?</td>\n",
       "      <td>31-05-2017</td>\n",
       "      <td>01:14</td>\n",
       "      <td>13</td>\n",
       "    </tr>\n",
       "    <tr>\n",
       "      <th>3</th>\n",
       "      <td>1007</td>\n",
       "      <td>2808</td>\n",
       "      <td>ENGINE OIL ADDITIVES</td>\n",
       "      <td>561</td>\n",
       "      <td>What is engine oil made of?</td>\n",
       "      <td>430</td>\n",
       "      <td>2. WHAT IS ENGINE OIL MADE OF?</td>\n",
       "      <td>31-05-2017</td>\n",
       "      <td>01:15</td>\n",
       "      <td>13</td>\n",
       "    </tr>\n",
       "    <tr>\n",
       "      <th>4</th>\n",
       "      <td>1007</td>\n",
       "      <td>2808</td>\n",
       "      <td>ENGINE OIL ADDITIVES</td>\n",
       "      <td>561</td>\n",
       "      <td>What is engine oil made of?</td>\n",
       "      <td>430</td>\n",
       "      <td>2. WHAT IS ENGINE OIL MADE OF?</td>\n",
       "      <td>31-05-2017</td>\n",
       "      <td>01:15</td>\n",
       "      <td>13</td>\n",
       "    </tr>\n",
       "  </tbody>\n",
       "</table>\n",
       "</div>"
      ],
      "text/plain": [
       "   USERID  CARDID                               CARDTITLE  STREAMID  \\\n",
       "0    1007    2798  QUICK TEST - WHAT IS IN MY ENGINE OIL?       561   \n",
       "1    1007    2798  QUICK TEST - WHAT IS IN MY ENGINE OIL?       561   \n",
       "2    1007    2798  QUICK TEST - WHAT IS IN MY ENGINE OIL?       561   \n",
       "3    1007    2808                    ENGINE OIL ADDITIVES       561   \n",
       "4    1007    2808                    ENGINE OIL ADDITIVES       561   \n",
       "\n",
       "                    STREAMNAME  MODULEID                      MODULENAME  \\\n",
       "0  What is engine oil made of?       430  2. WHAT IS ENGINE OIL MADE OF?   \n",
       "1  What is engine oil made of?       430  2. WHAT IS ENGINE OIL MADE OF?   \n",
       "2  What is engine oil made of?       430  2. WHAT IS ENGINE OIL MADE OF?   \n",
       "3  What is engine oil made of?       430  2. WHAT IS ENGINE OIL MADE OF?   \n",
       "4  What is engine oil made of?       430  2. WHAT IS ENGINE OIL MADE OF?   \n",
       "\n",
       "         date   time  SequenceNumber  \n",
       "0  31-05-2017  01:14              13  \n",
       "1  31-05-2017  01:14              13  \n",
       "2  31-05-2017  01:14              13  \n",
       "3  31-05-2017  01:15              13  \n",
       "4  31-05-2017  01:15              13  "
      ]
     },
     "execution_count": 23,
     "metadata": {},
     "output_type": "execute_result"
    }
   ],
   "source": [
    "stream_views_df.head()"
   ]
  },
  {
   "cell_type": "code",
   "execution_count": 24,
   "metadata": {},
   "outputs": [
    {
     "data": {
      "text/html": [
       "<div>\n",
       "<style scoped>\n",
       "    .dataframe tbody tr th:only-of-type {\n",
       "        vertical-align: middle;\n",
       "    }\n",
       "\n",
       "    .dataframe tbody tr th {\n",
       "        vertical-align: top;\n",
       "    }\n",
       "\n",
       "    .dataframe thead th {\n",
       "        text-align: right;\n",
       "    }\n",
       "</style>\n",
       "<table border=\"1\" class=\"dataframe\">\n",
       "  <thead>\n",
       "    <tr style=\"text-align: right;\">\n",
       "      <th></th>\n",
       "      <th>SequenceNumber</th>\n",
       "      <th>total_num_views</th>\n",
       "    </tr>\n",
       "  </thead>\n",
       "  <tbody>\n",
       "    <tr>\n",
       "      <th>0</th>\n",
       "      <td>1</td>\n",
       "      <td>1270</td>\n",
       "    </tr>\n",
       "    <tr>\n",
       "      <th>1</th>\n",
       "      <td>2</td>\n",
       "      <td>2064</td>\n",
       "    </tr>\n",
       "    <tr>\n",
       "      <th>2</th>\n",
       "      <td>3</td>\n",
       "      <td>7883</td>\n",
       "    </tr>\n",
       "    <tr>\n",
       "      <th>3</th>\n",
       "      <td>4</td>\n",
       "      <td>2771</td>\n",
       "    </tr>\n",
       "    <tr>\n",
       "      <th>4</th>\n",
       "      <td>5</td>\n",
       "      <td>4493</td>\n",
       "    </tr>\n",
       "  </tbody>\n",
       "</table>\n",
       "</div>"
      ],
      "text/plain": [
       "   SequenceNumber  total_num_views\n",
       "0               1             1270\n",
       "1               2             2064\n",
       "2               3             7883\n",
       "3               4             2771\n",
       "4               5             4493"
      ]
     },
     "execution_count": 24,
     "metadata": {},
     "output_type": "execute_result"
    }
   ],
   "source": [
    "stream_views_by_month_df = stream_views_df.groupby(\"SequenceNumber\").size().reset_index()\n",
    "stream_views_by_month_df.columns = [\"SequenceNumber\", \"total_num_views\"]\n",
    "stream_views_by_month_df.head()"
   ]
  },
  {
   "cell_type": "code",
   "execution_count": 31,
   "metadata": {},
   "outputs": [
    {
     "data": {
      "text/plain": [
       "<matplotlib.axes._subplots.AxesSubplot at 0x21b8be56438>"
      ]
     },
     "execution_count": 31,
     "metadata": {},
     "output_type": "execute_result"
    },
    {
     "data": {
      "image/png": "[encoded data removed]",
      "text/plain": [
       "<matplotlib.figure.Figure at 0x21b8b03d240>"
      ]
     },
     "metadata": {},
     "output_type": "display_data"
    }
   ],
   "source": [
    "matplotlib.rcParams['figure.figsize'] = [20, 10]\n",
    "stream_views_by_month_df.plot(x='SequenceNumber', y='total_num_views')"
   ]
  },
  {
   "cell_type": "code",
   "execution_count": 34,
   "metadata": {},
   "outputs": [
    {
     "data": {
      "text/html": [
       "<div>\n",
       "<style scoped>\n",
       "    .dataframe tbody tr th:only-of-type {\n",
       "        vertical-align: middle;\n",
       "    }\n",
       "\n",
       "    .dataframe tbody tr th {\n",
       "        vertical-align: top;\n",
       "    }\n",
       "\n",
       "    .dataframe thead th {\n",
       "        text-align: right;\n",
       "    }\n",
       "</style>\n",
       "<table border=\"1\" class=\"dataframe\">\n",
       "  <thead>\n",
       "    <tr style=\"text-align: right;\">\n",
       "      <th></th>\n",
       "      <th>USERID</th>\n",
       "      <th>CARDID</th>\n",
       "      <th>CARDTITLE</th>\n",
       "      <th>STREAMID</th>\n",
       "      <th>STREAMNAME</th>\n",
       "      <th>MODULEID</th>\n",
       "      <th>MODULENAME</th>\n",
       "      <th>date</th>\n",
       "      <th>time</th>\n",
       "      <th>SequenceNumber</th>\n",
       "      <th>date_without_day</th>\n",
       "    </tr>\n",
       "  </thead>\n",
       "  <tbody>\n",
       "    <tr>\n",
       "      <th>0</th>\n",
       "      <td>1007</td>\n",
       "      <td>2798</td>\n",
       "      <td>QUICK TEST - WHAT IS IN MY ENGINE OIL?</td>\n",
       "      <td>561</td>\n",
       "      <td>What is engine oil made of?</td>\n",
       "      <td>430</td>\n",
       "      <td>2. WHAT IS ENGINE OIL MADE OF?</td>\n",
       "      <td>31-05-2017</td>\n",
       "      <td>01:14</td>\n",
       "      <td>13</td>\n",
       "      <td>01-05-2017</td>\n",
       "    </tr>\n",
       "    <tr>\n",
       "      <th>1</th>\n",
       "      <td>1007</td>\n",
       "      <td>2798</td>\n",
       "      <td>QUICK TEST - WHAT IS IN MY ENGINE OIL?</td>\n",
       "      <td>561</td>\n",
       "      <td>What is engine oil made of?</td>\n",
       "      <td>430</td>\n",
       "      <td>2. WHAT IS ENGINE OIL MADE OF?</td>\n",
       "      <td>31-05-2017</td>\n",
       "      <td>01:14</td>\n",
       "      <td>13</td>\n",
       "      <td>01-05-2017</td>\n",
       "    </tr>\n",
       "    <tr>\n",
       "      <th>2</th>\n",
       "      <td>1007</td>\n",
       "      <td>2798</td>\n",
       "      <td>QUICK TEST - WHAT IS IN MY ENGINE OIL?</td>\n",
       "      <td>561</td>\n",
       "      <td>What is engine oil made of?</td>\n",
       "      <td>430</td>\n",
       "      <td>2. WHAT IS ENGINE OIL MADE OF?</td>\n",
       "      <td>31-05-2017</td>\n",
       "      <td>01:14</td>\n",
       "      <td>13</td>\n",
       "      <td>01-05-2017</td>\n",
       "    </tr>\n",
       "    <tr>\n",
       "      <th>3</th>\n",
       "      <td>1007</td>\n",
       "      <td>2808</td>\n",
       "      <td>ENGINE OIL ADDITIVES</td>\n",
       "      <td>561</td>\n",
       "      <td>What is engine oil made of?</td>\n",
       "      <td>430</td>\n",
       "      <td>2. WHAT IS ENGINE OIL MADE OF?</td>\n",
       "      <td>31-05-2017</td>\n",
       "      <td>01:15</td>\n",
       "      <td>13</td>\n",
       "      <td>01-05-2017</td>\n",
       "    </tr>\n",
       "    <tr>\n",
       "      <th>4</th>\n",
       "      <td>1007</td>\n",
       "      <td>2808</td>\n",
       "      <td>ENGINE OIL ADDITIVES</td>\n",
       "      <td>561</td>\n",
       "      <td>What is engine oil made of?</td>\n",
       "      <td>430</td>\n",
       "      <td>2. WHAT IS ENGINE OIL MADE OF?</td>\n",
       "      <td>31-05-2017</td>\n",
       "      <td>01:15</td>\n",
       "      <td>13</td>\n",
       "      <td>01-05-2017</td>\n",
       "    </tr>\n",
       "  </tbody>\n",
       "</table>\n",
       "</div>"
      ],
      "text/plain": [
       "   USERID  CARDID                               CARDTITLE  STREAMID  \\\n",
       "0    1007    2798  QUICK TEST - WHAT IS IN MY ENGINE OIL?       561   \n",
       "1    1007    2798  QUICK TEST - WHAT IS IN MY ENGINE OIL?       561   \n",
       "2    1007    2798  QUICK TEST - WHAT IS IN MY ENGINE OIL?       561   \n",
       "3    1007    2808                    ENGINE OIL ADDITIVES       561   \n",
       "4    1007    2808                    ENGINE OIL ADDITIVES       561   \n",
       "\n",
       "                    STREAMNAME  MODULEID                      MODULENAME  \\\n",
       "0  What is engine oil made of?       430  2. WHAT IS ENGINE OIL MADE OF?   \n",
       "1  What is engine oil made of?       430  2. WHAT IS ENGINE OIL MADE OF?   \n",
       "2  What is engine oil made of?       430  2. WHAT IS ENGINE OIL MADE OF?   \n",
       "3  What is engine oil made of?       430  2. WHAT IS ENGINE OIL MADE OF?   \n",
       "4  What is engine oil made of?       430  2. WHAT IS ENGINE OIL MADE OF?   \n",
       "\n",
       "         date   time  SequenceNumber date_without_day  \n",
       "0  31-05-2017  01:14              13       01-05-2017  \n",
       "1  31-05-2017  01:14              13       01-05-2017  \n",
       "2  31-05-2017  01:14              13       01-05-2017  \n",
       "3  31-05-2017  01:15              13       01-05-2017  \n",
       "4  31-05-2017  01:15              13       01-05-2017  "
      ]
     },
     "execution_count": 34,
     "metadata": {},
     "output_type": "execute_result"
    }
   ],
   "source": [
    "stream_views_df[\"date_without_day\"] = stream_views_df[\"date\"].apply(lambda x: \"01\" + x[2:])\n",
    "stream_views_df.head()"
   ]
  },
  {
   "cell_type": "code",
   "execution_count": 35,
   "metadata": {},
   "outputs": [
    {
     "data": {
      "text/html": [
       "<div>\n",
       "<style scoped>\n",
       "    .dataframe tbody tr th:only-of-type {\n",
       "        vertical-align: middle;\n",
       "    }\n",
       "\n",
       "    .dataframe tbody tr th {\n",
       "        vertical-align: top;\n",
       "    }\n",
       "\n",
       "    .dataframe thead th {\n",
       "        text-align: right;\n",
       "    }\n",
       "</style>\n",
       "<table border=\"1\" class=\"dataframe\">\n",
       "  <thead>\n",
       "    <tr style=\"text-align: right;\">\n",
       "      <th></th>\n",
       "      <th>date</th>\n",
       "      <th>total_num_views</th>\n",
       "    </tr>\n",
       "  </thead>\n",
       "  <tbody>\n",
       "    <tr>\n",
       "      <th>0</th>\n",
       "      <td>01-01-2017</td>\n",
       "      <td>3093</td>\n",
       "    </tr>\n",
       "    <tr>\n",
       "      <th>1</th>\n",
       "      <td>01-01-2018</td>\n",
       "      <td>5810</td>\n",
       "    </tr>\n",
       "    <tr>\n",
       "      <th>2</th>\n",
       "      <td>01-02-2017</td>\n",
       "      <td>5551</td>\n",
       "    </tr>\n",
       "    <tr>\n",
       "      <th>3</th>\n",
       "      <td>01-02-2018</td>\n",
       "      <td>8622</td>\n",
       "    </tr>\n",
       "    <tr>\n",
       "      <th>4</th>\n",
       "      <td>01-03-2017</td>\n",
       "      <td>9040</td>\n",
       "    </tr>\n",
       "  </tbody>\n",
       "</table>\n",
       "</div>"
      ],
      "text/plain": [
       "         date  total_num_views\n",
       "0  01-01-2017             3093\n",
       "1  01-01-2018             5810\n",
       "2  01-02-2017             5551\n",
       "3  01-02-2018             8622\n",
       "4  01-03-2017             9040"
      ]
     },
     "execution_count": 35,
     "metadata": {},
     "output_type": "execute_result"
    }
   ],
   "source": [
    "stream_views_by_day1_of_month_df = stream_views_df.groupby(\"date_without_day\").size().reset_index()\n",
    "stream_views_by_day1_of_month_df.columns = [\"date\", \"total_num_views\"]\n",
    "stream_views_by_day1_of_month_df.head()"
   ]
  },
  {
   "cell_type": "code",
   "execution_count": 36,
   "metadata": {},
   "outputs": [
    {
     "data": {
      "text/plain": [
       "<matplotlib.axes._subplots.AxesSubplot at 0x21b8be76208>"
      ]
     },
     "execution_count": 36,
     "metadata": {},
     "output_type": "execute_result"
    },
    {
     "data": {
      "image/png": "[encoded data removed]",
      "text/plain": [
       "<matplotlib.figure.Figure at 0x21b8b024e10>"
      ]
     },
     "metadata": {},
     "output_type": "display_data"
    }
   ],
   "source": [
    "stream_views_by_day1_of_month_df.plot(x='date', y='total_num_views')"
   ]
  },
  {
   "cell_type": "markdown",
   "metadata": {},
   "source": [
    "## User specific content viewing"
   ]
  },
  {
   "cell_type": "code",
   "execution_count": 41,
   "metadata": {
    "collapsed": true
   },
   "outputs": [],
   "source": [
    "\n",
    "def get_viewing_pattern_for_user(userid):\n",
    "    stream_views_for_user_df = stream_views_df[stream_views_df[\"USERID\"] == userid]\n",
    "    stream_views_for_user_by_date_df = stream_views_for_user_df.groupby(\"date\").size().reset_index()\n",
    "    stream_views_for_user_by_date_df.columns = [\"date\", \"num_views\"]\n",
    "    # print(stream_views_for_user_by_date_df)\n",
    "    stream_views_for_user_by_date_df['date'] = pd.to_datetime(stream_views_for_user_by_date_df['date'], format=\"%d-%m-%Y\")\n",
    "    stream_views_for_user_by_date_df = stream_views_for_user_by_date_df.sort_values(by=\"date\")\n",
    "    stream_views_for_user_by_date_df.plot(x='date', y='num_views')"
   ]
  },
  {
   "cell_type": "code",
   "execution_count": 44,
   "metadata": {},
   "outputs": [
    {
     "data": {
      "image/png": "[encoded data removed]",
      "text/plain": [
       "<matplotlib.figure.Figure at 0x21b8e6aac50>"
      ]
     },
     "metadata": {},
     "output_type": "display_data"
    }
   ],
   "source": [
    "get_viewing_pattern_for_user(1018)"
   ]
  },
  {
   "cell_type": "code",
   "execution_count": 46,
   "metadata": {},
   "outputs": [
    {
     "data": {
      "text/html": [
       "<div>\n",
       "<style scoped>\n",
       "    .dataframe tbody tr th:only-of-type {\n",
       "        vertical-align: middle;\n",
       "    }\n",
       "\n",
       "    .dataframe tbody tr th {\n",
       "        vertical-align: top;\n",
       "    }\n",
       "\n",
       "    .dataframe thead th {\n",
       "        text-align: right;\n",
       "    }\n",
       "</style>\n",
       "<table border=\"1\" class=\"dataframe\">\n",
       "  <thead>\n",
       "    <tr style=\"text-align: right;\">\n",
       "      <th></th>\n",
       "      <th>USERID</th>\n",
       "      <th>CARDID</th>\n",
       "      <th>CARDTITLE</th>\n",
       "      <th>STREAMID</th>\n",
       "      <th>STREAMNAME</th>\n",
       "      <th>MODULEID</th>\n",
       "      <th>MODULENAME</th>\n",
       "      <th>date</th>\n",
       "      <th>time</th>\n",
       "      <th>SequenceNumber</th>\n",
       "      <th>date_without_day</th>\n",
       "      <th>day_of_week</th>\n",
       "    </tr>\n",
       "  </thead>\n",
       "  <tbody>\n",
       "    <tr>\n",
       "      <th>0</th>\n",
       "      <td>1007</td>\n",
       "      <td>2798</td>\n",
       "      <td>QUICK TEST - WHAT IS IN MY ENGINE OIL?</td>\n",
       "      <td>561</td>\n",
       "      <td>What is engine oil made of?</td>\n",
       "      <td>430</td>\n",
       "      <td>2. WHAT IS ENGINE OIL MADE OF?</td>\n",
       "      <td>31-05-2017</td>\n",
       "      <td>01:14</td>\n",
       "      <td>13</td>\n",
       "      <td>01-05-2017</td>\n",
       "      <td>Wednesday</td>\n",
       "    </tr>\n",
       "    <tr>\n",
       "      <th>1</th>\n",
       "      <td>1007</td>\n",
       "      <td>2798</td>\n",
       "      <td>QUICK TEST - WHAT IS IN MY ENGINE OIL?</td>\n",
       "      <td>561</td>\n",
       "      <td>What is engine oil made of?</td>\n",
       "      <td>430</td>\n",
       "      <td>2. WHAT IS ENGINE OIL MADE OF?</td>\n",
       "      <td>31-05-2017</td>\n",
       "      <td>01:14</td>\n",
       "      <td>13</td>\n",
       "      <td>01-05-2017</td>\n",
       "      <td>Wednesday</td>\n",
       "    </tr>\n",
       "    <tr>\n",
       "      <th>2</th>\n",
       "      <td>1007</td>\n",
       "      <td>2798</td>\n",
       "      <td>QUICK TEST - WHAT IS IN MY ENGINE OIL?</td>\n",
       "      <td>561</td>\n",
       "      <td>What is engine oil made of?</td>\n",
       "      <td>430</td>\n",
       "      <td>2. WHAT IS ENGINE OIL MADE OF?</td>\n",
       "      <td>31-05-2017</td>\n",
       "      <td>01:14</td>\n",
       "      <td>13</td>\n",
       "      <td>01-05-2017</td>\n",
       "      <td>Wednesday</td>\n",
       "    </tr>\n",
       "    <tr>\n",
       "      <th>3</th>\n",
       "      <td>1007</td>\n",
       "      <td>2808</td>\n",
       "      <td>ENGINE OIL ADDITIVES</td>\n",
       "      <td>561</td>\n",
       "      <td>What is engine oil made of?</td>\n",
       "      <td>430</td>\n",
       "      <td>2. WHAT IS ENGINE OIL MADE OF?</td>\n",
       "      <td>31-05-2017</td>\n",
       "      <td>01:15</td>\n",
       "      <td>13</td>\n",
       "      <td>01-05-2017</td>\n",
       "      <td>Wednesday</td>\n",
       "    </tr>\n",
       "    <tr>\n",
       "      <th>4</th>\n",
       "      <td>1007</td>\n",
       "      <td>2808</td>\n",
       "      <td>ENGINE OIL ADDITIVES</td>\n",
       "      <td>561</td>\n",
       "      <td>What is engine oil made of?</td>\n",
       "      <td>430</td>\n",
       "      <td>2. WHAT IS ENGINE OIL MADE OF?</td>\n",
       "      <td>31-05-2017</td>\n",
       "      <td>01:15</td>\n",
       "      <td>13</td>\n",
       "      <td>01-05-2017</td>\n",
       "      <td>Wednesday</td>\n",
       "    </tr>\n",
       "  </tbody>\n",
       "</table>\n",
       "</div>"
      ],
      "text/plain": [
       "   USERID  CARDID                               CARDTITLE  STREAMID  \\\n",
       "0    1007    2798  QUICK TEST - WHAT IS IN MY ENGINE OIL?       561   \n",
       "1    1007    2798  QUICK TEST - WHAT IS IN MY ENGINE OIL?       561   \n",
       "2    1007    2798  QUICK TEST - WHAT IS IN MY ENGINE OIL?       561   \n",
       "3    1007    2808                    ENGINE OIL ADDITIVES       561   \n",
       "4    1007    2808                    ENGINE OIL ADDITIVES       561   \n",
       "\n",
       "                    STREAMNAME  MODULEID                      MODULENAME  \\\n",
       "0  What is engine oil made of?       430  2. WHAT IS ENGINE OIL MADE OF?   \n",
       "1  What is engine oil made of?       430  2. WHAT IS ENGINE OIL MADE OF?   \n",
       "2  What is engine oil made of?       430  2. WHAT IS ENGINE OIL MADE OF?   \n",
       "3  What is engine oil made of?       430  2. WHAT IS ENGINE OIL MADE OF?   \n",
       "4  What is engine oil made of?       430  2. WHAT IS ENGINE OIL MADE OF?   \n",
       "\n",
       "         date   time  SequenceNumber date_without_day day_of_week  \n",
       "0  31-05-2017  01:14              13       01-05-2017   Wednesday  \n",
       "1  31-05-2017  01:14              13       01-05-2017   Wednesday  \n",
       "2  31-05-2017  01:14              13       01-05-2017   Wednesday  \n",
       "3  31-05-2017  01:15              13       01-05-2017   Wednesday  \n",
       "4  31-05-2017  01:15              13       01-05-2017   Wednesday  "
      ]
     },
     "execution_count": 46,
     "metadata": {},
     "output_type": "execute_result"
    }
   ],
   "source": [
    "import datetime\n",
    "def convert_to_date_of_week(x):\n",
    "    d = datetime.datetime.strptime(x, \"%d-%m-%Y\").date()\n",
    "    days_of_week = [\"Monday\", \"Tuesday\", \"Wednesday\", \"Thursday\", \"Friday\", \"Saturday\", \"Sunday\"]\n",
    "    return days_of_week[d.weekday()]\n",
    "\n",
    "stream_views_df[\"day_of_week\"] = stream_views_df[\"date\"].apply(convert_to_date_of_week)  \n",
    "stream_views_df.head()"
   ]
  },
  {
   "cell_type": "code",
   "execution_count": null,
   "metadata": {
    "collapsed": true
   },
   "outputs": [],
   "source": [
    "# predict using the mode\n",
    "def predict_next_viewing_time(userid, current_date):\n",
    "    pass"
   ]
  }
 ],
 "metadata": {
  "kernelspec": {
   "display_name": "Python 3",
   "language": "python",
   "name": "python3"
  },
  "language_info": {
   "codemirror_mode": {
    "name": "ipython",
    "version": 3
   },
   "file_extension": ".py",
   "mimetype": "text/x-python",
   "name": "python",
   "nbconvert_exporter": "python",
   "pygments_lexer": "ipython3",
   "version": "3.6.3"
  }
 },
 "nbformat": 4,
 "nbformat_minor": 2
}
