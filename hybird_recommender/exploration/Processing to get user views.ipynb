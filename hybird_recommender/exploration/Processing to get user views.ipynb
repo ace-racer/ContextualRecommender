{
 "cells": [
  {
   "cell_type": "code",
   "execution_count": 1,
   "metadata": {},
   "outputs": [
    {
     "name": "stdout",
     "output_type": "stream",
     "text": [
      "   USERID  CARDID      CARDTITLE  STREAMID STREAMNAME            TIMESTAMP  \\\n",
      "0    1019    3021  Best in Class       579  About HMD  2017-07-09 10:23:36   \n",
      "1    1054    3021  Best in Class       579  About HMD  2017-07-09 14:41:25   \n",
      "2     977    3021  Best in Class       579  About HMD  2017-07-09 13:35:38   \n",
      "3    1337    3021  Best in Class       579  About HMD  2017-07-10 05:53:05   \n",
      "4    1346    3021  Best in Class       579  About HMD  2017-07-10 11:23:59   \n",
      "\n",
      "   MODULEID MODULENAME  ORGANIZATION  \n",
      "0       473        HMD            28  \n",
      "1       473        HMD            28  \n",
      "2       473        HMD            28  \n",
      "3       473        HMD            28  \n",
      "4       473        HMD            28  \n"
     ]
    }
   ],
   "source": [
    "# import required modules\n",
    "import pandas as pd\n",
    "\n",
    "# read data into data frames\n",
    "views_df = pd.read_csv(\"../data/content_views_raw.csv\")\n",
    "\n",
    "# view the top records from each data frame\n",
    "print(views_df.head())"
   ]
  },
  {
   "cell_type": "code",
   "execution_count": 3,
   "metadata": {},
   "outputs": [],
   "source": [
    "# Generate a pivot table from the views data\n",
    "content_views_per_user_df = pd.pivot_table(views_df, index = \"USERID\", columns = \"STREAMID\", values = \"TIMESTAMP\", aggfunc=\"count\")\n",
    "\n",
    "# fill the NA values with 0 - since there are no views for these contents\n",
    "content_views_per_user_df = content_views_per_user_df.fillna(value = 0)\n",
    "content_views_per_user_df.to_csv(\"../data/content_views_per_user_1.csv\")"
   ]
  },
  {
   "cell_type": "code",
   "execution_count": 4,
   "metadata": {},
   "outputs": [
    {
     "name": "stdout",
     "output_type": "stream",
     "text": [
      "          579       580      581       582  583       584       585       586  \\\n",
      "950  0.000000  0.000000  0.00000  0.000000  1.0  0.000000  0.000000  0.000000   \n",
      "958  0.000000  0.011547  0.00000  0.000000  0.0  0.000000  0.000000  0.000000   \n",
      "959  0.000000  0.071594  0.04888  0.016018  0.0  0.008119  0.000000  0.004416   \n",
      "961  0.000000  0.032333  0.01833  0.000000  0.0  0.021651  0.000000  0.004692   \n",
      "963  0.031532  0.083141  0.04277  0.054920  0.0  0.037889  0.032407  0.013937   \n",
      "\n",
      "          587       588 ...   786  787  788  789  790  793  795  796  797  798  \n",
      "950  0.000000  0.000000 ...   0.0  0.0  0.0  0.0  0.0  0.0  0.0  0.0  0.0  0.0  \n",
      "958  0.000000  0.008202 ...   0.0  0.0  0.0  0.0  0.0  0.0  0.0  0.0  0.0  0.0  \n",
      "959  0.000000  0.000000 ...   0.0  0.0  0.0  0.0  0.0  0.0  0.0  0.0  0.0  0.0  \n",
      "961  0.000000  0.000000 ...   0.0  0.0  0.0  0.0  0.0  0.0  0.0  0.0  0.0  0.0  \n",
      "963  0.022952  0.025776 ...   0.0  0.0  0.0  0.0  0.0  0.0  0.0  0.0  0.0  0.0  \n",
      "\n",
      "[5 rows x 136 columns]\n",
      "File created...\n"
     ]
    }
   ],
   "source": [
    "from sklearn.preprocessing import MinMaxScaler\n",
    "scaler = MinMaxScaler()\n",
    "\n",
    "# deep copy a data frame\n",
    "content_views_per_user_df_copy = content_views_per_user_df.copy(deep = True)\n",
    "\n",
    "scaled_content_views = scaler.fit_transform(content_views_per_user_df_copy)\n",
    "\n",
    "scaled_content_views_df = pd.DataFrame(scaled_content_views, columns=list(content_views_per_user_df), index = list(content_views_per_user_df.index))\n",
    "\n",
    "print(scaled_content_views_df.head(5))\n",
    "\n",
    "scaled_content_views_df.to_csv(\"../data/content_views_per_user_scaled_1.csv\")\n",
    "print(\"File created...\")\n"
   ]
  },
  {
   "cell_type": "code",
   "execution_count": null,
   "metadata": {
    "collapsed": true
   },
   "outputs": [],
   "source": []
  }
 ],
 "metadata": {
  "kernelspec": {
   "display_name": "Python 3",
   "language": "python",
   "name": "python3"
  },
  "language_info": {
   "codemirror_mode": {
    "name": "ipython",
    "version": 3
   },
   "file_extension": ".py",
   "mimetype": "text/x-python",
   "name": "python",
   "nbconvert_exporter": "python",
   "pygments_lexer": "ipython3",
   "version": "3.6.3"
  }
 },
 "nbformat": 4,
 "nbformat_minor": 2
}
