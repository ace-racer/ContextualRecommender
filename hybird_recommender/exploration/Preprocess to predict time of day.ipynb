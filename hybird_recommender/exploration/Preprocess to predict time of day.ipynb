{
 "cells": [
  {
   "cell_type": "code",
   "execution_count": 30,
   "metadata": {
    "collapsed": true
   },
   "outputs": [],
   "source": [
    "import pandas as pd\n",
    "import numpy as np\n",
    "import matplotlib.pyplot as plt\n",
    "import seaborn as sns\n",
    "%matplotlib inline"
   ]
  },
  {
   "cell_type": "code",
   "execution_count": 31,
   "metadata": {},
   "outputs": [
    {
     "data": {
      "text/html": [
       "<div>\n",
       "<style scoped>\n",
       "    .dataframe tbody tr th:only-of-type {\n",
       "        vertical-align: middle;\n",
       "    }\n",
       "\n",
       "    .dataframe tbody tr th {\n",
       "        vertical-align: top;\n",
       "    }\n",
       "\n",
       "    .dataframe thead th {\n",
       "        text-align: right;\n",
       "    }\n",
       "</style>\n",
       "<table border=\"1\" class=\"dataframe\">\n",
       "  <thead>\n",
       "    <tr style=\"text-align: right;\">\n",
       "      <th></th>\n",
       "      <th>USERID</th>\n",
       "      <th>STREAMID</th>\n",
       "      <th>num_views</th>\n",
       "      <th>day_of_week</th>\n",
       "      <th>time_labeled</th>\n",
       "      <th>num_cards</th>\n",
       "      <th>views_per_card</th>\n",
       "      <th>user_type</th>\n",
       "      <th>stream_type</th>\n",
       "    </tr>\n",
       "  </thead>\n",
       "  <tbody>\n",
       "    <tr>\n",
       "      <th>0</th>\n",
       "      <td>245</td>\n",
       "      <td>163</td>\n",
       "      <td>1029</td>\n",
       "      <td>Wednesday</td>\n",
       "      <td>Afternoon</td>\n",
       "      <td>15</td>\n",
       "      <td>68.600000</td>\n",
       "      <td>0</td>\n",
       "      <td>1</td>\n",
       "    </tr>\n",
       "    <tr>\n",
       "      <th>1</th>\n",
       "      <td>245</td>\n",
       "      <td>167</td>\n",
       "      <td>258</td>\n",
       "      <td>Thursday</td>\n",
       "      <td>Afternoon</td>\n",
       "      <td>14</td>\n",
       "      <td>18.428571</td>\n",
       "      <td>0</td>\n",
       "      <td>1</td>\n",
       "    </tr>\n",
       "    <tr>\n",
       "      <th>2</th>\n",
       "      <td>245</td>\n",
       "      <td>171</td>\n",
       "      <td>123</td>\n",
       "      <td>Wednesday</td>\n",
       "      <td>Afternoon</td>\n",
       "      <td>6</td>\n",
       "      <td>20.500000</td>\n",
       "      <td>0</td>\n",
       "      <td>1</td>\n",
       "    </tr>\n",
       "    <tr>\n",
       "      <th>3</th>\n",
       "      <td>245</td>\n",
       "      <td>172</td>\n",
       "      <td>83</td>\n",
       "      <td>Wednesday</td>\n",
       "      <td>Afternoon</td>\n",
       "      <td>4</td>\n",
       "      <td>20.750000</td>\n",
       "      <td>0</td>\n",
       "      <td>1</td>\n",
       "    </tr>\n",
       "    <tr>\n",
       "      <th>4</th>\n",
       "      <td>245</td>\n",
       "      <td>173</td>\n",
       "      <td>167</td>\n",
       "      <td>Monday</td>\n",
       "      <td>Afternoon</td>\n",
       "      <td>8</td>\n",
       "      <td>20.875000</td>\n",
       "      <td>0</td>\n",
       "      <td>1</td>\n",
       "    </tr>\n",
       "  </tbody>\n",
       "</table>\n",
       "</div>"
      ],
      "text/plain": [
       "   USERID  STREAMID  num_views day_of_week time_labeled  num_cards  \\\n",
       "0     245       163       1029   Wednesday    Afternoon         15   \n",
       "1     245       167        258    Thursday    Afternoon         14   \n",
       "2     245       171        123   Wednesday    Afternoon          6   \n",
       "3     245       172         83   Wednesday    Afternoon          4   \n",
       "4     245       173        167      Monday    Afternoon          8   \n",
       "\n",
       "   views_per_card  user_type  stream_type  \n",
       "0       68.600000          0            1  \n",
       "1       18.428571          0            1  \n",
       "2       20.500000          0            1  \n",
       "3       20.750000          0            1  \n",
       "4       20.875000          0            1  "
      ]
     },
     "execution_count": 31,
     "metadata": {},
     "output_type": "execute_result"
    }
   ],
   "source": [
    "stream_views_df = pd.read_csv(\"generated/clustered_user_views_per_stream.csv\", header=0)\n",
    "stream_views_df.head()"
   ]
  },
  {
   "cell_type": "code",
   "execution_count": 32,
   "metadata": {
    "collapsed": true
   },
   "outputs": [],
   "source": [
    "stream_views_df = stream_views_df.drop([\"USERID\", \"STREAMID\", \"num_views\", \"num_cards\", \"views_per_card\"], axis=1)"
   ]
  },
  {
   "cell_type": "code",
   "execution_count": 33,
   "metadata": {},
   "outputs": [
    {
     "data": {
      "text/html": [
       "<div>\n",
       "<style scoped>\n",
       "    .dataframe tbody tr th:only-of-type {\n",
       "        vertical-align: middle;\n",
       "    }\n",
       "\n",
       "    .dataframe tbody tr th {\n",
       "        vertical-align: top;\n",
       "    }\n",
       "\n",
       "    .dataframe thead th {\n",
       "        text-align: right;\n",
       "    }\n",
       "</style>\n",
       "<table border=\"1\" class=\"dataframe\">\n",
       "  <thead>\n",
       "    <tr style=\"text-align: right;\">\n",
       "      <th></th>\n",
       "      <th>day_of_week</th>\n",
       "      <th>time_labeled</th>\n",
       "      <th>user_type</th>\n",
       "      <th>stream_type</th>\n",
       "    </tr>\n",
       "  </thead>\n",
       "  <tbody>\n",
       "    <tr>\n",
       "      <th>0</th>\n",
       "      <td>Wednesday</td>\n",
       "      <td>Afternoon</td>\n",
       "      <td>0</td>\n",
       "      <td>1</td>\n",
       "    </tr>\n",
       "    <tr>\n",
       "      <th>1</th>\n",
       "      <td>Thursday</td>\n",
       "      <td>Afternoon</td>\n",
       "      <td>0</td>\n",
       "      <td>1</td>\n",
       "    </tr>\n",
       "    <tr>\n",
       "      <th>2</th>\n",
       "      <td>Wednesday</td>\n",
       "      <td>Afternoon</td>\n",
       "      <td>0</td>\n",
       "      <td>1</td>\n",
       "    </tr>\n",
       "    <tr>\n",
       "      <th>3</th>\n",
       "      <td>Wednesday</td>\n",
       "      <td>Afternoon</td>\n",
       "      <td>0</td>\n",
       "      <td>1</td>\n",
       "    </tr>\n",
       "    <tr>\n",
       "      <th>4</th>\n",
       "      <td>Monday</td>\n",
       "      <td>Afternoon</td>\n",
       "      <td>0</td>\n",
       "      <td>1</td>\n",
       "    </tr>\n",
       "  </tbody>\n",
       "</table>\n",
       "</div>"
      ],
      "text/plain": [
       "  day_of_week time_labeled  user_type  stream_type\n",
       "0   Wednesday    Afternoon          0            1\n",
       "1    Thursday    Afternoon          0            1\n",
       "2   Wednesday    Afternoon          0            1\n",
       "3   Wednesday    Afternoon          0            1\n",
       "4      Monday    Afternoon          0            1"
      ]
     },
     "execution_count": 33,
     "metadata": {},
     "output_type": "execute_result"
    }
   ],
   "source": [
    "stream_views_df.head()"
   ]
  },
  {
   "cell_type": "code",
   "execution_count": 34,
   "metadata": {
    "collapsed": true
   },
   "outputs": [],
   "source": [
    "def combine_days(d):\n",
    "    if d in [\"Sunday\", \"Saturday\"]:\n",
    "        return \"Weekend\"\n",
    "    elif d in [\"Monday\", \"Tuesday\", \"Wednesday\"]:\n",
    "        return \"Mon_Tues_Wed\"\n",
    "    else: \n",
    "        return \"Thurs_Fri\"\n",
    "    \n",
    "def combine_time_of_day(t):\n",
    "    if t in [\"Night\", \"Early morning\", \"Evening\"]:\n",
    "        return \"Outside\"\n",
    "    elif t in [\"Noon\", \"Afternoon\"]:\n",
    "        return \"12to18\"\n",
    "    else:\n",
    "        return \"8to12\"\n",
    "    \n",
    "stream_views_df[\"day_of_week\"] = stream_views_df[\"day_of_week\"].apply(combine_days) \n",
    "stream_views_df[\"time_labeled\"] = stream_views_df[\"time_labeled\"].apply(combine_time_of_day) "
   ]
  },
  {
   "cell_type": "code",
   "execution_count": 35,
   "metadata": {},
   "outputs": [
    {
     "name": "stderr",
     "output_type": "stream",
     "text": [
      "G:\\anaconda\\lib\\site-packages\\seaborn\\categorical.py:1460: FutureWarning: remove_na is deprecated and is a private function. Do not use.\n",
      "  stat_data = remove_na(group_data)\n"
     ]
    },
    {
     "data": {
      "text/plain": [
       "<matplotlib.axes._subplots.AxesSubplot at 0x176f0198748>"
      ]
     },
     "execution_count": 35,
     "metadata": {},
     "output_type": "execute_result"
    },
    {
     "data": {
      "image/png": "[encoded data removed]",
      "text/plain": [
       "<matplotlib.figure.Figure at 0x176f0107278>"
      ]
     },
     "metadata": {},
     "output_type": "display_data"
    }
   ],
   "source": [
    "sns.countplot(x=\"day_of_week\", data=stream_views_df)"
   ]
  },
  {
   "cell_type": "code",
   "execution_count": 36,
   "metadata": {},
   "outputs": [
    {
     "name": "stderr",
     "output_type": "stream",
     "text": [
      "G:\\anaconda\\lib\\site-packages\\seaborn\\categorical.py:1460: FutureWarning: remove_na is deprecated and is a private function. Do not use.\n",
      "  stat_data = remove_na(group_data)\n"
     ]
    },
    {
     "data": {
      "text/plain": [
       "<matplotlib.axes._subplots.AxesSubplot at 0x176f012a2e8>"
      ]
     },
     "execution_count": 36,
     "metadata": {},
     "output_type": "execute_result"
    },
    {
     "data": {
      "image/png": "[encoded data removed]",
      "text/plain": [
       "<matplotlib.figure.Figure at 0x176f00f60f0>"
      ]
     },
     "metadata": {},
     "output_type": "display_data"
    }
   ],
   "source": [
    "sns.countplot(x=\"time_labeled\", data=stream_views_df)"
   ]
  },
  {
   "cell_type": "code",
   "execution_count": 37,
   "metadata": {
    "collapsed": true
   },
   "outputs": [],
   "source": [
    "from sklearn.preprocessing import LabelEncoder\n",
    "\n",
    "\n",
    "def perform_one_hot_encoding(df, categorical_features):\n",
    "      \"\"\"\n",
    "          Perform one-hot encoding for textual categorical data. Note the original columns are retained and the new columns are created with the names Original column name_Class name\n",
    "          df: The pandas dataframe\n",
    "          categorical_features: The list of categorical features as strings which are present as headers.\n",
    "      \"\"\"\n",
    "      label_encoders = {}\n",
    "      label_mappings = {}\n",
    "      for categorical_feature in categorical_features:\n",
    "          label_encoders[categorical_feature] = LabelEncoder()\n",
    "          df[categorical_feature + \"Num\"] = label_encoders[categorical_feature].fit_transform(df[categorical_feature])\n",
    "          label_mappings[categorical_feature] = label_encoders[categorical_feature].classes_\n",
    "\n",
    "      for categorical_feature in categorical_features:\n",
    "          for class_value in label_mappings[categorical_feature]:\n",
    "              df[categorical_feature + \"_\" + class_value] = df[categorical_feature] == np.array([class_value] * df.shape[0])\n",
    "              df[categorical_feature + \"_\" + class_value] = df[categorical_feature + \"_\" + class_value].astype(int)\n",
    "\n",
    "      return df"
   ]
  },
  {
   "cell_type": "code",
   "execution_count": 38,
   "metadata": {},
   "outputs": [
    {
     "data": {
      "text/html": [
       "<div>\n",
       "<style scoped>\n",
       "    .dataframe tbody tr th:only-of-type {\n",
       "        vertical-align: middle;\n",
       "    }\n",
       "\n",
       "    .dataframe tbody tr th {\n",
       "        vertical-align: top;\n",
       "    }\n",
       "\n",
       "    .dataframe thead th {\n",
       "        text-align: right;\n",
       "    }\n",
       "</style>\n",
       "<table border=\"1\" class=\"dataframe\">\n",
       "  <thead>\n",
       "    <tr style=\"text-align: right;\">\n",
       "      <th></th>\n",
       "      <th>time_labeled</th>\n",
       "      <th>day_of_weekNum</th>\n",
       "      <th>user_typeNum</th>\n",
       "      <th>stream_typeNum</th>\n",
       "      <th>day_of_week_Mon_Tues_Wed</th>\n",
       "      <th>day_of_week_Thurs_Fri</th>\n",
       "      <th>day_of_week_Weekend</th>\n",
       "      <th>user_type_0</th>\n",
       "      <th>user_type_1</th>\n",
       "      <th>user_type_2</th>\n",
       "      <th>stream_type_0</th>\n",
       "      <th>stream_type_1</th>\n",
       "      <th>stream_type_2</th>\n",
       "      <th>stream_type_3</th>\n",
       "      <th>stream_type_4</th>\n",
       "    </tr>\n",
       "  </thead>\n",
       "  <tbody>\n",
       "    <tr>\n",
       "      <th>0</th>\n",
       "      <td>14to18</td>\n",
       "      <td>0</td>\n",
       "      <td>0</td>\n",
       "      <td>1</td>\n",
       "      <td>1</td>\n",
       "      <td>0</td>\n",
       "      <td>0</td>\n",
       "      <td>1</td>\n",
       "      <td>0</td>\n",
       "      <td>0</td>\n",
       "      <td>0</td>\n",
       "      <td>1</td>\n",
       "      <td>0</td>\n",
       "      <td>0</td>\n",
       "      <td>0</td>\n",
       "    </tr>\n",
       "    <tr>\n",
       "      <th>1</th>\n",
       "      <td>14to18</td>\n",
       "      <td>1</td>\n",
       "      <td>0</td>\n",
       "      <td>1</td>\n",
       "      <td>0</td>\n",
       "      <td>1</td>\n",
       "      <td>0</td>\n",
       "      <td>1</td>\n",
       "      <td>0</td>\n",
       "      <td>0</td>\n",
       "      <td>0</td>\n",
       "      <td>1</td>\n",
       "      <td>0</td>\n",
       "      <td>0</td>\n",
       "      <td>0</td>\n",
       "    </tr>\n",
       "    <tr>\n",
       "      <th>2</th>\n",
       "      <td>14to18</td>\n",
       "      <td>0</td>\n",
       "      <td>0</td>\n",
       "      <td>1</td>\n",
       "      <td>1</td>\n",
       "      <td>0</td>\n",
       "      <td>0</td>\n",
       "      <td>1</td>\n",
       "      <td>0</td>\n",
       "      <td>0</td>\n",
       "      <td>0</td>\n",
       "      <td>1</td>\n",
       "      <td>0</td>\n",
       "      <td>0</td>\n",
       "      <td>0</td>\n",
       "    </tr>\n",
       "    <tr>\n",
       "      <th>3</th>\n",
       "      <td>14to18</td>\n",
       "      <td>0</td>\n",
       "      <td>0</td>\n",
       "      <td>1</td>\n",
       "      <td>1</td>\n",
       "      <td>0</td>\n",
       "      <td>0</td>\n",
       "      <td>1</td>\n",
       "      <td>0</td>\n",
       "      <td>0</td>\n",
       "      <td>0</td>\n",
       "      <td>1</td>\n",
       "      <td>0</td>\n",
       "      <td>0</td>\n",
       "      <td>0</td>\n",
       "    </tr>\n",
       "    <tr>\n",
       "      <th>4</th>\n",
       "      <td>14to18</td>\n",
       "      <td>0</td>\n",
       "      <td>0</td>\n",
       "      <td>1</td>\n",
       "      <td>1</td>\n",
       "      <td>0</td>\n",
       "      <td>0</td>\n",
       "      <td>1</td>\n",
       "      <td>0</td>\n",
       "      <td>0</td>\n",
       "      <td>0</td>\n",
       "      <td>1</td>\n",
       "      <td>0</td>\n",
       "      <td>0</td>\n",
       "      <td>0</td>\n",
       "    </tr>\n",
       "  </tbody>\n",
       "</table>\n",
       "</div>"
      ],
      "text/plain": [
       "  time_labeled  day_of_weekNum  user_typeNum  stream_typeNum  \\\n",
       "0       14to18               0             0               1   \n",
       "1       14to18               1             0               1   \n",
       "2       14to18               0             0               1   \n",
       "3       14to18               0             0               1   \n",
       "4       14to18               0             0               1   \n",
       "\n",
       "   day_of_week_Mon_Tues_Wed  day_of_week_Thurs_Fri  day_of_week_Weekend  \\\n",
       "0                         1                      0                    0   \n",
       "1                         0                      1                    0   \n",
       "2                         1                      0                    0   \n",
       "3                         1                      0                    0   \n",
       "4                         1                      0                    0   \n",
       "\n",
       "   user_type_0  user_type_1  user_type_2  stream_type_0  stream_type_1  \\\n",
       "0            1            0            0              0              1   \n",
       "1            1            0            0              0              1   \n",
       "2            1            0            0              0              1   \n",
       "3            1            0            0              0              1   \n",
       "4            1            0            0              0              1   \n",
       "\n",
       "   stream_type_2  stream_type_3  stream_type_4  \n",
       "0              0              0              0  \n",
       "1              0              0              0  \n",
       "2              0              0              0  \n",
       "3              0              0              0  \n",
       "4              0              0              0  "
      ]
     },
     "execution_count": 38,
     "metadata": {},
     "output_type": "execute_result"
    }
   ],
   "source": [
    "categorical_columns = [\"day_of_week\", \"user_type\", \"stream_type\"]\n",
    "\n",
    "# convert all categorical columns to string columns \n",
    "for categorical_column in categorical_columns:\n",
    "    stream_views_df[categorical_column] = stream_views_df[categorical_column].astype(str)\n",
    "    \n",
    "stream_views_updated_df = perform_one_hot_encoding(stream_views_df, categorical_columns)\n",
    "\n",
    "# drop the original columns\n",
    "stream_views_updated_df = stream_views_updated_df.drop(categorical_columns, axis=1)\n",
    "stream_views_updated_df.head()"
   ]
  },
  {
   "cell_type": "code",
   "execution_count": 39,
   "metadata": {
    "collapsed": true
   },
   "outputs": [],
   "source": [
    "stream_views_updated_df.to_csv(\"generated/preprocessed_clustered_stream_views.csv\", index=False)"
   ]
  },
  {
   "cell_type": "code",
   "execution_count": null,
   "metadata": {
    "collapsed": true
   },
   "outputs": [],
   "source": []
  }
 ],
 "metadata": {
  "kernelspec": {
   "display_name": "Python 3",
   "language": "python",
   "name": "python3"
  },
  "language_info": {
   "codemirror_mode": {
    "name": "ipython",
    "version": 3
   },
   "file_extension": ".py",
   "mimetype": "text/x-python",
   "name": "python",
   "nbconvert_exporter": "python",
   "pygments_lexer": "ipython3",
   "version": "3.6.3"
  }
 },
 "nbformat": 4,
 "nbformat_minor": 2
}
