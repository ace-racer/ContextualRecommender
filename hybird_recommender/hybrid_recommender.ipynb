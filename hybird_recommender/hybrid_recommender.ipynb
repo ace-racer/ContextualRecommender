{
 "cells": [
  {
   "cell_type": "code",
   "execution_count": 10,
   "metadata": {
    "collapsed": true
   },
   "outputs": [],
   "source": [
    "import nltk\n",
    "from nltk import FreqDist, word_tokenize\n",
    "import string\n",
    "from nltk.corpus import stopwords\n",
    "import pandas as pd\n",
    "import numpy as np\n",
    "import matplotlib.pyplot as plt\n",
    "from sklearn.metrics.pairwise import cosine_similarity\n",
    "from sklearn.feature_extraction.text import CountVectorizer, TfidfVectorizer\n",
    "%matplotlib inline"
   ]
  },
  {
   "cell_type": "code",
   "execution_count": 4,
   "metadata": {},
   "outputs": [
    {
     "data": {
      "text/html": [
       "<div>\n",
       "<style>\n",
       "    .dataframe thead tr:only-child th {\n",
       "        text-align: right;\n",
       "    }\n",
       "\n",
       "    .dataframe thead th {\n",
       "        text-align: left;\n",
       "    }\n",
       "\n",
       "    .dataframe tbody tr th {\n",
       "        vertical-align: top;\n",
       "    }\n",
       "</style>\n",
       "<table border=\"1\" class=\"dataframe\">\n",
       "  <thead>\n",
       "    <tr style=\"text-align: right;\">\n",
       "      <th></th>\n",
       "      <th>StreamID</th>\n",
       "      <th>Content</th>\n",
       "    </tr>\n",
       "  </thead>\n",
       "  <tbody>\n",
       "    <tr>\n",
       "      <th>0</th>\n",
       "      <td>163</td>\n",
       "      <td>TXmAk2KZAy4\\r\\nNMeUjebo1Ac\\r\\nEEuTxFhp3go\\r\\nC...</td>\n",
       "    </tr>\n",
       "    <tr>\n",
       "      <th>1</th>\n",
       "      <td>419</td>\n",
       "      <td>TXmAk2KZAy4\\r\\nNMeUjebo1Ac\\r\\nEEuTxFhp3go\\r\\nC...</td>\n",
       "    </tr>\n",
       "    <tr>\n",
       "      <th>2</th>\n",
       "      <td>507</td>\n",
       "      <td>wBYKUgUyGWc\\r\\nA team of world-class drivers, ...</td>\n",
       "    </tr>\n",
       "    <tr>\n",
       "      <th>3</th>\n",
       "      <td>199</td>\n",
       "      <td>Castrol EDGE  is Castrol?s flagship power bran...</td>\n",
       "    </tr>\n",
       "    <tr>\n",
       "      <th>4</th>\n",
       "      <td>201</td>\n",
       "      <td>Charles ?Cheers? Wakefield, Castrol?s founder,...</td>\n",
       "    </tr>\n",
       "  </tbody>\n",
       "</table>\n",
       "</div>"
      ],
      "text/plain": [
       "   StreamID                                            Content\n",
       "0       163  TXmAk2KZAy4\\r\\nNMeUjebo1Ac\\r\\nEEuTxFhp3go\\r\\nC...\n",
       "1       419  TXmAk2KZAy4\\r\\nNMeUjebo1Ac\\r\\nEEuTxFhp3go\\r\\nC...\n",
       "2       507  wBYKUgUyGWc\\r\\nA team of world-class drivers, ...\n",
       "3       199  Castrol EDGE  is Castrol?s flagship power bran...\n",
       "4       201  Charles ?Cheers? Wakefield, Castrol?s founder,..."
      ]
     },
     "execution_count": 4,
     "metadata": {},
     "output_type": "execute_result"
    }
   ],
   "source": [
    "stream_content_df = pd.read_csv(\"data/stream_content.csv\", header=0, encoding=\"ISO-8859-1\")\n",
    "stream_content_df.head()"
   ]
  },
  {
   "cell_type": "markdown",
   "metadata": {},
   "source": [
    "## Pre-process the content to remove stop words, punctutations and lemmatization"
   ]
  },
  {
   "cell_type": "code",
   "execution_count": 9,
   "metadata": {},
   "outputs": [
    {
     "data": {
      "text/html": [
       "<div>\n",
       "<style>\n",
       "    .dataframe thead tr:only-child th {\n",
       "        text-align: right;\n",
       "    }\n",
       "\n",
       "    .dataframe thead th {\n",
       "        text-align: left;\n",
       "    }\n",
       "\n",
       "    .dataframe tbody tr th {\n",
       "        vertical-align: top;\n",
       "    }\n",
       "</style>\n",
       "<table border=\"1\" class=\"dataframe\">\n",
       "  <thead>\n",
       "    <tr style=\"text-align: right;\">\n",
       "      <th></th>\n",
       "      <th>StreamID</th>\n",
       "      <th>Content</th>\n",
       "      <th>Content_processed</th>\n",
       "    </tr>\n",
       "  </thead>\n",
       "  <tbody>\n",
       "    <tr>\n",
       "      <th>0</th>\n",
       "      <td>163</td>\n",
       "      <td>TXmAk2KZAy4\\r\\nNMeUjebo1Ac\\r\\nEEuTxFhp3go\\r\\nC...</td>\n",
       "      <td>[txmak2kzay4, nmeujebo1ac, eeutxfhp3go, castro...</td>\n",
       "    </tr>\n",
       "    <tr>\n",
       "      <th>1</th>\n",
       "      <td>419</td>\n",
       "      <td>TXmAk2KZAy4\\r\\nNMeUjebo1Ac\\r\\nEEuTxFhp3go\\r\\nC...</td>\n",
       "      <td>[txmak2kzay4, nmeujebo1ac, eeutxfhp3go, castro...</td>\n",
       "    </tr>\n",
       "    <tr>\n",
       "      <th>2</th>\n",
       "      <td>507</td>\n",
       "      <td>wBYKUgUyGWc\\r\\nA team of world-class drivers, ...</td>\n",
       "      <td>[wbykuguygwc, team, world-class, driver, power...</td>\n",
       "    </tr>\n",
       "    <tr>\n",
       "      <th>3</th>\n",
       "      <td>199</td>\n",
       "      <td>Castrol EDGE  is Castrol?s flagship power bran...</td>\n",
       "      <td>[castrol, edge, castrol, flagship, power, bran...</td>\n",
       "    </tr>\n",
       "    <tr>\n",
       "      <th>4</th>\n",
       "      <td>201</td>\n",
       "      <td>Charles ?Cheers? Wakefield, Castrol?s founder,...</td>\n",
       "      <td>[charles, cheer, wakefield, castrol, founder, ...</td>\n",
       "    </tr>\n",
       "  </tbody>\n",
       "</table>\n",
       "</div>"
      ],
      "text/plain": [
       "   StreamID                                            Content  \\\n",
       "0       163  TXmAk2KZAy4\\r\\nNMeUjebo1Ac\\r\\nEEuTxFhp3go\\r\\nC...   \n",
       "1       419  TXmAk2KZAy4\\r\\nNMeUjebo1Ac\\r\\nEEuTxFhp3go\\r\\nC...   \n",
       "2       507  wBYKUgUyGWc\\r\\nA team of world-class drivers, ...   \n",
       "3       199  Castrol EDGE  is Castrol?s flagship power bran...   \n",
       "4       201  Charles ?Cheers? Wakefield, Castrol?s founder,...   \n",
       "\n",
       "                                   Content_processed  \n",
       "0  [txmak2kzay4, nmeujebo1ac, eeutxfhp3go, castro...  \n",
       "1  [txmak2kzay4, nmeujebo1ac, eeutxfhp3go, castro...  \n",
       "2  [wbykuguygwc, team, world-class, driver, power...  \n",
       "3  [castrol, edge, castrol, flagship, power, bran...  \n",
       "4  [charles, cheer, wakefield, castrol, founder, ...  "
      ]
     },
     "execution_count": 9,
     "metadata": {},
     "output_type": "execute_result"
    }
   ],
   "source": [
    "def preprocess(tokens):\n",
    "    \n",
    "    # TODO: remove random sequences that contain with more than one caps and small or combination of letters and numbers\n",
    "    \n",
    "    tokens_nop = [t for t in tokens if t not in string.punctuation]\n",
    "    tokens_nop = [t.lower() for t in tokens_nop]\n",
    "    wnl = nltk.WordNetLemmatizer()\n",
    "    stop = stopwords.words('english')\n",
    "    tokens_nostop = [t for t in tokens_nop if t not in stop]\n",
    "    tokens_lem = [wnl.lemmatize(t) for t in tokens_nostop]\n",
    "    tokens_clean = [t for t in tokens_lem if len(t) >= 3] \n",
    "    return tokens_clean\n",
    "\n",
    "stream_content_df['Content_processed'] = stream_content_df['Content'].map(word_tokenize)\n",
    "stream_content_df['Content_processed'] = stream_content_df.Content_processed.apply(preprocess)\n",
    "stream_content_df.head()"
   ]
  },
  {
   "cell_type": "markdown",
   "metadata": {},
   "source": [
    "### Generate the TFIDF vectors for the streams"
   ]
  },
  {
   "cell_type": "code",
   "execution_count": 11,
   "metadata": {},
   "outputs": [
    {
     "data": {
      "text/html": [
       "<div>\n",
       "<style>\n",
       "    .dataframe thead tr:only-child th {\n",
       "        text-align: right;\n",
       "    }\n",
       "\n",
       "    .dataframe thead th {\n",
       "        text-align: left;\n",
       "    }\n",
       "\n",
       "    .dataframe tbody tr th {\n",
       "        vertical-align: top;\n",
       "    }\n",
       "</style>\n",
       "<table border=\"1\" class=\"dataframe\">\n",
       "  <thead>\n",
       "    <tr style=\"text-align: right;\">\n",
       "      <th></th>\n",
       "      <th>StreamID</th>\n",
       "      <th>Content</th>\n",
       "      <th>Content_processed</th>\n",
       "    </tr>\n",
       "  </thead>\n",
       "  <tbody>\n",
       "    <tr>\n",
       "      <th>0</th>\n",
       "      <td>163</td>\n",
       "      <td>TXmAk2KZAy4\\r\\nNMeUjebo1Ac\\r\\nEEuTxFhp3go\\r\\nC...</td>\n",
       "      <td>txmak2kzay4 nmeujebo1ac eeutxfhp3go castrol la...</td>\n",
       "    </tr>\n",
       "    <tr>\n",
       "      <th>1</th>\n",
       "      <td>419</td>\n",
       "      <td>TXmAk2KZAy4\\r\\nNMeUjebo1Ac\\r\\nEEuTxFhp3go\\r\\nC...</td>\n",
       "      <td>txmak2kzay4 nmeujebo1ac eeutxfhp3go castrol la...</td>\n",
       "    </tr>\n",
       "    <tr>\n",
       "      <th>2</th>\n",
       "      <td>507</td>\n",
       "      <td>wBYKUgUyGWc\\r\\nA team of world-class drivers, ...</td>\n",
       "      <td>wbykuguygwc team world-class driver powered ca...</td>\n",
       "    </tr>\n",
       "    <tr>\n",
       "      <th>3</th>\n",
       "      <td>199</td>\n",
       "      <td>Castrol EDGE  is Castrol?s flagship power bran...</td>\n",
       "      <td>castrol edge castrol flagship power brand pcos...</td>\n",
       "    </tr>\n",
       "    <tr>\n",
       "      <th>4</th>\n",
       "      <td>201</td>\n",
       "      <td>Charles ?Cheers? Wakefield, Castrol?s founder,...</td>\n",
       "      <td>charles cheer wakefield castrol founder entrep...</td>\n",
       "    </tr>\n",
       "  </tbody>\n",
       "</table>\n",
       "</div>"
      ],
      "text/plain": [
       "   StreamID                                            Content  \\\n",
       "0       163  TXmAk2KZAy4\\r\\nNMeUjebo1Ac\\r\\nEEuTxFhp3go\\r\\nC...   \n",
       "1       419  TXmAk2KZAy4\\r\\nNMeUjebo1Ac\\r\\nEEuTxFhp3go\\r\\nC...   \n",
       "2       507  wBYKUgUyGWc\\r\\nA team of world-class drivers, ...   \n",
       "3       199  Castrol EDGE  is Castrol?s flagship power bran...   \n",
       "4       201  Charles ?Cheers? Wakefield, Castrol?s founder,...   \n",
       "\n",
       "                                   Content_processed  \n",
       "0  txmak2kzay4 nmeujebo1ac eeutxfhp3go castrol la...  \n",
       "1  txmak2kzay4 nmeujebo1ac eeutxfhp3go castrol la...  \n",
       "2  wbykuguygwc team world-class driver powered ca...  \n",
       "3  castrol edge castrol flagship power brand pcos...  \n",
       "4  charles cheer wakefield castrol founder entrep...  "
      ]
     },
     "execution_count": 11,
     "metadata": {},
     "output_type": "execute_result"
    }
   ],
   "source": [
    "stream_content_df['Content_processed'] = stream_content_df['Content_processed'].apply(lambda x: \" \".join(x))\n",
    "stream_content_df.head()"
   ]
  },
  {
   "cell_type": "code",
   "execution_count": 14,
   "metadata": {},
   "outputs": [
    {
     "data": {
      "text/plain": [
       "<97x928 sparse matrix of type '<class 'numpy.float64'>'\n",
       "\twith 6122 stored elements in Compressed Sparse Row format>"
      ]
     },
     "execution_count": 14,
     "metadata": {},
     "output_type": "execute_result"
    }
   ],
   "source": [
    "all_streams_cleaned_text = stream_content_df['Content_processed']\n",
    "all_streams_tfidf_vectorizer = TfidfVectorizer(min_df = 2)\n",
    "all_streams_tfidf = all_streams_tfidf_vectorizer.fit_transform(all_streams_cleaned_text)\n",
    "all_streams_tfidf"
   ]
  },
  {
   "cell_type": "code",
   "execution_count": 16,
   "metadata": {
    "collapsed": true
   },
   "outputs": [],
   "source": [
    "token_values = {all_streams_tfidf_vectorizer.vocabulary_[token]: token for token in all_streams_tfidf_vectorizer.vocabulary_}\n"
   ]
  },
  {
   "cell_type": "code",
   "execution_count": 20,
   "metadata": {
    "collapsed": true
   },
   "outputs": [],
   "source": [
    "similarities = cosine_similarity(all_streams_tfidf)"
   ]
  },
  {
   "cell_type": "code",
   "execution_count": 30,
   "metadata": {
    "collapsed": true
   },
   "outputs": [],
   "source": [
    "def linear(x, total_steps):\n",
    "    step_value = 1/total_steps\n",
    "    return 1 - (x * step_value)"
   ]
  },
  {
   "cell_type": "code",
   "execution_count": 31,
   "metadata": {
    "collapsed": true
   },
   "outputs": [],
   "source": [
    "def constant(x, total_steps):\n",
    "    return 1"
   ]
  },
  {
   "cell_type": "code",
   "execution_count": 34,
   "metadata": {},
   "outputs": [],
   "source": [
    "def get_similar_streams_based_on_history(viewed_streams, weight_pattern = linear, max_similar_streams = 10, max_viewed_streams_to_consider = 5):\n",
    "    \"\"\"\n",
    "        viewed_streams: list of stream IDs that have been viewed by the current user. The streams at a lower ID has been viewed more recently. So stream with ID 0 is the last viewed stream.\n",
    "        weight_pattern: The weight pattern to weight the contributions due to the stream history\n",
    "    max_similar_streams: The maximum number of similar streams to return\n",
    "    max_viewed_streams_to_consider: The maximum number of viewed streams to consider for the recommendation \n",
    "    \n",
    "    \"\"\"\n",
    "    \n",
    "    if viewed_streams:\n",
    "        num_viewed_streams = len(viewed_streams)\n",
    "        \n",
    "        # set the max viewed streams to consider \n",
    "        max_viewed_streams_to_consider = min(max_viewed_streams_to_consider, num_viewed_streams)\n",
    "        \n",
    "        # create an array of 0's\n",
    "        similarity_sum = np.zeros(similarities.shape[0])\n",
    "    \n",
    "        for x, viewed_stream in enumerate(viewed_streams):\n",
    "            stream_index = stream_content_df[stream_content_df[\"StreamID\"]==viewed_stream].index[0]\n",
    "            weight_factor = weight_pattern(x, max_viewed_streams_to_consider)\n",
    "            print(weight_factor)\n",
    "            similarity_sum = similarity_sum + weight_factor * np.array(similarities[stream_index])\n",
    "            \n",
    "        print(similarity_sum)\n",
    "            "
   ]
  },
  {
   "cell_type": "code",
   "execution_count": 36,
   "metadata": {},
   "outputs": [
    {
     "name": "stdout",
     "output_type": "stream",
     "text": [
      "1\n",
      "1\n",
      "1\n",
      "[1.26842638 1.26842638 1.26653507 0.54206015 1.08246848 1.08060241\n",
      " 0.38248413 0.20116951 0.14658722 0.29725233 0.10648097 0.08576749\n",
      " 0.02097258 0.01210118 0.03825771 0.15016732 0.34640278 0.17474736\n",
      " 0.1207582  0.0363342  0.0306509  0.13868422 0.11879601 0.26807067\n",
      " 0.14191606 0.05777261 0.15773115 0.30005363 0.26230676 0.32719142\n",
      " 0.20784978 0.1399473  0.05196305 0.54929018 0.54519433 0.5631664\n",
      " 0.52810759 0.08714075 0.21471683 0.18800053 0.20505879 0.19026916\n",
      " 0.17775237 0.12416441 0.13972612 0.14364081 0.58097796 0.12020355\n",
      " 0.17359848 0.05299836 0.09932326 0.13450363 0.11263966 0.04197468\n",
      " 0.08477123 0.11959233 0.52442963 0.07549113 0.18922715 0.11582825\n",
      " 0.91592479 0.13137204 0.06632045 0.02042509 0.49038357 0.49502248\n",
      " 0.17080126 0.19891587 0.1374694  0.19450259 0.16737659 0.49844015\n",
      " 0.4838611  0.0629477  0.07123764 0.02045516 0.06119652 0.06107664\n",
      " 0.19197842 0.15410387 0.47337929 0.25946396 0.19040369 0.11001998\n",
      " 0.0493245  0.54123731 0.13443178 0.15992612 0.07392323 0.15132905\n",
      " 0.00681044 0.0533272  0.3142021  0.09442616 0.16143667 0.03383005\n",
      " 0.17116091]\n"
     ]
    }
   ],
   "source": [
    "get_similar_streams_based_on_history([163, 507, 201])"
   ]
  },
  {
   "cell_type": "code",
   "execution_count": null,
   "metadata": {
    "collapsed": true
   },
   "outputs": [],
   "source": []
  }
 ],
 "metadata": {
  "kernelspec": {
   "display_name": "Python 3",
   "language": "python",
   "name": "python3"
  },
  "language_info": {
   "codemirror_mode": {
    "name": "ipython",
    "version": 3
   },
   "file_extension": ".py",
   "mimetype": "text/x-python",
   "name": "python",
   "nbconvert_exporter": "python",
   "pygments_lexer": "ipython3",
   "version": "3.6.3"
  }
 },
 "nbformat": 4,
 "nbformat_minor": 2
}
