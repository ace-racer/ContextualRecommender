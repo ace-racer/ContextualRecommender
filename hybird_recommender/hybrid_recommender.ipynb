{
 "cells": [
  {
   "cell_type": "code",
   "execution_count": 10,
   "metadata": {
    "collapsed": true
   },
   "outputs": [],
   "source": [
    "import nltk\n",
    "from nltk import FreqDist, word_tokenize\n",
    "import string\n",
    "from nltk.corpus import stopwords\n",
    "import pandas as pd\n",
    "import numpy as np\n",
    "import matplotlib.pyplot as plt\n",
    "from sklearn.metrics.pairwise import cosine_similarity\n",
    "from sklearn.feature_extraction.text import CountVectorizer, TfidfVectorizer\n",
    "%matplotlib inline"
   ]
  },
  {
   "cell_type": "code",
   "execution_count": 4,
   "metadata": {},
   "outputs": [
    {
     "data": {
      "text/html": [
       "<div>\n",
       "<style>\n",
       "    .dataframe thead tr:only-child th {\n",
       "        text-align: right;\n",
       "    }\n",
       "\n",
       "    .dataframe thead th {\n",
       "        text-align: left;\n",
       "    }\n",
       "\n",
       "    .dataframe tbody tr th {\n",
       "        vertical-align: top;\n",
       "    }\n",
       "</style>\n",
       "<table border=\"1\" class=\"dataframe\">\n",
       "  <thead>\n",
       "    <tr style=\"text-align: right;\">\n",
       "      <th></th>\n",
       "      <th>StreamID</th>\n",
       "      <th>Content</th>\n",
       "    </tr>\n",
       "  </thead>\n",
       "  <tbody>\n",
       "    <tr>\n",
       "      <th>0</th>\n",
       "      <td>163</td>\n",
       "      <td>TXmAk2KZAy4\\r\\nNMeUjebo1Ac\\r\\nEEuTxFhp3go\\r\\nC...</td>\n",
       "    </tr>\n",
       "    <tr>\n",
       "      <th>1</th>\n",
       "      <td>419</td>\n",
       "      <td>TXmAk2KZAy4\\r\\nNMeUjebo1Ac\\r\\nEEuTxFhp3go\\r\\nC...</td>\n",
       "    </tr>\n",
       "    <tr>\n",
       "      <th>2</th>\n",
       "      <td>507</td>\n",
       "      <td>wBYKUgUyGWc\\r\\nA team of world-class drivers, ...</td>\n",
       "    </tr>\n",
       "    <tr>\n",
       "      <th>3</th>\n",
       "      <td>199</td>\n",
       "      <td>Castrol EDGE  is Castrol?s flagship power bran...</td>\n",
       "    </tr>\n",
       "    <tr>\n",
       "      <th>4</th>\n",
       "      <td>201</td>\n",
       "      <td>Charles ?Cheers? Wakefield, Castrol?s founder,...</td>\n",
       "    </tr>\n",
       "  </tbody>\n",
       "</table>\n",
       "</div>"
      ],
      "text/plain": [
       "   StreamID                                            Content\n",
       "0       163  TXmAk2KZAy4\\r\\nNMeUjebo1Ac\\r\\nEEuTxFhp3go\\r\\nC...\n",
       "1       419  TXmAk2KZAy4\\r\\nNMeUjebo1Ac\\r\\nEEuTxFhp3go\\r\\nC...\n",
       "2       507  wBYKUgUyGWc\\r\\nA team of world-class drivers, ...\n",
       "3       199  Castrol EDGE  is Castrol?s flagship power bran...\n",
       "4       201  Charles ?Cheers? Wakefield, Castrol?s founder,..."
      ]
     },
     "execution_count": 4,
     "metadata": {},
     "output_type": "execute_result"
    }
   ],
   "source": [
    "stream_content_df = pd.read_csv(\"data/stream_content.csv\", header=0, encoding=\"ISO-8859-1\")\n",
    "stream_content_df.head()"
   ]
  },
  {
   "cell_type": "markdown",
   "metadata": {},
   "source": [
    "## Pre-process the content to remove stop words, punctutations and lemmatization"
   ]
  },
  {
   "cell_type": "code",
   "execution_count": 9,
   "metadata": {},
   "outputs": [
    {
     "data": {
      "text/html": [
       "<div>\n",
       "<style>\n",
       "    .dataframe thead tr:only-child th {\n",
       "        text-align: right;\n",
       "    }\n",
       "\n",
       "    .dataframe thead th {\n",
       "        text-align: left;\n",
       "    }\n",
       "\n",
       "    .dataframe tbody tr th {\n",
       "        vertical-align: top;\n",
       "    }\n",
       "</style>\n",
       "<table border=\"1\" class=\"dataframe\">\n",
       "  <thead>\n",
       "    <tr style=\"text-align: right;\">\n",
       "      <th></th>\n",
       "      <th>StreamID</th>\n",
       "      <th>Content</th>\n",
       "      <th>Content_processed</th>\n",
       "    </tr>\n",
       "  </thead>\n",
       "  <tbody>\n",
       "    <tr>\n",
       "      <th>0</th>\n",
       "      <td>163</td>\n",
       "      <td>TXmAk2KZAy4\\r\\nNMeUjebo1Ac\\r\\nEEuTxFhp3go\\r\\nC...</td>\n",
       "      <td>[txmak2kzay4, nmeujebo1ac, eeutxfhp3go, castro...</td>\n",
       "    </tr>\n",
       "    <tr>\n",
       "      <th>1</th>\n",
       "      <td>419</td>\n",
       "      <td>TXmAk2KZAy4\\r\\nNMeUjebo1Ac\\r\\nEEuTxFhp3go\\r\\nC...</td>\n",
       "      <td>[txmak2kzay4, nmeujebo1ac, eeutxfhp3go, castro...</td>\n",
       "    </tr>\n",
       "    <tr>\n",
       "      <th>2</th>\n",
       "      <td>507</td>\n",
       "      <td>wBYKUgUyGWc\\r\\nA team of world-class drivers, ...</td>\n",
       "      <td>[wbykuguygwc, team, world-class, driver, power...</td>\n",
       "    </tr>\n",
       "    <tr>\n",
       "      <th>3</th>\n",
       "      <td>199</td>\n",
       "      <td>Castrol EDGE  is Castrol?s flagship power bran...</td>\n",
       "      <td>[castrol, edge, castrol, flagship, power, bran...</td>\n",
       "    </tr>\n",
       "    <tr>\n",
       "      <th>4</th>\n",
       "      <td>201</td>\n",
       "      <td>Charles ?Cheers? Wakefield, Castrol?s founder,...</td>\n",
       "      <td>[charles, cheer, wakefield, castrol, founder, ...</td>\n",
       "    </tr>\n",
       "  </tbody>\n",
       "</table>\n",
       "</div>"
      ],
      "text/plain": [
       "   StreamID                                            Content  \\\n",
       "0       163  TXmAk2KZAy4\\r\\nNMeUjebo1Ac\\r\\nEEuTxFhp3go\\r\\nC...   \n",
       "1       419  TXmAk2KZAy4\\r\\nNMeUjebo1Ac\\r\\nEEuTxFhp3go\\r\\nC...   \n",
       "2       507  wBYKUgUyGWc\\r\\nA team of world-class drivers, ...   \n",
       "3       199  Castrol EDGE  is Castrol?s flagship power bran...   \n",
       "4       201  Charles ?Cheers? Wakefield, Castrol?s founder,...   \n",
       "\n",
       "                                   Content_processed  \n",
       "0  [txmak2kzay4, nmeujebo1ac, eeutxfhp3go, castro...  \n",
       "1  [txmak2kzay4, nmeujebo1ac, eeutxfhp3go, castro...  \n",
       "2  [wbykuguygwc, team, world-class, driver, power...  \n",
       "3  [castrol, edge, castrol, flagship, power, bran...  \n",
       "4  [charles, cheer, wakefield, castrol, founder, ...  "
      ]
     },
     "execution_count": 9,
     "metadata": {},
     "output_type": "execute_result"
    }
   ],
   "source": [
    "def preprocess(tokens):\n",
    "    \n",
    "    # TODO: remove random sequences that contain with more than one caps and small or combination of letters and numbers\n",
    "    \n",
    "    tokens_nop = [t for t in tokens if t not in string.punctuation]\n",
    "    tokens_nop = [t.lower() for t in tokens_nop]\n",
    "    wnl = nltk.WordNetLemmatizer()\n",
    "    stop = stopwords.words('english')\n",
    "    tokens_nostop = [t for t in tokens_nop if t not in stop]\n",
    "    tokens_lem = [wnl.lemmatize(t) for t in tokens_nostop]\n",
    "    tokens_clean = [t for t in tokens_lem if len(t) >= 3] \n",
    "    return tokens_clean\n",
    "\n",
    "stream_content_df['Content_processed'] = stream_content_df['Content'].map(word_tokenize)\n",
    "stream_content_df['Content_processed'] = stream_content_df.Content_processed.apply(preprocess)\n",
    "stream_content_df.head()"
   ]
  },
  {
   "cell_type": "markdown",
   "metadata": {},
   "source": [
    "### Generate the TFIDF vectors for the streams"
   ]
  },
  {
   "cell_type": "code",
   "execution_count": 11,
   "metadata": {},
   "outputs": [
    {
     "data": {
      "text/html": [
       "<div>\n",
       "<style>\n",
       "    .dataframe thead tr:only-child th {\n",
       "        text-align: right;\n",
       "    }\n",
       "\n",
       "    .dataframe thead th {\n",
       "        text-align: left;\n",
       "    }\n",
       "\n",
       "    .dataframe tbody tr th {\n",
       "        vertical-align: top;\n",
       "    }\n",
       "</style>\n",
       "<table border=\"1\" class=\"dataframe\">\n",
       "  <thead>\n",
       "    <tr style=\"text-align: right;\">\n",
       "      <th></th>\n",
       "      <th>StreamID</th>\n",
       "      <th>Content</th>\n",
       "      <th>Content_processed</th>\n",
       "    </tr>\n",
       "  </thead>\n",
       "  <tbody>\n",
       "    <tr>\n",
       "      <th>0</th>\n",
       "      <td>163</td>\n",
       "      <td>TXmAk2KZAy4\\r\\nNMeUjebo1Ac\\r\\nEEuTxFhp3go\\r\\nC...</td>\n",
       "      <td>txmak2kzay4 nmeujebo1ac eeutxfhp3go castrol la...</td>\n",
       "    </tr>\n",
       "    <tr>\n",
       "      <th>1</th>\n",
       "      <td>419</td>\n",
       "      <td>TXmAk2KZAy4\\r\\nNMeUjebo1Ac\\r\\nEEuTxFhp3go\\r\\nC...</td>\n",
       "      <td>txmak2kzay4 nmeujebo1ac eeutxfhp3go castrol la...</td>\n",
       "    </tr>\n",
       "    <tr>\n",
       "      <th>2</th>\n",
       "      <td>507</td>\n",
       "      <td>wBYKUgUyGWc\\r\\nA team of world-class drivers, ...</td>\n",
       "      <td>wbykuguygwc team world-class driver powered ca...</td>\n",
       "    </tr>\n",
       "    <tr>\n",
       "      <th>3</th>\n",
       "      <td>199</td>\n",
       "      <td>Castrol EDGE  is Castrol?s flagship power bran...</td>\n",
       "      <td>castrol edge castrol flagship power brand pcos...</td>\n",
       "    </tr>\n",
       "    <tr>\n",
       "      <th>4</th>\n",
       "      <td>201</td>\n",
       "      <td>Charles ?Cheers? Wakefield, Castrol?s founder,...</td>\n",
       "      <td>charles cheer wakefield castrol founder entrep...</td>\n",
       "    </tr>\n",
       "  </tbody>\n",
       "</table>\n",
       "</div>"
      ],
      "text/plain": [
       "   StreamID                                            Content  \\\n",
       "0       163  TXmAk2KZAy4\\r\\nNMeUjebo1Ac\\r\\nEEuTxFhp3go\\r\\nC...   \n",
       "1       419  TXmAk2KZAy4\\r\\nNMeUjebo1Ac\\r\\nEEuTxFhp3go\\r\\nC...   \n",
       "2       507  wBYKUgUyGWc\\r\\nA team of world-class drivers, ...   \n",
       "3       199  Castrol EDGE  is Castrol?s flagship power bran...   \n",
       "4       201  Charles ?Cheers? Wakefield, Castrol?s founder,...   \n",
       "\n",
       "                                   Content_processed  \n",
       "0  txmak2kzay4 nmeujebo1ac eeutxfhp3go castrol la...  \n",
       "1  txmak2kzay4 nmeujebo1ac eeutxfhp3go castrol la...  \n",
       "2  wbykuguygwc team world-class driver powered ca...  \n",
       "3  castrol edge castrol flagship power brand pcos...  \n",
       "4  charles cheer wakefield castrol founder entrep...  "
      ]
     },
     "execution_count": 11,
     "metadata": {},
     "output_type": "execute_result"
    }
   ],
   "source": [
    "stream_content_df['Content_processed'] = stream_content_df['Content_processed'].apply(lambda x: \" \".join(x))\n",
    "stream_content_df.head()"
   ]
  },
  {
   "cell_type": "code",
   "execution_count": 14,
   "metadata": {},
   "outputs": [
    {
     "data": {
      "text/plain": [
       "<97x928 sparse matrix of type '<class 'numpy.float64'>'\n",
       "\twith 6122 stored elements in Compressed Sparse Row format>"
      ]
     },
     "execution_count": 14,
     "metadata": {},
     "output_type": "execute_result"
    }
   ],
   "source": [
    "all_streams_cleaned_text = stream_content_df['Content_processed']\n",
    "all_streams_tfidf_vectorizer = TfidfVectorizer(min_df = 2)\n",
    "all_streams_tfidf = all_streams_tfidf_vectorizer.fit_transform(all_streams_cleaned_text)\n",
    "all_streams_tfidf"
   ]
  },
  {
   "cell_type": "code",
   "execution_count": 16,
   "metadata": {
    "collapsed": true
   },
   "outputs": [],
   "source": [
    "token_values = {all_streams_tfidf_vectorizer.vocabulary_[token]: token for token in all_streams_tfidf_vectorizer.vocabulary_}\n"
   ]
  },
  {
   "cell_type": "code",
   "execution_count": 20,
   "metadata": {
    "collapsed": true
   },
   "outputs": [],
   "source": [
    "similarities = cosine_similarity(all_streams_tfidf)"
   ]
  },
  {
   "cell_type": "code",
   "execution_count": 30,
   "metadata": {
    "collapsed": true
   },
   "outputs": [],
   "source": [
    "def linear(x, total_steps):\n",
    "    step_value = 1/total_steps\n",
    "    return 1 - (x * step_value)"
   ]
  },
  {
   "cell_type": "code",
   "execution_count": 31,
   "metadata": {
    "collapsed": true
   },
   "outputs": [],
   "source": [
    "def constant(x, total_steps):\n",
    "    return 1"
   ]
  },
  {
   "cell_type": "code",
   "execution_count": 43,
   "metadata": {},
   "outputs": [],
   "source": [
    "def get_similar_streams_based_on_history(viewed_streams, weight_pattern = linear, max_similar_streams = 10, max_viewed_streams_to_consider = 5):\n",
    "    \"\"\"\n",
    "        viewed_streams: list of stream IDs that have been viewed by the current user. The streams at a lower ID has been viewed more recently. So stream with ID 0 is the last viewed stream.\n",
    "        weight_pattern: The weight pattern to weight the contributions due to the stream history\n",
    "    max_similar_streams: The maximum number of similar streams to return\n",
    "    max_viewed_streams_to_consider: The maximum number of viewed streams to consider for the recommendation \n",
    "    \n",
    "    Returns: A list of stream ID, score pairs\n",
    "    \n",
    "    \"\"\"\n",
    "    \n",
    "    if viewed_streams:\n",
    "        num_viewed_streams = len(viewed_streams)\n",
    "        \n",
    "        # set the max viewed streams to consider \n",
    "        max_viewed_streams_to_consider = min(max_viewed_streams_to_consider, num_viewed_streams)\n",
    "        \n",
    "        # create an array of 0's\n",
    "        similarity_sum = np.zeros(similarities.shape[0])\n",
    "    \n",
    "        for x, viewed_stream in enumerate(viewed_streams):\n",
    "            stream_index = stream_content_df[stream_content_df[\"StreamID\"]==viewed_stream].index[0]\n",
    "            weight_factor = weight_pattern(x, max_viewed_streams_to_consider)\n",
    "            # print(weight_factor)\n",
    "            similarity_sum = similarity_sum + (weight_factor * np.array(similarities[stream_index]))\n",
    "        \n",
    "        \n",
    "        #print(similarity_sum)\n",
    "        stream_ids = stream_content_df[\"StreamID\"]\n",
    "        \n",
    "        # concatenate the stream ID and the similarity score sum as pairs\n",
    "        stream_similarity = list(zip(stream_ids, similarity_sum))\n",
    "        \n",
    "        # print(stream_similarity)\n",
    "        \n",
    "        # sort the stream similarity on the score in descending order\n",
    "        stream_similarity.sort(key = lambda x: x[1], reverse = True)\n",
    "        \n",
    "        # print(stream_similarity)\n",
    "        \n",
    "        # candidate streams are those which have greater than 0 score and they have not been viewed before\n",
    "        candidate_streams = [x for x in stream_similarity if (x[1] > 0) and (x[0] not in viewed_streams)]\n",
    "        \n",
    "        num_candidate_streams = len(candidate_streams)\n",
    "        \n",
    "        return candidate_streams[:min(num_candidate_streams, max_similar_streams)]\n",
    "            \n",
    "            "
   ]
  },
  {
   "cell_type": "code",
   "execution_count": 44,
   "metadata": {},
   "outputs": [
    {
     "name": "stdout",
     "output_type": "stream",
     "text": [
      "[(163, 1.164890955237019), (419, 1.164890955237019), (507, 0.9063426820757239), (199, 0.4089569803121951), (201, 0.4023722814574908), (1267, 0.40167863385631897), (202, 0.1975424466359822), (203, 0.12913170218553455), (205, 0.0898778256327328), (206, 0.20027872342087777), (231, 0.0713210775562762), (232, 0.04969736837785457), (229, 0.0069908605629941944), (230, 0.004033726237000578), (2401, 0.015205885646584406), (233, 0.0927288817186149), (244, 0.24071004749708483), (245, 0.1133488902425989), (246, 0.07644443703416298), (548, 0.012111401258271775), (364, 0.02192796437132095), (426, 0.06880300892441593), (427, 0.08149316397888098), (558, 0.1615714490359826), (519, 0.09968660630677981), (521, 0.03952635552369954), (522, 0.11755115780999409), (523, 0.18329619163087377), (524, 0.17009128275382254), (624, 0.23758776955234398), (623, 0.13036567158252804), (622, 0.08219812701361938), (634, 0.017321015671000358), (1498, 0.4135440319834323), (2265, 0.40601978064692806), (2373, 0.4165461426350202), (2380, 0.39418607539084577), (1095, 0.04983544245829924), (1499, 0.1326068363646423), (2266, 0.11974566147106003), (2374, 0.13397200092394793), (2381, 0.12323674121736565), (1670, 0.11144009734913296), (2267, 0.07842856346686942), (2375, 0.08752581880193895), (2382, 0.08691798899221523), (2376, 0.23374843879068702), (1090, 0.07244167372890038), (1089, 0.0976645246607119), (1128, 0.02181772543567978), (1347, 0.04815634971182017), (1655, 0.0663693623578807), (1512, 0.06700714983803521), (1644, 0.018210888988606046), (2062, 0.04382578721283969), (2010, 0.06753253853550631), (1658, 0.3898590239888768), (1662, 0.04187925935729792), (1659, 0.12413602786248518), (1660, 0.07105359928051136), (1661, 0.349505231410422), (1857, 0.07827265956538465), (2003, 0.040138712745485625), (2006, 0.01009744160921382), (2033, 0.1819978991287599), (2030, 0.36535843979376814), (2031, 0.1084280440700712), (2032, 0.12454110339288099), (2034, 0.07592442820898812), (2038, 0.12214000375319164), (2037, 0.10493259033218953), (2036, 0.36665585067605827), (2039, 0.19730354403498765), (2248, 0.03676545852632006), (2523, 0.037077642944367814), (2112, 0.010112306146143502), (2116, 0.036181976007444445), (2115, 0.036204611015371216), (2102, 0.12068036190252185), (2103, 0.09869569477183555), (2104, 0.3447734530501515), (2550, 0.1782363064825498), (2281, 0.11061102575359957), (2377, 0.051423379140448824), (2392, 0.02886510128946239), (2405, 0.40563737773898007), (2407, 0.08401532197899218), (2406, 0.10097611373287899), (2408, 0.04283415915107828), (2409, 0.10556900844268047), (2433, 0.0022701477433615096), (2435, 0.02501095893050684), (2436, 0.1577788524683209), (2434, 0.0767940049495723), (2444, 0.1005289562805714), (2511, 0.025725317241337548), (2597, 0.10036067690129696)]\n",
      "[(163, 1.164890955237019), (419, 1.164890955237019), (507, 0.9063426820757239), (2373, 0.4165461426350202), (1498, 0.4135440319834323), (199, 0.4089569803121951), (2265, 0.40601978064692806), (2405, 0.40563737773898007), (201, 0.4023722814574908), (1267, 0.40167863385631897), (2380, 0.39418607539084577), (1658, 0.3898590239888768), (2036, 0.36665585067605827), (2030, 0.36535843979376814), (1661, 0.349505231410422), (2104, 0.3447734530501515), (244, 0.24071004749708483), (624, 0.23758776955234398), (2376, 0.23374843879068702), (206, 0.20027872342087777), (202, 0.1975424466359822), (2039, 0.19730354403498765), (523, 0.18329619163087377), (2033, 0.1819978991287599), (2550, 0.1782363064825498), (524, 0.17009128275382254), (558, 0.1615714490359826), (2436, 0.1577788524683209), (2374, 0.13397200092394793), (1499, 0.1326068363646423), (623, 0.13036567158252804), (203, 0.12913170218553455), (2032, 0.12454110339288099), (1659, 0.12413602786248518), (2381, 0.12323674121736565), (2038, 0.12214000375319164), (2102, 0.12068036190252185), (2266, 0.11974566147106003), (522, 0.11755115780999409), (245, 0.1133488902425989), (1670, 0.11144009734913296), (2281, 0.11061102575359957), (2031, 0.1084280440700712), (2409, 0.10556900844268047), (2037, 0.10493259033218953), (2406, 0.10097611373287899), (2444, 0.1005289562805714), (2597, 0.10036067690129696), (519, 0.09968660630677981), (2103, 0.09869569477183555), (1089, 0.0976645246607119), (233, 0.0927288817186149), (205, 0.0898778256327328), (2375, 0.08752581880193895), (2382, 0.08691798899221523), (2407, 0.08401532197899218), (622, 0.08219812701361938), (427, 0.08149316397888098), (2267, 0.07842856346686942), (1857, 0.07827265956538465), (2434, 0.0767940049495723), (246, 0.07644443703416298), (2034, 0.07592442820898812), (1090, 0.07244167372890038), (231, 0.0713210775562762), (1660, 0.07105359928051136), (426, 0.06880300892441593), (2010, 0.06753253853550631), (1512, 0.06700714983803521), (1655, 0.0663693623578807), (2377, 0.051423379140448824), (1095, 0.04983544245829924), (232, 0.04969736837785457), (1347, 0.04815634971182017), (2062, 0.04382578721283969), (2408, 0.04283415915107828), (1662, 0.04187925935729792), (2003, 0.040138712745485625), (521, 0.03952635552369954), (2523, 0.037077642944367814), (2248, 0.03676545852632006), (2115, 0.036204611015371216), (2116, 0.036181976007444445), (2392, 0.02886510128946239), (2511, 0.025725317241337548), (2435, 0.02501095893050684), (364, 0.02192796437132095), (1128, 0.02181772543567978), (1644, 0.018210888988606046), (634, 0.017321015671000358), (2401, 0.015205885646584406), (548, 0.012111401258271775), (2112, 0.010112306146143502), (2006, 0.01009744160921382), (229, 0.0069908605629941944), (230, 0.004033726237000578), (2433, 0.0022701477433615096)]\n"
     ]
    },
    {
     "data": {
      "text/plain": [
       "[(419, 1.164890955237019),\n",
       " (2373, 0.4165461426350202),\n",
       " (1498, 0.4135440319834323),\n",
       " (199, 0.4089569803121951),\n",
       " (2265, 0.40601978064692806),\n",
       " (2405, 0.40563737773898007),\n",
       " (1267, 0.40167863385631897),\n",
       " (2380, 0.39418607539084577),\n",
       " (1658, 0.3898590239888768),\n",
       " (2036, 0.36665585067605827)]"
      ]
     },
     "execution_count": 44,
     "metadata": {},
     "output_type": "execute_result"
    }
   ],
   "source": [
    "get_similar_streams_based_on_history([163, 507, 201])"
   ]
  },
  {
   "cell_type": "code",
   "execution_count": null,
   "metadata": {
    "collapsed": true
   },
   "outputs": [],
   "source": []
  }
 ],
 "metadata": {
  "kernelspec": {
   "display_name": "Python 3",
   "language": "python",
   "name": "python3"
  },
  "language_info": {
   "codemirror_mode": {
    "name": "ipython",
    "version": 3
   },
   "file_extension": ".py",
   "mimetype": "text/x-python",
   "name": "python",
   "nbconvert_exporter": "python",
   "pygments_lexer": "ipython3",
   "version": "3.6.3"
  }
 },
 "nbformat": 4,
 "nbformat_minor": 2
}
