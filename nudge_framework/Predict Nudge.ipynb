{
 "cells": [
  {
   "cell_type": "code",
   "execution_count": 1,
   "metadata": {
    "collapsed": true
   },
   "outputs": [],
   "source": [
    "import pandas as pd\n",
    "import numpy as np\n",
    "import matplotlib.pyplot as plt\n",
    "%matplotlib inline"
   ]
  },
  {
   "cell_type": "code",
   "execution_count": 2,
   "metadata": {},
   "outputs": [
    {
     "data": {
      "text/html": [
       "<div>\n",
       "<style scoped>\n",
       "    .dataframe tbody tr th:only-of-type {\n",
       "        vertical-align: middle;\n",
       "    }\n",
       "\n",
       "    .dataframe tbody tr th {\n",
       "        vertical-align: top;\n",
       "    }\n",
       "\n",
       "    .dataframe thead th {\n",
       "        text-align: right;\n",
       "    }\n",
       "</style>\n",
       "<table border=\"1\" class=\"dataframe\">\n",
       "  <thead>\n",
       "    <tr style=\"text-align: right;\">\n",
       "      <th></th>\n",
       "      <th>STREAMID</th>\n",
       "      <th>time_concatenated</th>\n",
       "      <th>total_num_views</th>\n",
       "      <th>day_of_week</th>\n",
       "      <th>time_labeled</th>\n",
       "      <th>day_of_week_conf</th>\n",
       "      <th>time_labelled_conf</th>\n",
       "    </tr>\n",
       "  </thead>\n",
       "  <tbody>\n",
       "    <tr>\n",
       "      <th>0</th>\n",
       "      <td>163</td>\n",
       "      <td>1345.566799</td>\n",
       "      <td>1759</td>\n",
       "      <td>Wednesday</td>\n",
       "      <td>Afternoon</td>\n",
       "      <td>0.312109</td>\n",
       "      <td>0.371802</td>\n",
       "    </tr>\n",
       "    <tr>\n",
       "      <th>1</th>\n",
       "      <td>167</td>\n",
       "      <td>1528.027076</td>\n",
       "      <td>554</td>\n",
       "      <td>Thursday</td>\n",
       "      <td>Afternoon</td>\n",
       "      <td>0.442238</td>\n",
       "      <td>0.323105</td>\n",
       "    </tr>\n",
       "    <tr>\n",
       "      <th>2</th>\n",
       "      <td>171</td>\n",
       "      <td>1278.251046</td>\n",
       "      <td>239</td>\n",
       "      <td>Wednesday</td>\n",
       "      <td>Afternoon</td>\n",
       "      <td>0.418410</td>\n",
       "      <td>0.209205</td>\n",
       "    </tr>\n",
       "    <tr>\n",
       "      <th>3</th>\n",
       "      <td>172</td>\n",
       "      <td>1339.262032</td>\n",
       "      <td>187</td>\n",
       "      <td>Thursday</td>\n",
       "      <td>Afternoon</td>\n",
       "      <td>0.331551</td>\n",
       "      <td>0.251337</td>\n",
       "    </tr>\n",
       "    <tr>\n",
       "      <th>4</th>\n",
       "      <td>173</td>\n",
       "      <td>1314.365729</td>\n",
       "      <td>391</td>\n",
       "      <td>Thursday</td>\n",
       "      <td>Afternoon</td>\n",
       "      <td>0.309463</td>\n",
       "      <td>0.355499</td>\n",
       "    </tr>\n",
       "  </tbody>\n",
       "</table>\n",
       "</div>"
      ],
      "text/plain": [
       "   STREAMID  time_concatenated  total_num_views day_of_week time_labeled  \\\n",
       "0       163        1345.566799             1759   Wednesday    Afternoon   \n",
       "1       167        1528.027076              554    Thursday    Afternoon   \n",
       "2       171        1278.251046              239   Wednesday    Afternoon   \n",
       "3       172        1339.262032              187    Thursday    Afternoon   \n",
       "4       173        1314.365729              391    Thursday    Afternoon   \n",
       "\n",
       "   day_of_week_conf  time_labelled_conf  \n",
       "0          0.312109            0.371802  \n",
       "1          0.442238            0.323105  \n",
       "2          0.418410            0.209205  \n",
       "3          0.331551            0.251337  \n",
       "4          0.309463            0.355499  "
      ]
     },
     "execution_count": 2,
     "metadata": {},
     "output_type": "execute_result"
    }
   ],
   "source": [
    "stream_views_grouped_stream_df = pd.read_csv(\"generated/stream_views_grouped_stream.csv\", header=0)\n",
    "stream_views_grouped_user_df = pd.read_csv(\"generated/stream_views_grouped_user.csv\", header=0)\n",
    "stream_views_grouped_stream_df.head()"
   ]
  },
  {
   "cell_type": "code",
   "execution_count": 3,
   "metadata": {},
   "outputs": [
    {
     "data": {
      "text/html": [
       "<div>\n",
       "<style scoped>\n",
       "    .dataframe tbody tr th:only-of-type {\n",
       "        vertical-align: middle;\n",
       "    }\n",
       "\n",
       "    .dataframe tbody tr th {\n",
       "        vertical-align: top;\n",
       "    }\n",
       "\n",
       "    .dataframe thead th {\n",
       "        text-align: right;\n",
       "    }\n",
       "</style>\n",
       "<table border=\"1\" class=\"dataframe\">\n",
       "  <thead>\n",
       "    <tr style=\"text-align: right;\">\n",
       "      <th></th>\n",
       "      <th>USERID</th>\n",
       "      <th>time_concatenated</th>\n",
       "      <th>total_num_views</th>\n",
       "      <th>day_of_week</th>\n",
       "      <th>time_labeled</th>\n",
       "      <th>day_of_week_conf</th>\n",
       "      <th>time_labelled_conf</th>\n",
       "    </tr>\n",
       "  </thead>\n",
       "  <tbody>\n",
       "    <tr>\n",
       "      <th>0</th>\n",
       "      <td>245</td>\n",
       "      <td>1567.501350</td>\n",
       "      <td>4075</td>\n",
       "      <td>Thursday</td>\n",
       "      <td>Afternoon</td>\n",
       "      <td>0.314110</td>\n",
       "      <td>0.275092</td>\n",
       "    </tr>\n",
       "    <tr>\n",
       "      <th>1</th>\n",
       "      <td>246</td>\n",
       "      <td>1704.980989</td>\n",
       "      <td>263</td>\n",
       "      <td>Thursday</td>\n",
       "      <td>Evening</td>\n",
       "      <td>0.802281</td>\n",
       "      <td>0.068441</td>\n",
       "    </tr>\n",
       "    <tr>\n",
       "      <th>2</th>\n",
       "      <td>247</td>\n",
       "      <td>1256.211226</td>\n",
       "      <td>677</td>\n",
       "      <td>Wednesday</td>\n",
       "      <td>Afternoon</td>\n",
       "      <td>0.392910</td>\n",
       "      <td>0.267356</td>\n",
       "    </tr>\n",
       "    <tr>\n",
       "      <th>3</th>\n",
       "      <td>248</td>\n",
       "      <td>1389.285714</td>\n",
       "      <td>21</td>\n",
       "      <td>Wednesday</td>\n",
       "      <td>Afternoon</td>\n",
       "      <td>0.714286</td>\n",
       "      <td>0.714286</td>\n",
       "    </tr>\n",
       "    <tr>\n",
       "      <th>4</th>\n",
       "      <td>249</td>\n",
       "      <td>1401.199070</td>\n",
       "      <td>1075</td>\n",
       "      <td>Thursday</td>\n",
       "      <td>Afternoon</td>\n",
       "      <td>0.282791</td>\n",
       "      <td>0.214884</td>\n",
       "    </tr>\n",
       "  </tbody>\n",
       "</table>\n",
       "</div>"
      ],
      "text/plain": [
       "   USERID  time_concatenated  total_num_views day_of_week time_labeled  \\\n",
       "0     245        1567.501350             4075    Thursday    Afternoon   \n",
       "1     246        1704.980989              263    Thursday      Evening   \n",
       "2     247        1256.211226              677   Wednesday    Afternoon   \n",
       "3     248        1389.285714               21   Wednesday    Afternoon   \n",
       "4     249        1401.199070             1075    Thursday    Afternoon   \n",
       "\n",
       "   day_of_week_conf  time_labelled_conf  \n",
       "0          0.314110            0.275092  \n",
       "1          0.802281            0.068441  \n",
       "2          0.392910            0.267356  \n",
       "3          0.714286            0.714286  \n",
       "4          0.282791            0.214884  "
      ]
     },
     "execution_count": 3,
     "metadata": {},
     "output_type": "execute_result"
    }
   ],
   "source": [
    "stream_views_grouped_user_df.head()"
   ]
  },
  {
   "cell_type": "code",
   "execution_count": 10,
   "metadata": {
    "collapsed": true
   },
   "outputs": [],
   "source": [
    "def predict_day_time_for_nudge(userid, streamid, choose_best=True):\n",
    "    # get the details from the user df\n",
    "    user_df = stream_views_grouped_user_df[stream_views_grouped_user_df[\"USERID\"] == userid]\n",
    "    \n",
    "    # get the details from the stream df\n",
    "    stream_df = stream_views_grouped_stream_df[stream_views_grouped_stream_df[\"STREAMID\"] == streamid]\n",
    "    \n",
    "    if user_df.empty and stream_df.empty:\n",
    "        raise ValueError(\"Both user and stream do not exist yet.\")\n",
    "    elif user_df.empty:\n",
    "        return stream_df[\"day_of_week\"].values[0], stream_df[\"time_labeled\"].values[0], stream_df\n",
    "    elif stream_df.empty:\n",
    "        return user_df[\"day_of_week\"].values[0], user_df[\"time_labeled\"].values[0], user_df\n",
    "    else:\n",
    "        \n",
    "        if choose_best:\n",
    "            user_day_of_week_conf = user_df[\"day_of_week_conf\"].values[0]\n",
    "            stream_day_of_week_conf = stream_df[\"day_of_week_conf\"].values[0]\n",
    "            day_to_recommend = user_df[\"day_of_week\"].values[0]\n",
    "            if stream_day_of_week_conf > user_day_of_week_conf:\n",
    "                day_to_recommend = stream_df[\"day_of_week\"].values[0]\n",
    "\n",
    "            user_time_conf = user_df[\"time_labelled_conf\"].values[0]\n",
    "            stream_time_conf = stream_df[\"time_labelled_conf\"].values[0]\n",
    "            time_to_recommend = user_df[\"time_labeled\"].values[0]\n",
    "            if stream_time_conf > user_time_conf:\n",
    "                time_to_recommend = stream_df[\"time_labeled\"].values[0]\n",
    "        else:\n",
    "            day_to_recommend_by_stream = stream_df[\"day_of_week\"].values[0]\n",
    "            day_to_recommend_by_user = user_df[\"day_of_week\"].values[0]\n",
    "            \n",
    "            time_to_recommend_by_stream = user_df[\"time_labeled\"].values[0]\n",
    "            time_to_recommend_by_user = stream_df[\"time_labeled\"].values[0]\n",
    "            \n",
    "            day_to_recommend = (day_to_recommend_by_stream, day_to_recommend_by_user)\n",
    "            time_to_recommend = (time_to_recommend_by_stream, time_to_recommend_by_user)\n",
    "            \n",
    "        return day_to_recommend, time_to_recommend, None"
   ]
  },
  {
   "cell_type": "code",
   "execution_count": 16,
   "metadata": {},
   "outputs": [
    {
     "data": {
      "text/plain": [
       "('Thursday', 'Afternoon', None)"
      ]
     },
     "execution_count": 16,
     "metadata": {},
     "output_type": "execute_result"
    }
   ],
   "source": [
    "predict_day_time_for_nudge(245, 178)"
   ]
  },
  {
   "cell_type": "code",
   "execution_count": 17,
   "metadata": {},
   "outputs": [
    {
     "data": {
      "text/plain": [
       "(('Friday', 'Thursday'), ('Afternoon', 'Afternoon'), None)"
      ]
     },
     "execution_count": 17,
     "metadata": {},
     "output_type": "execute_result"
    }
   ],
   "source": [
    "predict_day_time_for_nudge(245, 204, False)"
   ]
  },
  {
   "cell_type": "code",
   "execution_count": null,
   "metadata": {
    "collapsed": true
   },
   "outputs": [],
   "source": []
  }
 ],
 "metadata": {
  "kernelspec": {
   "display_name": "Python 3",
   "language": "python",
   "name": "python3"
  },
  "language_info": {
   "codemirror_mode": {
    "name": "ipython",
    "version": 3
   },
   "file_extension": ".py",
   "mimetype": "text/x-python",
   "name": "python",
   "nbconvert_exporter": "python",
   "pygments_lexer": "ipython3",
   "version": "3.6.3"
  }
 },
 "nbformat": 4,
 "nbformat_minor": 2
}
