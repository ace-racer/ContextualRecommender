{
 "cells": [
  {
   "cell_type": "markdown",
   "metadata": {},
   "source": [
    "### Get the number of unique users and streams "
   ]
  },
  {
   "cell_type": "code",
   "execution_count": 4,
   "metadata": {},
   "outputs": [
    {
     "name": "stdout",
     "output_type": "stream",
     "text": [
      "[ 1007 10166  1018  1048 10552  1062 10629 10642 10643 10649 10662 10663\n",
      " 10711 10714 10717 10721 10728 10730 10734 10737 10747 10754 10756 10758\n",
      " 10768 10775 10784 10789 10791 10794 10801 10802 10804 10824 10825 10974\n",
      " 10981 10984 10985 10987 11120 11611  1206  1242 13005 13006 13007 13066\n",
      "  1313 13227 13386 13437 13754 14359  1438 14513 14738 14974  1589  1590\n",
      "  1591  1593  1659  1707  1708  1709  1710  1712  1713  1714 17429 17613\n",
      " 17696 17698  1771  1772  1773  1774  1775  1776 17805 17806  1789 17919\n",
      "  1797 18048 18901 18907 19224 19579 19590 19771 19799 19840 20843 20852\n",
      " 20966 21042 21176 21181 21756 21760 21761 21762 21763 21764 21769 21770\n",
      " 21771 21772 21840 21850 21973 21974 21975 22111 22151 22174 22180 22233\n",
      " 22234 22235 22236 22473 22486   245   246   247   248   249   254   267\n",
      "   268   269   277   278  3207  3323   337   343   344   345   349   351\n",
      "  3633   400   408   413   416   419   420   421   447  5324   539   552\n",
      "   553   554   556  5566   566   573   574   575   576   577   580  6365\n",
      "   657  6581   663   673   674   675   676   677   698  7242   731   747\n",
      "   750   751   752   753   755   758   766   767   772   773   774   775\n",
      "   776   784   786   792   824   830   835   851   867   868   869   872\n",
      "   874   875   884   890   904   905  9179   922  9222  9223  9224  9226\n",
      "   923   926   990]\n",
      "[ 561  565  636  623  603  203  201  524  624 1089  558  622  199  611  205\n",
      "  610  570  634 1128 1095 1094 1092 1096 1097 1090  363  228  229  230 1267\n",
      " 1201  612  548  206 1093 1499 1498 1512 1644 1347  629  820  557  232  237\n",
      "  578 1058  475  509  417  507  364  219  231  245  244  233  218  246 1528\n",
      "  427  426  316  562  247 1633  753  637  688  493  492 1381 1387 1388 1396\n",
      " 1390 1392 1389  494  496  497  498  499  500  505  414  248  179 1677 1670\n",
      " 1662 1657 1658 1659 1660 1661 1655 1665 1668  163  167  171  172  173  178\n",
      "  192  191  190  189  186  184  198  200  202  204  185  188  217  220  223\n",
      "  238  308  315  318  236  404  556  560  439  520  522  606  607  608  523\n",
      "  519  521  412  415  413  416  418  435  440  419  518  549  506  495  752\n",
      "  755  517 1391]\n",
      "Unique users: 219\n",
      "Unique streams: 153\n"
     ]
    }
   ],
   "source": [
    "import pandas as pd\n",
    "\n",
    "views_df = pd.read_csv(\"data/customer_card_view.csv\")\n",
    "# print(views_df.head())\n",
    "\n",
    "unique_userids = views_df[\"USERID\"].unique()\n",
    "unique_streamids = views_df[\"STREAMID\"].unique()\n",
    "\n",
    "print(unique_userids)\n",
    "print(unique_streamids)\n",
    "\n",
    "num_unique_userid = len(unique_userids)\n",
    "num_unique_streamid = len(unique_streamids)\n",
    "\n",
    "\n",
    "\n",
    "print(\"Unique users: \" + str(num_unique_userid))\n",
    "print(\"Unique streams: \" + str(num_unique_streamid))\n"
   ]
  },
  {
   "cell_type": "markdown",
   "metadata": {},
   "source": [
    "### We see number of unique users are 219 and unique streams are 153\n",
    "\n",
    "#### Number of view record data"
   ]
  },
  {
   "cell_type": "code",
   "execution_count": 5,
   "metadata": {},
   "outputs": [
    {
     "name": "stdout",
     "output_type": "stream",
     "text": [
      "Number of view records: 160770\n"
     ]
    }
   ],
   "source": [
    "print(\"Number of view records: \" + str(views_df.shape[0]))"
   ]
  },
  {
   "cell_type": "code",
   "execution_count": 6,
   "metadata": {},
   "outputs": [
    {
     "name": "stdout",
     "output_type": "stream",
     "text": [
      "Number of matrix elements for recommendations: 33507\n"
     ]
    }
   ],
   "source": [
    "print(\"Number of matrix elements for recommendations: \" + str(num_unique_userid * num_unique_streamid))"
   ]
  },
  {
   "cell_type": "markdown",
   "metadata": {},
   "source": [
    "#### See which users have most records to them and which streams have the most records to them"
   ]
  },
  {
   "cell_type": "code",
   "execution_count": 9,
   "metadata": {},
   "outputs": [
    {
     "name": "stdout",
     "output_type": "stream",
     "text": [
      "USERID\n",
      "245       469\n",
      "246        30\n",
      "247        36\n",
      "248         2\n",
      "249       134\n",
      "254        78\n",
      "267       383\n",
      "268       199\n",
      "269        56\n",
      "277         9\n",
      "278        42\n",
      "337       434\n",
      "343       270\n",
      "344       279\n",
      "345       151\n",
      "349        14\n",
      "351        17\n",
      "400      1505\n",
      "408         6\n",
      "413       710\n",
      "416       836\n",
      "419      1386\n",
      "420      1448\n",
      "421        18\n",
      "447        10\n",
      "539       455\n",
      "552      1041\n",
      "553       667\n",
      "554       918\n",
      "556       371\n",
      "         ... \n",
      "20852       3\n",
      "20966      13\n",
      "21042       3\n",
      "21176       7\n",
      "21181      18\n",
      "21756      72\n",
      "21760     174\n",
      "21761      78\n",
      "21762     181\n",
      "21763     183\n",
      "21764       4\n",
      "21769       2\n",
      "21770     278\n",
      "21771     152\n",
      "21772     113\n",
      "21840      10\n",
      "21850      10\n",
      "21973      20\n",
      "21974       8\n",
      "21975      15\n",
      "22111     294\n",
      "22151       8\n",
      "22174      14\n",
      "22180      12\n",
      "22233       1\n",
      "22234       2\n",
      "22235       3\n",
      "22236       4\n",
      "22473       1\n",
      "22486       2\n",
      "Name: TIMESTAMP, Length: 219, dtype: int64\n"
     ]
    }
   ],
   "source": [
    "users_grouped_by_df = views_df.groupby('USERID')['TIMESTAMP'].nunique()\n",
    "print(users_grouped_by_df)"
   ]
  },
  {
   "cell_type": "code",
   "execution_count": 10,
   "metadata": {},
   "outputs": [
    {
     "name": "stdout",
     "output_type": "stream",
     "text": [
      "STREAMID\n",
      "163       237\n",
      "167        95\n",
      "171        67\n",
      "172        59\n",
      "173        70\n",
      "178       146\n",
      "179        22\n",
      "184        14\n",
      "185         5\n",
      "186        35\n",
      "188         6\n",
      "189        30\n",
      "190        16\n",
      "191        13\n",
      "192        19\n",
      "198        52\n",
      "199      1238\n",
      "200        95\n",
      "201       463\n",
      "202        76\n",
      "203       654\n",
      "204       138\n",
      "205       573\n",
      "206       449\n",
      "217         9\n",
      "218      2031\n",
      "219       192\n",
      "220        11\n",
      "223         1\n",
      "228     22660\n",
      "        ...  \n",
      "1097      165\n",
      "1128       27\n",
      "1201       63\n",
      "1267       15\n",
      "1347       20\n",
      "1381       38\n",
      "1387        6\n",
      "1388        8\n",
      "1389        1\n",
      "1390        3\n",
      "1391        1\n",
      "1392        4\n",
      "1396        4\n",
      "1498        7\n",
      "1499        6\n",
      "1512       39\n",
      "1528      207\n",
      "1633      169\n",
      "1644        6\n",
      "1655        3\n",
      "1657        4\n",
      "1658        7\n",
      "1659        8\n",
      "1660        5\n",
      "1661        7\n",
      "1662        8\n",
      "1665        5\n",
      "1668        3\n",
      "1670        5\n",
      "1677       41\n",
      "Name: TIMESTAMP, Length: 153, dtype: int64\n"
     ]
    }
   ],
   "source": [
    "streams_grouped_by_df = views_df.groupby('STREAMID')['TIMESTAMP'].nunique()\n",
    "print(streams_grouped_by_df)"
   ]
  },
  {
   "cell_type": "markdown",
   "metadata": {},
   "source": [
    "#### Clearely there are more active users and more popular streams"
   ]
  },
  {
   "cell_type": "code",
   "execution_count": null,
   "metadata": {
    "collapsed": true
   },
   "outputs": [],
   "source": []
  }
 ],
 "metadata": {
  "kernelspec": {
   "display_name": "Python 3",
   "language": "python",
   "name": "python3"
  },
  "language_info": {
   "codemirror_mode": {
    "name": "ipython",
    "version": 3
   },
   "file_extension": ".py",
   "mimetype": "text/x-python",
   "name": "python",
   "nbconvert_exporter": "python",
   "pygments_lexer": "ipython3",
   "version": "3.6.3"
  }
 },
 "nbformat": 4,
 "nbformat_minor": 2
}
