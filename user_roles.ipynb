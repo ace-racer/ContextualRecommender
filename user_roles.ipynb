{
 "cells": [
  {
   "cell_type": "code",
   "execution_count": 3,
   "metadata": {},
   "outputs": [
    {
     "name": "stdout",
     "output_type": "stream",
     "text": [
      "   org_id  User_Id  Gender  Dob     Location    City Country  \\\n",
      "0      14      245     NaN  NaN          NaN     NaN      SG   \n",
      "1      14      337     NaN  NaN          NaN     NaN      SG   \n",
      "2      14      267     NaN  NaN  Philippines  Manila      PH   \n",
      "3      14      343     NaN  NaN          NaN     NaN      SG   \n",
      "4      14      574     NaN  NaN          NaN     NaN      PH   \n",
      "\n",
      "               Role user_timezone  \n",
      "0  No Role Assigned     Singapore  \n",
      "1  No Role Assigned     Singapore  \n",
      "2  No Role Assigned     Singapore  \n",
      "3  No Role Assigned     Singapore  \n",
      "4  No Role Assigned     Singapore  \n"
     ]
    }
   ],
   "source": [
    "import pandas as pd\n",
    "\n",
    "\n",
    "users_df = pd.read_csv(\"H:\\\\TeamStreamz - IW\\\\TW- Data\\\\drive-download-20180303T143906Z-001\\\\UserProfile_Customer1 and 2.csv\")\n",
    "\n",
    "print(users_df.head())"
   ]
  },
  {
   "cell_type": "code",
   "execution_count": 15,
   "metadata": {},
   "outputs": [
    {
     "name": "stdout",
     "output_type": "stream",
     "text": [
      "                role_name\n",
      "0        Direct Sales Rep\n",
      "1          Reseller Sales\n",
      "2      Area Sales Manager\n",
      "3   Country Sales Manager\n",
      "4  Regional Sales Manager\n"
     ]
    }
   ],
   "source": [
    "user_roles_df = pd.read_csv(\"H:\\\\TeamStreamz - IW\\\\TW- Data\\\\drive-download-20180303T143906Z-001\\\\user_roles.csv\")\n",
    "print(user_roles_df.head())"
   ]
  },
  {
   "cell_type": "markdown",
   "metadata": {},
   "source": [
    "##### Get the number of users and number of rows"
   ]
  },
  {
   "cell_type": "code",
   "execution_count": 16,
   "metadata": {},
   "outputs": [
    {
     "name": "stdout",
     "output_type": "stream",
     "text": [
      "# Users: 22412\n",
      "# Roles: 9\n"
     ]
    }
   ],
   "source": [
    "num_users = users_df.shape[0]\n",
    "print(\"# Users: \" + str(num_users))\n",
    "\n",
    "num_roles = user_roles_df.shape[0]\n",
    "print(\"# Roles: \" + str(num_roles))"
   ]
  },
  {
   "cell_type": "code",
   "execution_count": 26,
   "metadata": {},
   "outputs": [
    {
     "name": "stdout",
     "output_type": "stream",
     "text": [
      "Times to replicate: 2491\n",
      "22419\n",
      "22412\n",
      "['Direct Sales Rep', 'Reseller Sales', 'Area Sales Manager', 'Country Sales Manager', 'Regional Sales Manager', 'Global Sales Manager', 'Distributor Sales Rep', 'Retail Sales Rep', 'Distributor Sales Manager', 'Direct Sales Rep']\n",
      "After shuffling...\n",
      "['Distributor Sales Rep', 'Retail Sales Rep', 'Retail Sales Rep', 'Country Sales Manager', 'Distributor Sales Rep', 'Area Sales Manager', 'Retail Sales Rep', 'Distributor Sales Manager', 'Reseller Sales', 'Direct Sales Rep']\n"
     ]
    }
   ],
   "source": [
    "# replicate the num_roles ceil(#Users/#Roles) times\n",
    "import math\n",
    "import random\n",
    "\n",
    "\n",
    "num_times_replicate = math.ceil(num_users/num_roles)\n",
    "print(\"Times to replicate: \" + str(num_times_replicate))\n",
    "\n",
    "user_roles_list = user_roles_df[\"role_name\"].tolist()\n",
    "user_roles_list_extended = user_roles_list * num_times_replicate\n",
    "\n",
    "print(len(user_roles_list_extended))\n",
    "\n",
    "# trim to the first # Users elements\n",
    "user_roles_list_extended = user_roles_list_extended[:num_users]\n",
    "\n",
    "print(len(user_roles_list_extended))\n",
    "\n",
    "print(user_roles_list_extended[:10])\n",
    "\n",
    "# randomly reorder the items in this list\n",
    "random.shuffle(user_roles_list_extended)\n",
    "\n",
    "print(\"After shuffling...\")\n",
    "print(user_roles_list_extended[: 10])"
   ]
  },
  {
   "cell_type": "code",
   "execution_count": 27,
   "metadata": {},
   "outputs": [],
   "source": [
    "users_df[\"Role\"] = user_roles_list_extended"
   ]
  },
  {
   "cell_type": "code",
   "execution_count": 28,
   "metadata": {
    "collapsed": true
   },
   "outputs": [],
   "source": [
    "users_df.to_csv(\"users_with_roles_updated.csv\")"
   ]
  },
  {
   "cell_type": "code",
   "execution_count": null,
   "metadata": {
    "collapsed": true
   },
   "outputs": [],
   "source": []
  }
 ],
 "metadata": {
  "kernelspec": {
   "display_name": "Python 3",
   "language": "python",
   "name": "python3"
  },
  "language_info": {
   "codemirror_mode": {
    "name": "ipython",
    "version": 3
   },
   "file_extension": ".py",
   "mimetype": "text/x-python",
   "name": "python",
   "nbconvert_exporter": "python",
   "pygments_lexer": "ipython3",
   "version": "3.6.3"
  }
 },
 "nbformat": 4,
 "nbformat_minor": 2
}
